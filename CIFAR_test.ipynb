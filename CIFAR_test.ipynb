{
 "cells": [
  {
   "cell_type": "code",
   "execution_count": 1,
   "id": "599b59e8",
   "metadata": {},
   "outputs": [],
   "source": [
    "import torch\n",
    "import torch.nn as nn\n",
    "import torch.optim as optim\n",
    "import torchvision\n",
    "import torchvision.transforms as transforms\n",
    "import torch.nn.functional as F"
   ]
  },
  {
   "cell_type": "code",
   "execution_count": 2,
   "id": "56feba47",
   "metadata": {},
   "outputs": [],
   "source": [
    "# Model definition\n",
    "class CIFAR10_MLP(nn.Module):\n",
    "    def __init__(self, input_dim=3*32*32, hidden_dims=[2048, 1024, 512, 256], num_classes=10, dropout=0.5):\n",
    "        super().__init__()\n",
    "        layers = []\n",
    "        prev_dim = input_dim\n",
    "        for hdim in hidden_dims:\n",
    "            layers.append(nn.Linear(prev_dim, hdim))\n",
    "            layers.append(nn.BatchNorm1d(hdim))\n",
    "            layers.append(nn.ReLU(inplace=True))\n",
    "            layers.append(nn.Dropout(dropout))\n",
    "            prev_dim = hdim\n",
    "        layers.append(nn.Linear(prev_dim, num_classes))\n",
    "        self.net = nn.Sequential(*layers)\n",
    "\n",
    "    def forward(self, x):\n",
    "        x = x.view(x.size(0), -1)  # flatten\n",
    "        return self.net(x)"
   ]
  },
  {
   "cell_type": "code",
   "execution_count": 3,
   "id": "332493c6",
   "metadata": {},
   "outputs": [
    {
     "name": "stdout",
     "output_type": "stream",
     "text": [
      "Downloading https://www.cs.toronto.edu/~kriz/cifar-10-python.tar.gz to ./data/cifar-10-python.tar.gz\n"
     ]
    },
    {
     "name": "stderr",
     "output_type": "stream",
     "text": [
      "100%|██████████| 170M/170M [00:08<00:00, 19.3MB/s] \n"
     ]
    },
    {
     "name": "stdout",
     "output_type": "stream",
     "text": [
      "Extracting ./data/cifar-10-python.tar.gz to ./data\n",
      "Files already downloaded and verified\n"
     ]
    }
   ],
   "source": [
    "device = torch.device('cuda' if torch.cuda.is_available() else 'cpu')\n",
    "\n",
    "# Data transforms: normalize CIFAR-10 images\n",
    "train_transform = transforms.Compose([\n",
    "    transforms.ToTensor(),\n",
    "    transforms.Normalize((0.4914, 0.4822, 0.4465), \n",
    "                         (0.247, 0.243, 0.261))\n",
    "])\n",
    "\n",
    "test_transform = transforms.Compose([\n",
    "    transforms.ToTensor(),\n",
    "    transforms.Normalize((0.4914, 0.4822, 0.4465), \n",
    "                         (0.247, 0.243, 0.261))\n",
    "])\n",
    "\n",
    "train_dataset = torchvision.datasets.CIFAR10(root='./data', train=True, download=True, transform=train_transform)\n",
    "test_dataset = torchvision.datasets.CIFAR10(root='./data', train=False, download=True, transform=test_transform)\n",
    "\n",
    "train_loader = torch.utils.data.DataLoader(train_dataset, batch_size=128, shuffle=True, num_workers=4)\n",
    "test_loader = torch.utils.data.DataLoader(test_dataset, batch_size=100, shuffle=False, num_workers=4)\n"
   ]
  },
  {
   "cell_type": "code",
   "execution_count": 4,
   "id": "cc7845b9",
   "metadata": {},
   "outputs": [],
   "source": [
    "model = CIFAR10_MLP().to(device)\n",
    "model = torch.jit.script(model)\n",
    "criterion = nn.CrossEntropyLoss()\n",
    "optimizer = optim.Adam(model.parameters())"
   ]
  },
  {
   "cell_type": "code",
   "execution_count": 5,
   "id": "39e9e88a",
   "metadata": {},
   "outputs": [
    {
     "name": "stdout",
     "output_type": "stream",
     "text": [
      "\n",
      "Epoch: 1 Total_Time: 2.0300 Average_Time_per_batch: 0.0052 Train_Accuracy: 0.3367 Train_Loss: 1.8300 \n",
      "Epoch: 2 Total_Time: 1.5213 Average_Time_per_batch: 0.0039 Train_Accuracy: 0.4234 Train_Loss: 1.6156 \n",
      "Epoch: 3 Total_Time: 1.5940 Average_Time_per_batch: 0.0041 Train_Accuracy: 0.4572 Train_Loss: 1.5315 \n",
      "Epoch: 4 Total_Time: 1.1509 Average_Time_per_batch: 0.0029 Train_Accuracy: 0.4774 Train_Loss: 1.4716 \n",
      "Epoch: 5 Total_Time: 1.3900 Average_Time_per_batch: 0.0036 Train_Accuracy: 0.4919 Train_Loss: 1.4303 \n",
      "Epoch: 6 Total_Time: 1.3899 Average_Time_per_batch: 0.0036 Train_Accuracy: 0.5060 Train_Loss: 1.3938 \n",
      "Epoch: 7 Total_Time: 1.4106 Average_Time_per_batch: 0.0036 Train_Accuracy: 0.5193 Train_Loss: 1.3605 \n",
      "Epoch: 8 Total_Time: 1.4291 Average_Time_per_batch: 0.0037 Train_Accuracy: 0.5265 Train_Loss: 1.3329 \n",
      "Epoch: 9 Total_Time: 1.5155 Average_Time_per_batch: 0.0039 Train_Accuracy: 0.5387 Train_Loss: 1.3030 \n",
      "Epoch: 10 Total_Time: 1.5561 Average_Time_per_batch: 0.0040 Train_Accuracy: 0.5498 Train_Loss: 1.2783 \n",
      "Epoch: 11 Total_Time: 1.5106 Average_Time_per_batch: 0.0039 Train_Accuracy: 0.5585 Train_Loss: 1.2540 \n",
      "Epoch: 12 Total_Time: 1.2671 Average_Time_per_batch: 0.0032 Train_Accuracy: 0.5650 Train_Loss: 1.2309 \n",
      "Epoch: 13 Total_Time: 1.4091 Average_Time_per_batch: 0.0036 Train_Accuracy: 0.5723 Train_Loss: 1.2102 \n",
      "Epoch: 14 Total_Time: 1.5462 Average_Time_per_batch: 0.0040 Train_Accuracy: 0.5798 Train_Loss: 1.1879 \n",
      "Epoch: 15 Total_Time: 1.4059 Average_Time_per_batch: 0.0036 Train_Accuracy: 0.5888 Train_Loss: 1.1678 \n",
      "Epoch: 16 Total_Time: 1.6037 Average_Time_per_batch: 0.0041 Train_Accuracy: 0.5922 Train_Loss: 1.1501 \n",
      "Epoch: 17 Total_Time: 1.5056 Average_Time_per_batch: 0.0039 Train_Accuracy: 0.6032 Train_Loss: 1.1257 \n",
      "Epoch: 18 Total_Time: 1.4374 Average_Time_per_batch: 0.0037 Train_Accuracy: 0.6094 Train_Loss: 1.1032 \n",
      "Epoch: 19 Total_Time: 1.5000 Average_Time_per_batch: 0.0038 Train_Accuracy: 0.6180 Train_Loss: 1.0873 \n",
      "Epoch: 20 Total_Time: 1.5633 Average_Time_per_batch: 0.0040 Train_Accuracy: 0.6249 Train_Loss: 1.0640 \n",
      "Epoch: 21 Total_Time: 1.5932 Average_Time_per_batch: 0.0041 Train_Accuracy: 0.6309 Train_Loss: 1.0513 \n",
      "Epoch: 22 Total_Time: 1.5956 Average_Time_per_batch: 0.0041 Train_Accuracy: 0.6348 Train_Loss: 1.0298 \n",
      "Epoch: 23 Total_Time: 1.5750 Average_Time_per_batch: 0.0040 Train_Accuracy: 0.6460 Train_Loss: 1.0087 \n",
      "Epoch: 24 Total_Time: 1.5991 Average_Time_per_batch: 0.0041 Train_Accuracy: 0.6481 Train_Loss: 0.9967 \n",
      "Epoch: 25 Total_Time: 1.2672 Average_Time_per_batch: 0.0032 Train_Accuracy: 0.6584 Train_Loss: 0.9682 \n",
      "Epoch: 26 Total_Time: 1.4786 Average_Time_per_batch: 0.0038 Train_Accuracy: 0.6662 Train_Loss: 0.9518 \n",
      "Epoch: 27 Total_Time: 1.4506 Average_Time_per_batch: 0.0037 Train_Accuracy: 0.6710 Train_Loss: 0.9362 \n",
      "Epoch: 28 Total_Time: 1.5519 Average_Time_per_batch: 0.0040 Train_Accuracy: 0.6755 Train_Loss: 0.9241 \n",
      "Epoch: 29 Total_Time: 1.3842 Average_Time_per_batch: 0.0035 Train_Accuracy: 0.6806 Train_Loss: 0.9027 \n",
      "Epoch: 30 Total_Time: 1.5673 Average_Time_per_batch: 0.0040 Train_Accuracy: 0.6892 Train_Loss: 0.8875 \n",
      "Test_Accuracy:  0.5976 Test_Loss:  1.1752083986997603\n",
      "Peak GPU memory: 200.21 MB\n"
     ]
    }
   ],
   "source": [
    "from utils import train\n",
    "\n",
    "train_metrics, val_metrics, test_metrics = train(model, train_loader, None, test_loader, 30, optimizer, criterion)"
   ]
  },
  {
   "cell_type": "code",
   "execution_count": 6,
   "id": "a58ffcf5",
   "metadata": {},
   "outputs": [],
   "source": [
    "from dpn_3.dpn import DPN as DPN_3\n",
    "    \n",
    "model_3 = DPN_3(3*32*32, 100, 10, True).cuda()\n",
    "#model_3.compile()"
   ]
  },
  {
   "cell_type": "code",
   "execution_count": 7,
   "id": "15773d0a",
   "metadata": {},
   "outputs": [],
   "source": [
    "model_3 = torch.jit.trace(model_3, torch.randn(128, 3*32*32).cuda())\n",
    "optimizer = optim.Adam(model_3.parameters())\n",
    "criterion = nn.CrossEntropyLoss()"
   ]
  },
  {
   "cell_type": "code",
   "execution_count": 8,
   "id": "f391ad48",
   "metadata": {},
   "outputs": [
    {
     "name": "stdout",
     "output_type": "stream",
     "text": [
      "\n",
      "Epoch: 1 Total_Time: 0.9108 Average_Time_per_batch: 0.0023 Train_Accuracy: 0.3902 Train_Loss: 1.7770 \n",
      "Epoch: 2 Total_Time: 0.7040 Average_Time_per_batch: 0.0018 Train_Accuracy: 0.4514 Train_Loss: 1.6069 \n",
      "Epoch: 3 Total_Time: 0.7692 Average_Time_per_batch: 0.0020 Train_Accuracy: 0.4854 Train_Loss: 1.5102 \n",
      "Epoch: 4 Total_Time: 0.5112 Average_Time_per_batch: 0.0013 Train_Accuracy: 0.5008 Train_Loss: 1.4568 \n",
      "Epoch: 5 Total_Time: 0.6651 Average_Time_per_batch: 0.0017 Train_Accuracy: 0.5215 Train_Loss: 1.3953 \n",
      "Epoch: 6 Total_Time: 0.7553 Average_Time_per_batch: 0.0019 Train_Accuracy: 0.5359 Train_Loss: 1.3546 \n",
      "Epoch: 7 Total_Time: 0.6576 Average_Time_per_batch: 0.0017 Train_Accuracy: 0.5438 Train_Loss: 1.3270 \n",
      "Epoch: 8 Total_Time: 0.7431 Average_Time_per_batch: 0.0019 Train_Accuracy: 0.5603 Train_Loss: 1.2791 \n",
      "Epoch: 9 Total_Time: 0.7719 Average_Time_per_batch: 0.0020 Train_Accuracy: 0.5730 Train_Loss: 1.2516 \n",
      "Epoch: 10 Total_Time: 0.5528 Average_Time_per_batch: 0.0014 Train_Accuracy: 0.5821 Train_Loss: 1.2259 \n",
      "Epoch: 11 Total_Time: 0.6847 Average_Time_per_batch: 0.0018 Train_Accuracy: 0.5886 Train_Loss: 1.2062 \n",
      "Epoch: 12 Total_Time: 0.5091 Average_Time_per_batch: 0.0013 Train_Accuracy: 0.5963 Train_Loss: 1.1772 \n",
      "Epoch: 13 Total_Time: 0.7539 Average_Time_per_batch: 0.0019 Train_Accuracy: 0.6050 Train_Loss: 1.1587 \n",
      "Epoch: 14 Total_Time: 0.6937 Average_Time_per_batch: 0.0018 Train_Accuracy: 0.6147 Train_Loss: 1.1266 \n",
      "Epoch: 15 Total_Time: 0.6781 Average_Time_per_batch: 0.0017 Train_Accuracy: 0.6158 Train_Loss: 1.1242 \n",
      "Epoch: 16 Total_Time: 0.7004 Average_Time_per_batch: 0.0018 Train_Accuracy: 0.6295 Train_Loss: 1.0822 \n",
      "Epoch: 17 Total_Time: 0.6262 Average_Time_per_batch: 0.0016 Train_Accuracy: 0.6321 Train_Loss: 1.0760 \n",
      "Epoch: 18 Total_Time: 0.6032 Average_Time_per_batch: 0.0015 Train_Accuracy: 0.6381 Train_Loss: 1.0609 \n",
      "Epoch: 19 Total_Time: 0.7326 Average_Time_per_batch: 0.0019 Train_Accuracy: 0.6432 Train_Loss: 1.0427 \n",
      "Epoch: 20 Total_Time: 0.7361 Average_Time_per_batch: 0.0019 Train_Accuracy: 0.6503 Train_Loss: 1.0195 \n",
      "Epoch: 21 Total_Time: 0.6612 Average_Time_per_batch: 0.0017 Train_Accuracy: 0.6581 Train_Loss: 1.0065 \n",
      "Epoch: 22 Total_Time: 0.6043 Average_Time_per_batch: 0.0015 Train_Accuracy: 0.6606 Train_Loss: 0.9967 \n",
      "Epoch: 23 Total_Time: 0.7293 Average_Time_per_batch: 0.0019 Train_Accuracy: 0.6651 Train_Loss: 0.9779 \n",
      "Epoch: 24 Total_Time: 0.6188 Average_Time_per_batch: 0.0016 Train_Accuracy: 0.6703 Train_Loss: 0.9623 \n",
      "Epoch: 25 Total_Time: 0.5867 Average_Time_per_batch: 0.0015 Train_Accuracy: 0.6796 Train_Loss: 0.9439 \n",
      "Epoch: 26 Total_Time: 0.7884 Average_Time_per_batch: 0.0020 Train_Accuracy: 0.6766 Train_Loss: 0.9424 \n",
      "Epoch: 27 Total_Time: 0.6733 Average_Time_per_batch: 0.0017 Train_Accuracy: 0.6856 Train_Loss: 0.9201 \n",
      "Epoch: 28 Total_Time: 0.4724 Average_Time_per_batch: 0.0012 Train_Accuracy: 0.6869 Train_Loss: 0.9143 \n",
      "Epoch: 29 Total_Time: 0.7358 Average_Time_per_batch: 0.0019 Train_Accuracy: 0.6945 Train_Loss: 0.8984 \n",
      "Epoch: 30 Total_Time: 0.8146 Average_Time_per_batch: 0.0021 Train_Accuracy: 0.6927 Train_Loss: 0.8948 \n",
      "Test_Accuracy:  0.4742 Test_Loss:  2.004268926382065\n",
      "Peak GPU memory: 102.19 MB\n"
     ]
    }
   ],
   "source": [
    "train_metrics_3, val_metrics_3, test_metrics_3 = train(model_3, train_loader, None, test_loader, 30, optimizer, criterion)"
   ]
  },
  {
   "cell_type": "code",
   "execution_count": 9,
   "id": "6ac95b47",
   "metadata": {},
   "outputs": [],
   "source": [
    "import torch\n",
    "from torch import nn\n",
    "\n",
    "hidden_dims = [2048, 1024, 512, 256]\n",
    "total = sum(hidden_dims)\n",
    "\n",
    "blocks = len(hidden_dims)\n",
    "features = 3 * 32 * 32\n",
    "neural_blocks = []\n",
    "for dim in hidden_dims:\n",
    "    std_dev = torch.sqrt(torch.tensor(1 / features)).to(device)\n",
    "    neural_blocks.append(torch.randn(dim, features).to(device) * std_dev)\n",
    "    features += dim\n",
    "\n",
    "feature_blocks = []\n",
    "features_start = 0\n",
    "for i in range(len(neural_blocks)):\n",
    "    features_end = neural_blocks[i].shape[1]\n",
    "    block = neural_blocks[i][:, features_start:]\n",
    "    for j in range(i + 1, len(neural_blocks)):\n",
    "        block = torch.cat((block, neural_blocks[j][:, features_start:features_end]), dim=0)\n",
    "    feature_blocks.append(nn.Parameter(block))\n",
    "    features_start = features_end\n",
    "\n",
    "biases = biases = nn.Parameter(torch.empty(total).uniform_(0.0, 1.0)).to(device)"
   ]
  },
  {
   "cell_type": "code",
   "execution_count": 10,
   "id": "905fa918",
   "metadata": {},
   "outputs": [],
   "source": [
    "from dpn_2.dpn import DPN as DPN_3\n",
    "    \n",
    "model_3 = DPN_3(3*32*32, 500, 10, True).cuda()\n",
    "model_3.weights.extend(feature_blocks)\n",
    "model_3.biases = biases"
   ]
  },
  {
   "cell_type": "code",
   "execution_count": 11,
   "id": "42af8220",
   "metadata": {},
   "outputs": [],
   "source": [
    "#model_3 = torch.jit.trace(model_3, torch.randn(128, 3*32*32).cuda())\n",
    "optimizer = optim.Adam(model_3.parameters())\n",
    "criterion = nn.CrossEntropyLoss()"
   ]
  },
  {
   "cell_type": "code",
   "execution_count": 12,
   "id": "d26fab50",
   "metadata": {},
   "outputs": [
    {
     "name": "stdout",
     "output_type": "stream",
     "text": [
      "\n",
      "Epoch: 1 Total_Time: 1.3111 Average_Time_per_batch: 0.0034 Train_Accuracy: 0.3866 Train_Loss: 2.1423 \n",
      "Epoch: 2 Total_Time: 1.3928 Average_Time_per_batch: 0.0036 Train_Accuracy: 0.4515 Train_Loss: 1.7034 \n",
      "Epoch: 3 Total_Time: 1.5970 Average_Time_per_batch: 0.0041 Train_Accuracy: 0.4809 Train_Loss: 1.6308 \n",
      "Epoch: 4 Total_Time: 1.6079 Average_Time_per_batch: 0.0041 Train_Accuracy: 0.5034 Train_Loss: 1.5838 \n",
      "Epoch: 5 Total_Time: 1.4312 Average_Time_per_batch: 0.0037 Train_Accuracy: 0.5257 Train_Loss: 1.5342 \n",
      "Epoch: 6 Total_Time: 1.3885 Average_Time_per_batch: 0.0036 Train_Accuracy: 0.5498 Train_Loss: 1.4823 \n",
      "Epoch: 7 Total_Time: 1.3523 Average_Time_per_batch: 0.0035 Train_Accuracy: 0.5723 Train_Loss: 1.4059 \n",
      "Epoch: 8 Total_Time: 1.4013 Average_Time_per_batch: 0.0036 Train_Accuracy: 0.5877 Train_Loss: 1.4131 \n",
      "Epoch: 9 Total_Time: 1.4345 Average_Time_per_batch: 0.0037 Train_Accuracy: 0.6071 Train_Loss: 1.4018 \n",
      "Epoch: 10 Total_Time: 1.2307 Average_Time_per_batch: 0.0031 Train_Accuracy: 0.6206 Train_Loss: 1.3435 \n",
      "Epoch: 11 Total_Time: 1.3506 Average_Time_per_batch: 0.0035 Train_Accuracy: 0.6412 Train_Loss: 1.3080 \n",
      "Epoch: 12 Total_Time: 1.3874 Average_Time_per_batch: 0.0035 Train_Accuracy: 0.6601 Train_Loss: 1.2295 \n",
      "Epoch: 13 Total_Time: 1.4390 Average_Time_per_batch: 0.0037 Train_Accuracy: 0.6731 Train_Loss: 1.2083 \n",
      "Epoch: 14 Total_Time: 1.4667 Average_Time_per_batch: 0.0038 Train_Accuracy: 0.6943 Train_Loss: 1.1478 \n",
      "Epoch: 15 Total_Time: 1.3569 Average_Time_per_batch: 0.0035 Train_Accuracy: 0.7005 Train_Loss: 1.1601 \n",
      "Epoch: 16 Total_Time: 1.5164 Average_Time_per_batch: 0.0039 Train_Accuracy: 0.7176 Train_Loss: 1.1140 \n",
      "Epoch: 17 Total_Time: 1.4046 Average_Time_per_batch: 0.0036 Train_Accuracy: 0.7243 Train_Loss: 1.1186 \n",
      "Epoch: 18 Total_Time: 1.4285 Average_Time_per_batch: 0.0037 Train_Accuracy: 0.7425 Train_Loss: 1.0452 \n",
      "Epoch: 19 Total_Time: 1.3522 Average_Time_per_batch: 0.0035 Train_Accuracy: 0.7446 Train_Loss: 1.0742 \n",
      "Epoch: 20 Total_Time: 1.4691 Average_Time_per_batch: 0.0038 Train_Accuracy: 0.7639 Train_Loss: 0.9728 \n",
      "Epoch: 21 Total_Time: 1.3228 Average_Time_per_batch: 0.0034 Train_Accuracy: 0.7690 Train_Loss: 0.9891 \n",
      "Epoch: 22 Total_Time: 1.3176 Average_Time_per_batch: 0.0034 Train_Accuracy: 0.7785 Train_Loss: 0.9812 \n",
      "Epoch: 23 Total_Time: 1.3010 Average_Time_per_batch: 0.0033 Train_Accuracy: 0.7841 Train_Loss: 0.9942 \n",
      "Epoch: 24 Total_Time: 1.3561 Average_Time_per_batch: 0.0035 Train_Accuracy: 0.7908 Train_Loss: 0.9777 \n",
      "Epoch: 25 Total_Time: 1.4169 Average_Time_per_batch: 0.0036 Train_Accuracy: 0.8031 Train_Loss: 0.9300 \n",
      "Epoch: 26 Total_Time: 1.3056 Average_Time_per_batch: 0.0033 Train_Accuracy: 0.7962 Train_Loss: 1.0002 \n",
      "Epoch: 27 Total_Time: 1.4093 Average_Time_per_batch: 0.0036 Train_Accuracy: 0.8091 Train_Loss: 0.9384 \n",
      "Epoch: 28 Total_Time: 1.5097 Average_Time_per_batch: 0.0039 Train_Accuracy: 0.8177 Train_Loss: 0.8961 \n",
      "Epoch: 29 Total_Time: 1.4822 Average_Time_per_batch: 0.0038 Train_Accuracy: 0.8231 Train_Loss: 0.9006 \n",
      "Epoch: 30 Total_Time: 1.3119 Average_Time_per_batch: 0.0034 Train_Accuracy: 0.8255 Train_Loss: 0.9241 \n",
      "Epoch: 31 Total_Time: 1.4832 Average_Time_per_batch: 0.0038 Train_Accuracy: 0.8265 Train_Loss: 0.9344 \n",
      "Epoch: 32 Total_Time: 1.5326 Average_Time_per_batch: 0.0039 Train_Accuracy: 0.8439 Train_Loss: 0.7963 \n",
      "Epoch: 33 Total_Time: 1.4870 Average_Time_per_batch: 0.0038 Train_Accuracy: 0.8355 Train_Loss: 0.9193 \n",
      "Epoch: 34 Total_Time: 1.3637 Average_Time_per_batch: 0.0035 Train_Accuracy: 0.8503 Train_Loss: 0.8116 \n",
      "Epoch: 35 Total_Time: 1.4687 Average_Time_per_batch: 0.0038 Train_Accuracy: 0.8512 Train_Loss: 0.8409 \n",
      "Epoch: 36 Total_Time: 1.4930 Average_Time_per_batch: 0.0038 Train_Accuracy: 0.8471 Train_Loss: 0.9112 \n",
      "Epoch: 37 Total_Time: 1.3106 Average_Time_per_batch: 0.0034 Train_Accuracy: 0.8494 Train_Loss: 0.9062 \n",
      "Epoch: 38 Total_Time: 1.4362 Average_Time_per_batch: 0.0037 Train_Accuracy: 0.8608 Train_Loss: 0.8255 \n",
      "Epoch: 39 Total_Time: 1.5421 Average_Time_per_batch: 0.0039 Train_Accuracy: 0.8682 Train_Loss: 0.8079 \n",
      "Epoch: 40 Total_Time: 1.2793 Average_Time_per_batch: 0.0033 Train_Accuracy: 0.8654 Train_Loss: 0.8608 \n",
      "Epoch: 41 Total_Time: 1.3738 Average_Time_per_batch: 0.0035 Train_Accuracy: 0.8709 Train_Loss: 0.8387 \n",
      "Epoch: 42 Total_Time: 1.4763 Average_Time_per_batch: 0.0038 Train_Accuracy: 0.8749 Train_Loss: 0.8144 \n",
      "Epoch: 43 Total_Time: 1.4373 Average_Time_per_batch: 0.0037 Train_Accuracy: 0.8773 Train_Loss: 0.8379 \n",
      "Epoch: 44 Total_Time: 1.4195 Average_Time_per_batch: 0.0036 Train_Accuracy: 0.8805 Train_Loss: 0.8213 \n",
      "Epoch: 45 Total_Time: 1.4416 Average_Time_per_batch: 0.0037 Train_Accuracy: 0.8822 Train_Loss: 0.8194 \n",
      "Epoch: 46 Total_Time: 1.3809 Average_Time_per_batch: 0.0035 Train_Accuracy: 0.8866 Train_Loss: 0.7847 \n",
      "Epoch: 47 Total_Time: 1.4742 Average_Time_per_batch: 0.0038 Train_Accuracy: 0.8939 Train_Loss: 0.7230 \n",
      "Epoch: 48 Total_Time: 1.3627 Average_Time_per_batch: 0.0035 Train_Accuracy: 0.8865 Train_Loss: 0.8047 \n",
      "Epoch: 49 Total_Time: 1.3934 Average_Time_per_batch: 0.0036 Train_Accuracy: 0.8923 Train_Loss: 0.7641 \n",
      "Epoch: 50 Total_Time: 1.4125 Average_Time_per_batch: 0.0036 Train_Accuracy: 0.8955 Train_Loss: 0.7888 \n",
      "Test_Accuracy:  0.5177 Test_Loss:  8.978858237266541\n",
      "Peak GPU memory: 493.43 MB\n"
     ]
    }
   ],
   "source": [
    "from utils import train\n",
    "train_metrics_3, val_metrics_3, test_metrics_3 = train(model_3, train_loader, None, test_loader, 50, optimizer, criterion)"
   ]
  }
 ],
 "metadata": {
  "kernelspec": {
   "display_name": "saroshgpu",
   "language": "python",
   "name": "python3"
  },
  "language_info": {
   "codemirror_mode": {
    "name": "ipython",
    "version": 3
   },
   "file_extension": ".py",
   "mimetype": "text/x-python",
   "name": "python",
   "nbconvert_exporter": "python",
   "pygments_lexer": "ipython3",
   "version": "3.9.21"
  }
 },
 "nbformat": 4,
 "nbformat_minor": 5
}
