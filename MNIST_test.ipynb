{
 "cells": [
  {
   "cell_type": "code",
   "execution_count": 1,
   "id": "087a5bf3",
   "metadata": {},
   "outputs": [],
   "source": [
    "import torch\n",
    "import torch.nn as nn\n",
    "import torch.optim as optim\n",
    "from torchvision import datasets\n",
    "from torch.utils.data import DataLoader, TensorDataset\n",
    "import torch.nn.functional as F\n",
    "from dpn_3.dpn import DPN\n",
    "from utils import train"
   ]
  },
  {
   "cell_type": "code",
   "execution_count": 2,
   "id": "b913841b",
   "metadata": {},
   "outputs": [],
   "source": [
    "class MLP_MNIST(nn.Module):\n",
    "    def __init__(self):\n",
    "        super(MLP_MNIST, self).__init__()\n",
    "        self.model = nn.Sequential(\n",
    "            nn.Linear(784, 12),\n",
    "            nn.ReLU(),\n",
    "            nn.Linear(12, 12),\n",
    "            nn.ReLU(),\n",
    "            nn.Linear(12, 10),\n",
    "        )\n",
    "\n",
    "    def forward(self, x):\n",
    "        return self.model(x)\n"
   ]
  },
  {
   "cell_type": "code",
   "execution_count": 3,
   "id": "dfe3c449",
   "metadata": {},
   "outputs": [],
   "source": [
    "#hyperparameters\n",
    "batch_size = 64\n",
    "learning_rate = 0.001\n",
    "epochs = 30\n",
    "device = torch.device(\"cuda\" if torch.cuda.is_available() else \"cpu\")"
   ]
  },
  {
   "cell_type": "code",
   "execution_count": 4,
   "id": "11082808",
   "metadata": {},
   "outputs": [],
   "source": [
    "# Load and preprocess the entire MNIST dataset once\n",
    "train_dataset = datasets.MNIST(root='./data', train=True, download=True)\n",
    "test_dataset = datasets.MNIST(root='./data', train=False, download=True)\n",
    "\n",
    "num_classes = 10\n",
    "\n",
    "# Normalize and flatten once\n",
    "train_data = train_dataset.data.float().div(255).view(-1, 784).to(device)\n",
    "train_labels = F.one_hot(train_dataset.targets.to(device), num_classes=num_classes).float()\n",
    "\n",
    "test_data = test_dataset.data.float().div(255).view(-1, 784).to(device)\n",
    "test_labels = F.one_hot(test_dataset.targets.to(device), num_classes=num_classes).float()\n",
    "\n",
    "# Create DataLoader from preloaded GPU tensors\n",
    "train_loader = DataLoader(TensorDataset(train_data, train_labels), batch_size=batch_size, shuffle=True)\n",
    "test_loader = DataLoader(TensorDataset(test_data, test_labels), batch_size=batch_size, shuffle=False)"
   ]
  },
  {
   "cell_type": "code",
   "execution_count": 5,
   "id": "8c9f39bd",
   "metadata": {},
   "outputs": [],
   "source": [
    "model_1 = MLP_MNIST().to(device)\n",
    "criterion = nn.CrossEntropyLoss()\n",
    "optimizer = optim.Adam(model_1.parameters(), lr=learning_rate)"
   ]
  },
  {
   "cell_type": "code",
   "execution_count": 6,
   "id": "5e4f7b5e",
   "metadata": {},
   "outputs": [
    {
     "name": "stdout",
     "output_type": "stream",
     "text": [
      "\n",
      "Epoch: 1 Total_Time: 1.9327 Average_Time_per_batch: 0.0021 Train_Accuracy: 0.7867 Train_Loss: 0.7099 Validation_Accuracy: 0.8940 Validation_Loss: 0.3649\n",
      "Epoch: 2 Total_Time: 1.7312 Average_Time_per_batch: 0.0018 Train_Accuracy: 0.9080 Train_Loss: 0.3248 Validation_Accuracy: 0.9187 Validation_Loss: 0.2854\n",
      "Epoch: 3 Total_Time: 1.7311 Average_Time_per_batch: 0.0018 Train_Accuracy: 0.9244 Train_Loss: 0.2668 Validation_Accuracy: 0.9245 Validation_Loss: 0.2595\n",
      "Epoch: 4 Total_Time: 1.6912 Average_Time_per_batch: 0.0018 Train_Accuracy: 0.9331 Train_Loss: 0.2359 Validation_Accuracy: 0.9302 Validation_Loss: 0.2366\n",
      "Epoch: 5 Total_Time: 1.7212 Average_Time_per_batch: 0.0018 Train_Accuracy: 0.9385 Train_Loss: 0.2155 Validation_Accuracy: 0.9362 Validation_Loss: 0.2139\n",
      "Epoch: 6 Total_Time: 1.6885 Average_Time_per_batch: 0.0018 Train_Accuracy: 0.9424 Train_Loss: 0.2030 Validation_Accuracy: 0.9402 Validation_Loss: 0.1996\n",
      "Epoch: 7 Total_Time: 1.7280 Average_Time_per_batch: 0.0018 Train_Accuracy: 0.9450 Train_Loss: 0.1939 Validation_Accuracy: 0.9435 Validation_Loss: 0.1937\n",
      "Epoch: 8 Total_Time: 1.6981 Average_Time_per_batch: 0.0018 Train_Accuracy: 0.9471 Train_Loss: 0.1837 Validation_Accuracy: 0.9450 Validation_Loss: 0.1947\n",
      "Epoch: 9 Total_Time: 1.7172 Average_Time_per_batch: 0.0018 Train_Accuracy: 0.9489 Train_Loss: 0.1779 Validation_Accuracy: 0.9442 Validation_Loss: 0.1909\n",
      "Epoch: 10 Total_Time: 1.5811 Average_Time_per_batch: 0.0017 Train_Accuracy: 0.9511 Train_Loss: 0.1724 Validation_Accuracy: 0.9466 Validation_Loss: 0.1910\n",
      "Epoch: 11 Total_Time: 1.6972 Average_Time_per_batch: 0.0018 Train_Accuracy: 0.9518 Train_Loss: 0.1675 Validation_Accuracy: 0.9455 Validation_Loss: 0.1900\n",
      "Epoch: 12 Total_Time: 1.7015 Average_Time_per_batch: 0.0018 Train_Accuracy: 0.9526 Train_Loss: 0.1644 Validation_Accuracy: 0.9482 Validation_Loss: 0.1831\n",
      "Epoch: 13 Total_Time: 1.7030 Average_Time_per_batch: 0.0018 Train_Accuracy: 0.9538 Train_Loss: 0.1612 Validation_Accuracy: 0.9472 Validation_Loss: 0.1810\n",
      "Epoch: 14 Total_Time: 1.8256 Average_Time_per_batch: 0.0019 Train_Accuracy: 0.9542 Train_Loss: 0.1583 Validation_Accuracy: 0.9494 Validation_Loss: 0.1817\n",
      "Epoch: 15 Total_Time: 1.7499 Average_Time_per_batch: 0.0019 Train_Accuracy: 0.9559 Train_Loss: 0.1553 Validation_Accuracy: 0.9500 Validation_Loss: 0.1774\n",
      "Epoch: 16 Total_Time: 1.6562 Average_Time_per_batch: 0.0018 Train_Accuracy: 0.9562 Train_Loss: 0.1526 Validation_Accuracy: 0.9487 Validation_Loss: 0.1787\n",
      "Epoch: 17 Total_Time: 1.6816 Average_Time_per_batch: 0.0018 Train_Accuracy: 0.9565 Train_Loss: 0.1497 Validation_Accuracy: 0.9505 Validation_Loss: 0.1778\n",
      "Epoch: 18 Total_Time: 1.5751 Average_Time_per_batch: 0.0017 Train_Accuracy: 0.9566 Train_Loss: 0.1492 Validation_Accuracy: 0.9488 Validation_Loss: 0.1830\n",
      "Epoch: 19 Total_Time: 1.6914 Average_Time_per_batch: 0.0018 Train_Accuracy: 0.9574 Train_Loss: 0.1464 Validation_Accuracy: 0.9478 Validation_Loss: 0.1871\n",
      "Epoch: 20 Total_Time: 1.7352 Average_Time_per_batch: 0.0018 Train_Accuracy: 0.9572 Train_Loss: 0.1447 Validation_Accuracy: 0.9503 Validation_Loss: 0.1762\n",
      "Epoch: 21 Total_Time: 1.7186 Average_Time_per_batch: 0.0018 Train_Accuracy: 0.9586 Train_Loss: 0.1429 Validation_Accuracy: 0.9487 Validation_Loss: 0.1846\n",
      "Epoch: 22 Total_Time: 1.6865 Average_Time_per_batch: 0.0018 Train_Accuracy: 0.9581 Train_Loss: 0.1423 Validation_Accuracy: 0.9505 Validation_Loss: 0.1769\n",
      "Epoch: 23 Total_Time: 1.7044 Average_Time_per_batch: 0.0018 Train_Accuracy: 0.9590 Train_Loss: 0.1405 Validation_Accuracy: 0.9494 Validation_Loss: 0.1780\n",
      "Epoch: 24 Total_Time: 1.6813 Average_Time_per_batch: 0.0018 Train_Accuracy: 0.9593 Train_Loss: 0.1390 Validation_Accuracy: 0.9501 Validation_Loss: 0.1852\n",
      "Epoch: 25 Total_Time: 1.7191 Average_Time_per_batch: 0.0018 Train_Accuracy: 0.9600 Train_Loss: 0.1379 Validation_Accuracy: 0.9506 Validation_Loss: 0.1826\n",
      "Epoch: 26 Total_Time: 1.7034 Average_Time_per_batch: 0.0018 Train_Accuracy: 0.9608 Train_Loss: 0.1363 Validation_Accuracy: 0.9491 Validation_Loss: 0.1868\n",
      "Epoch: 27 Total_Time: 1.6923 Average_Time_per_batch: 0.0018 Train_Accuracy: 0.9607 Train_Loss: 0.1351 Validation_Accuracy: 0.9500 Validation_Loss: 0.1801\n",
      "Epoch: 28 Total_Time: 1.7116 Average_Time_per_batch: 0.0018 Train_Accuracy: 0.9609 Train_Loss: 0.1345 Validation_Accuracy: 0.9531 Validation_Loss: 0.1745\n",
      "Epoch: 29 Total_Time: 1.6974 Average_Time_per_batch: 0.0018 Train_Accuracy: 0.9609 Train_Loss: 0.1322 Validation_Accuracy: 0.9514 Validation_Loss: 0.1798\n",
      "Epoch: 30 Total_Time: 1.7307 Average_Time_per_batch: 0.0018 Train_Accuracy: 0.9616 Train_Loss: 0.1322 Validation_Accuracy: 0.9486 Validation_Loss: 0.1892\n",
      "Test_Accuracy:  0.9486 Test_Loss:  0.18922542012929916\n",
      "Peak GPU memory: 241.57 MB\n"
     ]
    }
   ],
   "source": [
    "train_metrics_1, val_metrics_1, test_metrics_1 = train(model_1, train_loader, test_loader, test_loader, epochs, optimizer, criterion)"
   ]
  },
  {
   "cell_type": "code",
   "execution_count": 7,
   "id": "3297d657",
   "metadata": {},
   "outputs": [],
   "source": [
    "model_2 = DPN(784, 34, 10).cuda()\n",
    "optimizer = optim.Adam(model_2.parameters(), lr=learning_rate)"
   ]
  },
  {
   "cell_type": "code",
   "execution_count": 8,
   "id": "d542650e",
   "metadata": {},
   "outputs": [
    {
     "name": "stdout",
     "output_type": "stream",
     "text": [
      "\n",
      "Epoch: 1 Total_Time: 1.3294 Average_Time_per_batch: 0.0014 Train_Accuracy: 0.8855 Train_Loss: 0.4343 Validation_Accuracy: 0.9213 Validation_Loss: 0.2709\n",
      "Epoch: 2 Total_Time: 1.3651 Average_Time_per_batch: 0.0015 Train_Accuracy: 0.9310 Train_Loss: 0.2438 Validation_Accuracy: 0.9397 Validation_Loss: 0.2095\n",
      "Epoch: 3 Total_Time: 1.3071 Average_Time_per_batch: 0.0014 Train_Accuracy: 0.9446 Train_Loss: 0.1950 Validation_Accuracy: 0.9485 Validation_Loss: 0.1776\n",
      "Epoch: 4 Total_Time: 0.9413 Average_Time_per_batch: 0.0010 Train_Accuracy: 0.9535 Train_Loss: 0.1630 Validation_Accuracy: 0.9548 Validation_Loss: 0.1571\n",
      "Epoch: 5 Total_Time: 1.3297 Average_Time_per_batch: 0.0014 Train_Accuracy: 0.9592 Train_Loss: 0.1410 Validation_Accuracy: 0.9572 Validation_Loss: 0.1461\n",
      "Epoch: 6 Total_Time: 1.3497 Average_Time_per_batch: 0.0014 Train_Accuracy: 0.9637 Train_Loss: 0.1248 Validation_Accuracy: 0.9592 Validation_Loss: 0.1376\n",
      "Epoch: 7 Total_Time: 1.3295 Average_Time_per_batch: 0.0014 Train_Accuracy: 0.9674 Train_Loss: 0.1122 Validation_Accuracy: 0.9621 Validation_Loss: 0.1280\n",
      "Epoch: 8 Total_Time: 1.4288 Average_Time_per_batch: 0.0015 Train_Accuracy: 0.9701 Train_Loss: 0.1026 Validation_Accuracy: 0.9619 Validation_Loss: 0.1262\n",
      "Epoch: 9 Total_Time: 1.3299 Average_Time_per_batch: 0.0014 Train_Accuracy: 0.9726 Train_Loss: 0.0938 Validation_Accuracy: 0.9631 Validation_Loss: 0.1235\n",
      "Epoch: 10 Total_Time: 1.3243 Average_Time_per_batch: 0.0014 Train_Accuracy: 0.9741 Train_Loss: 0.0876 Validation_Accuracy: 0.9647 Validation_Loss: 0.1149\n",
      "Epoch: 11 Total_Time: 1.3409 Average_Time_per_batch: 0.0014 Train_Accuracy: 0.9757 Train_Loss: 0.0822 Validation_Accuracy: 0.9656 Validation_Loss: 0.1139\n",
      "Epoch: 12 Total_Time: 1.3100 Average_Time_per_batch: 0.0014 Train_Accuracy: 0.9767 Train_Loss: 0.0767 Validation_Accuracy: 0.9660 Validation_Loss: 0.1135\n",
      "Epoch: 13 Total_Time: 1.3527 Average_Time_per_batch: 0.0014 Train_Accuracy: 0.9784 Train_Loss: 0.0728 Validation_Accuracy: 0.9644 Validation_Loss: 0.1171\n",
      "Epoch: 14 Total_Time: 1.3464 Average_Time_per_batch: 0.0014 Train_Accuracy: 0.9795 Train_Loss: 0.0684 Validation_Accuracy: 0.9683 Validation_Loss: 0.1090\n",
      "Epoch: 15 Total_Time: 1.3283 Average_Time_per_batch: 0.0014 Train_Accuracy: 0.9810 Train_Loss: 0.0647 Validation_Accuracy: 0.9676 Validation_Loss: 0.1091\n",
      "Epoch: 16 Total_Time: 1.3331 Average_Time_per_batch: 0.0014 Train_Accuracy: 0.9817 Train_Loss: 0.0617 Validation_Accuracy: 0.9682 Validation_Loss: 0.1130\n",
      "Epoch: 17 Total_Time: 1.3183 Average_Time_per_batch: 0.0014 Train_Accuracy: 0.9827 Train_Loss: 0.0589 Validation_Accuracy: 0.9677 Validation_Loss: 0.1110\n",
      "Epoch: 18 Total_Time: 1.3056 Average_Time_per_batch: 0.0014 Train_Accuracy: 0.9838 Train_Loss: 0.0554 Validation_Accuracy: 0.9662 Validation_Loss: 0.1176\n",
      "Epoch: 19 Total_Time: 1.3064 Average_Time_per_batch: 0.0014 Train_Accuracy: 0.9839 Train_Loss: 0.0535 Validation_Accuracy: 0.9679 Validation_Loss: 0.1140\n",
      "Epoch: 20 Total_Time: 1.3810 Average_Time_per_batch: 0.0015 Train_Accuracy: 0.9851 Train_Loss: 0.0507 Validation_Accuracy: 0.9684 Validation_Loss: 0.1174\n",
      "Epoch: 21 Total_Time: 1.3393 Average_Time_per_batch: 0.0014 Train_Accuracy: 0.9857 Train_Loss: 0.0486 Validation_Accuracy: 0.9684 Validation_Loss: 0.1141\n",
      "Epoch: 22 Total_Time: 1.3393 Average_Time_per_batch: 0.0014 Train_Accuracy: 0.9867 Train_Loss: 0.0464 Validation_Accuracy: 0.9686 Validation_Loss: 0.1148\n",
      "Epoch: 23 Total_Time: 1.3352 Average_Time_per_batch: 0.0014 Train_Accuracy: 0.9868 Train_Loss: 0.0441 Validation_Accuracy: 0.9687 Validation_Loss: 0.1186\n",
      "Epoch: 24 Total_Time: 1.3407 Average_Time_per_batch: 0.0014 Train_Accuracy: 0.9877 Train_Loss: 0.0429 Validation_Accuracy: 0.9666 Validation_Loss: 0.1238\n",
      "Epoch: 25 Total_Time: 1.3334 Average_Time_per_batch: 0.0014 Train_Accuracy: 0.9879 Train_Loss: 0.0410 Validation_Accuracy: 0.9672 Validation_Loss: 0.1198\n",
      "Epoch: 26 Total_Time: 1.3214 Average_Time_per_batch: 0.0014 Train_Accuracy: 0.9886 Train_Loss: 0.0394 Validation_Accuracy: 0.9680 Validation_Loss: 0.1231\n",
      "Epoch: 27 Total_Time: 1.3894 Average_Time_per_batch: 0.0015 Train_Accuracy: 0.9885 Train_Loss: 0.0377 Validation_Accuracy: 0.9670 Validation_Loss: 0.1233\n",
      "Epoch: 28 Total_Time: 1.3486 Average_Time_per_batch: 0.0014 Train_Accuracy: 0.9891 Train_Loss: 0.0361 Validation_Accuracy: 0.9691 Validation_Loss: 0.1206\n",
      "Epoch: 29 Total_Time: 1.2923 Average_Time_per_batch: 0.0014 Train_Accuracy: 0.9902 Train_Loss: 0.0341 Validation_Accuracy: 0.9682 Validation_Loss: 0.1234\n",
      "Epoch: 30 Total_Time: 1.3526 Average_Time_per_batch: 0.0014 Train_Accuracy: 0.9903 Train_Loss: 0.0328 Validation_Accuracy: 0.9687 Validation_Loss: 0.1254\n",
      "Test_Accuracy:  0.9687 Test_Loss:  0.12544220418073238\n",
      "Peak GPU memory: 242.14 MB\n"
     ]
    }
   ],
   "source": [
    "train_metrics_2, val_metrics_2, test_metrics_2 = train(model_2, train_loader, test_loader, test_loader, epochs, optimizer, criterion)"
   ]
  },
  {
   "cell_type": "code",
   "execution_count": null,
   "id": "12ab2326",
   "metadata": {},
   "outputs": [],
   "source": []
  }
 ],
 "metadata": {
  "kernelspec": {
   "display_name": "saroshgpu",
   "language": "python",
   "name": "python3"
  },
  "language_info": {
   "codemirror_mode": {
    "name": "ipython",
    "version": 3
   },
   "file_extension": ".py",
   "mimetype": "text/x-python",
   "name": "python",
   "nbconvert_exporter": "python",
   "pygments_lexer": "ipython3",
   "version": "3.9.21"
  }
 },
 "nbformat": 4,
 "nbformat_minor": 5
}
