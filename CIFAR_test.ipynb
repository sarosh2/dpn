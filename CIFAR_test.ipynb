{
 "cells": [
  {
   "cell_type": "code",
   "execution_count": 6,
   "id": "599b59e8",
   "metadata": {},
   "outputs": [],
   "source": [
    "import torch\n",
    "import torch.nn as nn\n",
    "import torch.optim as optim\n",
    "import torchvision\n",
    "import torchvision.transforms as transforms\n",
    "import torch.nn.functional as F"
   ]
  },
  {
   "cell_type": "code",
   "execution_count": 7,
   "id": "56feba47",
   "metadata": {},
   "outputs": [],
   "source": [
    "# Model definition\n",
    "class CIFAR10_MLP(nn.Module):\n",
    "    def __init__(self, input_dim=3*32*32, hidden_dims=[2048, 1024, 512, 256], num_classes=10, dropout=0.5):\n",
    "        super().__init__()\n",
    "        layers = []\n",
    "        prev_dim = input_dim\n",
    "        for hdim in hidden_dims:\n",
    "            layers.append(nn.Linear(prev_dim, hdim))\n",
    "            layers.append(nn.BatchNorm1d(hdim))\n",
    "            layers.append(nn.ReLU(inplace=True))\n",
    "            layers.append(nn.Dropout(dropout))\n",
    "            prev_dim = hdim\n",
    "        layers.append(nn.Linear(prev_dim, num_classes))\n",
    "        self.net = nn.Sequential(*layers)\n",
    "\n",
    "    def forward(self, x):\n",
    "        x = x.view(x.size(0), -1)  # flatten\n",
    "        return self.net(x)"
   ]
  },
  {
   "cell_type": "code",
   "execution_count": 34,
   "id": "332493c6",
   "metadata": {},
   "outputs": [
    {
     "name": "stdout",
     "output_type": "stream",
     "text": [
      "Files already downloaded and verified\n",
      "Files already downloaded and verified\n"
     ]
    }
   ],
   "source": [
    "device = torch.device('cuda' if torch.cuda.is_available() else 'cpu')\n",
    "\n",
    "# Data transforms: normalize CIFAR-10 images\n",
    "train_transform = transforms.Compose([\n",
    "    transforms.ToTensor(),\n",
    "    transforms.Normalize((0.4914, 0.4822, 0.4465), \n",
    "                         (0.247, 0.243, 0.261))\n",
    "])\n",
    "\n",
    "test_transform = transforms.Compose([\n",
    "    transforms.ToTensor(),\n",
    "    transforms.Normalize((0.4914, 0.4822, 0.4465), \n",
    "                         (0.247, 0.243, 0.261))\n",
    "])\n",
    "\n",
    "train_dataset = torchvision.datasets.CIFAR10(root='./data', train=True, download=True, transform=train_transform)\n",
    "test_dataset = torchvision.datasets.CIFAR10(root='./data', train=False, download=True, transform=test_transform)\n",
    "\n",
    "train_loader = torch.utils.data.DataLoader(train_dataset, batch_size=128, shuffle=True, num_workers=4)\n",
    "test_loader = torch.utils.data.DataLoader(test_dataset, batch_size=100, shuffle=False, num_workers=4)\n"
   ]
  },
  {
   "cell_type": "code",
   "execution_count": 4,
   "id": "cc7845b9",
   "metadata": {},
   "outputs": [],
   "source": [
    "model = CIFAR10_MLP().to(device)\n",
    "model = torch.jit.script(model)\n",
    "criterion = nn.CrossEntropyLoss()\n",
    "optimizer = optim.Adam(model.parameters())"
   ]
  },
  {
   "cell_type": "code",
   "execution_count": 5,
   "id": "39e9e88a",
   "metadata": {},
   "outputs": [
    {
     "name": "stdout",
     "output_type": "stream",
     "text": [
      "Epoch: 1 Total_Time: 2.2621 Average_Time_per_batch: 0.0058 Train_Accuracy: 0.2778 Train_Loss: 1.9698 \n",
      "Epoch: 2 Total_Time: 1.7568 Average_Time_per_batch: 0.0045 Train_Accuracy: 0.3492 Train_Loss: 1.7906 \n",
      "Epoch: 3 Total_Time: 1.8371 Average_Time_per_batch: 0.0047 Train_Accuracy: 0.3748 Train_Loss: 1.7267 \n",
      "Epoch: 4 Total_Time: 1.7929 Average_Time_per_batch: 0.0046 Train_Accuracy: 0.3913 Train_Loss: 1.6829 \n",
      "Epoch: 5 Total_Time: 2.0411 Average_Time_per_batch: 0.0052 Train_Accuracy: 0.4054 Train_Loss: 1.6491 \n",
      "Epoch: 6 Total_Time: 1.9651 Average_Time_per_batch: 0.0050 Train_Accuracy: 0.4134 Train_Loss: 1.6267 \n",
      "Epoch: 7 Total_Time: 1.8747 Average_Time_per_batch: 0.0048 Train_Accuracy: 0.4218 Train_Loss: 1.6057 \n",
      "Epoch: 8 Total_Time: 1.9524 Average_Time_per_batch: 0.0050 Train_Accuracy: 0.4284 Train_Loss: 1.5874 \n",
      "Epoch: 9 Total_Time: 1.3347 Average_Time_per_batch: 0.0034 Train_Accuracy: 0.4348 Train_Loss: 1.5715 \n",
      "Epoch: 10 Total_Time: 1.7597 Average_Time_per_batch: 0.0045 Train_Accuracy: 0.4363 Train_Loss: 1.5621 \n",
      "Epoch: 11 Total_Time: 1.8520 Average_Time_per_batch: 0.0047 Train_Accuracy: 0.4466 Train_Loss: 1.5462 \n",
      "Epoch: 12 Total_Time: 1.9356 Average_Time_per_batch: 0.0050 Train_Accuracy: 0.4484 Train_Loss: 1.5380 \n",
      "Epoch: 13 Total_Time: 1.9867 Average_Time_per_batch: 0.0051 Train_Accuracy: 0.4516 Train_Loss: 1.5262 \n",
      "Epoch: 14 Total_Time: 1.8761 Average_Time_per_batch: 0.0048 Train_Accuracy: 0.4571 Train_Loss: 1.5161 \n",
      "Epoch: 15 Total_Time: 1.9613 Average_Time_per_batch: 0.0050 Train_Accuracy: 0.4596 Train_Loss: 1.5032 \n",
      "Epoch: 16 Total_Time: 1.9800 Average_Time_per_batch: 0.0051 Train_Accuracy: 0.4646 Train_Loss: 1.4957 \n",
      "Epoch: 17 Total_Time: 1.9751 Average_Time_per_batch: 0.0051 Train_Accuracy: 0.4647 Train_Loss: 1.4901 \n",
      "Epoch: 18 Total_Time: 1.9880 Average_Time_per_batch: 0.0051 Train_Accuracy: 0.4679 Train_Loss: 1.4839 \n",
      "Epoch: 19 Total_Time: 1.9913 Average_Time_per_batch: 0.0051 Train_Accuracy: 0.4716 Train_Loss: 1.4695 \n",
      "Epoch: 20 Total_Time: 1.5530 Average_Time_per_batch: 0.0040 Train_Accuracy: 0.4747 Train_Loss: 1.4659 \n",
      "Epoch: 21 Total_Time: 1.6578 Average_Time_per_batch: 0.0042 Train_Accuracy: 0.4787 Train_Loss: 1.4587 \n",
      "Epoch: 22 Total_Time: 1.9175 Average_Time_per_batch: 0.0049 Train_Accuracy: 0.4820 Train_Loss: 1.4474 \n",
      "Epoch: 23 Total_Time: 1.8730 Average_Time_per_batch: 0.0048 Train_Accuracy: 0.4811 Train_Loss: 1.4419 \n",
      "Epoch: 24 Total_Time: 1.9092 Average_Time_per_batch: 0.0049 Train_Accuracy: 0.4805 Train_Loss: 1.4442 \n",
      "Epoch: 25 Total_Time: 1.5589 Average_Time_per_batch: 0.0040 Train_Accuracy: 0.4843 Train_Loss: 1.4332 \n",
      "Epoch: 26 Total_Time: 1.6104 Average_Time_per_batch: 0.0041 Train_Accuracy: 0.4906 Train_Loss: 1.4277 \n",
      "Epoch: 27 Total_Time: 1.8728 Average_Time_per_batch: 0.0048 Train_Accuracy: 0.4920 Train_Loss: 1.4211 \n",
      "Epoch: 28 Total_Time: 1.9401 Average_Time_per_batch: 0.0050 Train_Accuracy: 0.4954 Train_Loss: 1.4174 \n",
      "Epoch: 29 Total_Time: 1.8073 Average_Time_per_batch: 0.0046 Train_Accuracy: 0.4978 Train_Loss: 1.4082 \n",
      "Epoch: 30 Total_Time: 1.9430 Average_Time_per_batch: 0.0050 Train_Accuracy: 0.4977 Train_Loss: 1.4060 \n",
      "Test_Accuracy:  0.5603 Test_Loss:  1.2258540678024292\n",
      "Peak GPU memory: 200.21 MB\n"
     ]
    }
   ],
   "source": [
    "from utils import train\n",
    "\n",
    "train_metrics, val_metrics, test_metrics = train(model, train_loader, None, test_loader, 30, optimizer, criterion)"
   ]
  },
  {
   "cell_type": "code",
   "execution_count": 52,
   "id": "a58ffcf5",
   "metadata": {},
   "outputs": [],
   "source": [
    "from spn_3.spn import SPN as SPN_3\n",
    "    \n",
    "model_3 = SPN_3(3*32*32, 100, 10, True).cuda()\n",
    "#model_3.compile()"
   ]
  },
  {
   "cell_type": "code",
   "execution_count": 53,
   "id": "15773d0a",
   "metadata": {},
   "outputs": [],
   "source": [
    "model_3 = torch.jit.trace(model_3, torch.randn(128, 3*32*32).cuda())\n",
    "optimizer = optim.Adam(model_3.parameters())\n",
    "criterion = nn.CrossEntropyLoss()"
   ]
  },
  {
   "cell_type": "code",
   "execution_count": 54,
   "id": "f391ad48",
   "metadata": {},
   "outputs": [
    {
     "name": "stdout",
     "output_type": "stream",
     "text": [
      "Epoch: 1 Total_Time: 0.9092 Average_Time_per_batch: 0.0023 Train_Accuracy: 0.3873 Train_Loss: 1.7884 \n",
      "Epoch: 2 Total_Time: 0.7382 Average_Time_per_batch: 0.0019 Train_Accuracy: 0.4543 Train_Loss: 1.5908 \n",
      "Epoch: 3 Total_Time: 0.7353 Average_Time_per_batch: 0.0019 Train_Accuracy: 0.4830 Train_Loss: 1.5121 \n",
      "Epoch: 4 Total_Time: 0.6460 Average_Time_per_batch: 0.0017 Train_Accuracy: 0.5031 Train_Loss: 1.4537 \n",
      "Epoch: 5 Total_Time: 0.7336 Average_Time_per_batch: 0.0019 Train_Accuracy: 0.5209 Train_Loss: 1.4035 \n",
      "Epoch: 6 Total_Time: 0.7680 Average_Time_per_batch: 0.0020 Train_Accuracy: 0.5334 Train_Loss: 1.3694 \n",
      "Epoch: 7 Total_Time: 0.7701 Average_Time_per_batch: 0.0020 Train_Accuracy: 0.5495 Train_Loss: 1.3181 \n",
      "Epoch: 8 Total_Time: 0.7242 Average_Time_per_batch: 0.0019 Train_Accuracy: 0.5577 Train_Loss: 1.2977 \n",
      "Epoch: 9 Total_Time: 0.6793 Average_Time_per_batch: 0.0017 Train_Accuracy: 0.5763 Train_Loss: 1.2417 \n",
      "Epoch: 10 Total_Time: 0.7261 Average_Time_per_batch: 0.0019 Train_Accuracy: 0.5787 Train_Loss: 1.2421 \n",
      "Epoch: 11 Total_Time: 0.7446 Average_Time_per_batch: 0.0019 Train_Accuracy: 0.5900 Train_Loss: 1.1981 \n",
      "Epoch: 12 Total_Time: 0.7259 Average_Time_per_batch: 0.0019 Train_Accuracy: 0.5910 Train_Loss: 1.1940 \n",
      "Epoch: 13 Total_Time: 0.5241 Average_Time_per_batch: 0.0013 Train_Accuracy: 0.6075 Train_Loss: 1.1449 \n",
      "Epoch: 14 Total_Time: 0.7066 Average_Time_per_batch: 0.0018 Train_Accuracy: 0.6096 Train_Loss: 1.1427 \n",
      "Epoch: 15 Total_Time: 0.6396 Average_Time_per_batch: 0.0016 Train_Accuracy: 0.6198 Train_Loss: 1.1131 \n",
      "Epoch: 16 Total_Time: 0.7241 Average_Time_per_batch: 0.0019 Train_Accuracy: 0.6253 Train_Loss: 1.0910 \n",
      "Epoch: 17 Total_Time: 0.7560 Average_Time_per_batch: 0.0019 Train_Accuracy: 0.6236 Train_Loss: 1.0935 \n",
      "Epoch: 18 Total_Time: 0.6871 Average_Time_per_batch: 0.0018 Train_Accuracy: 0.6348 Train_Loss: 1.0703 \n",
      "Epoch: 19 Total_Time: 0.7815 Average_Time_per_batch: 0.0020 Train_Accuracy: 0.6444 Train_Loss: 1.0354 \n",
      "Epoch: 20 Total_Time: 0.8610 Average_Time_per_batch: 0.0022 Train_Accuracy: 0.6501 Train_Loss: 1.0258 \n",
      "Epoch: 21 Total_Time: 0.6907 Average_Time_per_batch: 0.0018 Train_Accuracy: 0.6526 Train_Loss: 1.0133 \n",
      "Epoch: 22 Total_Time: 0.6458 Average_Time_per_batch: 0.0017 Train_Accuracy: 0.6583 Train_Loss: 0.9956 \n",
      "Epoch: 23 Total_Time: 0.7452 Average_Time_per_batch: 0.0019 Train_Accuracy: 0.6623 Train_Loss: 0.9862 \n",
      "Epoch: 24 Total_Time: 0.7075 Average_Time_per_batch: 0.0018 Train_Accuracy: 0.6694 Train_Loss: 0.9562 \n",
      "Epoch: 25 Total_Time: 0.8065 Average_Time_per_batch: 0.0021 Train_Accuracy: 0.6711 Train_Loss: 0.9596 \n",
      "Epoch: 26 Total_Time: 0.7717 Average_Time_per_batch: 0.0020 Train_Accuracy: 0.6765 Train_Loss: 0.9361 \n",
      "Epoch: 27 Total_Time: 0.7153 Average_Time_per_batch: 0.0018 Train_Accuracy: 0.6834 Train_Loss: 0.9224 \n",
      "Epoch: 28 Total_Time: 0.7478 Average_Time_per_batch: 0.0019 Train_Accuracy: 0.6860 Train_Loss: 0.9132 \n",
      "Epoch: 29 Total_Time: 0.6225 Average_Time_per_batch: 0.0016 Train_Accuracy: 0.6892 Train_Loss: 0.9029 \n",
      "Epoch: 30 Total_Time: 0.6478 Average_Time_per_batch: 0.0017 Train_Accuracy: 0.6921 Train_Loss: 0.8921 \n",
      "Test_Accuracy:  0.4927 Test_Loss:  1.961073089838028\n",
      "Peak GPU memory: 397.69 MB\n"
     ]
    }
   ],
   "source": [
    "train_metrics_3, val_metrics_3, test_metrics_3 = train(model_3, train_loader, None, test_loader, 30, optimizer, criterion)"
   ]
  },
  {
   "cell_type": "code",
   "execution_count": 35,
   "id": "6ac95b47",
   "metadata": {},
   "outputs": [],
   "source": [
    "import torch\n",
    "from torch import nn\n",
    "\n",
    "hidden_dims = [2048, 1024, 512, 256]\n",
    "total = sum(hidden_dims)\n",
    "\n",
    "blocks = len(hidden_dims)\n",
    "features = 3 * 32 * 32\n",
    "neural_blocks = []\n",
    "for dim in hidden_dims:\n",
    "    std_dev = torch.sqrt(torch.tensor(1 / features)).to(device)\n",
    "    neural_blocks.append(torch.randn(dim, features).to(device) * std_dev)\n",
    "    features += dim\n",
    "\n",
    "feature_blocks = []\n",
    "features_start = 0\n",
    "for i in range(len(neural_blocks)):\n",
    "    features_end = neural_blocks[i].shape[1]\n",
    "    block = neural_blocks[i][:, features_start:]\n",
    "    for j in range(i + 1, len(neural_blocks)):\n",
    "        block = torch.cat((block, neural_blocks[j][:, features_start:features_end]), dim=0)\n",
    "    feature_blocks.append(nn.Parameter(block))\n",
    "    features_start = features_end\n",
    "\n",
    "biases = biases = nn.Parameter(torch.empty(total).uniform_(0.0, 1.0)).to(device)"
   ]
  },
  {
   "cell_type": "code",
   "execution_count": 36,
   "id": "905fa918",
   "metadata": {},
   "outputs": [],
   "source": [
    "from spn_2.spn import SPN as SPN_3\n",
    "    \n",
    "model_3 = SPN_3(3*32*32, 500, 10, False).cuda()\n",
    "model_3.weights.extend(feature_blocks)\n",
    "model_3.biases = biases"
   ]
  },
  {
   "cell_type": "code",
   "execution_count": 37,
   "id": "42af8220",
   "metadata": {},
   "outputs": [],
   "source": [
    "#model_3 = torch.jit.trace(model_3, torch.randn(128, 3*32*32).cuda())\n",
    "optimizer = optim.Adam(model_3.parameters())\n",
    "criterion = nn.CrossEntropyLoss()"
   ]
  },
  {
   "cell_type": "code",
   "execution_count": 38,
   "id": "d26fab50",
   "metadata": {},
   "outputs": [
    {
     "name": "stdout",
     "output_type": "stream",
     "text": [
      "Epoch: 1 Total_Time: 1.4126 Average_Time_per_batch: 0.0036 Train_Accuracy: 0.3786 Train_Loss: 2.1872 \n",
      "Epoch: 2 Total_Time: 1.3031 Average_Time_per_batch: 0.0033 Train_Accuracy: 0.4477 Train_Loss: 1.6978 \n",
      "Epoch: 3 Total_Time: 1.4158 Average_Time_per_batch: 0.0036 Train_Accuracy: 0.4779 Train_Loss: 1.6369 \n",
      "Epoch: 4 Total_Time: 1.3471 Average_Time_per_batch: 0.0034 Train_Accuracy: 0.4992 Train_Loss: 1.6036 \n",
      "Epoch: 5 Total_Time: 1.2950 Average_Time_per_batch: 0.0033 Train_Accuracy: 0.5262 Train_Loss: 1.5203 \n",
      "Epoch: 6 Total_Time: 1.2255 Average_Time_per_batch: 0.0031 Train_Accuracy: 0.5466 Train_Loss: 1.4901 \n",
      "Epoch: 7 Total_Time: 1.3340 Average_Time_per_batch: 0.0034 Train_Accuracy: 0.5669 Train_Loss: 1.4390 \n",
      "Epoch: 8 Total_Time: 1.2986 Average_Time_per_batch: 0.0033 Train_Accuracy: 0.5885 Train_Loss: 1.3991 \n",
      "Epoch: 9 Total_Time: 1.4968 Average_Time_per_batch: 0.0038 Train_Accuracy: 0.6074 Train_Loss: 1.3449 \n",
      "Epoch: 10 Total_Time: 1.4345 Average_Time_per_batch: 0.0037 Train_Accuracy: 0.6280 Train_Loss: 1.2894 \n",
      "Epoch: 11 Total_Time: 1.4364 Average_Time_per_batch: 0.0037 Train_Accuracy: 0.6386 Train_Loss: 1.2988 \n",
      "Epoch: 12 Total_Time: 1.3867 Average_Time_per_batch: 0.0035 Train_Accuracy: 0.6532 Train_Loss: 1.2987 \n",
      "Epoch: 13 Total_Time: 1.4596 Average_Time_per_batch: 0.0037 Train_Accuracy: 0.6715 Train_Loss: 1.2225 \n",
      "Epoch: 14 Total_Time: 1.4297 Average_Time_per_batch: 0.0037 Train_Accuracy: 0.6933 Train_Loss: 1.1403 \n",
      "Epoch: 15 Total_Time: 1.5923 Average_Time_per_batch: 0.0041 Train_Accuracy: 0.7027 Train_Loss: 1.1626 \n",
      "Epoch: 16 Total_Time: 1.4745 Average_Time_per_batch: 0.0038 Train_Accuracy: 0.7141 Train_Loss: 1.1263 \n",
      "Epoch: 17 Total_Time: 1.3101 Average_Time_per_batch: 0.0034 Train_Accuracy: 0.7174 Train_Loss: 1.1481 \n",
      "Epoch: 18 Total_Time: 1.3576 Average_Time_per_batch: 0.0035 Train_Accuracy: 0.7451 Train_Loss: 1.0118 \n",
      "Epoch: 19 Total_Time: 1.3748 Average_Time_per_batch: 0.0035 Train_Accuracy: 0.7506 Train_Loss: 1.0203 \n",
      "Epoch: 20 Total_Time: 1.2444 Average_Time_per_batch: 0.0032 Train_Accuracy: 0.7516 Train_Loss: 1.0653 \n",
      "Epoch: 21 Total_Time: 1.3719 Average_Time_per_batch: 0.0035 Train_Accuracy: 0.7717 Train_Loss: 0.9785 \n",
      "Epoch: 22 Total_Time: 1.4072 Average_Time_per_batch: 0.0036 Train_Accuracy: 0.7748 Train_Loss: 0.9955 \n",
      "Epoch: 23 Total_Time: 1.0405 Average_Time_per_batch: 0.0027 Train_Accuracy: 0.7843 Train_Loss: 0.9396 \n",
      "Epoch: 24 Total_Time: 1.3384 Average_Time_per_batch: 0.0034 Train_Accuracy: 0.7902 Train_Loss: 0.9475 \n",
      "Epoch: 25 Total_Time: 1.2807 Average_Time_per_batch: 0.0033 Train_Accuracy: 0.7971 Train_Loss: 0.9265 \n",
      "Epoch: 26 Total_Time: 1.2024 Average_Time_per_batch: 0.0031 Train_Accuracy: 0.8002 Train_Loss: 0.9715 \n",
      "Epoch: 27 Total_Time: 1.2552 Average_Time_per_batch: 0.0032 Train_Accuracy: 0.8078 Train_Loss: 0.9304 \n",
      "Epoch: 28 Total_Time: 1.3296 Average_Time_per_batch: 0.0034 Train_Accuracy: 0.8073 Train_Loss: 0.9629 \n",
      "Epoch: 29 Total_Time: 1.4321 Average_Time_per_batch: 0.0037 Train_Accuracy: 0.8200 Train_Loss: 0.8967 \n",
      "Epoch: 30 Total_Time: 1.4338 Average_Time_per_batch: 0.0037 Train_Accuracy: 0.8266 Train_Loss: 0.8775 \n",
      "Epoch: 31 Total_Time: 1.3242 Average_Time_per_batch: 0.0034 Train_Accuracy: 0.8281 Train_Loss: 0.9228 \n",
      "Epoch: 32 Total_Time: 1.2262 Average_Time_per_batch: 0.0031 Train_Accuracy: 0.8495 Train_Loss: 0.7729 \n",
      "Epoch: 33 Total_Time: 1.4077 Average_Time_per_batch: 0.0036 Train_Accuracy: 0.8456 Train_Loss: 0.8195 \n",
      "Epoch: 34 Total_Time: 1.2233 Average_Time_per_batch: 0.0031 Train_Accuracy: 0.8453 Train_Loss: 0.8516 \n",
      "Epoch: 35 Total_Time: 1.4427 Average_Time_per_batch: 0.0037 Train_Accuracy: 0.8434 Train_Loss: 0.8978 \n",
      "Epoch: 36 Total_Time: 1.3923 Average_Time_per_batch: 0.0036 Train_Accuracy: 0.8489 Train_Loss: 0.8681 \n",
      "Epoch: 37 Total_Time: 1.3311 Average_Time_per_batch: 0.0034 Train_Accuracy: 0.8606 Train_Loss: 0.7761 \n",
      "Epoch: 38 Total_Time: 1.3574 Average_Time_per_batch: 0.0035 Train_Accuracy: 0.8575 Train_Loss: 0.8421 \n",
      "Epoch: 39 Total_Time: 1.5127 Average_Time_per_batch: 0.0039 Train_Accuracy: 0.8651 Train_Loss: 0.8217 \n",
      "Epoch: 40 Total_Time: 1.4073 Average_Time_per_batch: 0.0036 Train_Accuracy: 0.8646 Train_Loss: 0.8342 \n",
      "Epoch: 41 Total_Time: 1.4305 Average_Time_per_batch: 0.0037 Train_Accuracy: 0.8776 Train_Loss: 0.7408 \n",
      "Epoch: 42 Total_Time: 1.3345 Average_Time_per_batch: 0.0034 Train_Accuracy: 0.8746 Train_Loss: 0.8044 \n",
      "Epoch: 43 Total_Time: 1.3747 Average_Time_per_batch: 0.0035 Train_Accuracy: 0.8757 Train_Loss: 0.7957 \n",
      "Epoch: 44 Total_Time: 1.4846 Average_Time_per_batch: 0.0038 Train_Accuracy: 0.8795 Train_Loss: 0.7831 \n",
      "Epoch: 45 Total_Time: 1.4312 Average_Time_per_batch: 0.0037 Train_Accuracy: 0.8779 Train_Loss: 0.8407 \n",
      "Epoch: 46 Total_Time: 0.9392 Average_Time_per_batch: 0.0024 Train_Accuracy: 0.8804 Train_Loss: 0.8051 \n",
      "Epoch: 47 Total_Time: 1.3355 Average_Time_per_batch: 0.0034 Train_Accuracy: 0.8871 Train_Loss: 0.7839 \n",
      "Epoch: 48 Total_Time: 1.2637 Average_Time_per_batch: 0.0032 Train_Accuracy: 0.8915 Train_Loss: 0.7601 \n",
      "Epoch: 49 Total_Time: 1.2213 Average_Time_per_batch: 0.0031 Train_Accuracy: 0.8908 Train_Loss: 0.7831 \n",
      "Epoch: 50 Total_Time: 1.2294 Average_Time_per_batch: 0.0031 Train_Accuracy: 0.8927 Train_Loss: 0.8008 \n",
      "Test_Accuracy:  0.5214 Test_Loss:  9.040919709205628\n",
      "Peak GPU memory: 563.52 MB\n"
     ]
    }
   ],
   "source": [
    "from utils import train\n",
    "train_metrics_3, val_metrics_3, test_metrics_3 = train(model_3, train_loader, None, test_loader, 50, optimizer, criterion)"
   ]
  },
  {
   "cell_type": "code",
   "execution_count": null,
   "id": "2b11d143",
   "metadata": {},
   "outputs": [],
   "source": []
  }
 ],
 "metadata": {
  "kernelspec": {
   "display_name": "saroshgpu",
   "language": "python",
   "name": "python3"
  },
  "language_info": {
   "codemirror_mode": {
    "name": "ipython",
    "version": 3
   },
   "file_extension": ".py",
   "mimetype": "text/x-python",
   "name": "python",
   "nbconvert_exporter": "python",
   "pygments_lexer": "ipython3",
   "version": "3.9.21"
  }
 },
 "nbformat": 4,
 "nbformat_minor": 5
}
