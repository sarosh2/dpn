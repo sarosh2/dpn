{
 "cells": [
  {
   "cell_type": "code",
   "execution_count": 1,
   "id": "599b59e8",
   "metadata": {},
   "outputs": [],
   "source": [
    "import torch\n",
    "import torch.nn as nn\n",
    "import torch.optim as optim\n",
    "import torchvision\n",
    "import torchvision.transforms as transforms\n",
    "import torch.nn.functional as F\n",
    "from utils import train\n",
    "torch.cuda.empty_cache()"
   ]
  },
  {
   "cell_type": "code",
   "execution_count": 2,
   "id": "56feba47",
   "metadata": {},
   "outputs": [],
   "source": [
    "# Model definition\n",
    "class CIFAR10_MLP(nn.Module):\n",
    "    def __init__(self, input_dim=3*32*32, hidden_dims=[2048, 1024, 512, 256], num_classes=10, dropout=0.5):\n",
    "        super().__init__()\n",
    "        layers = []\n",
    "        prev_dim = input_dim\n",
    "        for hdim in hidden_dims:\n",
    "            layers.append(nn.Linear(prev_dim, hdim))\n",
    "            layers.append(nn.BatchNorm1d(hdim))\n",
    "            layers.append(nn.ReLU(inplace=True))\n",
    "            layers.append(nn.Dropout(dropout))\n",
    "            prev_dim = hdim\n",
    "        layers.append(nn.Linear(prev_dim, num_classes))\n",
    "        self.net = nn.Sequential(*layers)\n",
    "\n",
    "    def forward(self, x):\n",
    "        x = x.view(x.size(0), -1)  # flatten\n",
    "        return self.net(x)"
   ]
  },
  {
   "cell_type": "code",
   "execution_count": 2,
   "id": "332493c6",
   "metadata": {},
   "outputs": [
    {
     "name": "stdout",
     "output_type": "stream",
     "text": [
      "Files already downloaded and verified\n",
      "Files already downloaded and verified\n"
     ]
    }
   ],
   "source": [
    "device = torch.device('cuda' if torch.cuda.is_available() else 'cpu')\n",
    "\n",
    "# Data transforms: normalize CIFAR-10 images\n",
    "train_transform = transforms.Compose([\n",
    "    transforms.ToTensor(),\n",
    "    transforms.Normalize((0.4914, 0.4822, 0.4465), \n",
    "                         (0.247, 0.243, 0.261))\n",
    "])\n",
    "\n",
    "test_transform = transforms.Compose([\n",
    "    transforms.ToTensor(),\n",
    "    transforms.Normalize((0.4914, 0.4822, 0.4465), \n",
    "                         (0.247, 0.243, 0.261))\n",
    "])\n",
    "\n",
    "train_dataset = torchvision.datasets.CIFAR10(root='./data', train=True, download=True, transform=train_transform)\n",
    "test_dataset = torchvision.datasets.CIFAR10(root='./data', train=False, download=True, transform=test_transform)\n",
    "\n",
    "train_loader = torch.utils.data.DataLoader(train_dataset, batch_size=128, shuffle=True, num_workers=4)\n",
    "test_loader = torch.utils.data.DataLoader(test_dataset, batch_size=100, shuffle=False, num_workers=4)\n"
   ]
  },
  {
   "cell_type": "code",
   "execution_count": 4,
   "id": "cc7845b9",
   "metadata": {},
   "outputs": [],
   "source": [
    "model = CIFAR10_MLP().to(device)\n",
    "model = torch.jit.script(model)\n",
    "criterion = nn.CrossEntropyLoss()\n",
    "optimizer = optim.Adam(model.parameters())"
   ]
  },
  {
   "cell_type": "code",
   "execution_count": null,
   "id": "39e9e88a",
   "metadata": {},
   "outputs": [
    {
     "name": "stdout",
     "output_type": "stream",
     "text": [
      "\n",
      "Epoch: 1 Total_Time: 1.6134 Average_Time_per_batch: 0.0041 Train_Accuracy: 0.3362 Train_Loss: 1.8267 \n",
      "Epoch: 2 Total_Time: 1.2176 Average_Time_per_batch: 0.0031 Train_Accuracy: 0.4235 Train_Loss: 1.6107 \n",
      "Epoch: 3 Total_Time: 1.2475 Average_Time_per_batch: 0.0032 Train_Accuracy: 0.4552 Train_Loss: 1.5287 \n",
      "Epoch: 4 Total_Time: 1.1978 Average_Time_per_batch: 0.0031 Train_Accuracy: 0.4756 Train_Loss: 1.4754 \n",
      "Epoch: 5 Total_Time: 1.2134 Average_Time_per_batch: 0.0031 Train_Accuracy: 0.4919 Train_Loss: 1.4324 \n",
      "Epoch: 6 Total_Time: 1.3463 Average_Time_per_batch: 0.0034 Train_Accuracy: 0.5089 Train_Loss: 1.3881 \n",
      "Epoch: 7 Total_Time: 1.2483 Average_Time_per_batch: 0.0032 Train_Accuracy: 0.5191 Train_Loss: 1.3609 \n",
      "Epoch: 8 Total_Time: 1.2941 Average_Time_per_batch: 0.0033 Train_Accuracy: 0.5294 Train_Loss: 1.3320 \n",
      "Epoch: 9 Total_Time: 1.1962 Average_Time_per_batch: 0.0031 Train_Accuracy: 0.5396 Train_Loss: 1.3086 \n",
      "Epoch: 10 Total_Time: 1.2108 Average_Time_per_batch: 0.0031 Train_Accuracy: 0.5465 Train_Loss: 1.2839 \n",
      "Epoch: 11 Total_Time: 1.3307 Average_Time_per_batch: 0.0034 Train_Accuracy: 0.5568 Train_Loss: 1.2583 \n",
      "Epoch: 12 Total_Time: 1.5306 Average_Time_per_batch: 0.0039 Train_Accuracy: 0.5671 Train_Loss: 1.2289 \n",
      "Epoch: 13 Total_Time: 1.2994 Average_Time_per_batch: 0.0033 Train_Accuracy: 0.5736 Train_Loss: 1.2134 \n",
      "Epoch: 14 Total_Time: 1.5318 Average_Time_per_batch: 0.0039 Train_Accuracy: 0.5789 Train_Loss: 1.1915 \n",
      "Epoch: 15 Total_Time: 1.1825 Average_Time_per_batch: 0.0030 Train_Accuracy: 0.5898 Train_Loss: 1.1681 \n",
      "Epoch: 16 Total_Time: 1.1563 Average_Time_per_batch: 0.0030 Train_Accuracy: 0.5987 Train_Loss: 1.1426 \n",
      "Epoch: 17 Total_Time: 1.3027 Average_Time_per_batch: 0.0033 Train_Accuracy: 0.6048 Train_Loss: 1.1240 \n",
      "Epoch: 18 Total_Time: 1.1929 Average_Time_per_batch: 0.0031 Train_Accuracy: 0.6102 Train_Loss: 1.1045 \n",
      "Epoch: 19 Total_Time: 0.7719 Average_Time_per_batch: 0.0020 Train_Accuracy: 0.6170 Train_Loss: 1.0811 \n",
      "Epoch: 20 Total_Time: 1.4310 Average_Time_per_batch: 0.0037 Train_Accuracy: 0.6232 Train_Loss: 1.0709 \n",
      "Epoch: 21 Total_Time: 1.4172 Average_Time_per_batch: 0.0036 Train_Accuracy: 0.6301 Train_Loss: 1.0516 \n",
      "Epoch: 22 Total_Time: 1.5057 Average_Time_per_batch: 0.0039 Train_Accuracy: 0.6364 Train_Loss: 1.0289 \n",
      "Epoch: 23 Total_Time: 1.4688 Average_Time_per_batch: 0.0038 Train_Accuracy: 0.6453 Train_Loss: 1.0107 \n",
      "Epoch: 24 Total_Time: 1.1332 Average_Time_per_batch: 0.0029 Train_Accuracy: 0.6500 Train_Loss: 0.9924 \n",
      "Epoch: 25 Total_Time: 1.3976 Average_Time_per_batch: 0.0036 Train_Accuracy: 0.6591 Train_Loss: 0.9721 \n",
      "Epoch: 26 Total_Time: 1.1575 Average_Time_per_batch: 0.0030 Train_Accuracy: 0.6638 Train_Loss: 0.9560 \n",
      "Epoch: 27 Total_Time: 1.3536 Average_Time_per_batch: 0.0035 Train_Accuracy: 0.6722 Train_Loss: 0.9412 \n",
      "Epoch: 28 Total_Time: 1.2075 Average_Time_per_batch: 0.0031 Train_Accuracy: 0.6785 Train_Loss: 0.9210 \n",
      "Epoch: 29 Total_Time: 1.2823 Average_Time_per_batch: 0.0033 Train_Accuracy: 0.6824 Train_Loss: 0.9086 \n",
      "Epoch: 30 Total_Time: 1.3629 Average_Time_per_batch: 0.0035 Train_Accuracy: 0.6879 Train_Loss: 0.8883 \n",
      "Test_Accuracy:  0.5944 Test_Loss:  1.191141762137413\n",
      "Peak GPU memory: 200.21 MB\n"
     ]
    }
   ],
   "source": [
    "train_metrics, val_metrics, test_metrics = train(model, train_loader, test_loader, test_loader, 30, optimizer, criterion)"
   ]
  },
  {
   "cell_type": "code",
   "execution_count": 6,
   "id": "a58ffcf5",
   "metadata": {},
   "outputs": [],
   "source": [
    "from dpn_3.dpn import DPN as DPN_3\n",
    "    \n",
    "model_3 = DPN_3(3*32*32, 100, 10, True).cuda()\n",
    "#model_3.compile()"
   ]
  },
  {
   "cell_type": "code",
   "execution_count": 7,
   "id": "15773d0a",
   "metadata": {},
   "outputs": [],
   "source": [
    "model_3 = torch.jit.trace(model_3, torch.randn(128, 3*32*32).cuda())\n",
    "optimizer = optim.Adam(model_3.parameters())\n",
    "criterion = nn.CrossEntropyLoss()"
   ]
  },
  {
   "cell_type": "code",
   "execution_count": null,
   "id": "f391ad48",
   "metadata": {},
   "outputs": [
    {
     "name": "stdout",
     "output_type": "stream",
     "text": [
      "\n",
      "Epoch: 1 Total_Time: 0.6407 Average_Time_per_batch: 0.0016 Train_Accuracy: 0.3946 Train_Loss: 1.7723 \n",
      "Epoch: 2 Total_Time: 0.4856 Average_Time_per_batch: 0.0012 Train_Accuracy: 0.4566 Train_Loss: 1.5985 \n",
      "Epoch: 3 Total_Time: 0.6010 Average_Time_per_batch: 0.0015 Train_Accuracy: 0.4813 Train_Loss: 1.5205 \n",
      "Epoch: 4 Total_Time: 0.7240 Average_Time_per_batch: 0.0019 Train_Accuracy: 0.5030 Train_Loss: 1.4552 \n",
      "Epoch: 5 Total_Time: 0.4826 Average_Time_per_batch: 0.0012 Train_Accuracy: 0.5207 Train_Loss: 1.4047 \n",
      "Epoch: 6 Total_Time: 0.6000 Average_Time_per_batch: 0.0015 Train_Accuracy: 0.5407 Train_Loss: 1.3487 \n",
      "Epoch: 7 Total_Time: 0.6966 Average_Time_per_batch: 0.0018 Train_Accuracy: 0.5514 Train_Loss: 1.3117 \n",
      "Epoch: 8 Total_Time: 0.6234 Average_Time_per_batch: 0.0016 Train_Accuracy: 0.5625 Train_Loss: 1.2777 \n",
      "Epoch: 9 Total_Time: 0.5431 Average_Time_per_batch: 0.0014 Train_Accuracy: 0.5699 Train_Loss: 1.2529 \n",
      "Epoch: 10 Total_Time: 0.8166 Average_Time_per_batch: 0.0021 Train_Accuracy: 0.5786 Train_Loss: 1.2399 \n",
      "Epoch: 11 Total_Time: 0.6174 Average_Time_per_batch: 0.0016 Train_Accuracy: 0.5872 Train_Loss: 1.2069 \n",
      "Epoch: 12 Total_Time: 0.5011 Average_Time_per_batch: 0.0013 Train_Accuracy: 0.5961 Train_Loss: 1.1807 \n",
      "Epoch: 13 Total_Time: 0.5180 Average_Time_per_batch: 0.0013 Train_Accuracy: 0.6065 Train_Loss: 1.1559 \n",
      "Epoch: 14 Total_Time: 0.5527 Average_Time_per_batch: 0.0014 Train_Accuracy: 0.6119 Train_Loss: 1.1416 \n",
      "Epoch: 15 Total_Time: 0.6239 Average_Time_per_batch: 0.0016 Train_Accuracy: 0.6160 Train_Loss: 1.1281 \n",
      "Epoch: 16 Total_Time: 0.5794 Average_Time_per_batch: 0.0015 Train_Accuracy: 0.6251 Train_Loss: 1.1003 \n",
      "Epoch: 17 Total_Time: 0.4879 Average_Time_per_batch: 0.0012 Train_Accuracy: 0.6341 Train_Loss: 1.0765 \n",
      "Epoch: 18 Total_Time: 0.6163 Average_Time_per_batch: 0.0016 Train_Accuracy: 0.6369 Train_Loss: 1.0555 \n",
      "Epoch: 19 Total_Time: 0.4812 Average_Time_per_batch: 0.0012 Train_Accuracy: 0.6422 Train_Loss: 1.0478 \n",
      "Epoch: 20 Total_Time: 0.6879 Average_Time_per_batch: 0.0018 Train_Accuracy: 0.6494 Train_Loss: 1.0231 \n",
      "Epoch: 21 Total_Time: 0.6953 Average_Time_per_batch: 0.0018 Train_Accuracy: 0.6564 Train_Loss: 1.0069 \n",
      "Epoch: 22 Total_Time: 0.5220 Average_Time_per_batch: 0.0013 Train_Accuracy: 0.6577 Train_Loss: 1.0008 \n",
      "Epoch: 23 Total_Time: 0.6007 Average_Time_per_batch: 0.0015 Train_Accuracy: 0.6626 Train_Loss: 0.9823 \n",
      "Epoch: 24 Total_Time: 0.5733 Average_Time_per_batch: 0.0015 Train_Accuracy: 0.6712 Train_Loss: 0.9630 \n",
      "Epoch: 25 Total_Time: 0.6280 Average_Time_per_batch: 0.0016 Train_Accuracy: 0.6752 Train_Loss: 0.9434 \n",
      "Epoch: 26 Total_Time: 0.4805 Average_Time_per_batch: 0.0012 Train_Accuracy: 0.6796 Train_Loss: 0.9369 \n",
      "Epoch: 27 Total_Time: 0.7054 Average_Time_per_batch: 0.0018 Train_Accuracy: 0.6823 Train_Loss: 0.9303 \n",
      "Epoch: 28 Total_Time: 0.6228 Average_Time_per_batch: 0.0016 Train_Accuracy: 0.6821 Train_Loss: 0.9244 \n",
      "Epoch: 29 Total_Time: 0.6069 Average_Time_per_batch: 0.0016 Train_Accuracy: 0.6904 Train_Loss: 0.9078 \n",
      "Epoch: 30 Total_Time: 0.6773 Average_Time_per_batch: 0.0017 Train_Accuracy: 0.6910 Train_Loss: 0.9055 \n",
      "Test_Accuracy:  0.4902 Test_Loss:  1.9678226959705354\n",
      "Peak GPU memory: 102.19 MB\n"
     ]
    }
   ],
   "source": [
    "train_metrics_3, val_metrics_3, test_metrics_3 = train(model_3, train_loader, test_loader, test_loader, 30, optimizer, criterion)"
   ]
  },
  {
   "cell_type": "code",
   "execution_count": 9,
   "id": "6ac95b47",
   "metadata": {},
   "outputs": [],
   "source": [
    "import torch\n",
    "from torch import nn\n",
    "\n",
    "hidden_dims = [2048, 1024, 512, 256, 10]\n",
    "total = sum(hidden_dims)\n",
    "\n",
    "blocks = len(hidden_dims)\n",
    "features = 3 * 32 * 32\n",
    "neural_blocks = []\n",
    "for dim in hidden_dims:\n",
    "    std_dev = torch.sqrt(torch.tensor(1 / features)).to(device)\n",
    "    neural_blocks.append(torch.randn(dim, features).to(device) * std_dev)\n",
    "    features += dim\n",
    "\n",
    "feature_blocks = []\n",
    "features_start = 0\n",
    "for i in range(len(neural_blocks)):\n",
    "    features_end = neural_blocks[i].shape[1]\n",
    "    block = neural_blocks[i][:, features_start:]\n",
    "    for j in range(i + 1, len(neural_blocks)):\n",
    "        block = torch.cat((block, neural_blocks[j][:, features_start:features_end]), dim=0)\n",
    "    feature_blocks.append(nn.Parameter(block))\n",
    "    features_start = features_end\n",
    "\n",
    "biases = biases = nn.Parameter(torch.empty(total).uniform_(0.0, 1.0)).to(device)"
   ]
  },
  {
   "cell_type": "code",
   "execution_count": 10,
   "id": "905fa918",
   "metadata": {},
   "outputs": [],
   "source": [
    "from dpn_2.dpn import DPN as DPN_2\n",
    "    \n",
    "model_2 = DPN_2(3*32*32, total, 10, True).cuda()\n",
    "model_2.weights.extend(feature_blocks)\n",
    "model_2.biases = biases"
   ]
  },
  {
   "cell_type": "code",
   "execution_count": 11,
   "id": "42af8220",
   "metadata": {},
   "outputs": [],
   "source": [
    "#model_3 = torch.jit.trace(model_3, torch.randn(128, 3*32*32).cuda())\n",
    "optimizer = optim.Adam(model_2.parameters())\n",
    "criterion = nn.CrossEntropyLoss()"
   ]
  },
  {
   "cell_type": "code",
   "execution_count": null,
   "id": "d26fab50",
   "metadata": {},
   "outputs": [
    {
     "name": "stdout",
     "output_type": "stream",
     "text": [
      "\n",
      "Epoch: 1 Total_Time: 1.4715 Average_Time_per_batch: 0.0038 Train_Accuracy: 0.3852 Train_Loss: 2.0976 \n",
      "Epoch: 2 Total_Time: 1.4417 Average_Time_per_batch: 0.0037 Train_Accuracy: 0.4435 Train_Loss: 1.7311 \n",
      "Epoch: 3 Total_Time: 1.5289 Average_Time_per_batch: 0.0039 Train_Accuracy: 0.4738 Train_Loss: 1.6432 \n",
      "Epoch: 4 Total_Time: 1.2728 Average_Time_per_batch: 0.0033 Train_Accuracy: 0.5034 Train_Loss: 1.5827 \n",
      "Epoch: 5 Total_Time: 1.8028 Average_Time_per_batch: 0.0046 Train_Accuracy: 0.5270 Train_Loss: 1.5328 \n",
      "Epoch: 6 Total_Time: 1.4883 Average_Time_per_batch: 0.0038 Train_Accuracy: 0.5470 Train_Loss: 1.4850 \n",
      "Epoch: 7 Total_Time: 1.7106 Average_Time_per_batch: 0.0044 Train_Accuracy: 0.5700 Train_Loss: 1.4308 \n",
      "Epoch: 8 Total_Time: 1.4225 Average_Time_per_batch: 0.0036 Train_Accuracy: 0.5829 Train_Loss: 1.4133 \n",
      "Epoch: 9 Total_Time: 1.6613 Average_Time_per_batch: 0.0042 Train_Accuracy: 0.6061 Train_Loss: 1.3553 \n",
      "Epoch: 10 Total_Time: 1.4293 Average_Time_per_batch: 0.0037 Train_Accuracy: 0.6185 Train_Loss: 1.3397 \n",
      "Epoch: 11 Total_Time: 1.4274 Average_Time_per_batch: 0.0037 Train_Accuracy: 0.6432 Train_Loss: 1.2462 \n",
      "Epoch: 12 Total_Time: 1.5852 Average_Time_per_batch: 0.0041 Train_Accuracy: 0.6575 Train_Loss: 1.2383 \n",
      "Epoch: 13 Total_Time: 1.3030 Average_Time_per_batch: 0.0033 Train_Accuracy: 0.6733 Train_Loss: 1.2018 \n",
      "Epoch: 14 Total_Time: 1.5846 Average_Time_per_batch: 0.0041 Train_Accuracy: 0.6943 Train_Loss: 1.1223 \n",
      "Epoch: 15 Total_Time: 1.4299 Average_Time_per_batch: 0.0037 Train_Accuracy: 0.6918 Train_Loss: 1.2205 \n",
      "Epoch: 16 Total_Time: 1.4468 Average_Time_per_batch: 0.0037 Train_Accuracy: 0.7165 Train_Loss: 1.1174 \n",
      "Epoch: 17 Total_Time: 1.6852 Average_Time_per_batch: 0.0043 Train_Accuracy: 0.7278 Train_Loss: 1.0739 \n",
      "Epoch: 18 Total_Time: 1.4318 Average_Time_per_batch: 0.0037 Train_Accuracy: 0.7321 Train_Loss: 1.0764 \n",
      "Epoch: 19 Total_Time: 1.4763 Average_Time_per_batch: 0.0038 Train_Accuracy: 0.7477 Train_Loss: 1.0507 \n",
      "Epoch: 20 Total_Time: 1.4017 Average_Time_per_batch: 0.0036 Train_Accuracy: 0.7538 Train_Loss: 1.0397 \n",
      "Epoch: 21 Total_Time: 1.6472 Average_Time_per_batch: 0.0042 Train_Accuracy: 0.7656 Train_Loss: 1.0221 \n",
      "Epoch: 22 Total_Time: 1.7232 Average_Time_per_batch: 0.0044 Train_Accuracy: 0.7743 Train_Loss: 0.9844 \n",
      "Epoch: 23 Total_Time: 1.5654 Average_Time_per_batch: 0.0040 Train_Accuracy: 0.7711 Train_Loss: 1.0731 \n",
      "Epoch: 24 Total_Time: 1.5051 Average_Time_per_batch: 0.0038 Train_Accuracy: 0.7863 Train_Loss: 0.9790 \n",
      "Epoch: 25 Total_Time: 1.5397 Average_Time_per_batch: 0.0039 Train_Accuracy: 0.7970 Train_Loss: 0.9205 \n",
      "Epoch: 26 Total_Time: 1.4536 Average_Time_per_batch: 0.0037 Train_Accuracy: 0.8123 Train_Loss: 0.8534 \n",
      "Epoch: 27 Total_Time: 1.8427 Average_Time_per_batch: 0.0047 Train_Accuracy: 0.8134 Train_Loss: 0.8815 \n",
      "Epoch: 28 Total_Time: 1.5311 Average_Time_per_batch: 0.0039 Train_Accuracy: 0.7996 Train_Loss: 1.0311 \n",
      "Epoch: 29 Total_Time: 1.5499 Average_Time_per_batch: 0.0040 Train_Accuracy: 0.8171 Train_Loss: 0.8977 \n",
      "Epoch: 30 Total_Time: 1.7189 Average_Time_per_batch: 0.0044 Train_Accuracy: 0.8313 Train_Loss: 0.8265 \n",
      "Test_Accuracy:  0.5231 Test_Loss:  4.815862505435944\n",
      "Peak GPU memory: 499.94 MB\n"
     ]
    }
   ],
   "source": [
    "from utils import train\n",
    "train_metrics_3, val_metrics_3, test_metrics_3 = train(model_2, train_loader, test_loader, test_loader, 30, optimizer, criterion)"
   ]
  },
  {
   "cell_type": "code",
   "execution_count": 13,
   "id": "01702460",
   "metadata": {},
   "outputs": [],
   "source": [
    "class ResNetMLP(nn.Module):\n",
    "    def __init__(self, num_classes=10, mlp_hidden=256):\n",
    "        super().__init__()\n",
    "        # Load ResNet18 (pretrained=False for CIFAR10, since ImageNet weights use 224x224)\n",
    "        backbone = torchvision.models.resnet18(weights=None)\n",
    "        # Change input conv layer for CIFAR-10 (3x32x32)\n",
    "        backbone.conv1 = nn.Conv2d(3, 64, kernel_size=3, stride=1, padding=1, bias=False)\n",
    "        backbone.maxpool = nn.Identity()  # Remove the first maxpool\n",
    "        # Extract up to the last layer\n",
    "        self.backbone = nn.Sequential(*list(backbone.children())[:-1])  # Remove FC\n",
    "        self.mlp = nn.Sequential(\n",
    "            nn.Linear(512, mlp_hidden),\n",
    "            nn.BatchNorm1d(mlp_hidden),\n",
    "            nn.ReLU(),\n",
    "            nn.Dropout(0.4),\n",
    "            nn.Linear(mlp_hidden, num_classes)\n",
    "        )\n",
    "\n",
    "    def forward(self, x):\n",
    "        x = self.backbone(x)  # [B, 512, 1, 1]\n",
    "        x = x.view(x.size(0), -1)  # Flatten\n",
    "        x = self.mlp(x)\n",
    "        return x"
   ]
  },
  {
   "cell_type": "code",
   "execution_count": 14,
   "id": "6e50cf32",
   "metadata": {},
   "outputs": [],
   "source": [
    "model = ResNetMLP(num_classes=10, mlp_hidden=256).to(device)\n",
    "optimizer = optim.Adam(model.parameters(), lr=1e-3)\n",
    "criterion = nn.CrossEntropyLoss()"
   ]
  },
  {
   "cell_type": "code",
   "execution_count": null,
   "id": "a4a63a26",
   "metadata": {},
   "outputs": [
    {
     "name": "stdout",
     "output_type": "stream",
     "text": [
      "\n",
      "Epoch: 1 Total_Time: 5.6266 Average_Time_per_batch: 0.0144 Train_Accuracy: 0.5422 Train_Loss: 1.2653 \n",
      "Epoch: 2 Total_Time: 5.5648 Average_Time_per_batch: 0.0142 Train_Accuracy: 0.7298 Train_Loss: 0.7776 \n",
      "Epoch: 3 Total_Time: 5.3441 Average_Time_per_batch: 0.0137 Train_Accuracy: 0.8011 Train_Loss: 0.5835 \n",
      "Epoch: 4 Total_Time: 5.3052 Average_Time_per_batch: 0.0136 Train_Accuracy: 0.8426 Train_Loss: 0.4562 \n",
      "Epoch: 5 Total_Time: 5.2880 Average_Time_per_batch: 0.0135 Train_Accuracy: 0.8766 Train_Loss: 0.3585 \n",
      "Epoch: 6 Total_Time: 5.3063 Average_Time_per_batch: 0.0136 Train_Accuracy: 0.9096 Train_Loss: 0.2684 \n",
      "Epoch: 7 Total_Time: 5.3196 Average_Time_per_batch: 0.0136 Train_Accuracy: 0.9282 Train_Loss: 0.2071 \n",
      "Epoch: 8 Total_Time: 5.2947 Average_Time_per_batch: 0.0135 Train_Accuracy: 0.9491 Train_Loss: 0.1503 \n",
      "Epoch: 9 Total_Time: 5.3139 Average_Time_per_batch: 0.0136 Train_Accuracy: 0.9589 Train_Loss: 0.1196 \n",
      "Epoch: 10 Total_Time: 5.3056 Average_Time_per_batch: 0.0136 Train_Accuracy: 0.9681 Train_Loss: 0.0915 \n",
      "Epoch: 11 Total_Time: 5.3272 Average_Time_per_batch: 0.0136 Train_Accuracy: 0.9736 Train_Loss: 0.0761 \n",
      "Epoch: 12 Total_Time: 5.2840 Average_Time_per_batch: 0.0135 Train_Accuracy: 0.9765 Train_Loss: 0.0708 \n",
      "Epoch: 13 Total_Time: 4.8847 Average_Time_per_batch: 0.0125 Train_Accuracy: 0.9806 Train_Loss: 0.0576 \n",
      "Epoch: 14 Total_Time: 5.3289 Average_Time_per_batch: 0.0136 Train_Accuracy: 0.9818 Train_Loss: 0.0554 \n",
      "Epoch: 15 Total_Time: 5.3338 Average_Time_per_batch: 0.0136 Train_Accuracy: 0.9844 Train_Loss: 0.0459 \n",
      "Epoch: 16 Total_Time: 5.2931 Average_Time_per_batch: 0.0135 Train_Accuracy: 0.9832 Train_Loss: 0.0497 \n",
      "Epoch: 17 Total_Time: 5.3059 Average_Time_per_batch: 0.0136 Train_Accuracy: 0.9851 Train_Loss: 0.0437 \n",
      "Epoch: 18 Total_Time: 5.2943 Average_Time_per_batch: 0.0135 Train_Accuracy: 0.9870 Train_Loss: 0.0387 \n",
      "Epoch: 19 Total_Time: 5.2895 Average_Time_per_batch: 0.0135 Train_Accuracy: 0.9871 Train_Loss: 0.0381 \n",
      "Epoch: 20 Total_Time: 5.3174 Average_Time_per_batch: 0.0136 Train_Accuracy: 0.9881 Train_Loss: 0.0329 \n",
      "Epoch: 21 Total_Time: 5.2965 Average_Time_per_batch: 0.0135 Train_Accuracy: 0.9880 Train_Loss: 0.0367 \n",
      "Epoch: 22 Total_Time: 5.6692 Average_Time_per_batch: 0.0145 Train_Accuracy: 0.9899 Train_Loss: 0.0296 \n",
      "Epoch: 23 Total_Time: 5.6533 Average_Time_per_batch: 0.0145 Train_Accuracy: 0.9887 Train_Loss: 0.0347 \n",
      "Epoch: 24 Total_Time: 5.2934 Average_Time_per_batch: 0.0135 Train_Accuracy: 0.9903 Train_Loss: 0.0295 \n",
      "Epoch: 25 Total_Time: 5.3243 Average_Time_per_batch: 0.0136 Train_Accuracy: 0.9913 Train_Loss: 0.0259 \n",
      "Epoch: 26 Total_Time: 5.3458 Average_Time_per_batch: 0.0137 Train_Accuracy: 0.9877 Train_Loss: 0.0362 \n",
      "Epoch: 27 Total_Time: 5.3047 Average_Time_per_batch: 0.0136 Train_Accuracy: 0.9930 Train_Loss: 0.0220 \n",
      "Epoch: 28 Total_Time: 5.2891 Average_Time_per_batch: 0.0135 Train_Accuracy: 0.9923 Train_Loss: 0.0226 \n",
      "Epoch: 29 Total_Time: 5.2875 Average_Time_per_batch: 0.0135 Train_Accuracy: 0.9938 Train_Loss: 0.0187 \n",
      "Epoch: 30 Total_Time: 5.3078 Average_Time_per_batch: 0.0136 Train_Accuracy: 0.9908 Train_Loss: 0.0278 \n",
      "Test_Accuracy:  0.8334 Test_Loss:  0.8810796064138412\n",
      "Peak GPU memory: 1218.05 MB\n"
     ]
    }
   ],
   "source": [
    "train_metrics_3, val_metrics_3, test_metrics_3 = train(model, train_loader, test_loader, test_loader, 30, optimizer, criterion, False)"
   ]
  },
  {
   "cell_type": "code",
   "execution_count": 16,
   "id": "47dfa19d",
   "metadata": {},
   "outputs": [],
   "source": [
    "class ResNetDPN(nn.Module):\n",
    "    def __init__(self, num_classes=10, mlp_hidden=256):\n",
    "        super().__init__()\n",
    "        # Load ResNet18 (pretrained=False for CIFAR10, since ImageNet weights use 224x224)\n",
    "        backbone = torchvision.models.resnet18(weights=None)\n",
    "        # Change input conv layer for CIFAR-10 (3x32x32)\n",
    "        backbone.conv1 = nn.Conv2d(3, 64, kernel_size=3, stride=1, padding=1, bias=False)\n",
    "        backbone.maxpool = nn.Identity()  # Remove the first maxpool\n",
    "        # Extract up to the last layer\n",
    "        self.backbone = nn.Sequential(*list(backbone.children())[:-1])  # Remove FC\n",
    "        self.dpn = DPN_3(512, mlp_hidden + num_classes, num_classes, True).cuda()\n",
    "\n",
    "    def forward(self, x):\n",
    "        x = self.backbone(x)  # [B, 512, 1, 1]\n",
    "        x = x.view(x.size(0), -1)  # Flatten\n",
    "        x = self.dpn(x)\n",
    "        return x"
   ]
  },
  {
   "cell_type": "code",
   "execution_count": 17,
   "id": "7f50a468",
   "metadata": {},
   "outputs": [],
   "source": [
    "model = ResNetDPN(num_classes=10, mlp_hidden=256).to(device)\n",
    "optimizer = optim.Adam(model.parameters(), lr=1e-3)\n",
    "criterion = nn.CrossEntropyLoss()"
   ]
  },
  {
   "cell_type": "code",
   "execution_count": null,
   "id": "03a3fabc",
   "metadata": {},
   "outputs": [
    {
     "name": "stdout",
     "output_type": "stream",
     "text": [
      "\n",
      "Epoch: 1 Total_Time: 5.2147 Average_Time_per_batch: 0.0133 Train_Accuracy: 0.5607 Train_Loss: 1.2100 \n",
      "Epoch: 2 Total_Time: 5.2288 Average_Time_per_batch: 0.0134 Train_Accuracy: 0.7524 Train_Loss: 0.7097 \n",
      "Epoch: 3 Total_Time: 5.3682 Average_Time_per_batch: 0.0137 Train_Accuracy: 0.8202 Train_Loss: 0.5154 \n",
      "Epoch: 4 Total_Time: 5.2310 Average_Time_per_batch: 0.0134 Train_Accuracy: 0.8640 Train_Loss: 0.3918 \n",
      "Epoch: 5 Total_Time: 5.2097 Average_Time_per_batch: 0.0133 Train_Accuracy: 0.8987 Train_Loss: 0.2887 \n",
      "Epoch: 6 Total_Time: 5.2051 Average_Time_per_batch: 0.0133 Train_Accuracy: 0.9261 Train_Loss: 0.2071 \n",
      "Epoch: 7 Total_Time: 5.2359 Average_Time_per_batch: 0.0134 Train_Accuracy: 0.9497 Train_Loss: 0.1432 \n",
      "Epoch: 8 Total_Time: 5.2210 Average_Time_per_batch: 0.0134 Train_Accuracy: 0.9614 Train_Loss: 0.1097 \n",
      "Epoch: 9 Total_Time: 5.5704 Average_Time_per_batch: 0.0142 Train_Accuracy: 0.9720 Train_Loss: 0.0792 \n",
      "Epoch: 10 Total_Time: 5.2089 Average_Time_per_batch: 0.0133 Train_Accuracy: 0.9743 Train_Loss: 0.0741 \n",
      "Epoch: 11 Total_Time: 5.2634 Average_Time_per_batch: 0.0135 Train_Accuracy: 0.9804 Train_Loss: 0.0577 \n",
      "Epoch: 12 Total_Time: 5.2112 Average_Time_per_batch: 0.0133 Train_Accuracy: 0.9835 Train_Loss: 0.0476 \n",
      "Epoch: 13 Total_Time: 5.2602 Average_Time_per_batch: 0.0135 Train_Accuracy: 0.9802 Train_Loss: 0.0576 \n",
      "Epoch: 14 Total_Time: 5.6066 Average_Time_per_batch: 0.0143 Train_Accuracy: 0.9850 Train_Loss: 0.0445 \n",
      "Epoch: 15 Total_Time: 5.2032 Average_Time_per_batch: 0.0133 Train_Accuracy: 0.9848 Train_Loss: 0.0439 \n",
      "Epoch: 16 Total_Time: 5.4220 Average_Time_per_batch: 0.0139 Train_Accuracy: 0.9875 Train_Loss: 0.0358 \n",
      "Epoch: 17 Total_Time: 5.2472 Average_Time_per_batch: 0.0134 Train_Accuracy: 0.9884 Train_Loss: 0.0344 \n",
      "Epoch: 18 Total_Time: 5.2408 Average_Time_per_batch: 0.0134 Train_Accuracy: 0.9848 Train_Loss: 0.0423 \n",
      "Epoch: 19 Total_Time: 5.2472 Average_Time_per_batch: 0.0134 Train_Accuracy: 0.9898 Train_Loss: 0.0303 \n",
      "Epoch: 20 Total_Time: 5.2403 Average_Time_per_batch: 0.0134 Train_Accuracy: 0.9883 Train_Loss: 0.0326 \n",
      "Epoch: 21 Total_Time: 5.1939 Average_Time_per_batch: 0.0133 Train_Accuracy: 0.9909 Train_Loss: 0.0271 \n",
      "Epoch: 22 Total_Time: 5.2022 Average_Time_per_batch: 0.0133 Train_Accuracy: 0.9913 Train_Loss: 0.0248 \n",
      "Epoch: 23 Total_Time: 5.2124 Average_Time_per_batch: 0.0133 Train_Accuracy: 0.9899 Train_Loss: 0.0292 \n",
      "Epoch: 24 Total_Time: 5.2279 Average_Time_per_batch: 0.0134 Train_Accuracy: 0.9915 Train_Loss: 0.0257 \n",
      "Epoch: 25 Total_Time: 6.1411 Average_Time_per_batch: 0.0157 Train_Accuracy: 0.9931 Train_Loss: 0.0201 \n",
      "Epoch: 26 Total_Time: 5.2253 Average_Time_per_batch: 0.0134 Train_Accuracy: 0.9894 Train_Loss: 0.0313 \n",
      "Epoch: 27 Total_Time: 5.2323 Average_Time_per_batch: 0.0134 Train_Accuracy: 0.9938 Train_Loss: 0.0180 \n",
      "Epoch: 28 Total_Time: 5.2279 Average_Time_per_batch: 0.0134 Train_Accuracy: 0.9933 Train_Loss: 0.0195 \n",
      "Epoch: 29 Total_Time: 5.2419 Average_Time_per_batch: 0.0134 Train_Accuracy: 0.9936 Train_Loss: 0.0197 \n",
      "Epoch: 30 Total_Time: 5.2156 Average_Time_per_batch: 0.0133 Train_Accuracy: 0.9884 Train_Loss: 0.0341 \n",
      "Test_Accuracy:  0.8325 Test_Loss:  0.926832160949707\n",
      "Peak GPU memory: 1215.48 MB\n"
     ]
    }
   ],
   "source": [
    "train_metrics_3, val_metrics_3, test_metrics_3 = train(model, train_loader, test_loader, test_loader, 30, optimizer, criterion, False)"
   ]
  },
  {
   "cell_type": "code",
   "execution_count": 3,
   "id": "9ccd742a",
   "metadata": {},
   "outputs": [],
   "source": [
    "in_channels = 3                # change to 3 if you use CIFAR10 dataset\n",
    "image_size = 32                # change to 32 if you use CIFAR10 dataset\n",
    "num_classes = 10\n",
    "\n",
    "lr = 1e-3\n",
    "\n",
    "patch_size = 4         # Each patch is 16x16, so 2x2 = 4 patches per image\n",
    "hidden_dim = 256       # Token-mixing MLP hidden dim (formerly token_dim)\n",
    "tokens_mlp_dim = 512    # Tokens MLP dim\n",
    "channels_mlp_dim = 2048 # Channels MLP dim\n",
    "num_blocks = 6         # Number of Mixer layers"
   ]
  },
  {
   "cell_type": "code",
   "execution_count": 4,
   "id": "4552c641",
   "metadata": {},
   "outputs": [],
   "source": [
    "from MLP_Mixer import MLPMixer\n",
    "model = MLPMixer(in_channels=in_channels, embedding_dim=hidden_dim, num_classes=num_classes, patch_size=patch_size, image_size=image_size, depth=num_blocks, token_intermediate_dim=tokens_mlp_dim, channel_intermediate_dim=channels_mlp_dim).to(device)\n",
    "optimizer = optim.Adam(model.parameters(), lr=lr)\n",
    "criterion = nn.CrossEntropyLoss()"
   ]
  },
  {
   "cell_type": "code",
   "execution_count": 5,
   "id": "dcae98fc",
   "metadata": {},
   "outputs": [
    {
     "name": "stdout",
     "output_type": "stream",
     "text": [
      "\n",
      "Epoch: 1 Total_Time: 5.8714 Average_Time_per_batch: 0.0150 Train_Accuracy: 0.3647 Train_Loss: 1.7052 Validation_Accuracy: 0.4845 Validation_Loss: 1.3919\n",
      "Epoch: 2 Total_Time: 5.2486 Average_Time_per_batch: 0.0134 Train_Accuracy: 0.5535 Train_Loss: 1.2366 Validation_Accuracy: 0.5835 Validation_Loss: 1.1568\n",
      "Epoch: 3 Total_Time: 5.1849 Average_Time_per_batch: 0.0133 Train_Accuracy: 0.6309 Train_Loss: 1.0340 Validation_Accuracy: 0.6461 Validation_Loss: 0.9891\n",
      "Epoch: 4 Total_Time: 5.1624 Average_Time_per_batch: 0.0132 Train_Accuracy: 0.6748 Train_Loss: 0.9124 Validation_Accuracy: 0.6582 Validation_Loss: 0.9474\n",
      "Epoch: 5 Total_Time: 5.0545 Average_Time_per_batch: 0.0129 Train_Accuracy: 0.7092 Train_Loss: 0.8165 Validation_Accuracy: 0.6786 Validation_Loss: 0.8981\n",
      "Epoch: 6 Total_Time: 5.0221 Average_Time_per_batch: 0.0128 Train_Accuracy: 0.7412 Train_Loss: 0.7199 Validation_Accuracy: 0.6942 Validation_Loss: 0.8681\n",
      "Epoch: 7 Total_Time: 5.8173 Average_Time_per_batch: 0.0149 Train_Accuracy: 0.7753 Train_Loss: 0.6309 Validation_Accuracy: 0.6936 Validation_Loss: 0.8880\n",
      "Epoch: 8 Total_Time: 5.8643 Average_Time_per_batch: 0.0150 Train_Accuracy: 0.8073 Train_Loss: 0.5390 Validation_Accuracy: 0.7069 Validation_Loss: 0.8820\n",
      "Epoch: 9 Total_Time: 5.7834 Average_Time_per_batch: 0.0148 Train_Accuracy: 0.8429 Train_Loss: 0.4401 Validation_Accuracy: 0.6990 Validation_Loss: 0.9237\n",
      "Epoch: 10 Total_Time: 5.7907 Average_Time_per_batch: 0.0148 Train_Accuracy: 0.8795 Train_Loss: 0.3412 Validation_Accuracy: 0.6874 Validation_Loss: 1.0476\n",
      "Test_Accuracy:  0.6874 Test_Loss:  1.0475726974010469\n",
      "Peak GPU memory: 2006.95 MB\n"
     ]
    }
   ],
   "source": [
    "train_metrics_3, val_metrics_3, test_metrics_3 = train(model, train_loader, test_loader, test_loader, 10, optimizer, criterion, False)"
   ]
  },
  {
   "cell_type": "code",
   "execution_count": 6,
   "id": "714a5663",
   "metadata": {},
   "outputs": [],
   "source": [
    "from DPN_Mixer import MLPMixer as DPNMixer\n",
    "model = DPNMixer(in_channels=in_channels, embedding_dim=hidden_dim, num_classes=num_classes, patch_size=patch_size, image_size=image_size, depth=num_blocks, token_intermediate_dim=tokens_mlp_dim, channel_intermediate_dim=channels_mlp_dim)\n",
    "optimizer = optim.Adam(model.parameters(), lr=lr)\n",
    "criterion = nn.CrossEntropyLoss()"
   ]
  },
  {
   "cell_type": "code",
   "execution_count": 7,
   "id": "54990f34",
   "metadata": {},
   "outputs": [],
   "source": [
    "torch.cuda.empty_cache()\n",
    "\n",
    "'''if torch.cuda.device_count() > 1:\n",
    "    print(f\"Using {torch.cuda.device_count()} GPUs!\")\n",
    "    model = nn.DataParallel(model)  # Wrap the model in DataParallel'''\n",
    "\n",
    "model = model.to(device)"
   ]
  },
  {
   "cell_type": "code",
   "execution_count": 8,
   "id": "a14155c1",
   "metadata": {},
   "outputs": [
    {
     "name": "stdout",
     "output_type": "stream",
     "text": [
      "\n",
      "Epoch: 1 Total_Time: 3.5042 Average_Time_per_batch: 0.0090 Train_Accuracy: 0.4085 Train_Loss: 1.6121 Validation_Accuracy: 0.5114 Validation_Loss: 1.3472\n",
      "Epoch: 2 Total_Time: 3.4593 Average_Time_per_batch: 0.0088 Train_Accuracy: 0.5622 Train_Loss: 1.2118 Validation_Accuracy: 0.5875 Validation_Loss: 1.1447\n",
      "Epoch: 3 Total_Time: 3.4687 Average_Time_per_batch: 0.0089 Train_Accuracy: 0.6288 Train_Loss: 1.0373 Validation_Accuracy: 0.6316 Validation_Loss: 1.0269\n",
      "Epoch: 4 Total_Time: 3.4828 Average_Time_per_batch: 0.0089 Train_Accuracy: 0.6691 Train_Loss: 0.9230 Validation_Accuracy: 0.6384 Validation_Loss: 1.0122\n",
      "Epoch: 5 Total_Time: 3.5257 Average_Time_per_batch: 0.0090 Train_Accuracy: 0.7014 Train_Loss: 0.8315 Validation_Accuracy: 0.6580 Validation_Loss: 0.9627\n",
      "Epoch: 6 Total_Time: 3.4675 Average_Time_per_batch: 0.0089 Train_Accuracy: 0.7338 Train_Loss: 0.7386 Validation_Accuracy: 0.6663 Validation_Loss: 0.9350\n",
      "Epoch: 7 Total_Time: 3.4955 Average_Time_per_batch: 0.0089 Train_Accuracy: 0.7645 Train_Loss: 0.6543 Validation_Accuracy: 0.6781 Validation_Loss: 0.9337\n",
      "Epoch: 8 Total_Time: 3.4577 Average_Time_per_batch: 0.0088 Train_Accuracy: 0.8013 Train_Loss: 0.5533 Validation_Accuracy: 0.6845 Validation_Loss: 0.9628\n",
      "Epoch: 9 Total_Time: 3.5801 Average_Time_per_batch: 0.0092 Train_Accuracy: 0.8419 Train_Loss: 0.4435 Validation_Accuracy: 0.6697 Validation_Loss: 1.0274\n",
      "Epoch: 10 Total_Time: 3.4681 Average_Time_per_batch: 0.0089 Train_Accuracy: 0.8800 Train_Loss: 0.3355 Validation_Accuracy: 0.6678 Validation_Loss: 1.1478\n",
      "Epoch: 11 Total_Time: 3.5148 Average_Time_per_batch: 0.0090 Train_Accuracy: 0.9154 Train_Loss: 0.2420 Validation_Accuracy: 0.6699 Validation_Loss: 1.2781\n",
      "Epoch: 12 Total_Time: 3.4827 Average_Time_per_batch: 0.0089 Train_Accuracy: 0.9352 Train_Loss: 0.1810 Validation_Accuracy: 0.6742 Validation_Loss: 1.4036\n",
      "Epoch: 13 Total_Time: 3.2538 Average_Time_per_batch: 0.0083 Train_Accuracy: 0.9525 Train_Loss: 0.1351 Validation_Accuracy: 0.6552 Validation_Loss: 1.6092\n",
      "Epoch: 14 Total_Time: 3.4427 Average_Time_per_batch: 0.0088 Train_Accuracy: 0.9598 Train_Loss: 0.1153 Validation_Accuracy: 0.6609 Validation_Loss: 1.6063\n",
      "Epoch: 15 Total_Time: 3.4884 Average_Time_per_batch: 0.0089 Train_Accuracy: 0.9689 Train_Loss: 0.0880 Validation_Accuracy: 0.6697 Validation_Loss: 1.5834\n",
      "Test_Accuracy:  0.6697 Test_Loss:  1.583365362882614\n",
      "Peak GPU memory: 2036.01 MB\n"
     ]
    }
   ],
   "source": [
    "train_metrics_3, val_metrics_3, test_metrics_3 = train(model, train_loader, test_loader, test_loader, 15, optimizer, criterion, False)"
   ]
  },
  {
   "cell_type": "code",
   "execution_count": null,
   "id": "6ebd1699",
   "metadata": {},
   "outputs": [],
   "source": []
  }
 ],
 "metadata": {
  "kernelspec": {
   "display_name": "saroshgpu",
   "language": "python",
   "name": "python3"
  },
  "language_info": {
   "codemirror_mode": {
    "name": "ipython",
    "version": 3
   },
   "file_extension": ".py",
   "mimetype": "text/x-python",
   "name": "python",
   "nbconvert_exporter": "python",
   "pygments_lexer": "ipython3",
   "version": "3.9.21"
  }
 },
 "nbformat": 4,
 "nbformat_minor": 5
}
