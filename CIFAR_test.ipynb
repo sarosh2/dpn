{
 "cells": [
  {
   "cell_type": "code",
   "execution_count": 1,
   "id": "599b59e8",
   "metadata": {},
   "outputs": [],
   "source": [
    "import torch\n",
    "import torch.nn as nn\n",
    "import torch.optim as optim\n",
    "import torchvision\n",
    "import torchvision.transforms as transforms\n",
    "import torch.nn.functional as F"
   ]
  },
  {
   "cell_type": "code",
   "execution_count": 2,
   "id": "56feba47",
   "metadata": {},
   "outputs": [],
   "source": [
    "# Model definition\n",
    "class CIFAR10_MLP(nn.Module):\n",
    "    def __init__(self, input_dim=3*32*32, hidden_dims=[2048, 1024, 512, 256], num_classes=10, dropout=0.5):\n",
    "        super().__init__()\n",
    "        layers = []\n",
    "        prev_dim = input_dim\n",
    "        for hdim in hidden_dims:\n",
    "            layers.append(nn.Linear(prev_dim, hdim))\n",
    "            layers.append(nn.BatchNorm1d(hdim))\n",
    "            layers.append(nn.ReLU(inplace=True))\n",
    "            layers.append(nn.Dropout(dropout))\n",
    "            prev_dim = hdim\n",
    "        layers.append(nn.Linear(prev_dim, num_classes))\n",
    "        self.net = nn.Sequential(*layers)\n",
    "\n",
    "    def forward(self, x):\n",
    "        x = x.view(x.size(0), -1)  # flatten\n",
    "        return self.net(x)"
   ]
  },
  {
   "cell_type": "code",
   "execution_count": 3,
   "id": "332493c6",
   "metadata": {},
   "outputs": [
    {
     "name": "stdout",
     "output_type": "stream",
     "text": [
      "Files already downloaded and verified\n",
      "Files already downloaded and verified\n"
     ]
    }
   ],
   "source": [
    "device = torch.device('cuda' if torch.cuda.is_available() else 'cpu')\n",
    "\n",
    "# Data transforms: normalize CIFAR-10 images\n",
    "train_transform = transforms.Compose([\n",
    "    transforms.ToTensor(),\n",
    "    transforms.Normalize((0.4914, 0.4822, 0.4465), \n",
    "                         (0.247, 0.243, 0.261))\n",
    "])\n",
    "\n",
    "test_transform = transforms.Compose([\n",
    "    transforms.ToTensor(),\n",
    "    transforms.Normalize((0.4914, 0.4822, 0.4465), \n",
    "                         (0.247, 0.243, 0.261))\n",
    "])\n",
    "\n",
    "train_dataset = torchvision.datasets.CIFAR10(root='./data', train=True, download=True, transform=train_transform)\n",
    "test_dataset = torchvision.datasets.CIFAR10(root='./data', train=False, download=True, transform=test_transform)\n",
    "\n",
    "train_loader = torch.utils.data.DataLoader(train_dataset, batch_size=128, shuffle=True, num_workers=4)\n",
    "test_loader = torch.utils.data.DataLoader(test_dataset, batch_size=100, shuffle=False, num_workers=4)\n"
   ]
  },
  {
   "cell_type": "code",
   "execution_count": 4,
   "id": "cc7845b9",
   "metadata": {},
   "outputs": [],
   "source": [
    "model = CIFAR10_MLP().to(device)\n",
    "model = torch.jit.script(model)\n",
    "criterion = nn.CrossEntropyLoss()\n",
    "optimizer = optim.Adam(model.parameters())"
   ]
  },
  {
   "cell_type": "code",
   "execution_count": 5,
   "id": "39e9e88a",
   "metadata": {},
   "outputs": [
    {
     "name": "stdout",
     "output_type": "stream",
     "text": [
      "\n",
      "Epoch: 1 Total_Time: 1.8318 Average_Time_per_batch: 0.0047 Train_Accuracy: 0.3389 Train_Loss: 1.8259 \n",
      "Epoch: 2 Total_Time: 1.4124 Average_Time_per_batch: 0.0036 Train_Accuracy: 0.4258 Train_Loss: 1.6114 \n",
      "Epoch: 3 Total_Time: 1.4525 Average_Time_per_batch: 0.0037 Train_Accuracy: 0.4552 Train_Loss: 1.5294 \n",
      "Epoch: 4 Total_Time: 1.5381 Average_Time_per_batch: 0.0039 Train_Accuracy: 0.4751 Train_Loss: 1.4760 \n",
      "Epoch: 5 Total_Time: 1.4989 Average_Time_per_batch: 0.0038 Train_Accuracy: 0.4925 Train_Loss: 1.4283 \n",
      "Epoch: 6 Total_Time: 1.5655 Average_Time_per_batch: 0.0040 Train_Accuracy: 0.5060 Train_Loss: 1.3930 \n",
      "Epoch: 7 Total_Time: 1.4831 Average_Time_per_batch: 0.0038 Train_Accuracy: 0.5181 Train_Loss: 1.3593 \n",
      "Epoch: 8 Total_Time: 1.2191 Average_Time_per_batch: 0.0031 Train_Accuracy: 0.5284 Train_Loss: 1.3310 \n",
      "Epoch: 9 Total_Time: 1.4607 Average_Time_per_batch: 0.0037 Train_Accuracy: 0.5406 Train_Loss: 1.3025 \n",
      "Epoch: 10 Total_Time: 1.4466 Average_Time_per_batch: 0.0037 Train_Accuracy: 0.5453 Train_Loss: 1.2810 \n",
      "Epoch: 11 Total_Time: 1.3300 Average_Time_per_batch: 0.0034 Train_Accuracy: 0.5581 Train_Loss: 1.2553 \n",
      "Epoch: 12 Total_Time: 1.3296 Average_Time_per_batch: 0.0034 Train_Accuracy: 0.5629 Train_Loss: 1.2341 \n",
      "Epoch: 13 Total_Time: 1.4635 Average_Time_per_batch: 0.0037 Train_Accuracy: 0.5754 Train_Loss: 1.2078 \n",
      "Epoch: 14 Total_Time: 1.6447 Average_Time_per_batch: 0.0042 Train_Accuracy: 0.5808 Train_Loss: 1.1920 \n",
      "Epoch: 15 Total_Time: 1.6207 Average_Time_per_batch: 0.0041 Train_Accuracy: 0.5907 Train_Loss: 1.1655 \n",
      "Epoch: 16 Total_Time: 1.7378 Average_Time_per_batch: 0.0044 Train_Accuracy: 0.5950 Train_Loss: 1.1516 \n",
      "Epoch: 17 Total_Time: 1.3852 Average_Time_per_batch: 0.0035 Train_Accuracy: 0.6038 Train_Loss: 1.1239 \n",
      "Epoch: 18 Total_Time: 1.7093 Average_Time_per_batch: 0.0044 Train_Accuracy: 0.6091 Train_Loss: 1.1115 \n",
      "Epoch: 19 Total_Time: 1.6313 Average_Time_per_batch: 0.0042 Train_Accuracy: 0.6174 Train_Loss: 1.0855 \n",
      "Epoch: 20 Total_Time: 1.5857 Average_Time_per_batch: 0.0041 Train_Accuracy: 0.6252 Train_Loss: 1.0637 \n",
      "Epoch: 21 Total_Time: 1.7002 Average_Time_per_batch: 0.0043 Train_Accuracy: 0.6313 Train_Loss: 1.0526 \n",
      "Epoch: 22 Total_Time: 1.5832 Average_Time_per_batch: 0.0040 Train_Accuracy: 0.6375 Train_Loss: 1.0320 \n",
      "Epoch: 23 Total_Time: 1.5324 Average_Time_per_batch: 0.0039 Train_Accuracy: 0.6446 Train_Loss: 1.0141 \n",
      "Epoch: 24 Total_Time: 1.6231 Average_Time_per_batch: 0.0042 Train_Accuracy: 0.6533 Train_Loss: 0.9921 \n",
      "Epoch: 25 Total_Time: 1.3770 Average_Time_per_batch: 0.0035 Train_Accuracy: 0.6592 Train_Loss: 0.9705 \n",
      "Epoch: 26 Total_Time: 1.3630 Average_Time_per_batch: 0.0035 Train_Accuracy: 0.6640 Train_Loss: 0.9549 \n",
      "Epoch: 27 Total_Time: 1.3334 Average_Time_per_batch: 0.0034 Train_Accuracy: 0.6712 Train_Loss: 0.9388 \n",
      "Epoch: 28 Total_Time: 1.5409 Average_Time_per_batch: 0.0039 Train_Accuracy: 0.6772 Train_Loss: 0.9209 \n",
      "Epoch: 29 Total_Time: 1.3883 Average_Time_per_batch: 0.0036 Train_Accuracy: 0.6819 Train_Loss: 0.9073 \n",
      "Epoch: 30 Total_Time: 1.3344 Average_Time_per_batch: 0.0034 Train_Accuracy: 0.6892 Train_Loss: 0.8914 \n",
      "Test_Accuracy:  0.5957 Test_Loss:  1.1797263133525848\n",
      "Peak GPU memory: 200.21 MB\n"
     ]
    }
   ],
   "source": [
    "from utils import train\n",
    "\n",
    "train_metrics, val_metrics, test_metrics = train(model, train_loader, None, test_loader, 30, optimizer, criterion)"
   ]
  },
  {
   "cell_type": "code",
   "execution_count": 6,
   "id": "a58ffcf5",
   "metadata": {},
   "outputs": [],
   "source": [
    "from dpn_3.dpn import DPN as DPN_3\n",
    "    \n",
    "model_3 = DPN_3(3*32*32, 100, 10, True).cuda()\n",
    "#model_3.compile()"
   ]
  },
  {
   "cell_type": "code",
   "execution_count": 7,
   "id": "15773d0a",
   "metadata": {},
   "outputs": [],
   "source": [
    "model_3 = torch.jit.trace(model_3, torch.randn(128, 3*32*32).cuda())\n",
    "optimizer = optim.Adam(model_3.parameters())\n",
    "criterion = nn.CrossEntropyLoss()"
   ]
  },
  {
   "cell_type": "code",
   "execution_count": 8,
   "id": "f391ad48",
   "metadata": {},
   "outputs": [
    {
     "name": "stdout",
     "output_type": "stream",
     "text": [
      "\n",
      "Epoch: 1 Total_Time: 0.9127 Average_Time_per_batch: 0.0023 Train_Accuracy: 0.3932 Train_Loss: 1.7763 \n",
      "Epoch: 2 Total_Time: 0.7810 Average_Time_per_batch: 0.0020 Train_Accuracy: 0.4511 Train_Loss: 1.6003 \n",
      "Epoch: 3 Total_Time: 0.6335 Average_Time_per_batch: 0.0016 Train_Accuracy: 0.4834 Train_Loss: 1.5190 \n",
      "Epoch: 4 Total_Time: 0.7269 Average_Time_per_batch: 0.0019 Train_Accuracy: 0.5061 Train_Loss: 1.4398 \n",
      "Epoch: 5 Total_Time: 0.7443 Average_Time_per_batch: 0.0019 Train_Accuracy: 0.5210 Train_Loss: 1.4011 \n",
      "Epoch: 6 Total_Time: 0.6721 Average_Time_per_batch: 0.0017 Train_Accuracy: 0.5306 Train_Loss: 1.3735 \n",
      "Epoch: 7 Total_Time: 0.7428 Average_Time_per_batch: 0.0019 Train_Accuracy: 0.5445 Train_Loss: 1.3401 \n",
      "Epoch: 8 Total_Time: 0.6816 Average_Time_per_batch: 0.0017 Train_Accuracy: 0.5610 Train_Loss: 1.2827 \n",
      "Epoch: 9 Total_Time: 0.6778 Average_Time_per_batch: 0.0017 Train_Accuracy: 0.5719 Train_Loss: 1.2548 \n",
      "Epoch: 10 Total_Time: 0.7149 Average_Time_per_batch: 0.0018 Train_Accuracy: 0.5827 Train_Loss: 1.2318 \n",
      "Epoch: 11 Total_Time: 0.7475 Average_Time_per_batch: 0.0019 Train_Accuracy: 0.5865 Train_Loss: 1.2051 \n",
      "Epoch: 12 Total_Time: 0.6900 Average_Time_per_batch: 0.0018 Train_Accuracy: 0.5965 Train_Loss: 1.1816 \n",
      "Epoch: 13 Total_Time: 0.7417 Average_Time_per_batch: 0.0019 Train_Accuracy: 0.6027 Train_Loss: 1.1641 \n",
      "Epoch: 14 Total_Time: 0.7356 Average_Time_per_batch: 0.0019 Train_Accuracy: 0.6115 Train_Loss: 1.1352 \n",
      "Epoch: 15 Total_Time: 0.6908 Average_Time_per_batch: 0.0018 Train_Accuracy: 0.6199 Train_Loss: 1.1097 \n",
      "Epoch: 16 Total_Time: 0.7342 Average_Time_per_batch: 0.0019 Train_Accuracy: 0.6244 Train_Loss: 1.0980 \n",
      "Epoch: 17 Total_Time: 0.7466 Average_Time_per_batch: 0.0019 Train_Accuracy: 0.6299 Train_Loss: 1.0896 \n",
      "Epoch: 18 Total_Time: 0.6506 Average_Time_per_batch: 0.0017 Train_Accuracy: 0.6344 Train_Loss: 1.0712 \n",
      "Epoch: 19 Total_Time: 0.7679 Average_Time_per_batch: 0.0020 Train_Accuracy: 0.6406 Train_Loss: 1.0528 \n",
      "Epoch: 20 Total_Time: 0.6945 Average_Time_per_batch: 0.0018 Train_Accuracy: 0.6467 Train_Loss: 1.0263 \n",
      "Epoch: 21 Total_Time: 0.6243 Average_Time_per_batch: 0.0016 Train_Accuracy: 0.6527 Train_Loss: 1.0135 \n",
      "Epoch: 22 Total_Time: 0.7240 Average_Time_per_batch: 0.0019 Train_Accuracy: 0.6578 Train_Loss: 0.9998 \n",
      "Epoch: 23 Total_Time: 0.6511 Average_Time_per_batch: 0.0017 Train_Accuracy: 0.6600 Train_Loss: 0.9984 \n",
      "Epoch: 24 Total_Time: 0.6762 Average_Time_per_batch: 0.0017 Train_Accuracy: 0.6682 Train_Loss: 0.9729 \n",
      "Epoch: 25 Total_Time: 0.6715 Average_Time_per_batch: 0.0017 Train_Accuracy: 0.6713 Train_Loss: 0.9550 \n",
      "Epoch: 26 Total_Time: 0.6874 Average_Time_per_batch: 0.0018 Train_Accuracy: 0.6775 Train_Loss: 0.9435 \n",
      "Epoch: 27 Total_Time: 0.6788 Average_Time_per_batch: 0.0017 Train_Accuracy: 0.6791 Train_Loss: 0.9414 \n",
      "Epoch: 28 Total_Time: 0.7923 Average_Time_per_batch: 0.0020 Train_Accuracy: 0.6868 Train_Loss: 0.9194 \n",
      "Epoch: 29 Total_Time: 0.6499 Average_Time_per_batch: 0.0017 Train_Accuracy: 0.6925 Train_Loss: 0.8931 \n",
      "Epoch: 30 Total_Time: 0.7140 Average_Time_per_batch: 0.0018 Train_Accuracy: 0.6915 Train_Loss: 0.9028 \n",
      "Test_Accuracy:  0.4776 Test_Loss:  1.9904653000831605\n",
      "Peak GPU memory: 102.19 MB\n"
     ]
    }
   ],
   "source": [
    "train_metrics_3, val_metrics_3, test_metrics_3 = train(model_3, train_loader, None, test_loader, 30, optimizer, criterion)"
   ]
  },
  {
   "cell_type": "code",
   "execution_count": 9,
   "id": "6ac95b47",
   "metadata": {},
   "outputs": [],
   "source": [
    "import torch\n",
    "from torch import nn\n",
    "\n",
    "hidden_dims = [2048, 1024, 512, 256]\n",
    "total = sum(hidden_dims)\n",
    "\n",
    "blocks = len(hidden_dims)\n",
    "features = 3 * 32 * 32\n",
    "neural_blocks = []\n",
    "for dim in hidden_dims:\n",
    "    std_dev = torch.sqrt(torch.tensor(1 / features)).to(device)\n",
    "    neural_blocks.append(torch.randn(dim, features).to(device) * std_dev)\n",
    "    features += dim\n",
    "\n",
    "feature_blocks = []\n",
    "features_start = 0\n",
    "for i in range(len(neural_blocks)):\n",
    "    features_end = neural_blocks[i].shape[1]\n",
    "    block = neural_blocks[i][:, features_start:]\n",
    "    for j in range(i + 1, len(neural_blocks)):\n",
    "        block = torch.cat((block, neural_blocks[j][:, features_start:features_end]), dim=0)\n",
    "    feature_blocks.append(nn.Parameter(block))\n",
    "    features_start = features_end\n",
    "\n",
    "biases = biases = nn.Parameter(torch.empty(total).uniform_(0.0, 1.0)).to(device)"
   ]
  },
  {
   "cell_type": "code",
   "execution_count": 11,
   "id": "905fa918",
   "metadata": {},
   "outputs": [],
   "source": [
    "from dpn_2.dpn import DPN as DPN_2\n",
    "    \n",
    "model_2 = DPN_2(3*32*32, 500, 10, True).cuda()\n",
    "model_2.weights.extend(feature_blocks)\n",
    "model_2.biases = biases"
   ]
  },
  {
   "cell_type": "code",
   "execution_count": 12,
   "id": "42af8220",
   "metadata": {},
   "outputs": [],
   "source": [
    "#model_3 = torch.jit.trace(model_3, torch.randn(128, 3*32*32).cuda())\n",
    "optimizer = optim.Adam(model_2.parameters())\n",
    "criterion = nn.CrossEntropyLoss()"
   ]
  },
  {
   "cell_type": "code",
   "execution_count": 13,
   "id": "d26fab50",
   "metadata": {},
   "outputs": [
    {
     "name": "stdout",
     "output_type": "stream",
     "text": [
      "\n",
      "Epoch: 1 Total_Time: 1.5261 Average_Time_per_batch: 0.0039 Train_Accuracy: 0.3847 Train_Loss: 2.1045 \n",
      "Epoch: 2 Total_Time: 1.2521 Average_Time_per_batch: 0.0032 Train_Accuracy: 0.4489 Train_Loss: 1.7124 \n",
      "Epoch: 3 Total_Time: 1.5861 Average_Time_per_batch: 0.0041 Train_Accuracy: 0.4774 Train_Loss: 1.6420 \n",
      "Epoch: 4 Total_Time: 1.3246 Average_Time_per_batch: 0.0034 Train_Accuracy: 0.5030 Train_Loss: 1.5923 \n",
      "Epoch: 5 Total_Time: 1.4549 Average_Time_per_batch: 0.0037 Train_Accuracy: 0.5243 Train_Loss: 1.5507 \n",
      "Epoch: 6 Total_Time: 1.2767 Average_Time_per_batch: 0.0033 Train_Accuracy: 0.5440 Train_Loss: 1.5052 \n",
      "Epoch: 7 Total_Time: 1.3041 Average_Time_per_batch: 0.0033 Train_Accuracy: 0.5674 Train_Loss: 1.4457 \n",
      "Epoch: 8 Total_Time: 1.4317 Average_Time_per_batch: 0.0037 Train_Accuracy: 0.5884 Train_Loss: 1.4063 \n",
      "Epoch: 9 Total_Time: 1.3680 Average_Time_per_batch: 0.0035 Train_Accuracy: 0.6086 Train_Loss: 1.3488 \n",
      "Epoch: 10 Total_Time: 1.3129 Average_Time_per_batch: 0.0034 Train_Accuracy: 0.6263 Train_Loss: 1.2908 \n",
      "Epoch: 11 Total_Time: 1.5031 Average_Time_per_batch: 0.0038 Train_Accuracy: 0.6328 Train_Loss: 1.3455 \n",
      "Epoch: 12 Total_Time: 1.3211 Average_Time_per_batch: 0.0034 Train_Accuracy: 0.6522 Train_Loss: 1.2799 \n",
      "Epoch: 13 Total_Time: 1.4229 Average_Time_per_batch: 0.0036 Train_Accuracy: 0.6732 Train_Loss: 1.1899 \n",
      "Epoch: 14 Total_Time: 1.4180 Average_Time_per_batch: 0.0036 Train_Accuracy: 0.6828 Train_Loss: 1.2105 \n",
      "Epoch: 15 Total_Time: 1.4594 Average_Time_per_batch: 0.0037 Train_Accuracy: 0.6959 Train_Loss: 1.1628 \n",
      "Epoch: 16 Total_Time: 1.4148 Average_Time_per_batch: 0.0036 Train_Accuracy: 0.7195 Train_Loss: 1.0629 \n",
      "Epoch: 17 Total_Time: 1.3970 Average_Time_per_batch: 0.0036 Train_Accuracy: 0.7233 Train_Loss: 1.0998 \n",
      "Epoch: 18 Total_Time: 1.3598 Average_Time_per_batch: 0.0035 Train_Accuracy: 0.7328 Train_Loss: 1.1014 \n",
      "Epoch: 19 Total_Time: 1.4095 Average_Time_per_batch: 0.0036 Train_Accuracy: 0.7439 Train_Loss: 1.0701 \n",
      "Epoch: 20 Total_Time: 1.3122 Average_Time_per_batch: 0.0034 Train_Accuracy: 0.7565 Train_Loss: 1.0241 \n",
      "Epoch: 21 Total_Time: 1.3542 Average_Time_per_batch: 0.0035 Train_Accuracy: 0.7497 Train_Loss: 1.1420 \n",
      "Epoch: 22 Total_Time: 1.3850 Average_Time_per_batch: 0.0035 Train_Accuracy: 0.7805 Train_Loss: 0.9379 \n",
      "Epoch: 23 Total_Time: 1.3968 Average_Time_per_batch: 0.0036 Train_Accuracy: 0.7867 Train_Loss: 0.9213 \n",
      "Epoch: 24 Total_Time: 1.5466 Average_Time_per_batch: 0.0040 Train_Accuracy: 0.7900 Train_Loss: 0.9454 \n",
      "Epoch: 25 Total_Time: 1.4327 Average_Time_per_batch: 0.0037 Train_Accuracy: 0.7860 Train_Loss: 1.0084 \n",
      "Epoch: 26 Total_Time: 1.4420 Average_Time_per_batch: 0.0037 Train_Accuracy: 0.7944 Train_Loss: 0.9831 \n",
      "Epoch: 27 Total_Time: 1.5077 Average_Time_per_batch: 0.0039 Train_Accuracy: 0.8120 Train_Loss: 0.8637 \n",
      "Epoch: 28 Total_Time: 1.4016 Average_Time_per_batch: 0.0036 Train_Accuracy: 0.8091 Train_Loss: 0.9266 \n",
      "Epoch: 29 Total_Time: 1.4133 Average_Time_per_batch: 0.0036 Train_Accuracy: 0.8107 Train_Loss: 0.9594 \n",
      "Epoch: 30 Total_Time: 1.3858 Average_Time_per_batch: 0.0035 Train_Accuracy: 0.8207 Train_Loss: 0.9213 \n",
      "Epoch: 31 Total_Time: 1.4404 Average_Time_per_batch: 0.0037 Train_Accuracy: 0.8323 Train_Loss: 0.8451 \n",
      "Epoch: 32 Total_Time: 1.2479 Average_Time_per_batch: 0.0032 Train_Accuracy: 0.8348 Train_Loss: 0.8604 \n",
      "Epoch: 33 Total_Time: 1.5189 Average_Time_per_batch: 0.0039 Train_Accuracy: 0.8318 Train_Loss: 0.9082 \n",
      "Epoch: 34 Total_Time: 1.3781 Average_Time_per_batch: 0.0035 Train_Accuracy: 0.8415 Train_Loss: 0.8793 \n",
      "Epoch: 35 Total_Time: 1.3297 Average_Time_per_batch: 0.0034 Train_Accuracy: 0.8416 Train_Loss: 0.8978 \n",
      "Epoch: 36 Total_Time: 1.4157 Average_Time_per_batch: 0.0036 Train_Accuracy: 0.8548 Train_Loss: 0.8143 \n",
      "Epoch: 37 Total_Time: 1.3433 Average_Time_per_batch: 0.0034 Train_Accuracy: 0.8498 Train_Loss: 0.8835 \n",
      "Epoch: 38 Total_Time: 1.4171 Average_Time_per_batch: 0.0036 Train_Accuracy: 0.8606 Train_Loss: 0.7843 \n",
      "Epoch: 39 Total_Time: 1.4785 Average_Time_per_batch: 0.0038 Train_Accuracy: 0.8608 Train_Loss: 0.8315 \n",
      "Epoch: 40 Total_Time: 1.4354 Average_Time_per_batch: 0.0037 Train_Accuracy: 0.8597 Train_Loss: 0.8575 \n",
      "Epoch: 41 Total_Time: 1.3334 Average_Time_per_batch: 0.0034 Train_Accuracy: 0.8640 Train_Loss: 0.8418 \n",
      "Epoch: 42 Total_Time: 1.2971 Average_Time_per_batch: 0.0033 Train_Accuracy: 0.8725 Train_Loss: 0.7946 \n",
      "Epoch: 43 Total_Time: 1.3770 Average_Time_per_batch: 0.0035 Train_Accuracy: 0.8699 Train_Loss: 0.8303 \n",
      "Epoch: 44 Total_Time: 1.3171 Average_Time_per_batch: 0.0034 Train_Accuracy: 0.8791 Train_Loss: 0.7538 \n",
      "Epoch: 45 Total_Time: 1.4512 Average_Time_per_batch: 0.0037 Train_Accuracy: 0.8776 Train_Loss: 0.7919 \n",
      "Epoch: 46 Total_Time: 1.3607 Average_Time_per_batch: 0.0035 Train_Accuracy: 0.8823 Train_Loss: 0.7581 \n",
      "Epoch: 47 Total_Time: 1.5244 Average_Time_per_batch: 0.0039 Train_Accuracy: 0.8797 Train_Loss: 0.8154 \n",
      "Epoch: 48 Total_Time: 1.5849 Average_Time_per_batch: 0.0041 Train_Accuracy: 0.8921 Train_Loss: 0.7106 \n",
      "Epoch: 49 Total_Time: 1.4175 Average_Time_per_batch: 0.0036 Train_Accuracy: 0.8839 Train_Loss: 0.8227 \n",
      "Epoch: 50 Total_Time: 1.4641 Average_Time_per_batch: 0.0037 Train_Accuracy: 0.8885 Train_Loss: 0.7787 \n",
      "Test_Accuracy:  0.5072 Test_Loss:  8.964492688179016\n",
      "Peak GPU memory: 498.62 MB\n"
     ]
    }
   ],
   "source": [
    "from utils import train\n",
    "train_metrics_3, val_metrics_3, test_metrics_3 = train(model_2, train_loader, None, test_loader, 50, optimizer, criterion)"
   ]
  },
  {
   "cell_type": "code",
   "execution_count": 14,
   "id": "01702460",
   "metadata": {},
   "outputs": [],
   "source": [
    "class ResNetMLP(nn.Module):\n",
    "    def __init__(self, num_classes=10, mlp_hidden=256):\n",
    "        super().__init__()\n",
    "        # Load ResNet18 (pretrained=False for CIFAR10, since ImageNet weights use 224x224)\n",
    "        backbone = torchvision.models.resnet18(weights=None)\n",
    "        # Change input conv layer for CIFAR-10 (3x32x32)\n",
    "        backbone.conv1 = nn.Conv2d(3, 64, kernel_size=3, stride=1, padding=1, bias=False)\n",
    "        backbone.maxpool = nn.Identity()  # Remove the first maxpool\n",
    "        # Extract up to the last layer\n",
    "        self.backbone = nn.Sequential(*list(backbone.children())[:-1])  # Remove FC\n",
    "        self.mlp = nn.Sequential(\n",
    "            nn.Linear(512, mlp_hidden),\n",
    "            nn.BatchNorm1d(mlp_hidden),\n",
    "            nn.ReLU(),\n",
    "            nn.Dropout(0.4),\n",
    "            nn.Linear(mlp_hidden, num_classes)\n",
    "        )\n",
    "\n",
    "    def forward(self, x):\n",
    "        x = self.backbone(x)  # [B, 512, 1, 1]\n",
    "        x = x.view(x.size(0), -1)  # Flatten\n",
    "        x = self.mlp(x)\n",
    "        return x"
   ]
  },
  {
   "cell_type": "code",
   "execution_count": 15,
   "id": "2679f857",
   "metadata": {},
   "outputs": [],
   "source": [
    "# --- 1. Data Augmentation and Loading ---\n",
    "train_transform = transforms.Compose([\n",
    "    transforms.RandomCrop(32, padding=4),\n",
    "    transforms.RandomHorizontalFlip(),\n",
    "    transforms.ToTensor(),\n",
    "    transforms.Normalize((0.4914, 0.4822, 0.4465),\n",
    "                         (0.247, 0.243, 0.261))\n",
    "])\n",
    "\n",
    "test_transform = transforms.Compose([\n",
    "    transforms.ToTensor(),\n",
    "    transforms.Normalize((0.4914, 0.4822, 0.4465),\n",
    "                         (0.247, 0.243, 0.261))\n",
    "])\n"
   ]
  },
  {
   "cell_type": "code",
   "execution_count": 16,
   "id": "b9b5a3e6",
   "metadata": {},
   "outputs": [
    {
     "name": "stdout",
     "output_type": "stream",
     "text": [
      "Files already downloaded and verified\n",
      "Files already downloaded and verified\n"
     ]
    }
   ],
   "source": [
    "train_dataset = torchvision.datasets.CIFAR10(root='./data', train=True, download=True, transform=train_transform)\n",
    "test_dataset = torchvision.datasets.CIFAR10(root='./data', train=False, download=True, transform=test_transform)\n",
    "\n",
    "train_loader = torch.utils.data.DataLoader(train_dataset, batch_size=128, shuffle=True, num_workers=4)\n",
    "test_loader = torch.utils.data.DataLoader(test_dataset, batch_size=100, shuffle=False, num_workers=4)\n"
   ]
  },
  {
   "cell_type": "code",
   "execution_count": 20,
   "id": "6e50cf32",
   "metadata": {},
   "outputs": [],
   "source": [
    "model = ResNetMLP(num_classes=10, mlp_hidden=256).to(device)\n",
    "optimizer = optim.Adam(model.parameters(), lr=1e-3)\n",
    "criterion = nn.CrossEntropyLoss()"
   ]
  },
  {
   "cell_type": "code",
   "execution_count": 21,
   "id": "a4a63a26",
   "metadata": {},
   "outputs": [
    {
     "name": "stdout",
     "output_type": "stream",
     "text": [
      "\n",
      "Epoch: 1 Total_Time: 5.6274 Average_Time_per_batch: 0.0144 Train_Accuracy: 0.4585 Train_Loss: 1.4709 \n",
      "Epoch: 2 Total_Time: 5.6231 Average_Time_per_batch: 0.0144 Train_Accuracy: 0.6430 Train_Loss: 1.0057 \n",
      "Epoch: 3 Total_Time: 5.7164 Average_Time_per_batch: 0.0146 Train_Accuracy: 0.7265 Train_Loss: 0.7889 \n",
      "Epoch: 4 Total_Time: 5.6963 Average_Time_per_batch: 0.0146 Train_Accuracy: 0.7708 Train_Loss: 0.6546 \n",
      "Epoch: 5 Total_Time: 5.5621 Average_Time_per_batch: 0.0142 Train_Accuracy: 0.8076 Train_Loss: 0.5594 \n",
      "Epoch: 6 Total_Time: 5.6155 Average_Time_per_batch: 0.0144 Train_Accuracy: 0.8303 Train_Loss: 0.5002 \n",
      "Epoch: 7 Total_Time: 5.1917 Average_Time_per_batch: 0.0133 Train_Accuracy: 0.8515 Train_Loss: 0.4420 \n",
      "Epoch: 8 Total_Time: 5.3789 Average_Time_per_batch: 0.0138 Train_Accuracy: 0.8640 Train_Loss: 0.3998 \n",
      "Epoch: 9 Total_Time: 5.6819 Average_Time_per_batch: 0.0145 Train_Accuracy: 0.8735 Train_Loss: 0.3713 \n",
      "Epoch: 10 Total_Time: 5.7081 Average_Time_per_batch: 0.0146 Train_Accuracy: 0.8851 Train_Loss: 0.3412 \n",
      "Epoch: 11 Total_Time: 5.6778 Average_Time_per_batch: 0.0145 Train_Accuracy: 0.8918 Train_Loss: 0.3176 \n",
      "Epoch: 12 Total_Time: 5.6763 Average_Time_per_batch: 0.0145 Train_Accuracy: 0.9003 Train_Loss: 0.2924 \n",
      "Epoch: 13 Total_Time: 5.6770 Average_Time_per_batch: 0.0145 Train_Accuracy: 0.9097 Train_Loss: 0.2673 \n",
      "Epoch: 14 Total_Time: 5.7171 Average_Time_per_batch: 0.0146 Train_Accuracy: 0.9127 Train_Loss: 0.2541 \n",
      "Epoch: 15 Total_Time: 5.6834 Average_Time_per_batch: 0.0145 Train_Accuracy: 0.9196 Train_Loss: 0.2353 \n",
      "Epoch: 16 Total_Time: 5.7089 Average_Time_per_batch: 0.0146 Train_Accuracy: 0.9259 Train_Loss: 0.2172 \n",
      "Epoch: 17 Total_Time: 5.7246 Average_Time_per_batch: 0.0146 Train_Accuracy: 0.9295 Train_Loss: 0.2060 \n",
      "Epoch: 18 Total_Time: 5.6866 Average_Time_per_batch: 0.0145 Train_Accuracy: 0.9333 Train_Loss: 0.1926 \n",
      "Epoch: 19 Total_Time: 5.7013 Average_Time_per_batch: 0.0146 Train_Accuracy: 0.9378 Train_Loss: 0.1785 \n",
      "Epoch: 20 Total_Time: 5.6826 Average_Time_per_batch: 0.0145 Train_Accuracy: 0.9432 Train_Loss: 0.1676 \n",
      "Epoch: 21 Total_Time: 5.7045 Average_Time_per_batch: 0.0146 Train_Accuracy: 0.9482 Train_Loss: 0.1508 \n",
      "Epoch: 22 Total_Time: 5.7422 Average_Time_per_batch: 0.0147 Train_Accuracy: 0.9490 Train_Loss: 0.1506 \n",
      "Epoch: 23 Total_Time: 5.7085 Average_Time_per_batch: 0.0146 Train_Accuracy: 0.9507 Train_Loss: 0.1410 \n",
      "Epoch: 24 Total_Time: 5.6422 Average_Time_per_batch: 0.0144 Train_Accuracy: 0.9554 Train_Loss: 0.1273 \n",
      "Epoch: 25 Total_Time: 5.6388 Average_Time_per_batch: 0.0144 Train_Accuracy: 0.9566 Train_Loss: 0.1259 \n",
      "Epoch: 26 Total_Time: 5.3078 Average_Time_per_batch: 0.0136 Train_Accuracy: 0.9590 Train_Loss: 0.1164 \n",
      "Epoch: 27 Total_Time: 5.5578 Average_Time_per_batch: 0.0142 Train_Accuracy: 0.9627 Train_Loss: 0.1083 \n",
      "Epoch: 28 Total_Time: 5.7674 Average_Time_per_batch: 0.0148 Train_Accuracy: 0.9628 Train_Loss: 0.1055 \n",
      "Epoch: 29 Total_Time: 5.6385 Average_Time_per_batch: 0.0144 Train_Accuracy: 0.9650 Train_Loss: 0.0999 \n",
      "Epoch: 30 Total_Time: 5.6598 Average_Time_per_batch: 0.0145 Train_Accuracy: 0.9668 Train_Loss: 0.0956 \n",
      "Test_Accuracy:  0.9131 Test_Loss:  0.3188006604462862\n",
      "Peak GPU memory: 1213.65 MB\n"
     ]
    }
   ],
   "source": [
    "train_metrics_3, val_metrics_3, test_metrics_3 = train(model, train_loader, None, test_loader, 30, optimizer, criterion, False)"
   ]
  },
  {
   "cell_type": "code",
   "execution_count": 23,
   "id": "47dfa19d",
   "metadata": {},
   "outputs": [],
   "source": [
    "class ResNetDPN(nn.Module):\n",
    "    def __init__(self, num_classes=10, mlp_hidden=256):\n",
    "        super().__init__()\n",
    "        # Load ResNet18 (pretrained=False for CIFAR10, since ImageNet weights use 224x224)\n",
    "        backbone = torchvision.models.resnet18(weights=None)\n",
    "        # Change input conv layer for CIFAR-10 (3x32x32)\n",
    "        backbone.conv1 = nn.Conv2d(3, 64, kernel_size=3, stride=1, padding=1, bias=False)\n",
    "        backbone.maxpool = nn.Identity()  # Remove the first maxpool\n",
    "        # Extract up to the last layer\n",
    "        self.backbone = nn.Sequential(*list(backbone.children())[:-1])  # Remove FC\n",
    "        self.dpn = DPN_3(512, mlp_hidden + num_classes, num_classes, True).cuda()\n",
    "\n",
    "    def forward(self, x):\n",
    "        x = self.backbone(x)  # [B, 512, 1, 1]\n",
    "        x = x.view(x.size(0), -1)  # Flatten\n",
    "        x = self.dpn(x)\n",
    "        return x"
   ]
  },
  {
   "cell_type": "code",
   "execution_count": 24,
   "id": "7f50a468",
   "metadata": {},
   "outputs": [],
   "source": [
    "model = ResNetDPN(num_classes=10, mlp_hidden=256).to(device)\n",
    "optimizer = optim.Adam(model.parameters(), lr=1e-3)\n",
    "criterion = nn.CrossEntropyLoss()"
   ]
  },
  {
   "cell_type": "code",
   "execution_count": 25,
   "id": "03a3fabc",
   "metadata": {},
   "outputs": [
    {
     "name": "stdout",
     "output_type": "stream",
     "text": [
      "\n",
      "Epoch: 1 Total_Time: 5.5823 Average_Time_per_batch: 0.0143 Train_Accuracy: 0.5086 Train_Loss: 1.3449 \n",
      "Epoch: 2 Total_Time: 5.5892 Average_Time_per_batch: 0.0143 Train_Accuracy: 0.6929 Train_Loss: 0.8650 \n",
      "Epoch: 3 Total_Time: 5.4887 Average_Time_per_batch: 0.0140 Train_Accuracy: 0.7638 Train_Loss: 0.6749 \n",
      "Epoch: 4 Total_Time: 5.5511 Average_Time_per_batch: 0.0142 Train_Accuracy: 0.8030 Train_Loss: 0.5693 \n",
      "Epoch: 5 Total_Time: 5.4835 Average_Time_per_batch: 0.0140 Train_Accuracy: 0.8288 Train_Loss: 0.4959 \n",
      "Epoch: 6 Total_Time: 5.4471 Average_Time_per_batch: 0.0139 Train_Accuracy: 0.8487 Train_Loss: 0.4391 \n",
      "Epoch: 7 Total_Time: 5.6113 Average_Time_per_batch: 0.0144 Train_Accuracy: 0.8639 Train_Loss: 0.3940 \n",
      "Epoch: 8 Total_Time: 5.6505 Average_Time_per_batch: 0.0145 Train_Accuracy: 0.8756 Train_Loss: 0.3593 \n",
      "Epoch: 9 Total_Time: 5.5383 Average_Time_per_batch: 0.0142 Train_Accuracy: 0.8852 Train_Loss: 0.3281 \n",
      "Epoch: 10 Total_Time: 5.6667 Average_Time_per_batch: 0.0145 Train_Accuracy: 0.8953 Train_Loss: 0.3048 \n",
      "Epoch: 11 Total_Time: 4.9597 Average_Time_per_batch: 0.0127 Train_Accuracy: 0.9041 Train_Loss: 0.2769 \n",
      "Epoch: 12 Total_Time: 5.1073 Average_Time_per_batch: 0.0131 Train_Accuracy: 0.9112 Train_Loss: 0.2560 \n",
      "Epoch: 13 Total_Time: 5.2413 Average_Time_per_batch: 0.0134 Train_Accuracy: 0.9158 Train_Loss: 0.2425 \n",
      "Epoch: 14 Total_Time: 5.2476 Average_Time_per_batch: 0.0134 Train_Accuracy: 0.9228 Train_Loss: 0.2197 \n",
      "Epoch: 15 Total_Time: 5.5640 Average_Time_per_batch: 0.0142 Train_Accuracy: 0.9300 Train_Loss: 0.2038 \n",
      "Epoch: 16 Total_Time: 5.5743 Average_Time_per_batch: 0.0143 Train_Accuracy: 0.9312 Train_Loss: 0.1930 \n",
      "Epoch: 17 Total_Time: 5.5310 Average_Time_per_batch: 0.0141 Train_Accuracy: 0.9368 Train_Loss: 0.1784 \n",
      "Epoch: 18 Total_Time: 5.5497 Average_Time_per_batch: 0.0142 Train_Accuracy: 0.9398 Train_Loss: 0.1700 \n",
      "Epoch: 19 Total_Time: 5.6252 Average_Time_per_batch: 0.0144 Train_Accuracy: 0.9455 Train_Loss: 0.1552 \n",
      "Epoch: 20 Total_Time: 5.2469 Average_Time_per_batch: 0.0134 Train_Accuracy: 0.9501 Train_Loss: 0.1446 \n",
      "Epoch: 21 Total_Time: 5.5282 Average_Time_per_batch: 0.0141 Train_Accuracy: 0.9513 Train_Loss: 0.1365 \n",
      "Epoch: 22 Total_Time: 5.4639 Average_Time_per_batch: 0.0140 Train_Accuracy: 0.9560 Train_Loss: 0.1257 \n",
      "Epoch: 23 Total_Time: 5.2575 Average_Time_per_batch: 0.0134 Train_Accuracy: 0.9570 Train_Loss: 0.1187 \n",
      "Epoch: 24 Total_Time: 5.5617 Average_Time_per_batch: 0.0142 Train_Accuracy: 0.9591 Train_Loss: 0.1143 \n",
      "Epoch: 25 Total_Time: 5.5814 Average_Time_per_batch: 0.0143 Train_Accuracy: 0.9637 Train_Loss: 0.1046 \n",
      "Epoch: 26 Total_Time: 5.2538 Average_Time_per_batch: 0.0134 Train_Accuracy: 0.9659 Train_Loss: 0.0956 \n",
      "Epoch: 27 Total_Time: 5.6044 Average_Time_per_batch: 0.0143 Train_Accuracy: 0.9647 Train_Loss: 0.0972 \n",
      "Epoch: 28 Total_Time: 5.6048 Average_Time_per_batch: 0.0143 Train_Accuracy: 0.9694 Train_Loss: 0.0865 \n",
      "Epoch: 29 Total_Time: 5.5725 Average_Time_per_batch: 0.0143 Train_Accuracy: 0.9694 Train_Loss: 0.0878 \n",
      "Epoch: 30 Total_Time: 5.5748 Average_Time_per_batch: 0.0143 Train_Accuracy: 0.9701 Train_Loss: 0.0844 \n",
      "Test_Accuracy:  0.9125 Test_Loss:  0.3467816114425659\n",
      "Peak GPU memory: 1216.51 MB\n"
     ]
    }
   ],
   "source": [
    "train_metrics_3, val_metrics_3, test_metrics_3 = train(model, train_loader, None, test_loader, 30, optimizer, criterion, False)"
   ]
  },
  {
   "cell_type": "code",
   "execution_count": 30,
   "id": "9ccd742a",
   "metadata": {},
   "outputs": [],
   "source": [
    "in_channels = 3                # change to 3 if you use CIFAR10 dataset\n",
    "image_size = 32                # change to 32 if you use CIFAR10 dataset\n",
    "num_classes = 10\n",
    "\n",
    "lr = 4e-3\n",
    "batch_size = 128\n",
    "num_epochs = 10\n",
    "\n",
    "patch_size = 16         # Each patch is 16x16, so 2x2 = 4 patches per image\n",
    "hidden_dim = 768        # Token-mixing MLP hidden dim (formerly token_dim)\n",
    "tokens_mlp_dim = 384    # Tokens MLP dim\n",
    "channels_mlp_dim = 3072 # Channels MLP dim\n",
    "num_blocks = 12         # Number of Mixer layers"
   ]
  },
  {
   "cell_type": "code",
   "execution_count": null,
   "id": "4552c641",
   "metadata": {},
   "outputs": [],
   "source": [
    "from MLP_Mixer import MLPMixer\n",
    "model = MLPMixer(in_channels=in_channels, embedding_dim=channels_mlp_dim, num_classes=num_classes, patch_size=patch_size, image_size=image_size, depth=num_blocks, token_intermediate_dim=hidden_dim, channel_intermediate_dim=hidden_dim).to(device)\n",
    "optimizer = optim.Adam(model.parameters(), lr=lr)\n",
    "criterion = nn.CrossEntropyLoss()"
   ]
  },
  {
   "cell_type": "code",
   "execution_count": 29,
   "id": "dcae98fc",
   "metadata": {},
   "outputs": [
    {
     "name": "stdout",
     "output_type": "stream",
     "text": [
      "\n",
      "Epoch: 1 Total_Time: 4.5273 Average_Time_per_batch: 0.0116 Train_Accuracy: 0.3963 Train_Loss: 1.6372 \n",
      "Epoch: 2 Total_Time: 4.9346 Average_Time_per_batch: 0.0126 Train_Accuracy: 0.5283 Train_Loss: 1.3032 \n",
      "Epoch: 3 Total_Time: 5.3406 Average_Time_per_batch: 0.0137 Train_Accuracy: 0.5836 Train_Loss: 1.1585 \n",
      "Epoch: 4 Total_Time: 4.8848 Average_Time_per_batch: 0.0125 Train_Accuracy: 0.6168 Train_Loss: 1.0675 \n",
      "Epoch: 5 Total_Time: 5.5522 Average_Time_per_batch: 0.0142 Train_Accuracy: 0.6409 Train_Loss: 1.0070 \n",
      "Epoch: 6 Total_Time: 4.5546 Average_Time_per_batch: 0.0116 Train_Accuracy: 0.6599 Train_Loss: 0.9537 \n",
      "Epoch: 7 Total_Time: 4.5335 Average_Time_per_batch: 0.0116 Train_Accuracy: 0.6769 Train_Loss: 0.9060 \n",
      "Epoch: 8 Total_Time: 5.0597 Average_Time_per_batch: 0.0129 Train_Accuracy: 0.6912 Train_Loss: 0.8665 \n",
      "Epoch: 9 Total_Time: 5.4838 Average_Time_per_batch: 0.0140 Train_Accuracy: 0.7042 Train_Loss: 0.8396 \n",
      "Epoch: 10 Total_Time: 4.9908 Average_Time_per_batch: 0.0128 Train_Accuracy: 0.7130 Train_Loss: 0.8081 \n",
      "Epoch: 11 Total_Time: 4.5998 Average_Time_per_batch: 0.0118 Train_Accuracy: 0.7228 Train_Loss: 0.7812 \n",
      "Epoch: 12 Total_Time: 4.4020 Average_Time_per_batch: 0.0113 Train_Accuracy: 0.7351 Train_Loss: 0.7482 \n",
      "Epoch: 13 Total_Time: 4.0129 Average_Time_per_batch: 0.0103 Train_Accuracy: 0.7421 Train_Loss: 0.7294 \n",
      "Epoch: 14 Total_Time: 5.8955 Average_Time_per_batch: 0.0151 Train_Accuracy: 0.7488 Train_Loss: 0.7075 \n",
      "Epoch: 15 Total_Time: 4.7175 Average_Time_per_batch: 0.0121 Train_Accuracy: 0.7567 Train_Loss: 0.6848 \n",
      "Epoch: 16 Total_Time: 6.1080 Average_Time_per_batch: 0.0156 Train_Accuracy: 0.7629 Train_Loss: 0.6669 \n",
      "Epoch: 17 Total_Time: 3.9609 Average_Time_per_batch: 0.0101 Train_Accuracy: 0.7699 Train_Loss: 0.6506 \n",
      "Epoch: 18 Total_Time: 4.2041 Average_Time_per_batch: 0.0108 Train_Accuracy: 0.7729 Train_Loss: 0.6340 \n",
      "Epoch: 19 Total_Time: 5.1307 Average_Time_per_batch: 0.0131 Train_Accuracy: 0.7799 Train_Loss: 0.6202 \n",
      "Epoch: 20 Total_Time: 3.8350 Average_Time_per_batch: 0.0098 Train_Accuracy: 0.7861 Train_Loss: 0.6041 \n",
      "Epoch: 21 Total_Time: 5.0154 Average_Time_per_batch: 0.0128 Train_Accuracy: 0.7918 Train_Loss: 0.5910 \n",
      "Epoch: 22 Total_Time: 5.1320 Average_Time_per_batch: 0.0131 Train_Accuracy: 0.7966 Train_Loss: 0.5764 \n",
      "Epoch: 23 Total_Time: 4.4720 Average_Time_per_batch: 0.0114 Train_Accuracy: 0.7994 Train_Loss: 0.5615 \n",
      "Epoch: 24 Total_Time: 5.1684 Average_Time_per_batch: 0.0132 Train_Accuracy: 0.8051 Train_Loss: 0.5500 \n",
      "Epoch: 25 Total_Time: 5.8716 Average_Time_per_batch: 0.0150 Train_Accuracy: 0.8061 Train_Loss: 0.5424 \n",
      "Epoch: 26 Total_Time: 5.3691 Average_Time_per_batch: 0.0137 Train_Accuracy: 0.8158 Train_Loss: 0.5211 \n",
      "Epoch: 27 Total_Time: 4.3621 Average_Time_per_batch: 0.0112 Train_Accuracy: 0.8164 Train_Loss: 0.5166 \n",
      "Epoch: 28 Total_Time: 5.6561 Average_Time_per_batch: 0.0145 Train_Accuracy: 0.8205 Train_Loss: 0.5071 \n",
      "Epoch: 29 Total_Time: 5.6849 Average_Time_per_batch: 0.0145 Train_Accuracy: 0.8247 Train_Loss: 0.4920 \n",
      "Epoch: 30 Total_Time: 4.1410 Average_Time_per_batch: 0.0106 Train_Accuracy: 0.8256 Train_Loss: 0.4871 \n",
      "Test_Accuracy:  0.7736 Test_Loss:  0.682289534509182\n",
      "Peak GPU memory: 732.72 MB\n"
     ]
    }
   ],
   "source": [
    "train_metrics_3, val_metrics_3, test_metrics_3 = train(model, train_loader, None, test_loader, 30, optimizer, criterion, False)"
   ]
  },
  {
   "cell_type": "code",
   "execution_count": null,
   "id": "714a5663",
   "metadata": {},
   "outputs": [],
   "source": []
  }
 ],
 "metadata": {
  "kernelspec": {
   "display_name": "saroshgpu",
   "language": "python",
   "name": "python3"
  },
  "language_info": {
   "codemirror_mode": {
    "name": "ipython",
    "version": 3
   },
   "file_extension": ".py",
   "mimetype": "text/x-python",
   "name": "python",
   "nbconvert_exporter": "python",
   "pygments_lexer": "ipython3",
   "version": "3.9.21"
  }
 },
 "nbformat": 4,
 "nbformat_minor": 5
}
