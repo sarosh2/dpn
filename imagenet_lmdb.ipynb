{
 "cells": [
  {
   "cell_type": "code",
   "execution_count": 1,
   "id": "d15cfb6c",
   "metadata": {},
   "outputs": [
    {
     "name": "stdout",
     "output_type": "stream",
     "text": [
      "Requirement already satisfied: lmdb in /ediss_data/ediss4/sarosh/anaconda3/envs/saroshgpu/lib/python3.9/site-packages (1.6.2)\n",
      "Note: you may need to restart the kernel to use updated packages.\n"
     ]
    }
   ],
   "source": [
    "pip install lmdb\n"
   ]
  },
  {
   "cell_type": "code",
   "execution_count": 2,
   "id": "31967548",
   "metadata": {},
   "outputs": [],
   "source": [
    "import lmdb\n",
    "import os\n",
    "import pandas as pd\n",
    "from PIL import Image\n",
    "import io\n",
    "import random"
   ]
  },
  {
   "cell_type": "code",
   "execution_count": 3,
   "id": "76e0e81e",
   "metadata": {},
   "outputs": [],
   "source": [
    "data_dir = 'data/imagenet_dataset'\n",
    "train_dir = os.path.join(data_dir, 'ILSVRC/Data/CLS-LOC/train')\n",
    "val_dir = os.path.join(data_dir, 'ILSVRC/Data/CLS-LOC/val')\n",
    "mapping_file = os.path.join(data_dir, 'LOC_synset_mapping.txt')\n",
    "val_solution_file = os.path.join(data_dir, 'LOC_val_solution.csv')"
   ]
  },
  {
   "cell_type": "code",
   "execution_count": 4,
   "id": "cb56cae6",
   "metadata": {},
   "outputs": [],
   "source": [
    "# Load the label mapping from LOC_synset_mapping.txt\n",
    "def load_label_mapping(mapping_file):\n",
    "    wnid_to_idx = {}\n",
    "    with open(mapping_file, 'r') as f:\n",
    "        lines = f.readlines()\n",
    "        for idx, line in enumerate(lines):\n",
    "            wnid = line.strip().split()[0]\n",
    "            wnid_to_idx[wnid] = idx\n",
    "    return wnid_to_idx\n"
   ]
  },
  {
   "cell_type": "code",
   "execution_count": 5,
   "id": "b7d82a70",
   "metadata": {},
   "outputs": [],
   "source": [
    "def image_to_bytes(image_path):\n",
    "    with Image.open(image_path) as img:\n",
    "        if img.mode != 'RGB':\n",
    "            img = img.convert('RGB')  # Force conversion to RGB\n",
    "        img = img.resize((224, 224))\n",
    "        buffer = io.BytesIO()\n",
    "        img.save(buffer, format='JPEG')\n",
    "        return buffer.getvalue()\n",
    "\n",
    "def create_lmdb(dataset, lmdb_path, map_size=200 * 1024**3):\n",
    "    env = lmdb.open(lmdb_path, map_size=map_size)\n",
    "    with env.begin(write=True) as txn:\n",
    "        for idx, (image_path, label) in enumerate(dataset):\n",
    "            key_img = f'image-{idx:09d}'.encode()\n",
    "            key_label = f'label-{idx:09d}'.encode()\n",
    "\n",
    "            img_bytes = image_to_bytes(image_path)\n",
    "            txn.put(key_img, img_bytes)\n",
    "            txn.put(key_label, str(label).encode())\n",
    "\n",
    "            if idx % 25000 == 0:\n",
    "                print(f\"Stored {idx} images\")\n",
    "    env.close()\n",
    "    print(f\"Finished creating LMDB at {lmdb_path}\")\n"
   ]
  },
  {
   "cell_type": "code",
   "execution_count": 6,
   "id": "fcbff7c1",
   "metadata": {},
   "outputs": [],
   "source": [
    "# Prepare label mappings\n",
    "wnid_to_label = load_label_mapping(mapping_file)"
   ]
  },
  {
   "cell_type": "code",
   "execution_count": 7,
   "id": "69a7e1bc",
   "metadata": {},
   "outputs": [],
   "source": [
    "# Train LMDB creation (shuffled)\n",
    "train_images_labels = []\n",
    "for wnid in os.listdir(train_dir):\n",
    "    wnid_folder = os.path.join(train_dir, wnid)\n",
    "    if os.path.isdir(wnid_folder):\n",
    "        label = wnid_to_label[wnid]\n",
    "        for img_file in os.listdir(wnid_folder):\n",
    "            img_path = os.path.join(wnid_folder, img_file)\n",
    "            train_images_labels.append((img_path, label))"
   ]
  },
  {
   "cell_type": "code",
   "execution_count": null,
   "id": "bef4acd7",
   "metadata": {},
   "outputs": [
    {
     "name": "stdout",
     "output_type": "stream",
     "text": [
      "Stored 0 images\n",
      "Stored 25000 images\n",
      "Stored 50000 images\n"
     ]
    },
    {
     "ename": "KeyboardInterrupt",
     "evalue": "",
     "output_type": "error",
     "traceback": [
      "\u001b[0;31m---------------------------------------------------------------------------\u001b[0m",
      "\u001b[0;31mKeyboardInterrupt\u001b[0m                         Traceback (most recent call last)",
      "Cell \u001b[0;32mIn[8], line 2\u001b[0m\n\u001b[1;32m      1\u001b[0m random\u001b[38;5;241m.\u001b[39mshuffle(train_images_labels)  \u001b[38;5;66;03m# Don't group same wnids together\u001b[39;00m\n\u001b[0;32m----> 2\u001b[0m \u001b[43mcreate_lmdb\u001b[49m\u001b[43m(\u001b[49m\u001b[43mtrain_images_labels\u001b[49m\u001b[43m,\u001b[49m\u001b[43m \u001b[49m\u001b[43mos\u001b[49m\u001b[38;5;241;43m.\u001b[39;49m\u001b[43mpath\u001b[49m\u001b[38;5;241;43m.\u001b[39;49m\u001b[43mjoin\u001b[49m\u001b[43m(\u001b[49m\u001b[43mdata_dir\u001b[49m\u001b[43m,\u001b[49m\u001b[43m \u001b[49m\u001b[38;5;124;43m'\u001b[39;49m\u001b[38;5;124;43mimagenet_train.lmdb\u001b[39;49m\u001b[38;5;124;43m'\u001b[39;49m\u001b[43m)\u001b[49m\u001b[43m)\u001b[49m\n",
      "Cell \u001b[0;32mIn[5], line 17\u001b[0m, in \u001b[0;36mcreate_lmdb\u001b[0;34m(dataset, lmdb_path, map_size)\u001b[0m\n\u001b[1;32m     14\u001b[0m key_img \u001b[38;5;241m=\u001b[39m \u001b[38;5;124mf\u001b[39m\u001b[38;5;124m'\u001b[39m\u001b[38;5;124mimage-\u001b[39m\u001b[38;5;132;01m{\u001b[39;00midx\u001b[38;5;132;01m:\u001b[39;00m\u001b[38;5;124m09d\u001b[39m\u001b[38;5;132;01m}\u001b[39;00m\u001b[38;5;124m'\u001b[39m\u001b[38;5;241m.\u001b[39mencode()\n\u001b[1;32m     15\u001b[0m key_label \u001b[38;5;241m=\u001b[39m \u001b[38;5;124mf\u001b[39m\u001b[38;5;124m'\u001b[39m\u001b[38;5;124mlabel-\u001b[39m\u001b[38;5;132;01m{\u001b[39;00midx\u001b[38;5;132;01m:\u001b[39;00m\u001b[38;5;124m09d\u001b[39m\u001b[38;5;132;01m}\u001b[39;00m\u001b[38;5;124m'\u001b[39m\u001b[38;5;241m.\u001b[39mencode()\n\u001b[0;32m---> 17\u001b[0m img_bytes \u001b[38;5;241m=\u001b[39m \u001b[43mimage_to_bytes\u001b[49m\u001b[43m(\u001b[49m\u001b[43mimage_path\u001b[49m\u001b[43m)\u001b[49m\n\u001b[1;32m     18\u001b[0m txn\u001b[38;5;241m.\u001b[39mput(key_img, img_bytes)\n\u001b[1;32m     19\u001b[0m txn\u001b[38;5;241m.\u001b[39mput(key_label, \u001b[38;5;28mstr\u001b[39m(label)\u001b[38;5;241m.\u001b[39mencode())\n",
      "Cell \u001b[0;32mIn[5], line 5\u001b[0m, in \u001b[0;36mimage_to_bytes\u001b[0;34m(image_path)\u001b[0m\n\u001b[1;32m      3\u001b[0m \u001b[38;5;28;01mif\u001b[39;00m img\u001b[38;5;241m.\u001b[39mmode \u001b[38;5;241m!=\u001b[39m \u001b[38;5;124m'\u001b[39m\u001b[38;5;124mRGB\u001b[39m\u001b[38;5;124m'\u001b[39m:\n\u001b[1;32m      4\u001b[0m     img \u001b[38;5;241m=\u001b[39m img\u001b[38;5;241m.\u001b[39mconvert(\u001b[38;5;124m'\u001b[39m\u001b[38;5;124mRGB\u001b[39m\u001b[38;5;124m'\u001b[39m)  \u001b[38;5;66;03m# Force conversion to RGB\u001b[39;00m\n\u001b[0;32m----> 5\u001b[0m img \u001b[38;5;241m=\u001b[39m \u001b[43mimg\u001b[49m\u001b[38;5;241;43m.\u001b[39;49m\u001b[43mresize\u001b[49m\u001b[43m(\u001b[49m\u001b[43m(\u001b[49m\u001b[38;5;241;43m224\u001b[39;49m\u001b[43m,\u001b[49m\u001b[43m \u001b[49m\u001b[38;5;241;43m224\u001b[39;49m\u001b[43m)\u001b[49m\u001b[43m)\u001b[49m\n\u001b[1;32m      6\u001b[0m buffer \u001b[38;5;241m=\u001b[39m io\u001b[38;5;241m.\u001b[39mBytesIO()\n\u001b[1;32m      7\u001b[0m img\u001b[38;5;241m.\u001b[39msave(buffer, \u001b[38;5;28mformat\u001b[39m\u001b[38;5;241m=\u001b[39m\u001b[38;5;124m'\u001b[39m\u001b[38;5;124mJPEG\u001b[39m\u001b[38;5;124m'\u001b[39m)\n",
      "File \u001b[0;32m/ediss_data/ediss4/sarosh/anaconda3/envs/saroshgpu/lib/python3.9/site-packages/PIL/Image.py:2365\u001b[0m, in \u001b[0;36mImage.resize\u001b[0;34m(self, size, resample, box, reducing_gap)\u001b[0m\n\u001b[1;32m   2353\u001b[0m         \u001b[38;5;28mself\u001b[39m \u001b[38;5;241m=\u001b[39m (\n\u001b[1;32m   2354\u001b[0m             \u001b[38;5;28mself\u001b[39m\u001b[38;5;241m.\u001b[39mreduce(factor, box\u001b[38;5;241m=\u001b[39mreduce_box)\n\u001b[1;32m   2355\u001b[0m             \u001b[38;5;28;01mif\u001b[39;00m \u001b[38;5;28mcallable\u001b[39m(\u001b[38;5;28mself\u001b[39m\u001b[38;5;241m.\u001b[39mreduce)\n\u001b[1;32m   2356\u001b[0m             \u001b[38;5;28;01melse\u001b[39;00m Image\u001b[38;5;241m.\u001b[39mreduce(\u001b[38;5;28mself\u001b[39m, factor, box\u001b[38;5;241m=\u001b[39mreduce_box)\n\u001b[1;32m   2357\u001b[0m         )\n\u001b[1;32m   2358\u001b[0m         box \u001b[38;5;241m=\u001b[39m (\n\u001b[1;32m   2359\u001b[0m             (box[\u001b[38;5;241m0\u001b[39m] \u001b[38;5;241m-\u001b[39m reduce_box[\u001b[38;5;241m0\u001b[39m]) \u001b[38;5;241m/\u001b[39m factor_x,\n\u001b[1;32m   2360\u001b[0m             (box[\u001b[38;5;241m1\u001b[39m] \u001b[38;5;241m-\u001b[39m reduce_box[\u001b[38;5;241m1\u001b[39m]) \u001b[38;5;241m/\u001b[39m factor_y,\n\u001b[1;32m   2361\u001b[0m             (box[\u001b[38;5;241m2\u001b[39m] \u001b[38;5;241m-\u001b[39m reduce_box[\u001b[38;5;241m0\u001b[39m]) \u001b[38;5;241m/\u001b[39m factor_x,\n\u001b[1;32m   2362\u001b[0m             (box[\u001b[38;5;241m3\u001b[39m] \u001b[38;5;241m-\u001b[39m reduce_box[\u001b[38;5;241m1\u001b[39m]) \u001b[38;5;241m/\u001b[39m factor_y,\n\u001b[1;32m   2363\u001b[0m         )\n\u001b[0;32m-> 2365\u001b[0m \u001b[38;5;28;01mreturn\u001b[39;00m \u001b[38;5;28mself\u001b[39m\u001b[38;5;241m.\u001b[39m_new(\u001b[38;5;28;43mself\u001b[39;49m\u001b[38;5;241;43m.\u001b[39;49m\u001b[43mim\u001b[49m\u001b[38;5;241;43m.\u001b[39;49m\u001b[43mresize\u001b[49m\u001b[43m(\u001b[49m\u001b[43msize\u001b[49m\u001b[43m,\u001b[49m\u001b[43m \u001b[49m\u001b[43mresample\u001b[49m\u001b[43m,\u001b[49m\u001b[43m \u001b[49m\u001b[43mbox\u001b[49m\u001b[43m)\u001b[49m)\n",
      "\u001b[0;31mKeyboardInterrupt\u001b[0m: "
     ]
    },
    {
     "ename": "",
     "evalue": "",
     "output_type": "error",
     "traceback": [
      "\u001b[1;31mThe Kernel crashed while executing code in the current cell or a previous cell. \n",
      "\u001b[1;31mPlease review the code in the cell(s) to identify a possible cause of the failure. \n",
      "\u001b[1;31mClick <a href='https://aka.ms/vscodeJupyterKernelCrash'>here</a> for more info. \n",
      "\u001b[1;31mView Jupyter <a href='command:jupyter.viewOutput'>log</a> for further details."
     ]
    }
   ],
   "source": [
    "random.shuffle(train_images_labels)  # Don't group same wnids together\n",
    "create_lmdb(train_images_labels, os.path.join(data_dir, 'imagenet_train.lmdb'))"
   ]
  },
  {
   "cell_type": "code",
   "execution_count": null,
   "id": "2cde512f",
   "metadata": {},
   "outputs": [],
   "source": [
    "\n",
    "# Load the validation annotations from LOC_val_solution.csv\n",
    "def load_val_annotations():\n",
    "    val_annotations = pd.read_csv(val_solution_file)\n",
    "    val_annotations['PredictionString'] = val_annotations['PredictionString'].apply(lambda x: x.split()[0])\n",
    "    val_images_labels = []\n",
    "    for _, row in val_annotations.iterrows():\n",
    "        img_path = os.path.join(val_dir, row['ImageId'] + '.JPEG')\n",
    "        label = wnid_to_label[row['PredictionString']]\n",
    "        val_images_labels.append((img_path, label))\n",
    "    return val_images_labels"
   ]
  },
  {
   "cell_type": "code",
   "execution_count": null,
   "id": "40334455",
   "metadata": {},
   "outputs": [
    {
     "name": "stdout",
     "output_type": "stream",
     "text": [
      "Stored 0 images\n",
      "Stored 25000 images\n",
      "Finished creating LMDB at data/imagenet_dataset/imagenet_val.lmdb\n"
     ]
    }
   ],
   "source": [
    "create_lmdb(load_val_annotations(), os.path.join(data_dir, 'imagenet_val.lmdb'))"
   ]
  },
  {
   "cell_type": "code",
   "execution_count": null,
   "id": "3fb69f08",
   "metadata": {},
   "outputs": [],
   "source": []
  }
 ],
 "metadata": {
  "kernelspec": {
   "display_name": "saroshgpu",
   "language": "python",
   "name": "python3"
  },
  "language_info": {
   "codemirror_mode": {
    "name": "ipython",
    "version": 3
   },
   "file_extension": ".py",
   "mimetype": "text/x-python",
   "name": "python",
   "nbconvert_exporter": "python",
   "pygments_lexer": "ipython3",
   "version": "3.9.21"
  }
 },
 "nbformat": 4,
 "nbformat_minor": 5
}
