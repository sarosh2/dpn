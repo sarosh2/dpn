{
 "cells": [
  {
   "cell_type": "code",
   "execution_count": 1,
   "id": "0306969d",
   "metadata": {},
   "outputs": [],
   "source": [
    "import torch\n",
    "import torch.nn as nn\n",
    "import torch.optim as optim\n",
    "from torch.utils.data import Dataset, DataLoader\n",
    "import numpy as np\n",
    "import openml\n",
    "from sklearn.model_selection import train_test_split\n",
    "from sklearn.preprocessing import StandardScaler, LabelEncoder\n"
   ]
  },
  {
   "cell_type": "code",
   "execution_count": 2,
   "id": "a82085e1",
   "metadata": {},
   "outputs": [],
   "source": [
    "np.random.seed(42)  # Set the seed for NumPy\n",
    "\n",
    "# Set the seed for PyTorch (CPU and GPU)\n",
    "torch.manual_seed(42)\n",
    "\n",
    "# If you're using CUDA (GPU), set the seed for CUDA as well\n",
    "torch.cuda.manual_seed(42)\n",
    "torch.cuda.manual_seed_all(42)  # For all GPUs (if you have more than one)"
   ]
  },
  {
   "cell_type": "code",
   "execution_count": 3,
   "id": "2818e0a7",
   "metadata": {},
   "outputs": [],
   "source": [
    "# 1. Download the dataset (OpenML: id 180)\n",
    "dataset = openml.datasets.get_dataset(180)\n",
    "X, y, _, _ = dataset.get_data(target=dataset.default_target_attribute, dataset_format='dataframe')"
   ]
  },
  {
   "cell_type": "code",
   "execution_count": 4,
   "id": "23ec84df",
   "metadata": {},
   "outputs": [],
   "source": [
    "# 2. Preprocessing: Numeric features only, standardize, encode labels (classes are 1-7)\n",
    "X_numeric = X.select_dtypes(include=[np.number])\n",
    "\n",
    "scaler = StandardScaler()\n",
    "X_scaled = scaler.fit_transform(X_numeric.values.astype(np.float32))\n",
    "\n",
    "le = LabelEncoder()\n",
    "y_encoded = le.fit_transform(y)  # Converts to 0...6\n",
    "y_encoded = y_encoded.astype(np.int64)"
   ]
  },
  {
   "cell_type": "code",
   "execution_count": 5,
   "id": "b0047603",
   "metadata": {},
   "outputs": [],
   "source": [
    "# 3. Train/test split\n",
    "X_train, X_test, y_train, y_test = train_test_split(X_scaled, y_encoded, test_size=0.2, random_state=42)"
   ]
  },
  {
   "cell_type": "code",
   "execution_count": 6,
   "id": "173b4d79",
   "metadata": {},
   "outputs": [],
   "source": [
    "# 4. PyTorch Dataset\n",
    "class CovertypeDataset(Dataset):\n",
    "    def __init__(self, X, y):\n",
    "        self.X = torch.from_numpy(X)\n",
    "        self.y = torch.from_numpy(y)\n",
    "    def __len__(self):\n",
    "        return len(self.X)\n",
    "    def __getitem__(self, idx):\n",
    "        return self.X[idx], self.y[idx]\n",
    "\n",
    "train_ds = CovertypeDataset(X_train, y_train)\n",
    "test_ds = CovertypeDataset(X_test, y_test)\n",
    "\n",
    "train_loader = DataLoader(train_ds, batch_size=256, shuffle=False)\n",
    "test_loader = DataLoader(test_ds, batch_size=256)"
   ]
  },
  {
   "cell_type": "code",
   "execution_count": 7,
   "id": "e64776f1",
   "metadata": {},
   "outputs": [],
   "source": [
    "from dpn_4.dpn import DPN\n",
    "device = torch.device('cuda' if torch.cuda.is_available() else 'cpu')\n",
    "model = DPN(X_train.shape[1], 192 + len(le.classes_), len(le.classes_), False).to(device)\n",
    "model.compile()"
   ]
  },
  {
   "cell_type": "code",
   "execution_count": 8,
   "id": "e3300343",
   "metadata": {},
   "outputs": [],
   "source": [
    "# 6. Training setup\n",
    "criterion = nn.CrossEntropyLoss()\n",
    "optimizer = optim.Adam(model.parameters(), lr=1e-3)"
   ]
  },
  {
   "cell_type": "code",
   "execution_count": 9,
   "id": "f8d763bf",
   "metadata": {},
   "outputs": [],
   "source": [
    "from utils import train\n",
    "\n",
    "model = model\n",
    "train_loader = train_loader\n",
    "val_loader = test_loader\n",
    "optimizer = optimizer\n",
    "criterion = criterion\n",
    "device = device\n",
    "\n",
    "percent = 0.99\n",
    "rounds = 100"
   ]
  },
  {
   "cell_type": "code",
   "execution_count": 10,
   "id": "116a26d6",
   "metadata": {},
   "outputs": [],
   "source": [
    "def prune_by_percent_once(percent, mask, final_weight):\n",
    "    # Get the absolute values of weights where mask == 1\n",
    "    masked_weights = final_weight[mask == 1].abs()\n",
    "\n",
    "    # Sort the unmasked weights\n",
    "    sorted_weights, _ = torch.sort(masked_weights)\n",
    "    if sorted_weights.shape[0] != 0:\n",
    "        # Determine the cutoff index for pruning\n",
    "        cutoff_index = int(round(percent * sorted_weights.shape[0]))\n",
    "        cutoff = sorted_weights[cutoff_index]\n",
    "\n",
    "        # Prune all weights below or equal to the cutoff\n",
    "        if torch.rand(1).item() < 0.3:\n",
    "            new_mask = torch.where(final_weight.abs() <= cutoff, torch.zeros_like(mask), mask)\n",
    "        else:\n",
    "            for i in range(final_weight.shape[0]):\n",
    "                tensor = final_weight[i]\n",
    "                last_nonzero_index = torch.nonzero(tensor)\n",
    "                if len(last_nonzero_index) > 0:\n",
    "                    last_nonzero_index = last_nonzero_index[-1].item()\n",
    "                    if final_weight[i, last_nonzero_index].abs() <= cutoff:\n",
    "                        mask[i, last_nonzero_index] = 0\n",
    "                    \n",
    "            new_mask = mask\n",
    "    else:\n",
    "        new_mask = mask\n",
    "\n",
    "    return new_mask"
   ]
  },
  {
   "cell_type": "code",
   "execution_count": 11,
   "id": "79293df0",
   "metadata": {},
   "outputs": [],
   "source": [
    "def prune_by_percent(model, masks, percent):\n",
    "\n",
    "    blocks = model.weights\n",
    "    for i in range(len(blocks)):\n",
    "        masks[i] = prune_by_percent_once(percent, masks[i], blocks[i])\n",
    "\n",
    "    return masks"
   ]
  },
  {
   "cell_type": "code",
   "execution_count": 12,
   "id": "5fb7e3e8",
   "metadata": {},
   "outputs": [],
   "source": [
    "def clean_weights(weights, size_limit):\n",
    "    zero_indices = [i + size_limit for i, t in enumerate(weights) if torch.all(t == 0)]\n",
    "    print(zero_indices)\n",
    "\n",
    "\n",
    "    while len(zero_indices) > 0:\n",
    "        weights = [t for t in weights if not torch.all(t == 0)]\n",
    "\n",
    "        for i in range(len(weights)):\n",
    "            tensor = weights[i]\n",
    "            columns_to_keep = [i for i in range(tensor.shape[1]) if i not in zero_indices]\n",
    "            weights[i] = tensor[:, columns_to_keep]\n",
    "\n",
    "        zero_indices = [i + size_limit for i, t in enumerate(weights) if torch.all(t == 0)]\n",
    "        print(zero_indices)\n",
    "\n",
    "    return weights"
   ]
  },
  {
   "cell_type": "code",
   "execution_count": 13,
   "id": "b5186850",
   "metadata": {},
   "outputs": [],
   "source": [
    "def merge_weights(weights, size_limit):\n",
    "    merged_weights = []\n",
    "    start_idx = 0\n",
    "    for i in range(1, len(weights)):\n",
    "        nonzero_idx = torch.nonzero(weights[i])[-1][1].item()\n",
    "\n",
    "        if nonzero_idx >= size_limit:\n",
    "\n",
    "            merged_weights.append(torch.cat([t[:, :size_limit] for t in weights[start_idx:i]], dim=0))\n",
    "            \n",
    "            size_limit = weights[i].shape[1]\n",
    "            start_idx = i\n",
    "\n",
    "    merged_weights.append(torch.cat([t[:, :size_limit] for t in weights[start_idx:]], dim=0))\n",
    "    return merged_weights"
   ]
  },
  {
   "cell_type": "code",
   "execution_count": 14,
   "id": "2630aa33",
   "metadata": {},
   "outputs": [],
   "source": [
    "original_weights = [param.clone().detach() for param in model.weights]\n",
    "current_masks = [torch.ones_like(param) for param in original_weights]\n",
    "p_per_round = 1 - (1 - percent) ** (1 / rounds)\n",
    "final_weights = [param.clone().detach() for param in model.weights]"
   ]
  },
  {
   "cell_type": "code",
   "execution_count": 15,
   "id": "26a5ef89",
   "metadata": {},
   "outputs": [
    {
     "name": "stdout",
     "output_type": "stream",
     "text": [
      "\n",
      "Epoch: 1 Total_Time: 19.1718 Average_Time_per_batch: 0.0556 Train_Accuracy: 0.6576 Train_Loss: 0.9413 Validation_Accuracy: 0.6929 Validation_Loss: 0.8268\n",
      "Epoch: 2 Total_Time: 18.9288 Average_Time_per_batch: 0.0549 Train_Accuracy: 0.6980 Train_Loss: 0.8217 Validation_Accuracy: 0.7055 Validation_Loss: 0.7944\n",
      "Epoch: 3 Total_Time: 18.7201 Average_Time_per_batch: 0.0543 Train_Accuracy: 0.7119 Train_Loss: 0.7927 Validation_Accuracy: 0.7196 Validation_Loss: 0.7718\n",
      "Epoch: 4 Total_Time: 18.2614 Average_Time_per_batch: 0.0529 Train_Accuracy: 0.7235 Train_Loss: 0.7711 Validation_Accuracy: 0.7289 Validation_Loss: 0.7562\n",
      "Epoch: 5 Total_Time: 18.6905 Average_Time_per_batch: 0.0542 Train_Accuracy: 0.7329 Train_Loss: 0.7529 Validation_Accuracy: 0.7368 Validation_Loss: 0.7401Peak GPU memory: 18.96 MB\n"
     ]
    }
   ],
   "source": [
    "_, val_metrics = train(model, train_loader, val_loader, 5, optimizer, criterion, device=device)\n",
    "val_accuracy = val_metrics[-1][1]"
   ]
  },
  {
   "cell_type": "code",
   "execution_count": 16,
   "id": "47665139",
   "metadata": {},
   "outputs": [
    {
     "name": "stdout",
     "output_type": "stream",
     "text": [
      "[]\n"
     ]
    },
    {
     "name": "stdout",
     "output_type": "stream",
     "text": [
      "\n",
      "Epoch: 1 Total_Time: 17.4940 Average_Time_per_batch: 0.0507 Train_Accuracy: 0.6586 Train_Loss: 0.9402 Validation_Accuracy: 0.6939 Validation_Loss: 0.8227\n",
      "Epoch: 2 Total_Time: 17.1883 Average_Time_per_batch: 0.0498 Train_Accuracy: 0.6998 Train_Loss: 0.8202 Validation_Accuracy: 0.7078 Validation_Loss: 0.7869\n",
      "Epoch: 3 Total_Time: 18.6190 Average_Time_per_batch: 0.0540 Train_Accuracy: 0.7142 Train_Loss: 0.7885 Validation_Accuracy: 0.7182 Validation_Loss: 0.7676\n",
      "Epoch: 4 Total_Time: 18.8510 Average_Time_per_batch: 0.0546 Train_Accuracy: 0.7262 Train_Loss: 0.7645 Validation_Accuracy: 0.7304 Validation_Loss: 0.7490\n",
      "Epoch: 5 Total_Time: 18.6797 Average_Time_per_batch: 0.0541 Train_Accuracy: 0.7371 Train_Loss: 0.7448 Validation_Accuracy: 0.7405 Validation_Loss: 0.7343Peak GPU memory: 19.09 MB\n",
      "[]\n",
      "\n",
      "Epoch: 1 Total_Time: 17.8787 Average_Time_per_batch: 0.0518 Train_Accuracy: 0.6598 Train_Loss: 0.9300 Validation_Accuracy: 0.6958 Validation_Loss: 0.8199\n",
      "Epoch: 2 Total_Time: 18.4796 Average_Time_per_batch: 0.0536 Train_Accuracy: 0.7026 Train_Loss: 0.8163 Validation_Accuracy: 0.7113 Validation_Loss: 0.7860\n",
      "Epoch: 3 Total_Time: 17.7783 Average_Time_per_batch: 0.0515 Train_Accuracy: 0.7166 Train_Loss: 0.7871 Validation_Accuracy: 0.7264 Validation_Loss: 0.7632\n",
      "Epoch: 4 Total_Time: 17.7638 Average_Time_per_batch: 0.0515 Train_Accuracy: 0.7268 Train_Loss: 0.7655 Validation_Accuracy: 0.7352 Validation_Loss: 0.7455\n",
      "Epoch: 5 Total_Time: 18.3384 Average_Time_per_batch: 0.0532 Train_Accuracy: 0.7345 Train_Loss: 0.7491 Validation_Accuracy: 0.7421 Validation_Loss: 0.7324Peak GPU memory: 19.05 MB\n",
      "[]\n",
      "\n",
      "Epoch: 1 Total_Time: 18.3626 Average_Time_per_batch: 0.0532 Train_Accuracy: 0.6614 Train_Loss: 0.9311 Validation_Accuracy: 0.6922 Validation_Loss: 0.8243\n",
      "Epoch: 2 Total_Time: 18.3513 Average_Time_per_batch: 0.0532 Train_Accuracy: 0.7000 Train_Loss: 0.8183 Validation_Accuracy: 0.7051 Validation_Loss: 0.7924\n",
      "Epoch: 3 Total_Time: 18.0400 Average_Time_per_batch: 0.0523 Train_Accuracy: 0.7150 Train_Loss: 0.7876 Validation_Accuracy: 0.7216 Validation_Loss: 0.7655\n",
      "Epoch: 4 Total_Time: 18.2393 Average_Time_per_batch: 0.0529 Train_Accuracy: 0.7280 Train_Loss: 0.7639 Validation_Accuracy: 0.7321 Validation_Loss: 0.7467\n",
      "Epoch: 5 Total_Time: 18.3895 Average_Time_per_batch: 0.0533 Train_Accuracy: 0.7374 Train_Loss: 0.7453 Validation_Accuracy: 0.7421 Validation_Loss: 0.7335Peak GPU memory: 19.02 MB\n",
      "[]\n",
      "\n",
      "Epoch: 1 Total_Time: 17.7688 Average_Time_per_batch: 0.0515 Train_Accuracy: 0.6637 Train_Loss: 0.9302 Validation_Accuracy: 0.6984 Validation_Loss: 0.8162\n",
      "Epoch: 2 Total_Time: 17.7734 Average_Time_per_batch: 0.0515 Train_Accuracy: 0.7032 Train_Loss: 0.8132 Validation_Accuracy: 0.7136 Validation_Loss: 0.7814\n",
      "Epoch: 3 Total_Time: 17.5988 Average_Time_per_batch: 0.0510 Train_Accuracy: 0.7180 Train_Loss: 0.7826 Validation_Accuracy: 0.7272 Validation_Loss: 0.7608\n",
      "Epoch: 4 Total_Time: 17.7821 Average_Time_per_batch: 0.0515 Train_Accuracy: 0.7288 Train_Loss: 0.7593 Validation_Accuracy: 0.7355 Validation_Loss: 0.7461\n",
      "Epoch: 5 Total_Time: 17.7944 Average_Time_per_batch: 0.0516 Train_Accuracy: 0.7394 Train_Loss: 0.7415 Validation_Accuracy: 0.7426 Validation_Loss: 0.7337Peak GPU memory: 19.00 MB\n",
      "[]\n",
      "\n",
      "Epoch: 1 Total_Time: 17.3115 Average_Time_per_batch: 0.0502 Train_Accuracy: 0.6667 Train_Loss: 0.9183 Validation_Accuracy: 0.6984 Validation_Loss: 0.8136\n",
      "Epoch: 2 Total_Time: 17.4841 Average_Time_per_batch: 0.0507 Train_Accuracy: 0.7052 Train_Loss: 0.8098 Validation_Accuracy: 0.7180 Validation_Loss: 0.7768\n",
      "Epoch: 3 Total_Time: 17.3358 Average_Time_per_batch: 0.0502 Train_Accuracy: 0.7221 Train_Loss: 0.7780 Validation_Accuracy: 0.7315 Validation_Loss: 0.7554\n",
      "Epoch: 4 Total_Time: 17.5047 Average_Time_per_batch: 0.0507 Train_Accuracy: 0.7335 Train_Loss: 0.7543 Validation_Accuracy: 0.7385 Validation_Loss: 0.7389\n",
      "Epoch: 5 Total_Time: 17.5198 Average_Time_per_batch: 0.0508 Train_Accuracy: 0.7420 Train_Loss: 0.7366 Validation_Accuracy: 0.7431 Validation_Loss: 0.7263Peak GPU memory: 18.99 MB\n",
      "[]\n",
      "\n",
      "Epoch: 1 Total_Time: 17.2613 Average_Time_per_batch: 0.0500 Train_Accuracy: 0.6634 Train_Loss: 0.9325 Validation_Accuracy: 0.6998 Validation_Loss: 0.8121\n",
      "Epoch: 2 Total_Time: 17.4964 Average_Time_per_batch: 0.0507 Train_Accuracy: 0.7040 Train_Loss: 0.8109 Validation_Accuracy: 0.7144 Validation_Loss: 0.7788\n",
      "Epoch: 3 Total_Time: 17.1378 Average_Time_per_batch: 0.0497 Train_Accuracy: 0.7180 Train_Loss: 0.7804 Validation_Accuracy: 0.7240 Validation_Loss: 0.7574\n",
      "Epoch: 4 Total_Time: 17.2564 Average_Time_per_batch: 0.0500 Train_Accuracy: 0.7301 Train_Loss: 0.7576 Validation_Accuracy: 0.7349 Validation_Loss: 0.7411\n",
      "Epoch: 5 Total_Time: 17.2758 Average_Time_per_batch: 0.0501 Train_Accuracy: 0.7390 Train_Loss: 0.7398 Validation_Accuracy: 0.7437 Validation_Loss: 0.7290Peak GPU memory: 18.98 MB\n",
      "[]\n",
      "\n",
      "Epoch: 1 Total_Time: 16.7192 Average_Time_per_batch: 0.0485 Train_Accuracy: 0.6651 Train_Loss: 0.9254 Validation_Accuracy: 0.6972 Validation_Loss: 0.8129\n",
      "Epoch: 2 Total_Time: 16.7259 Average_Time_per_batch: 0.0485 Train_Accuracy: 0.7051 Train_Loss: 0.8096 Validation_Accuracy: 0.7137 Validation_Loss: 0.7782\n",
      "Epoch: 3 Total_Time: 16.8158 Average_Time_per_batch: 0.0487 Train_Accuracy: 0.7196 Train_Loss: 0.7797 Validation_Accuracy: 0.7301 Validation_Loss: 0.7543\n",
      "Epoch: 4 Total_Time: 16.8686 Average_Time_per_batch: 0.0489 Train_Accuracy: 0.7317 Train_Loss: 0.7569 Validation_Accuracy: 0.7388 Validation_Loss: 0.7356\n",
      "Epoch: 5 Total_Time: 17.2131 Average_Time_per_batch: 0.0499 Train_Accuracy: 0.7397 Train_Loss: 0.7384 Validation_Accuracy: 0.7459 Validation_Loss: 0.7253Peak GPU memory: 18.97 MB\n",
      "[]\n",
      "\n",
      "Epoch: 1 Total_Time: 16.9514 Average_Time_per_batch: 0.0491 Train_Accuracy: 0.6713 Train_Loss: 0.8978 Validation_Accuracy: 0.6998 Validation_Loss: 0.8097\n",
      "Epoch: 2 Total_Time: 16.9127 Average_Time_per_batch: 0.0490 Train_Accuracy: 0.7054 Train_Loss: 0.8061 Validation_Accuracy: 0.7162 Validation_Loss: 0.7749\n",
      "Epoch: 3 Total_Time: 16.8487 Average_Time_per_batch: 0.0488 Train_Accuracy: 0.7188 Train_Loss: 0.7767 Validation_Accuracy: 0.7303 Validation_Loss: 0.7541\n",
      "Epoch: 4 Total_Time: 16.6640 Average_Time_per_batch: 0.0483 Train_Accuracy: 0.7306 Train_Loss: 0.7554 Validation_Accuracy: 0.7386 Validation_Loss: 0.7382\n",
      "Epoch: 5 Total_Time: 17.0950 Average_Time_per_batch: 0.0496 Train_Accuracy: 0.7406 Train_Loss: 0.7375 Validation_Accuracy: 0.7466 Validation_Loss: 0.7252Peak GPU memory: 18.97 MB\n",
      "[]\n",
      "\n",
      "Epoch: 1 Total_Time: 16.9160 Average_Time_per_batch: 0.0490 Train_Accuracy: 0.6732 Train_Loss: 0.8961 Validation_Accuracy: 0.6984 Validation_Loss: 0.8082\n",
      "Epoch: 2 Total_Time: 15.9824 Average_Time_per_batch: 0.0463 Train_Accuracy: 0.7078 Train_Loss: 0.8033 Validation_Accuracy: 0.7150 Validation_Loss: 0.7759\n",
      "Epoch: 3 Total_Time: 15.8521 Average_Time_per_batch: 0.0459 Train_Accuracy: 0.7228 Train_Loss: 0.7746 Validation_Accuracy: 0.7300 Validation_Loss: 0.7507\n",
      "Epoch: 4 Total_Time: 17.0499 Average_Time_per_batch: 0.0494 Train_Accuracy: 0.7334 Train_Loss: 0.7524 Validation_Accuracy: 0.7409 Validation_Loss: 0.7336\n",
      "Epoch: 5 Total_Time: 16.7882 Average_Time_per_batch: 0.0487 Train_Accuracy: 0.7430 Train_Loss: 0.7349 Validation_Accuracy: 0.7447 Validation_Loss: 0.7222Peak GPU memory: 18.96 MB\n",
      "[]\n",
      "\n",
      "Epoch: 1 Total_Time: 16.8091 Average_Time_per_batch: 0.0487 Train_Accuracy: 0.6727 Train_Loss: 0.8954 Validation_Accuracy: 0.7009 Validation_Loss: 0.8111\n",
      "Epoch: 2 Total_Time: 16.7065 Average_Time_per_batch: 0.0484 Train_Accuracy: 0.7082 Train_Loss: 0.8024 Validation_Accuracy: 0.7157 Validation_Loss: 0.7760\n",
      "Epoch: 3 Total_Time: 16.6321 Average_Time_per_batch: 0.0482 Train_Accuracy: 0.7233 Train_Loss: 0.7715 Validation_Accuracy: 0.7306 Validation_Loss: 0.7527\n",
      "Epoch: 4 Total_Time: 16.7696 Average_Time_per_batch: 0.0486 Train_Accuracy: 0.7348 Train_Loss: 0.7496 Validation_Accuracy: 0.7422 Validation_Loss: 0.7370\n",
      "Epoch: 5 Total_Time: 16.6211 Average_Time_per_batch: 0.0482 Train_Accuracy: 0.7436 Train_Loss: 0.7322 Validation_Accuracy: 0.7498 Validation_Loss: 0.7240Peak GPU memory: 18.95 MB\n",
      "[]\n",
      "\n",
      "Epoch: 1 Total_Time: 16.5680 Average_Time_per_batch: 0.0480 Train_Accuracy: 0.6739 Train_Loss: 0.8883 Validation_Accuracy: 0.7026 Validation_Loss: 0.8032\n",
      "Epoch: 2 Total_Time: 16.5351 Average_Time_per_batch: 0.0479 Train_Accuracy: 0.7113 Train_Loss: 0.7993 Validation_Accuracy: 0.7179 Validation_Loss: 0.7714\n",
      "Epoch: 3 Total_Time: 16.5939 Average_Time_per_batch: 0.0481 Train_Accuracy: 0.7252 Train_Loss: 0.7701 Validation_Accuracy: 0.7316 Validation_Loss: 0.7525\n",
      "Epoch: 4 Total_Time: 16.5448 Average_Time_per_batch: 0.0480 Train_Accuracy: 0.7357 Train_Loss: 0.7486 Validation_Accuracy: 0.7412 Validation_Loss: 0.7336\n",
      "Epoch: 5 Total_Time: 16.4254 Average_Time_per_batch: 0.0476 Train_Accuracy: 0.7443 Train_Loss: 0.7310 Validation_Accuracy: 0.7483 Validation_Loss: 0.7192Peak GPU memory: 18.95 MB\n",
      "[]\n",
      "\n",
      "Epoch: 1 Total_Time: 16.1249 Average_Time_per_batch: 0.0467 Train_Accuracy: 0.6722 Train_Loss: 0.8882 Validation_Accuracy: 0.7009 Validation_Loss: 0.8078\n",
      "Epoch: 2 Total_Time: 16.2188 Average_Time_per_batch: 0.0470 Train_Accuracy: 0.7059 Train_Loss: 0.8029 Validation_Accuracy: 0.7165 Validation_Loss: 0.7739\n",
      "Epoch: 3 Total_Time: 15.9514 Average_Time_per_batch: 0.0462 Train_Accuracy: 0.7227 Train_Loss: 0.7716 Validation_Accuracy: 0.7319 Validation_Loss: 0.7511\n",
      "Epoch: 4 Total_Time: 16.1076 Average_Time_per_batch: 0.0467 Train_Accuracy: 0.7352 Train_Loss: 0.7492 Validation_Accuracy: 0.7393 Validation_Loss: 0.7354\n",
      "Epoch: 5 Total_Time: 16.0588 Average_Time_per_batch: 0.0465 Train_Accuracy: 0.7443 Train_Loss: 0.7315 Validation_Accuracy: 0.7482 Validation_Loss: 0.7198Peak GPU memory: 18.94 MB\n",
      "[]\n",
      "\n",
      "Epoch: 1 Total_Time: 16.0893 Average_Time_per_batch: 0.0466 Train_Accuracy: 0.6735 Train_Loss: 0.8931 Validation_Accuracy: 0.7022 Validation_Loss: 0.8028\n",
      "Epoch: 2 Total_Time: 16.0752 Average_Time_per_batch: 0.0466 Train_Accuracy: 0.7107 Train_Loss: 0.7969 Validation_Accuracy: 0.7222 Validation_Loss: 0.7712\n",
      "Epoch: 3 Total_Time: 15.8705 Average_Time_per_batch: 0.0460 Train_Accuracy: 0.7266 Train_Loss: 0.7675 Validation_Accuracy: 0.7319 Validation_Loss: 0.7531\n",
      "Epoch: 4 Total_Time: 15.8268 Average_Time_per_batch: 0.0459 Train_Accuracy: 0.7370 Train_Loss: 0.7471 Validation_Accuracy: 0.7444 Validation_Loss: 0.7332\n",
      "Epoch: 5 Total_Time: 16.1264 Average_Time_per_batch: 0.0467 Train_Accuracy: 0.7444 Train_Loss: 0.7300 Validation_Accuracy: 0.7509 Validation_Loss: 0.7213Peak GPU memory: 18.93 MB\n",
      "[]\n",
      "\n",
      "Epoch: 1 Total_Time: 16.2823 Average_Time_per_batch: 0.0472 Train_Accuracy: 0.6754 Train_Loss: 0.8860 Validation_Accuracy: 0.7031 Validation_Loss: 0.8042\n",
      "Epoch: 2 Total_Time: 15.8950 Average_Time_per_batch: 0.0461 Train_Accuracy: 0.7102 Train_Loss: 0.7980 Validation_Accuracy: 0.7184 Validation_Loss: 0.7712\n",
      "Epoch: 3 Total_Time: 16.1320 Average_Time_per_batch: 0.0468 Train_Accuracy: 0.7261 Train_Loss: 0.7674 Validation_Accuracy: 0.7347 Validation_Loss: 0.7492\n",
      "Epoch: 4 Total_Time: 15.9335 Average_Time_per_batch: 0.0462 Train_Accuracy: 0.7380 Train_Loss: 0.7452 Validation_Accuracy: 0.7444 Validation_Loss: 0.7309\n",
      "Epoch: 5 Total_Time: 16.3889 Average_Time_per_batch: 0.0475 Train_Accuracy: 0.7465 Train_Loss: 0.7279 Validation_Accuracy: 0.7511 Validation_Loss: 0.7187Peak GPU memory: 18.93 MB\n",
      "[]\n",
      "\n",
      "Epoch: 1 Total_Time: 16.0159 Average_Time_per_batch: 0.0464 Train_Accuracy: 0.6744 Train_Loss: 0.8913 Validation_Accuracy: 0.7048 Validation_Loss: 0.8041\n",
      "Epoch: 2 Total_Time: 16.0262 Average_Time_per_batch: 0.0465 Train_Accuracy: 0.7095 Train_Loss: 0.7989 Validation_Accuracy: 0.7194 Validation_Loss: 0.7730\n",
      "Epoch: 3 Total_Time: 16.3301 Average_Time_per_batch: 0.0473 Train_Accuracy: 0.7235 Train_Loss: 0.7699 Validation_Accuracy: 0.7339 Validation_Loss: 0.7520\n",
      "Epoch: 4 Total_Time: 15.8867 Average_Time_per_batch: 0.0460 Train_Accuracy: 0.7346 Train_Loss: 0.7495 Validation_Accuracy: 0.7423 Validation_Loss: 0.7356\n",
      "Epoch: 5 Total_Time: 16.2495 Average_Time_per_batch: 0.0471 Train_Accuracy: 0.7442 Train_Loss: 0.7321 Validation_Accuracy: 0.7486 Validation_Loss: 0.7239Peak GPU memory: 18.92 MB\n",
      "[]\n",
      "\n",
      "Epoch: 1 Total_Time: 15.2197 Average_Time_per_batch: 0.0441 Train_Accuracy: 0.6616 Train_Loss: 0.9573 Validation_Accuracy: 0.6868 Validation_Loss: 0.8616\n",
      "Epoch: 2 Total_Time: 15.1907 Average_Time_per_batch: 0.0440 Train_Accuracy: 0.6968 Train_Loss: 0.8503 Validation_Accuracy: 0.7182 Validation_Loss: 0.7892\n",
      "Epoch: 3 Total_Time: 15.2226 Average_Time_per_batch: 0.0441 Train_Accuracy: 0.7213 Train_Loss: 0.7916 Validation_Accuracy: 0.7299 Validation_Loss: 0.7672\n",
      "Epoch: 4 Total_Time: 15.0075 Average_Time_per_batch: 0.0435 Train_Accuracy: 0.7315 Train_Loss: 0.7704 Validation_Accuracy: 0.7377 Validation_Loss: 0.7528\n",
      "Epoch: 5 Total_Time: 15.1781 Average_Time_per_batch: 0.0440 Train_Accuracy: 0.7395 Train_Loss: 0.7548 Validation_Accuracy: 0.7454 Validation_Loss: 0.7403Peak GPU memory: 18.90 MB\n",
      "[]\n",
      "\n",
      "Epoch: 1 Total_Time: 15.2522 Average_Time_per_batch: 0.0442 Train_Accuracy: 0.6652 Train_Loss: 0.9481 Validation_Accuracy: 0.6885 Validation_Loss: 0.8618\n",
      "Epoch: 2 Total_Time: 14.8189 Average_Time_per_batch: 0.0430 Train_Accuracy: 0.6945 Train_Loss: 0.8570 Validation_Accuracy: 0.7030 Validation_Loss: 0.8249\n",
      "Epoch: 3 Total_Time: 15.3239 Average_Time_per_batch: 0.0444 Train_Accuracy: 0.7072 Train_Loss: 0.8189 Validation_Accuracy: 0.7141 Validation_Loss: 0.7914\n",
      "Epoch: 4 Total_Time: 15.1520 Average_Time_per_batch: 0.0439 Train_Accuracy: 0.7159 Train_Loss: 0.7937 Validation_Accuracy: 0.7225 Validation_Loss: 0.7752\n",
      "Epoch: 5 Total_Time: 15.1491 Average_Time_per_batch: 0.0439 Train_Accuracy: 0.7235 Train_Loss: 0.7759 Validation_Accuracy: 0.7301 Validation_Loss: 0.7614Peak GPU memory: 18.90 MB\n"
     ]
    }
   ],
   "source": [
    "for round_idx in range(rounds):\n",
    "\n",
    "    current_masks = prune_by_percent(model, current_masks, p_per_round)\n",
    "    \n",
    "    pruned_weights = [w * m for w, m in zip(original_weights, current_masks)]\n",
    "    \n",
    "    size_limit = pruned_weights[0].shape[1]\n",
    "    cleaned_weights = clean_weights(pruned_weights, size_limit)\n",
    "    merged_weights = merge_weights(cleaned_weights, size_limit)\n",
    "    new_total_nodes = sum([w.shape[0] for w in merged_weights])\n",
    "\n",
    "    model = DPN(X_train.shape[1], new_total_nodes, len(le.classes_), False).to(device)\n",
    "    model.compile()\n",
    "    model.weights = nn.ParameterList([nn.Parameter(w) for w in merged_weights])\n",
    "    optimizer = optim.Adam(model.parameters(), lr=1e-3)\n",
    "\n",
    "    original_weights = [param.clone().detach() for param in model.weights]\n",
    "    current_masks = [(param != 0).int() for param in merged_weights]\n",
    "\n",
    "    _, val_metrics = train(model, train_loader, val_loader, 5, optimizer, criterion, device=device)\n",
    "    new_val_accuracy = val_metrics[-1][1]\n",
    "    \n",
    "    if new_val_accuracy >= val_accuracy:\n",
    "        #val_accuracy = new_val_accuracy\n",
    "        final_weights = [param.clone().detach() for param in model.weights]  # This creates a shallow copy of the list\n",
    "    else:\n",
    "        break"
   ]
  },
  {
   "cell_type": "code",
   "execution_count": null,
   "id": "67d81c4a",
   "metadata": {},
   "outputs": [],
   "source": [
    "size_limit = pruned_weights[0].shape[1]\n"
   ]
  },
  {
   "cell_type": "code",
   "execution_count": null,
   "id": "a3000763",
   "metadata": {},
   "outputs": [
    {
     "name": "stdout",
     "output_type": "stream",
     "text": [
      "141\n"
     ]
    }
   ],
   "source": [
    "sizes = [w.shape[0] for w in merged_weights]\n",
    "print(sum(sizes))"
   ]
  },
  {
   "cell_type": "code",
   "execution_count": null,
   "id": "5eddcfc5",
   "metadata": {},
   "outputs": [],
   "source": [
    "model = DPN(X_train.shape[1], sum(sizes), len(le.classes_), False).to(device)\n",
    "model.compile()\n",
    "model.weights = nn.ParameterList([nn.Parameter(w) for w in merged_weights])\n",
    "optimizer = optim.Adam(model.parameters(), lr=1e-3)"
   ]
  },
  {
   "cell_type": "code",
   "execution_count": null,
   "id": "e9c9a99e",
   "metadata": {},
   "outputs": [
    {
     "name": "stdout",
     "output_type": "stream",
     "text": [
      "\n",
      "Epoch: 1 Total_Time: 9.2747 Average_Time_per_batch: 0.0269 Train_Accuracy: 0.6638 Train_Loss: 0.9003 Validation_Accuracy: 0.6922 Validation_Loss: 0.8187\n",
      "Epoch: 2 Total_Time: 9.4406 Average_Time_per_batch: 0.0274 Train_Accuracy: 0.6947 Train_Loss: 0.8267 Validation_Accuracy: 0.7078 Validation_Loss: 0.7882\n",
      "Epoch: 3 Total_Time: 9.4281 Average_Time_per_batch: 0.0273 Train_Accuracy: 0.7064 Train_Loss: 0.8025 Validation_Accuracy: 0.7158 Validation_Loss: 0.7721\n",
      "Epoch: 4 Total_Time: 9.3329 Average_Time_per_batch: 0.0271 Train_Accuracy: 0.7144 Train_Loss: 0.7860 Validation_Accuracy: 0.7208 Validation_Loss: 0.7609\n",
      "Epoch: 5 Total_Time: 9.3955 Average_Time_per_batch: 0.0272 Train_Accuracy: 0.7208 Train_Loss: 0.7729 Validation_Accuracy: 0.7231 Validation_Loss: 0.7525\n",
      "Epoch: 6 Total_Time: 9.4287 Average_Time_per_batch: 0.0273 Train_Accuracy: 0.7261 Train_Loss: 0.7623 Validation_Accuracy: 0.7282 Validation_Loss: 0.7433\n",
      "Epoch: 7 Total_Time: 9.3787 Average_Time_per_batch: 0.0272 Train_Accuracy: 0.7310 Train_Loss: 0.7526 Validation_Accuracy: 0.7349 Validation_Loss: 0.7355\n",
      "Epoch: 8 Total_Time: 9.4332 Average_Time_per_batch: 0.0273 Train_Accuracy: 0.7358 Train_Loss: 0.7434 Validation_Accuracy: 0.7401 Validation_Loss: 0.7268\n",
      "Epoch: 9 Total_Time: 9.3456 Average_Time_per_batch: 0.0271 Train_Accuracy: 0.7404 Train_Loss: 0.7352 Validation_Accuracy: 0.7451 Validation_Loss: 0.7175\n",
      "Epoch: 10 Total_Time: 9.4180 Average_Time_per_batch: 0.0273 Train_Accuracy: 0.7442 Train_Loss: 0.7271 Validation_Accuracy: 0.7507 Validation_Loss: 0.7096\n",
      "Epoch: 11 Total_Time: 9.4109 Average_Time_per_batch: 0.0273 Train_Accuracy: 0.7478 Train_Loss: 0.7195 Validation_Accuracy: 0.7533 Validation_Loss: 0.7020\n",
      "Epoch: 12 Total_Time: 9.3639 Average_Time_per_batch: 0.0271 Train_Accuracy: 0.7517 Train_Loss: 0.7124 Validation_Accuracy: 0.7572 Validation_Loss: 0.6962\n",
      "Epoch: 13 Total_Time: 9.4065 Average_Time_per_batch: 0.0273 Train_Accuracy: 0.7561 Train_Loss: 0.7056 Validation_Accuracy: 0.7594 Validation_Loss: 0.6904\n",
      "Epoch: 14 Total_Time: 9.4790 Average_Time_per_batch: 0.0275 Train_Accuracy: 0.7590 Train_Loss: 0.6994 Validation_Accuracy: 0.7633 Validation_Loss: 0.6847\n",
      "Epoch: 15 Total_Time: 9.3183 Average_Time_per_batch: 0.0270 Train_Accuracy: 0.7621 Train_Loss: 0.6935 Validation_Accuracy: 0.7658 Validation_Loss: 0.6789\n",
      "Epoch: 16 Total_Time: 9.4182 Average_Time_per_batch: 0.0273 Train_Accuracy: 0.7640 Train_Loss: 0.6880 Validation_Accuracy: 0.7677 Validation_Loss: 0.6747\n",
      "Epoch: 17 Total_Time: 9.3235 Average_Time_per_batch: 0.0270 Train_Accuracy: 0.7664 Train_Loss: 0.6827 Validation_Accuracy: 0.7691 Validation_Loss: 0.6706\n",
      "Epoch: 18 Total_Time: 9.4163 Average_Time_per_batch: 0.0273 Train_Accuracy: 0.7689 Train_Loss: 0.6779 Validation_Accuracy: 0.7720 Validation_Loss: 0.6675\n",
      "Epoch: 19 Total_Time: 9.4139 Average_Time_per_batch: 0.0273 Train_Accuracy: 0.7711 Train_Loss: 0.6733 Validation_Accuracy: 0.7746 Validation_Loss: 0.6631\n",
      "Epoch: 20 Total_Time: 9.3164 Average_Time_per_batch: 0.0270 Train_Accuracy: 0.7730 Train_Loss: 0.6691 Validation_Accuracy: 0.7763 Validation_Loss: 0.6600\n",
      "Epoch: 21 Total_Time: 9.4140 Average_Time_per_batch: 0.0273 Train_Accuracy: 0.7757 Train_Loss: 0.6653 Validation_Accuracy: 0.7773 Validation_Loss: 0.6584\n",
      "Epoch: 22 Total_Time: 9.4098 Average_Time_per_batch: 0.0273 Train_Accuracy: 0.7774 Train_Loss: 0.6612 Validation_Accuracy: 0.7787 Validation_Loss: 0.6558\n",
      "Epoch: 23 Total_Time: 9.3150 Average_Time_per_batch: 0.0270 Train_Accuracy: 0.7797 Train_Loss: 0.6574 Validation_Accuracy: 0.7797 Validation_Loss: 0.6539\n",
      "Epoch: 24 Total_Time: 9.4308 Average_Time_per_batch: 0.0273 Train_Accuracy: 0.7807 Train_Loss: 0.6542 Validation_Accuracy: 0.7831 Validation_Loss: 0.6505\n",
      "Epoch: 25 Total_Time: 9.3358 Average_Time_per_batch: 0.0271 Train_Accuracy: 0.7823 Train_Loss: 0.6504 Validation_Accuracy: 0.7833 Validation_Loss: 0.6478\n",
      "Epoch: 26 Total_Time: 9.4376 Average_Time_per_batch: 0.0274 Train_Accuracy: 0.7838 Train_Loss: 0.6475 Validation_Accuracy: 0.7844 Validation_Loss: 0.6449\n",
      "Epoch: 27 Total_Time: 9.4246 Average_Time_per_batch: 0.0273 Train_Accuracy: 0.7854 Train_Loss: 0.6440 Validation_Accuracy: 0.7855 Validation_Loss: 0.6442\n",
      "Epoch: 28 Total_Time: 9.3334 Average_Time_per_batch: 0.0271 Train_Accuracy: 0.7868 Train_Loss: 0.6415 Validation_Accuracy: 0.7863 Validation_Loss: 0.6416\n",
      "Epoch: 29 Total_Time: 9.4255 Average_Time_per_batch: 0.0273 Train_Accuracy: 0.7882 Train_Loss: 0.6387 Validation_Accuracy: 0.7890 Validation_Loss: 0.6389\n",
      "Epoch: 30 Total_Time: 9.4261 Average_Time_per_batch: 0.0273 Train_Accuracy: 0.7891 Train_Loss: 0.6357 Validation_Accuracy: 0.7879 Validation_Loss: 0.6386\n",
      "Epoch: 31 Total_Time: 9.3345 Average_Time_per_batch: 0.0271 Train_Accuracy: 0.7904 Train_Loss: 0.6334 Validation_Accuracy: 0.7903 Validation_Loss: 0.6363\n",
      "Epoch: 32 Total_Time: 9.4305 Average_Time_per_batch: 0.0273 Train_Accuracy: 0.7914 Train_Loss: 0.6307 Validation_Accuracy: 0.7904 Validation_Loss: 0.6361\n",
      "Epoch: 33 Total_Time: 9.3272 Average_Time_per_batch: 0.0270 Train_Accuracy: 0.7924 Train_Loss: 0.6290 Validation_Accuracy: 0.7909 Validation_Loss: 0.6344\n",
      "Epoch: 34 Total_Time: 9.4142 Average_Time_per_batch: 0.0273 Train_Accuracy: 0.7933 Train_Loss: 0.6268 Validation_Accuracy: 0.7915 Validation_Loss: 0.6349\n",
      "Epoch: 35 Total_Time: 9.4058 Average_Time_per_batch: 0.0273 Train_Accuracy: 0.7950 Train_Loss: 0.6240 Validation_Accuracy: 0.7907 Validation_Loss: 0.6336\n",
      "Epoch: 36 Total_Time: 9.3404 Average_Time_per_batch: 0.0271 Train_Accuracy: 0.7966 Train_Loss: 0.6219 Validation_Accuracy: 0.7909 Validation_Loss: 0.6315\n",
      "Epoch: 37 Total_Time: 9.4101 Average_Time_per_batch: 0.0273 Train_Accuracy: 0.7974 Train_Loss: 0.6197 Validation_Accuracy: 0.7918 Validation_Loss: 0.6327\n",
      "Epoch: 38 Total_Time: 9.4212 Average_Time_per_batch: 0.0273 Train_Accuracy: 0.7989 Train_Loss: 0.6172 Validation_Accuracy: 0.7924 Validation_Loss: 0.6302\n",
      "Epoch: 39 Total_Time: 9.3195 Average_Time_per_batch: 0.0270 Train_Accuracy: 0.7992 Train_Loss: 0.6154 Validation_Accuracy: 0.7945 Validation_Loss: 0.6284\n",
      "Epoch: 40 Total_Time: 9.4157 Average_Time_per_batch: 0.0273 Train_Accuracy: 0.8004 Train_Loss: 0.6137 Validation_Accuracy: 0.7926 Validation_Loss: 0.6313\n",
      "Epoch: 41 Total_Time: 9.3903 Average_Time_per_batch: 0.0272 Train_Accuracy: 0.8007 Train_Loss: 0.6113 Validation_Accuracy: 0.7938 Validation_Loss: 0.6287\n",
      "Epoch: 42 Total_Time: 9.4108 Average_Time_per_batch: 0.0273 Train_Accuracy: 0.8014 Train_Loss: 0.6100 Validation_Accuracy: 0.7954 Validation_Loss: 0.6280\n",
      "Epoch: 43 Total_Time: 9.4245 Average_Time_per_batch: 0.0273 Train_Accuracy: 0.8030 Train_Loss: 0.6083 Validation_Accuracy: 0.7958 Validation_Loss: 0.6279\n",
      "Epoch: 44 Total_Time: 9.3168 Average_Time_per_batch: 0.0270 Train_Accuracy: 0.8040 Train_Loss: 0.6062 Validation_Accuracy: 0.7951 Validation_Loss: 0.6284\n",
      "Epoch: 45 Total_Time: 9.4151 Average_Time_per_batch: 0.0273 Train_Accuracy: 0.8047 Train_Loss: 0.6044 Validation_Accuracy: 0.7954 Validation_Loss: 0.6246\n",
      "Epoch: 46 Total_Time: 9.4174 Average_Time_per_batch: 0.0273 Train_Accuracy: 0.8053 Train_Loss: 0.6028 Validation_Accuracy: 0.7965 Validation_Loss: 0.6238\n",
      "Epoch: 47 Total_Time: 9.3215 Average_Time_per_batch: 0.0270 Train_Accuracy: 0.8060 Train_Loss: 0.6027 Validation_Accuracy: 0.7969 Validation_Loss: 0.6217\n",
      "Epoch: 48 Total_Time: 9.4226 Average_Time_per_batch: 0.0273 Train_Accuracy: 0.8062 Train_Loss: 0.6002 Validation_Accuracy: 0.7981 Validation_Loss: 0.6212\n",
      "Epoch: 49 Total_Time: 9.4198 Average_Time_per_batch: 0.0273 Train_Accuracy: 0.8070 Train_Loss: 0.5993 Validation_Accuracy: 0.7980 Validation_Loss: 0.6221\n",
      "Epoch: 50 Total_Time: 9.4274 Average_Time_per_batch: 0.0273 Train_Accuracy: 0.8083 Train_Loss: 0.5975 Validation_Accuracy: 0.8004 Validation_Loss: 0.6201Peak GPU memory: 18.31 MB\n"
     ]
    }
   ],
   "source": [
    "train_metrics, eval_metrics = train(model, train_loader, test_loader, 50, optimizer, criterion, device=device)"
   ]
  },
  {
   "cell_type": "code",
   "execution_count": null,
   "id": "8b1c8cba",
   "metadata": {},
   "outputs": [
    {
     "name": "stdout",
     "output_type": "stream",
     "text": [
      "[7, 4, 4, 2, 4, 11, 2, 2, 4, 5, 4, 3, 3, 1, 2, 5, 3, 2, 3, 4, 4, 1, 4, 1, 2, 3, 5, 1, 1, 1, 3, 6, 2, 3, 1, 2, 4, 2, 1, 6, 3, 1, 2, 5, 2]\n"
     ]
    }
   ],
   "source": [
    "print(sizes)"
   ]
  },
  {
   "cell_type": "code",
   "execution_count": null,
   "id": "93329935",
   "metadata": {},
   "outputs": [],
   "source": []
  }
 ],
 "metadata": {
  "kernelspec": {
   "display_name": "saroshgpu",
   "language": "python",
   "name": "python3"
  },
  "language_info": {
   "codemirror_mode": {
    "name": "ipython",
    "version": 3
   },
   "file_extension": ".py",
   "mimetype": "text/x-python",
   "name": "python",
   "nbconvert_exporter": "python",
   "pygments_lexer": "ipython3",
   "version": "3.9.21"
  }
 },
 "nbformat": 4,
 "nbformat_minor": 5
}
