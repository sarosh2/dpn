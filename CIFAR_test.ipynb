{
 "cells": [
  {
   "cell_type": "code",
   "execution_count": 1,
   "id": "599b59e8",
   "metadata": {},
   "outputs": [],
   "source": [
    "import torch\n",
    "import torch.nn as nn\n",
    "import torch.optim as optim\n",
    "import torchvision\n",
    "import torchvision.transforms as transforms\n",
    "import torch.nn.functional as F\n",
    "from utils import train\n",
    "torch.cuda.empty_cache()"
   ]
  },
  {
   "cell_type": "code",
   "execution_count": 2,
   "id": "56feba47",
   "metadata": {},
   "outputs": [],
   "source": [
    "# Model definition\n",
    "class CIFAR10_MLP(nn.Module):\n",
    "    def __init__(self, input_dim=3*32*32, hidden_dims=[2048, 1024, 512, 256], num_classes=10, dropout=0.5):\n",
    "        super().__init__()\n",
    "        layers = []\n",
    "        prev_dim = input_dim\n",
    "        for hdim in hidden_dims:\n",
    "            layers.append(nn.Linear(prev_dim, hdim))\n",
    "            layers.append(nn.BatchNorm1d(hdim))\n",
    "            layers.append(nn.ReLU(inplace=True))\n",
    "            layers.append(nn.Dropout(dropout))\n",
    "            prev_dim = hdim\n",
    "        layers.append(nn.Linear(prev_dim, num_classes))\n",
    "        self.net = nn.Sequential(*layers)\n",
    "\n",
    "    def forward(self, x):\n",
    "        x = x.view(x.size(0), -1)  # flatten\n",
    "        return self.net(x)"
   ]
  },
  {
   "cell_type": "code",
   "execution_count": 3,
   "id": "332493c6",
   "metadata": {},
   "outputs": [
    {
     "name": "stdout",
     "output_type": "stream",
     "text": [
      "Files already downloaded and verified\n",
      "Files already downloaded and verified\n"
     ]
    }
   ],
   "source": [
    "device = torch.device('cuda' if torch.cuda.is_available() else 'cpu')\n",
    "\n",
    "# Data transforms: normalize CIFAR-10 images\n",
    "train_transform = transforms.Compose([\n",
    "    transforms.ToTensor(),\n",
    "    transforms.Normalize((0.4914, 0.4822, 0.4465), \n",
    "                         (0.247, 0.243, 0.261))\n",
    "])\n",
    "\n",
    "test_transform = transforms.Compose([\n",
    "    transforms.ToTensor(),\n",
    "    transforms.Normalize((0.4914, 0.4822, 0.4465), \n",
    "                         (0.247, 0.243, 0.261))\n",
    "])\n",
    "\n",
    "train_dataset = torchvision.datasets.CIFAR10(root='./data', train=True, download=True, transform=train_transform)\n",
    "test_dataset = torchvision.datasets.CIFAR10(root='./data', train=False, download=True, transform=test_transform)\n",
    "\n",
    "train_loader = torch.utils.data.DataLoader(train_dataset, batch_size=128, shuffle=True, num_workers=4)\n",
    "test_loader = torch.utils.data.DataLoader(test_dataset, batch_size=100, shuffle=False, num_workers=4)\n"
   ]
  },
  {
   "cell_type": "code",
   "execution_count": 4,
   "id": "cc7845b9",
   "metadata": {},
   "outputs": [],
   "source": [
    "model = CIFAR10_MLP().to(device)\n",
    "model = torch.jit.script(model)\n",
    "criterion = nn.CrossEntropyLoss()\n",
    "optimizer = optim.Adam(model.parameters())"
   ]
  },
  {
   "cell_type": "code",
   "execution_count": 5,
   "id": "39e9e88a",
   "metadata": {},
   "outputs": [
    {
     "name": "stdout",
     "output_type": "stream",
     "text": [
      "\n",
      "Epoch: 1 Total_Time: 1.6282 Average_Time_per_batch: 0.0042 Train_Accuracy: 0.3395 Train_Loss: 1.8272 \n",
      "Epoch: 2 Total_Time: 1.4313 Average_Time_per_batch: 0.0037 Train_Accuracy: 0.4240 Train_Loss: 1.6124 \n",
      "Epoch: 3 Total_Time: 1.4911 Average_Time_per_batch: 0.0038 Train_Accuracy: 0.4568 Train_Loss: 1.5268 \n",
      "Epoch: 4 Total_Time: 1.3673 Average_Time_per_batch: 0.0035 Train_Accuracy: 0.4773 Train_Loss: 1.4695 \n",
      "Epoch: 5 Total_Time: 1.4348 Average_Time_per_batch: 0.0037 Train_Accuracy: 0.4924 Train_Loss: 1.4291 \n",
      "Epoch: 6 Total_Time: 1.5456 Average_Time_per_batch: 0.0040 Train_Accuracy: 0.5040 Train_Loss: 1.3967 \n",
      "Epoch: 7 Total_Time: 1.4938 Average_Time_per_batch: 0.0038 Train_Accuracy: 0.5207 Train_Loss: 1.3581 \n",
      "Epoch: 8 Total_Time: 1.5275 Average_Time_per_batch: 0.0039 Train_Accuracy: 0.5283 Train_Loss: 1.3309 \n",
      "Epoch: 9 Total_Time: 1.5537 Average_Time_per_batch: 0.0040 Train_Accuracy: 0.5401 Train_Loss: 1.3053 \n",
      "Epoch: 10 Total_Time: 1.5573 Average_Time_per_batch: 0.0040 Train_Accuracy: 0.5455 Train_Loss: 1.2774 \n",
      "Epoch: 11 Total_Time: 1.4934 Average_Time_per_batch: 0.0038 Train_Accuracy: 0.5586 Train_Loss: 1.2555 \n",
      "Epoch: 12 Total_Time: 1.4868 Average_Time_per_batch: 0.0038 Train_Accuracy: 0.5680 Train_Loss: 1.2307 \n",
      "Epoch: 13 Total_Time: 1.5346 Average_Time_per_batch: 0.0039 Train_Accuracy: 0.5745 Train_Loss: 1.2082 \n",
      "Epoch: 14 Total_Time: 1.3442 Average_Time_per_batch: 0.0034 Train_Accuracy: 0.5806 Train_Loss: 1.1882 \n",
      "Epoch: 15 Total_Time: 1.4141 Average_Time_per_batch: 0.0036 Train_Accuracy: 0.5875 Train_Loss: 1.1666 \n",
      "Epoch: 16 Total_Time: 1.3847 Average_Time_per_batch: 0.0035 Train_Accuracy: 0.5954 Train_Loss: 1.1503 \n",
      "Epoch: 17 Total_Time: 1.5300 Average_Time_per_batch: 0.0039 Train_Accuracy: 0.6073 Train_Loss: 1.1215 \n",
      "Epoch: 18 Total_Time: 1.3142 Average_Time_per_batch: 0.0034 Train_Accuracy: 0.6113 Train_Loss: 1.1014 \n",
      "Epoch: 19 Total_Time: 1.5547 Average_Time_per_batch: 0.0040 Train_Accuracy: 0.6193 Train_Loss: 1.0847 \n",
      "Epoch: 20 Total_Time: 1.3352 Average_Time_per_batch: 0.0034 Train_Accuracy: 0.6251 Train_Loss: 1.0676 \n",
      "Epoch: 21 Total_Time: 1.4088 Average_Time_per_batch: 0.0036 Train_Accuracy: 0.6326 Train_Loss: 1.0446 \n",
      "Epoch: 22 Total_Time: 1.2509 Average_Time_per_batch: 0.0032 Train_Accuracy: 0.6362 Train_Loss: 1.0315 \n",
      "Epoch: 23 Total_Time: 1.4262 Average_Time_per_batch: 0.0036 Train_Accuracy: 0.6416 Train_Loss: 1.0187 \n",
      "Epoch: 24 Total_Time: 1.3246 Average_Time_per_batch: 0.0034 Train_Accuracy: 0.6528 Train_Loss: 0.9924 \n",
      "Epoch: 25 Total_Time: 1.9642 Average_Time_per_batch: 0.0050 Train_Accuracy: 0.6548 Train_Loss: 0.9814 \n",
      "Epoch: 26 Total_Time: 1.3883 Average_Time_per_batch: 0.0036 Train_Accuracy: 0.6641 Train_Loss: 0.9558 \n",
      "Epoch: 27 Total_Time: 1.4048 Average_Time_per_batch: 0.0036 Train_Accuracy: 0.6690 Train_Loss: 0.9404 \n",
      "Epoch: 28 Total_Time: 1.2444 Average_Time_per_batch: 0.0032 Train_Accuracy: 0.6780 Train_Loss: 0.9187 \n",
      "Epoch: 29 Total_Time: 1.2091 Average_Time_per_batch: 0.0031 Train_Accuracy: 0.6805 Train_Loss: 0.9097 \n",
      "Epoch: 30 Total_Time: 1.5588 Average_Time_per_batch: 0.0040 Train_Accuracy: 0.6875 Train_Loss: 0.8936 \n",
      "Test_Accuracy:  0.5906 Test_Loss:  1.1872513788938521\n",
      "Peak GPU memory: 200.21 MB\n"
     ]
    }
   ],
   "source": [
    "train_metrics, val_metrics, test_metrics = train(model, train_loader, None, test_loader, 30, optimizer, criterion)"
   ]
  },
  {
   "cell_type": "code",
   "execution_count": 6,
   "id": "a58ffcf5",
   "metadata": {},
   "outputs": [],
   "source": [
    "from dpn_3.dpn import DPN as DPN_3\n",
    "    \n",
    "model_3 = DPN_3(3*32*32, 100, 10, True).cuda()\n",
    "#model_3.compile()"
   ]
  },
  {
   "cell_type": "code",
   "execution_count": 7,
   "id": "15773d0a",
   "metadata": {},
   "outputs": [],
   "source": [
    "model_3 = torch.jit.trace(model_3, torch.randn(128, 3*32*32).cuda())\n",
    "optimizer = optim.Adam(model_3.parameters())\n",
    "criterion = nn.CrossEntropyLoss()"
   ]
  },
  {
   "cell_type": "code",
   "execution_count": 8,
   "id": "f391ad48",
   "metadata": {},
   "outputs": [
    {
     "name": "stdout",
     "output_type": "stream",
     "text": [
      "\n",
      "Epoch: 1 Total_Time: 0.8701 Average_Time_per_batch: 0.0022 Train_Accuracy: 0.3900 Train_Loss: 1.7796 \n",
      "Epoch: 2 Total_Time: 0.5746 Average_Time_per_batch: 0.0015 Train_Accuracy: 0.4561 Train_Loss: 1.6021 \n",
      "Epoch: 3 Total_Time: 0.7166 Average_Time_per_batch: 0.0018 Train_Accuracy: 0.4825 Train_Loss: 1.5175 \n",
      "Epoch: 4 Total_Time: 0.7614 Average_Time_per_batch: 0.0019 Train_Accuracy: 0.5026 Train_Loss: 1.4601 \n",
      "Epoch: 5 Total_Time: 0.6123 Average_Time_per_batch: 0.0016 Train_Accuracy: 0.5191 Train_Loss: 1.4100 \n",
      "Epoch: 6 Total_Time: 0.7444 Average_Time_per_batch: 0.0019 Train_Accuracy: 0.5350 Train_Loss: 1.3673 \n",
      "Epoch: 7 Total_Time: 0.5066 Average_Time_per_batch: 0.0013 Train_Accuracy: 0.5467 Train_Loss: 1.3309 \n",
      "Epoch: 8 Total_Time: 0.7800 Average_Time_per_batch: 0.0020 Train_Accuracy: 0.5559 Train_Loss: 1.2950 \n",
      "Epoch: 9 Total_Time: 0.7000 Average_Time_per_batch: 0.0018 Train_Accuracy: 0.5681 Train_Loss: 1.2629 \n",
      "Epoch: 10 Total_Time: 0.7348 Average_Time_per_batch: 0.0019 Train_Accuracy: 0.5790 Train_Loss: 1.2310 \n",
      "Epoch: 11 Total_Time: 0.7646 Average_Time_per_batch: 0.0020 Train_Accuracy: 0.5875 Train_Loss: 1.2128 \n",
      "Epoch: 12 Total_Time: 0.6146 Average_Time_per_batch: 0.0016 Train_Accuracy: 0.5933 Train_Loss: 1.1962 \n",
      "Epoch: 13 Total_Time: 0.7406 Average_Time_per_batch: 0.0019 Train_Accuracy: 0.6006 Train_Loss: 1.1706 \n",
      "Epoch: 14 Total_Time: 0.6304 Average_Time_per_batch: 0.0016 Train_Accuracy: 0.6061 Train_Loss: 1.1522 \n",
      "Epoch: 15 Total_Time: 0.5183 Average_Time_per_batch: 0.0013 Train_Accuracy: 0.6167 Train_Loss: 1.1262 \n",
      "Epoch: 16 Total_Time: 0.6315 Average_Time_per_batch: 0.0016 Train_Accuracy: 0.6200 Train_Loss: 1.1080 \n",
      "Epoch: 17 Total_Time: 0.7597 Average_Time_per_batch: 0.0019 Train_Accuracy: 0.6314 Train_Loss: 1.0766 \n",
      "Epoch: 18 Total_Time: 0.6510 Average_Time_per_batch: 0.0017 Train_Accuracy: 0.6381 Train_Loss: 1.0650 \n",
      "Epoch: 19 Total_Time: 0.7798 Average_Time_per_batch: 0.0020 Train_Accuracy: 0.6388 Train_Loss: 1.0511 \n",
      "Epoch: 20 Total_Time: 0.7874 Average_Time_per_batch: 0.0020 Train_Accuracy: 0.6483 Train_Loss: 1.0274 \n",
      "Epoch: 21 Total_Time: 0.6659 Average_Time_per_batch: 0.0017 Train_Accuracy: 0.6514 Train_Loss: 1.0228 \n",
      "Epoch: 22 Total_Time: 0.6933 Average_Time_per_batch: 0.0018 Train_Accuracy: 0.6570 Train_Loss: 1.0008 \n",
      "Epoch: 23 Total_Time: 0.7367 Average_Time_per_batch: 0.0019 Train_Accuracy: 0.6593 Train_Loss: 0.9972 \n",
      "Epoch: 24 Total_Time: 0.7141 Average_Time_per_batch: 0.0018 Train_Accuracy: 0.6696 Train_Loss: 0.9712 \n",
      "Epoch: 25 Total_Time: 0.7674 Average_Time_per_batch: 0.0020 Train_Accuracy: 0.6690 Train_Loss: 0.9667 \n",
      "Epoch: 26 Total_Time: 0.7566 Average_Time_per_batch: 0.0019 Train_Accuracy: 0.6757 Train_Loss: 0.9444 \n",
      "Epoch: 27 Total_Time: 0.6249 Average_Time_per_batch: 0.0016 Train_Accuracy: 0.6782 Train_Loss: 0.9441 \n",
      "Epoch: 28 Total_Time: 0.7657 Average_Time_per_batch: 0.0020 Train_Accuracy: 0.6860 Train_Loss: 0.9180 \n",
      "Epoch: 29 Total_Time: 0.7357 Average_Time_per_batch: 0.0019 Train_Accuracy: 0.6924 Train_Loss: 0.9021 \n",
      "Epoch: 30 Total_Time: 0.7415 Average_Time_per_batch: 0.0019 Train_Accuracy: 0.6911 Train_Loss: 0.9050 \n",
      "Test_Accuracy:  0.4708 Test_Loss:  2.0159771621227263\n",
      "Peak GPU memory: 102.19 MB\n"
     ]
    }
   ],
   "source": [
    "train_metrics_3, val_metrics_3, test_metrics_3 = train(model_3, train_loader, None, test_loader, 30, optimizer, criterion)"
   ]
  },
  {
   "cell_type": "code",
   "execution_count": 9,
   "id": "6ac95b47",
   "metadata": {},
   "outputs": [],
   "source": [
    "import torch\n",
    "from torch import nn\n",
    "\n",
    "hidden_dims = [2048, 1024, 512, 256, 10]\n",
    "total = sum(hidden_dims)\n",
    "\n",
    "blocks = len(hidden_dims)\n",
    "features = 3 * 32 * 32\n",
    "neural_blocks = []\n",
    "for dim in hidden_dims:\n",
    "    std_dev = torch.sqrt(torch.tensor(1 / features)).to(device)\n",
    "    neural_blocks.append(torch.randn(dim, features).to(device) * std_dev)\n",
    "    features += dim\n",
    "\n",
    "feature_blocks = []\n",
    "features_start = 0\n",
    "for i in range(len(neural_blocks)):\n",
    "    features_end = neural_blocks[i].shape[1]\n",
    "    block = neural_blocks[i][:, features_start:]\n",
    "    for j in range(i + 1, len(neural_blocks)):\n",
    "        block = torch.cat((block, neural_blocks[j][:, features_start:features_end]), dim=0)\n",
    "    feature_blocks.append(nn.Parameter(block))\n",
    "    features_start = features_end\n",
    "\n",
    "biases = biases = nn.Parameter(torch.empty(total).uniform_(0.0, 1.0)).to(device)"
   ]
  },
  {
   "cell_type": "code",
   "execution_count": 10,
   "id": "905fa918",
   "metadata": {},
   "outputs": [],
   "source": [
    "from dpn_2.dpn import DPN as DPN_2\n",
    "    \n",
    "model_2 = DPN_2(3*32*32, total, 10, True).cuda()\n",
    "model_2.weights.extend(feature_blocks)\n",
    "model_2.biases = biases"
   ]
  },
  {
   "cell_type": "code",
   "execution_count": 11,
   "id": "42af8220",
   "metadata": {},
   "outputs": [],
   "source": [
    "#model_3 = torch.jit.trace(model_3, torch.randn(128, 3*32*32).cuda())\n",
    "optimizer = optim.Adam(model_2.parameters())\n",
    "criterion = nn.CrossEntropyLoss()"
   ]
  },
  {
   "cell_type": "code",
   "execution_count": 12,
   "id": "d26fab50",
   "metadata": {},
   "outputs": [
    {
     "name": "stdout",
     "output_type": "stream",
     "text": [
      "\n",
      "Epoch: 1 Total_Time: 1.5930 Average_Time_per_batch: 0.0041 Train_Accuracy: 0.3827 Train_Loss: 2.1215 \n",
      "Epoch: 2 Total_Time: 1.8245 Average_Time_per_batch: 0.0047 Train_Accuracy: 0.4491 Train_Loss: 1.7035 \n",
      "Epoch: 3 Total_Time: 1.7723 Average_Time_per_batch: 0.0045 Train_Accuracy: 0.4753 Train_Loss: 1.6570 \n",
      "Epoch: 4 Total_Time: 1.5580 Average_Time_per_batch: 0.0040 Train_Accuracy: 0.5011 Train_Loss: 1.5997 \n",
      "Epoch: 5 Total_Time: 1.5248 Average_Time_per_batch: 0.0039 Train_Accuracy: 0.5266 Train_Loss: 1.5236 \n",
      "Epoch: 6 Total_Time: 1.5118 Average_Time_per_batch: 0.0039 Train_Accuracy: 0.5463 Train_Loss: 1.4823 \n",
      "Epoch: 7 Total_Time: 1.6712 Average_Time_per_batch: 0.0043 Train_Accuracy: 0.5641 Train_Loss: 1.4466 \n",
      "Epoch: 8 Total_Time: 1.5555 Average_Time_per_batch: 0.0040 Train_Accuracy: 0.5808 Train_Loss: 1.4187 \n",
      "Epoch: 9 Total_Time: 1.6176 Average_Time_per_batch: 0.0041 Train_Accuracy: 0.6018 Train_Loss: 1.3931 \n",
      "Epoch: 10 Total_Time: 1.5681 Average_Time_per_batch: 0.0040 Train_Accuracy: 0.6204 Train_Loss: 1.3374 \n",
      "Epoch: 11 Total_Time: 1.4751 Average_Time_per_batch: 0.0038 Train_Accuracy: 0.6377 Train_Loss: 1.2736 \n",
      "Epoch: 12 Total_Time: 1.7894 Average_Time_per_batch: 0.0046 Train_Accuracy: 0.6584 Train_Loss: 1.2286 \n",
      "Epoch: 13 Total_Time: 1.7568 Average_Time_per_batch: 0.0045 Train_Accuracy: 0.6695 Train_Loss: 1.2378 \n",
      "Epoch: 14 Total_Time: 1.7609 Average_Time_per_batch: 0.0045 Train_Accuracy: 0.6876 Train_Loss: 1.1735 \n",
      "Epoch: 15 Total_Time: 1.6542 Average_Time_per_batch: 0.0042 Train_Accuracy: 0.7035 Train_Loss: 1.1300 \n",
      "Epoch: 16 Total_Time: 1.5971 Average_Time_per_batch: 0.0041 Train_Accuracy: 0.7127 Train_Loss: 1.1117 \n",
      "Epoch: 17 Total_Time: 1.5543 Average_Time_per_batch: 0.0040 Train_Accuracy: 0.7289 Train_Loss: 1.0671 \n",
      "Epoch: 18 Total_Time: 1.6056 Average_Time_per_batch: 0.0041 Train_Accuracy: 0.7337 Train_Loss: 1.0706 \n",
      "Epoch: 19 Total_Time: 1.7106 Average_Time_per_batch: 0.0044 Train_Accuracy: 0.7429 Train_Loss: 1.0507 \n",
      "Epoch: 20 Total_Time: 1.5425 Average_Time_per_batch: 0.0039 Train_Accuracy: 0.7529 Train_Loss: 1.0579 \n",
      "Epoch: 21 Total_Time: 1.5288 Average_Time_per_batch: 0.0039 Train_Accuracy: 0.7645 Train_Loss: 0.9932 \n",
      "Epoch: 22 Total_Time: 1.6338 Average_Time_per_batch: 0.0042 Train_Accuracy: 0.7659 Train_Loss: 1.0481 \n",
      "Epoch: 23 Total_Time: 1.8591 Average_Time_per_batch: 0.0048 Train_Accuracy: 0.7837 Train_Loss: 0.9596 \n",
      "Epoch: 24 Total_Time: 1.6298 Average_Time_per_batch: 0.0042 Train_Accuracy: 0.7907 Train_Loss: 0.9699 \n",
      "Epoch: 25 Total_Time: 1.9314 Average_Time_per_batch: 0.0049 Train_Accuracy: 0.7966 Train_Loss: 0.9201 \n",
      "Epoch: 26 Total_Time: 1.6444 Average_Time_per_batch: 0.0042 Train_Accuracy: 0.7949 Train_Loss: 0.9917 \n",
      "Epoch: 27 Total_Time: 1.7331 Average_Time_per_batch: 0.0044 Train_Accuracy: 0.8093 Train_Loss: 0.9187 \n",
      "Epoch: 28 Total_Time: 1.7610 Average_Time_per_batch: 0.0045 Train_Accuracy: 0.8186 Train_Loss: 0.8756 \n",
      "Epoch: 29 Total_Time: 1.5566 Average_Time_per_batch: 0.0040 Train_Accuracy: 0.8143 Train_Loss: 0.9366 \n",
      "Epoch: 30 Total_Time: 1.7531 Average_Time_per_batch: 0.0045 Train_Accuracy: 0.8273 Train_Loss: 0.8474 \n",
      "Test_Accuracy:  0.5120 Test_Loss:  4.629011387825012\n",
      "Peak GPU memory: 499.94 MB\n"
     ]
    }
   ],
   "source": [
    "from utils import train\n",
    "train_metrics_3, val_metrics_3, test_metrics_3 = train(model_2, train_loader, None, test_loader, 30, optimizer, criterion)"
   ]
  },
  {
   "cell_type": "code",
   "execution_count": 13,
   "id": "01702460",
   "metadata": {},
   "outputs": [],
   "source": [
    "class ResNetMLP(nn.Module):\n",
    "    def __init__(self, num_classes=10, mlp_hidden=256):\n",
    "        super().__init__()\n",
    "        # Load ResNet18 (pretrained=False for CIFAR10, since ImageNet weights use 224x224)\n",
    "        backbone = torchvision.models.resnet18(weights=None)\n",
    "        # Change input conv layer for CIFAR-10 (3x32x32)\n",
    "        backbone.conv1 = nn.Conv2d(3, 64, kernel_size=3, stride=1, padding=1, bias=False)\n",
    "        backbone.maxpool = nn.Identity()  # Remove the first maxpool\n",
    "        # Extract up to the last layer\n",
    "        self.backbone = nn.Sequential(*list(backbone.children())[:-1])  # Remove FC\n",
    "        self.mlp = nn.Sequential(\n",
    "            nn.Linear(512, mlp_hidden),\n",
    "            nn.BatchNorm1d(mlp_hidden),\n",
    "            nn.ReLU(),\n",
    "            nn.Dropout(0.4),\n",
    "            nn.Linear(mlp_hidden, num_classes)\n",
    "        )\n",
    "\n",
    "    def forward(self, x):\n",
    "        x = self.backbone(x)  # [B, 512, 1, 1]\n",
    "        x = x.view(x.size(0), -1)  # Flatten\n",
    "        x = self.mlp(x)\n",
    "        return x"
   ]
  },
  {
   "cell_type": "code",
   "execution_count": 14,
   "id": "2679f857",
   "metadata": {},
   "outputs": [],
   "source": [
    "# --- 1. Data Augmentation and Loading ---\n",
    "train_transform = transforms.Compose([\n",
    "    transforms.RandomCrop(32, padding=4),\n",
    "    transforms.RandomHorizontalFlip(),\n",
    "    transforms.ToTensor(),\n",
    "    transforms.Normalize((0.4914, 0.4822, 0.4465),\n",
    "                         (0.247, 0.243, 0.261))\n",
    "])\n",
    "\n",
    "test_transform = transforms.Compose([\n",
    "    transforms.ToTensor(),\n",
    "    transforms.Normalize((0.4914, 0.4822, 0.4465),\n",
    "                         (0.247, 0.243, 0.261))\n",
    "])\n"
   ]
  },
  {
   "cell_type": "code",
   "execution_count": 15,
   "id": "b9b5a3e6",
   "metadata": {},
   "outputs": [
    {
     "name": "stdout",
     "output_type": "stream",
     "text": [
      "Files already downloaded and verified\n",
      "Files already downloaded and verified\n"
     ]
    }
   ],
   "source": [
    "train_dataset = torchvision.datasets.CIFAR10(root='./data', train=True, download=True, transform=train_transform)\n",
    "test_dataset = torchvision.datasets.CIFAR10(root='./data', train=False, download=True, transform=test_transform)\n",
    "\n",
    "train_loader = torch.utils.data.DataLoader(train_dataset, batch_size=128, shuffle=True, num_workers=4)\n",
    "test_loader = torch.utils.data.DataLoader(test_dataset, batch_size=100, shuffle=False, num_workers=4)\n"
   ]
  },
  {
   "cell_type": "code",
   "execution_count": 16,
   "id": "6e50cf32",
   "metadata": {},
   "outputs": [],
   "source": [
    "model = ResNetMLP(num_classes=10, mlp_hidden=256).to(device)\n",
    "optimizer = optim.Adam(model.parameters(), lr=1e-3)\n",
    "criterion = nn.CrossEntropyLoss()"
   ]
  },
  {
   "cell_type": "code",
   "execution_count": 17,
   "id": "a4a63a26",
   "metadata": {},
   "outputs": [
    {
     "name": "stdout",
     "output_type": "stream",
     "text": [
      "\n",
      "Epoch: 1 Total_Time: 5.8375 Average_Time_per_batch: 0.0149 Train_Accuracy: 0.4787 Train_Loss: 1.4302 \n",
      "Epoch: 2 Total_Time: 5.8193 Average_Time_per_batch: 0.0149 Train_Accuracy: 0.6587 Train_Loss: 0.9701 \n",
      "Epoch: 3 Total_Time: 5.6937 Average_Time_per_batch: 0.0146 Train_Accuracy: 0.7331 Train_Loss: 0.7746 \n",
      "Epoch: 4 Total_Time: 5.7803 Average_Time_per_batch: 0.0148 Train_Accuracy: 0.7775 Train_Loss: 0.6473 \n",
      "Epoch: 5 Total_Time: 5.5938 Average_Time_per_batch: 0.0143 Train_Accuracy: 0.8079 Train_Loss: 0.5643 \n",
      "Epoch: 6 Total_Time: 5.8141 Average_Time_per_batch: 0.0149 Train_Accuracy: 0.8296 Train_Loss: 0.5012 \n",
      "Epoch: 7 Total_Time: 5.8533 Average_Time_per_batch: 0.0150 Train_Accuracy: 0.8456 Train_Loss: 0.4536 \n",
      "Epoch: 8 Total_Time: 5.6534 Average_Time_per_batch: 0.0145 Train_Accuracy: 0.8598 Train_Loss: 0.4094 \n",
      "Epoch: 9 Total_Time: 5.8281 Average_Time_per_batch: 0.0149 Train_Accuracy: 0.8721 Train_Loss: 0.3736 \n",
      "Epoch: 10 Total_Time: 5.6774 Average_Time_per_batch: 0.0145 Train_Accuracy: 0.8813 Train_Loss: 0.3480 \n",
      "Epoch: 11 Total_Time: 5.6441 Average_Time_per_batch: 0.0144 Train_Accuracy: 0.8904 Train_Loss: 0.3175 \n",
      "Epoch: 12 Total_Time: 5.7169 Average_Time_per_batch: 0.0146 Train_Accuracy: 0.8996 Train_Loss: 0.2945 \n",
      "Epoch: 13 Total_Time: 5.6554 Average_Time_per_batch: 0.0145 Train_Accuracy: 0.9076 Train_Loss: 0.2740 \n",
      "Epoch: 14 Total_Time: 5.7064 Average_Time_per_batch: 0.0146 Train_Accuracy: 0.9122 Train_Loss: 0.2585 \n",
      "Epoch: 15 Total_Time: 5.6004 Average_Time_per_batch: 0.0143 Train_Accuracy: 0.9183 Train_Loss: 0.2401 \n",
      "Epoch: 16 Total_Time: 5.4617 Average_Time_per_batch: 0.0140 Train_Accuracy: 0.9223 Train_Loss: 0.2227 \n",
      "Epoch: 17 Total_Time: 5.4752 Average_Time_per_batch: 0.0140 Train_Accuracy: 0.9273 Train_Loss: 0.2114 \n",
      "Epoch: 18 Total_Time: 5.4877 Average_Time_per_batch: 0.0140 Train_Accuracy: 0.9339 Train_Loss: 0.1932 \n",
      "Epoch: 19 Total_Time: 5.4511 Average_Time_per_batch: 0.0139 Train_Accuracy: 0.9384 Train_Loss: 0.1799 \n",
      "Epoch: 20 Total_Time: 5.3349 Average_Time_per_batch: 0.0136 Train_Accuracy: 0.9402 Train_Loss: 0.1721 \n",
      "Epoch: 21 Total_Time: 5.2731 Average_Time_per_batch: 0.0135 Train_Accuracy: 0.9443 Train_Loss: 0.1604 \n",
      "Epoch: 22 Total_Time: 5.4914 Average_Time_per_batch: 0.0140 Train_Accuracy: 0.9474 Train_Loss: 0.1531 \n",
      "Epoch: 23 Total_Time: 5.5098 Average_Time_per_batch: 0.0141 Train_Accuracy: 0.9517 Train_Loss: 0.1413 \n",
      "Epoch: 24 Total_Time: 5.5473 Average_Time_per_batch: 0.0142 Train_Accuracy: 0.9540 Train_Loss: 0.1362 \n",
      "Epoch: 25 Total_Time: 5.4452 Average_Time_per_batch: 0.0139 Train_Accuracy: 0.9563 Train_Loss: 0.1280 \n",
      "Epoch: 26 Total_Time: 5.2847 Average_Time_per_batch: 0.0135 Train_Accuracy: 0.9576 Train_Loss: 0.1207 \n",
      "Epoch: 27 Total_Time: 4.8508 Average_Time_per_batch: 0.0124 Train_Accuracy: 0.9597 Train_Loss: 0.1145 \n",
      "Epoch: 28 Total_Time: 5.0514 Average_Time_per_batch: 0.0129 Train_Accuracy: 0.9632 Train_Loss: 0.1056 \n",
      "Epoch: 29 Total_Time: 5.4646 Average_Time_per_batch: 0.0140 Train_Accuracy: 0.9647 Train_Loss: 0.1047 \n",
      "Epoch: 30 Total_Time: 5.4514 Average_Time_per_batch: 0.0139 Train_Accuracy: 0.9665 Train_Loss: 0.0974 \n",
      "Test_Accuracy:  0.9053 Test_Loss:  0.3338659476488829\n",
      "Peak GPU memory: 1218.05 MB\n"
     ]
    }
   ],
   "source": [
    "train_metrics_3, val_metrics_3, test_metrics_3 = train(model, train_loader, None, test_loader, 30, optimizer, criterion, False)"
   ]
  },
  {
   "cell_type": "code",
   "execution_count": 18,
   "id": "47dfa19d",
   "metadata": {},
   "outputs": [],
   "source": [
    "class ResNetDPN(nn.Module):\n",
    "    def __init__(self, num_classes=10, mlp_hidden=256):\n",
    "        super().__init__()\n",
    "        # Load ResNet18 (pretrained=False for CIFAR10, since ImageNet weights use 224x224)\n",
    "        backbone = torchvision.models.resnet18(weights=None)\n",
    "        # Change input conv layer for CIFAR-10 (3x32x32)\n",
    "        backbone.conv1 = nn.Conv2d(3, 64, kernel_size=3, stride=1, padding=1, bias=False)\n",
    "        backbone.maxpool = nn.Identity()  # Remove the first maxpool\n",
    "        # Extract up to the last layer\n",
    "        self.backbone = nn.Sequential(*list(backbone.children())[:-1])  # Remove FC\n",
    "        self.dpn = DPN_3(512, mlp_hidden + num_classes, num_classes, True).cuda()\n",
    "\n",
    "    def forward(self, x):\n",
    "        x = self.backbone(x)  # [B, 512, 1, 1]\n",
    "        x = x.view(x.size(0), -1)  # Flatten\n",
    "        x = self.dpn(x)\n",
    "        return x"
   ]
  },
  {
   "cell_type": "code",
   "execution_count": 19,
   "id": "7f50a468",
   "metadata": {},
   "outputs": [],
   "source": [
    "model = ResNetDPN(num_classes=10, mlp_hidden=256).to(device)\n",
    "optimizer = optim.Adam(model.parameters(), lr=1e-3)\n",
    "criterion = nn.CrossEntropyLoss()"
   ]
  },
  {
   "cell_type": "code",
   "execution_count": 20,
   "id": "03a3fabc",
   "metadata": {},
   "outputs": [
    {
     "name": "stdout",
     "output_type": "stream",
     "text": [
      "\n",
      "Epoch: 1 Total_Time: 5.4124 Average_Time_per_batch: 0.0138 Train_Accuracy: 0.5099 Train_Loss: 1.3393 \n",
      "Epoch: 2 Total_Time: 5.4383 Average_Time_per_batch: 0.0139 Train_Accuracy: 0.6894 Train_Loss: 0.8729 \n",
      "Epoch: 3 Total_Time: 5.4434 Average_Time_per_batch: 0.0139 Train_Accuracy: 0.7609 Train_Loss: 0.6868 \n",
      "Epoch: 4 Total_Time: 5.3822 Average_Time_per_batch: 0.0138 Train_Accuracy: 0.8021 Train_Loss: 0.5758 \n",
      "Epoch: 5 Total_Time: 5.4027 Average_Time_per_batch: 0.0138 Train_Accuracy: 0.8240 Train_Loss: 0.5060 \n",
      "Epoch: 6 Total_Time: 5.4370 Average_Time_per_batch: 0.0139 Train_Accuracy: 0.8443 Train_Loss: 0.4505 \n",
      "Epoch: 7 Total_Time: 5.3597 Average_Time_per_batch: 0.0137 Train_Accuracy: 0.8572 Train_Loss: 0.4100 \n",
      "Epoch: 8 Total_Time: 5.3766 Average_Time_per_batch: 0.0138 Train_Accuracy: 0.8735 Train_Loss: 0.3685 \n",
      "Epoch: 9 Total_Time: 5.4630 Average_Time_per_batch: 0.0140 Train_Accuracy: 0.8837 Train_Loss: 0.3339 \n",
      "Epoch: 10 Total_Time: 5.4242 Average_Time_per_batch: 0.0139 Train_Accuracy: 0.8943 Train_Loss: 0.3071 \n",
      "Epoch: 11 Total_Time: 5.3510 Average_Time_per_batch: 0.0137 Train_Accuracy: 0.9020 Train_Loss: 0.2815 \n",
      "Epoch: 12 Total_Time: 5.4117 Average_Time_per_batch: 0.0138 Train_Accuracy: 0.9091 Train_Loss: 0.2603 \n",
      "Epoch: 13 Total_Time: 5.4050 Average_Time_per_batch: 0.0138 Train_Accuracy: 0.9146 Train_Loss: 0.2431 \n",
      "Epoch: 14 Total_Time: 5.3655 Average_Time_per_batch: 0.0137 Train_Accuracy: 0.9226 Train_Loss: 0.2243 \n",
      "Epoch: 15 Total_Time: 5.4179 Average_Time_per_batch: 0.0139 Train_Accuracy: 0.9260 Train_Loss: 0.2130 \n",
      "Epoch: 16 Total_Time: 5.4165 Average_Time_per_batch: 0.0139 Train_Accuracy: 0.9303 Train_Loss: 0.1953 \n",
      "Epoch: 17 Total_Time: 5.4071 Average_Time_per_batch: 0.0138 Train_Accuracy: 0.9345 Train_Loss: 0.1839 \n",
      "Epoch: 18 Total_Time: 4.8132 Average_Time_per_batch: 0.0123 Train_Accuracy: 0.9423 Train_Loss: 0.1654 \n",
      "Epoch: 19 Total_Time: 5.3870 Average_Time_per_batch: 0.0138 Train_Accuracy: 0.9443 Train_Loss: 0.1579 \n",
      "Epoch: 20 Total_Time: 5.3582 Average_Time_per_batch: 0.0137 Train_Accuracy: 0.9499 Train_Loss: 0.1449 \n",
      "Epoch: 21 Total_Time: 5.4195 Average_Time_per_batch: 0.0139 Train_Accuracy: 0.9482 Train_Loss: 0.1456 \n",
      "Epoch: 22 Total_Time: 5.1625 Average_Time_per_batch: 0.0132 Train_Accuracy: 0.9543 Train_Loss: 0.1295 \n",
      "Epoch: 23 Total_Time: 5.3181 Average_Time_per_batch: 0.0136 Train_Accuracy: 0.9563 Train_Loss: 0.1219 \n",
      "Epoch: 24 Total_Time: 5.3729 Average_Time_per_batch: 0.0137 Train_Accuracy: 0.9610 Train_Loss: 0.1143 \n",
      "Epoch: 25 Total_Time: 5.4979 Average_Time_per_batch: 0.0141 Train_Accuracy: 0.9613 Train_Loss: 0.1083 \n",
      "Epoch: 26 Total_Time: 5.4305 Average_Time_per_batch: 0.0139 Train_Accuracy: 0.9623 Train_Loss: 0.1054 \n",
      "Epoch: 27 Total_Time: 5.3861 Average_Time_per_batch: 0.0138 Train_Accuracy: 0.9660 Train_Loss: 0.0943 \n",
      "Epoch: 28 Total_Time: 5.3915 Average_Time_per_batch: 0.0138 Train_Accuracy: 0.9674 Train_Loss: 0.0927 \n",
      "Epoch: 29 Total_Time: 5.4697 Average_Time_per_batch: 0.0140 Train_Accuracy: 0.9693 Train_Loss: 0.0863 \n",
      "Epoch: 30 Total_Time: 5.4472 Average_Time_per_batch: 0.0139 Train_Accuracy: 0.9700 Train_Loss: 0.0846 \n",
      "Test_Accuracy:  0.9062 Test_Loss:  0.3706337308883667\n",
      "Peak GPU memory: 1215.48 MB\n"
     ]
    }
   ],
   "source": [
    "train_metrics_3, val_metrics_3, test_metrics_3 = train(model, train_loader, None, test_loader, 30, optimizer, criterion, False)"
   ]
  },
  {
   "cell_type": "code",
   "execution_count": 21,
   "id": "9ccd742a",
   "metadata": {},
   "outputs": [],
   "source": [
    "in_channels = 3                # change to 3 if you use CIFAR10 dataset\n",
    "image_size = 32                # change to 32 if you use CIFAR10 dataset\n",
    "num_classes = 10\n",
    "\n",
    "lr = 1e-3\n",
    "batch_size = 64\n",
    "\n",
    "patch_size = 4         # Each patch is 16x16, so 2x2 = 4 patches per image\n",
    "hidden_dim = 256       # Token-mixing MLP hidden dim (formerly token_dim)\n",
    "tokens_mlp_dim = 512    # Tokens MLP dim\n",
    "channels_mlp_dim = 2048 # Channels MLP dim\n",
    "num_blocks = 6         # Number of Mixer layers"
   ]
  },
  {
   "cell_type": "code",
   "execution_count": 22,
   "id": "4552c641",
   "metadata": {},
   "outputs": [],
   "source": [
    "from MLP_Mixer import MLPMixer\n",
    "model = MLPMixer(in_channels=in_channels, embedding_dim=hidden_dim, num_classes=num_classes, patch_size=patch_size, image_size=image_size, depth=num_blocks, token_intermediate_dim=tokens_mlp_dim, channel_intermediate_dim=channels_mlp_dim).to(device)\n",
    "optimizer = optim.Adam(model.parameters(), lr=lr)\n",
    "criterion = nn.CrossEntropyLoss()"
   ]
  },
  {
   "cell_type": "code",
   "execution_count": 23,
   "id": "dcae98fc",
   "metadata": {},
   "outputs": [
    {
     "name": "stdout",
     "output_type": "stream",
     "text": [
      "\n",
      "Epoch: 1 Total_Time: 5.8143 Average_Time_per_batch: 0.0149 Train_Accuracy: 0.3541 Train_Loss: 1.7426 \n",
      "Epoch: 2 Total_Time: 5.8923 Average_Time_per_batch: 0.0151 Train_Accuracy: 0.5220 Train_Loss: 1.3224 \n",
      "Epoch: 3 Total_Time: 5.8795 Average_Time_per_batch: 0.0150 Train_Accuracy: 0.5831 Train_Loss: 1.1611 \n",
      "Epoch: 4 Total_Time: 5.6536 Average_Time_per_batch: 0.0145 Train_Accuracy: 0.6250 Train_Loss: 1.0460 \n",
      "Epoch: 5 Total_Time: 5.8334 Average_Time_per_batch: 0.0149 Train_Accuracy: 0.6547 Train_Loss: 0.9683 \n",
      "Epoch: 6 Total_Time: 5.8275 Average_Time_per_batch: 0.0149 Train_Accuracy: 0.6791 Train_Loss: 0.9019 \n",
      "Epoch: 7 Total_Time: 5.8835 Average_Time_per_batch: 0.0150 Train_Accuracy: 0.7012 Train_Loss: 0.8452 \n",
      "Epoch: 8 Total_Time: 5.8281 Average_Time_per_batch: 0.0149 Train_Accuracy: 0.7163 Train_Loss: 0.7949 \n",
      "Epoch: 9 Total_Time: 5.3544 Average_Time_per_batch: 0.0137 Train_Accuracy: 0.7301 Train_Loss: 0.7606 \n",
      "Epoch: 10 Total_Time: 5.7278 Average_Time_per_batch: 0.0146 Train_Accuracy: 0.7497 Train_Loss: 0.7093 \n",
      "Epoch: 11 Total_Time: 5.8622 Average_Time_per_batch: 0.0150 Train_Accuracy: 0.7619 Train_Loss: 0.6678 \n",
      "Epoch: 12 Total_Time: 5.8044 Average_Time_per_batch: 0.0148 Train_Accuracy: 0.7728 Train_Loss: 0.6393 \n",
      "Epoch: 13 Total_Time: 5.9179 Average_Time_per_batch: 0.0151 Train_Accuracy: 0.7877 Train_Loss: 0.6032 \n",
      "Epoch: 14 Total_Time: 5.8721 Average_Time_per_batch: 0.0150 Train_Accuracy: 0.7986 Train_Loss: 0.5663 \n",
      "Epoch: 15 Total_Time: 5.8276 Average_Time_per_batch: 0.0149 Train_Accuracy: 0.8115 Train_Loss: 0.5289 \n",
      "Epoch: 16 Total_Time: 5.9016 Average_Time_per_batch: 0.0151 Train_Accuracy: 0.8224 Train_Loss: 0.4988 \n",
      "Epoch: 17 Total_Time: 5.8915 Average_Time_per_batch: 0.0151 Train_Accuracy: 0.8357 Train_Loss: 0.4604 \n",
      "Epoch: 18 Total_Time: 5.8754 Average_Time_per_batch: 0.0150 Train_Accuracy: 0.8469 Train_Loss: 0.4309 \n",
      "Epoch: 19 Total_Time: 5.8040 Average_Time_per_batch: 0.0148 Train_Accuracy: 0.8571 Train_Loss: 0.3945 \n",
      "Epoch: 20 Total_Time: 5.8785 Average_Time_per_batch: 0.0150 Train_Accuracy: 0.8704 Train_Loss: 0.3636 \n",
      "Epoch: 21 Total_Time: 5.8505 Average_Time_per_batch: 0.0150 Train_Accuracy: 0.8811 Train_Loss: 0.3328 \n",
      "Epoch: 22 Total_Time: 5.8174 Average_Time_per_batch: 0.0149 Train_Accuracy: 0.8911 Train_Loss: 0.3042 \n",
      "Epoch: 23 Total_Time: 5.8887 Average_Time_per_batch: 0.0151 Train_Accuracy: 0.8994 Train_Loss: 0.2763 \n",
      "Epoch: 24 Total_Time: 5.7760 Average_Time_per_batch: 0.0148 Train_Accuracy: 0.9079 Train_Loss: 0.2540 \n",
      "Epoch: 25 Total_Time: 5.8599 Average_Time_per_batch: 0.0150 Train_Accuracy: 0.9165 Train_Loss: 0.2313 \n",
      "Epoch: 26 Total_Time: 5.8658 Average_Time_per_batch: 0.0150 Train_Accuracy: 0.9242 Train_Loss: 0.2131 \n",
      "Epoch: 27 Total_Time: 5.8338 Average_Time_per_batch: 0.0149 Train_Accuracy: 0.9313 Train_Loss: 0.1922 \n",
      "Epoch: 28 Total_Time: 5.8698 Average_Time_per_batch: 0.0150 Train_Accuracy: 0.9348 Train_Loss: 0.1792 \n",
      "Epoch: 29 Total_Time: 5.8781 Average_Time_per_batch: 0.0150 Train_Accuracy: 0.9393 Train_Loss: 0.1727 \n",
      "Epoch: 30 Total_Time: 5.8071 Average_Time_per_batch: 0.0149 Train_Accuracy: 0.9442 Train_Loss: 0.1558 \n",
      "Test_Accuracy:  0.7817 Test_Loss:  0.8445400986075401\n",
      "Peak GPU memory: 2216.03 MB\n"
     ]
    }
   ],
   "source": [
    "train_metrics_3, val_metrics_3, test_metrics_3 = train(model, train_loader, None, test_loader, 30, optimizer, criterion, False)"
   ]
  },
  {
   "cell_type": "code",
   "execution_count": 24,
   "id": "714a5663",
   "metadata": {},
   "outputs": [],
   "source": [
    "from DPN_Mixer import MLPMixer as DPNMixer\n",
    "model = DPNMixer(in_channels=in_channels, embedding_dim=hidden_dim, num_classes=num_classes, patch_size=patch_size, image_size=image_size, depth=num_blocks, token_intermediate_dim=tokens_mlp_dim, channel_intermediate_dim=channels_mlp_dim)\n",
    "optimizer = optim.Adam(model.parameters(), lr=lr)\n",
    "criterion = nn.CrossEntropyLoss()"
   ]
  },
  {
   "cell_type": "code",
   "execution_count": 25,
   "id": "54990f34",
   "metadata": {},
   "outputs": [],
   "source": [
    "torch.cuda.empty_cache()\n",
    "\n",
    "'''if torch.cuda.device_count() > 1:\n",
    "    print(f\"Using {torch.cuda.device_count()} GPUs!\")\n",
    "    model = nn.DataParallel(model)  # Wrap the model in DataParallel'''\n",
    "\n",
    "model = model.to(device)"
   ]
  },
  {
   "cell_type": "code",
   "execution_count": 26,
   "id": "a14155c1",
   "metadata": {},
   "outputs": [
    {
     "name": "stdout",
     "output_type": "stream",
     "text": [
      "\n",
      "Epoch: 1 Total_Time: 1.6306 Average_Time_per_batch: 0.0042 Train_Accuracy: 0.3585 Train_Loss: 1.7414 \n",
      "Epoch: 2 Total_Time: 1.6806 Average_Time_per_batch: 0.0043 Train_Accuracy: 0.5029 Train_Loss: 1.3698 \n",
      "Epoch: 3 Total_Time: 1.6416 Average_Time_per_batch: 0.0042 Train_Accuracy: 0.5422 Train_Loss: 1.2660 \n",
      "Epoch: 4 Total_Time: 1.6444 Average_Time_per_batch: 0.0042 Train_Accuracy: 0.5618 Train_Loss: 1.2049 \n",
      "Epoch: 5 Total_Time: 1.6157 Average_Time_per_batch: 0.0041 Train_Accuracy: 0.5816 Train_Loss: 1.1590 \n",
      "Epoch: 6 Total_Time: 1.6627 Average_Time_per_batch: 0.0043 Train_Accuracy: 0.5980 Train_Loss: 1.1109 \n",
      "Epoch: 7 Total_Time: 1.6787 Average_Time_per_batch: 0.0043 Train_Accuracy: 0.6097 Train_Loss: 1.0813 \n",
      "Epoch: 8 Total_Time: 1.6217 Average_Time_per_batch: 0.0041 Train_Accuracy: 0.6231 Train_Loss: 1.0459 \n",
      "Epoch: 9 Total_Time: 1.6613 Average_Time_per_batch: 0.0042 Train_Accuracy: 0.6361 Train_Loss: 1.0202 \n",
      "Epoch: 10 Total_Time: 1.6438 Average_Time_per_batch: 0.0042 Train_Accuracy: 0.6435 Train_Loss: 0.9932 \n",
      "Epoch: 11 Total_Time: 1.7012 Average_Time_per_batch: 0.0044 Train_Accuracy: 0.6544 Train_Loss: 0.9697 \n",
      "Epoch: 12 Total_Time: 1.6708 Average_Time_per_batch: 0.0043 Train_Accuracy: 0.6633 Train_Loss: 0.9414 \n",
      "Epoch: 13 Total_Time: 1.6228 Average_Time_per_batch: 0.0042 Train_Accuracy: 0.6723 Train_Loss: 0.9174 \n",
      "Epoch: 14 Total_Time: 1.6301 Average_Time_per_batch: 0.0042 Train_Accuracy: 0.6789 Train_Loss: 0.8948 \n",
      "Epoch: 15 Total_Time: 1.6726 Average_Time_per_batch: 0.0043 Train_Accuracy: 0.6883 Train_Loss: 0.8737 \n",
      "Epoch: 16 Total_Time: 1.6704 Average_Time_per_batch: 0.0043 Train_Accuracy: 0.6968 Train_Loss: 0.8513 \n",
      "Epoch: 17 Total_Time: 1.6319 Average_Time_per_batch: 0.0042 Train_Accuracy: 0.7041 Train_Loss: 0.8351 \n",
      "Epoch: 18 Total_Time: 1.6390 Average_Time_per_batch: 0.0042 Train_Accuracy: 0.7082 Train_Loss: 0.8228 \n",
      "Epoch: 19 Total_Time: 1.6753 Average_Time_per_batch: 0.0043 Train_Accuracy: 0.7154 Train_Loss: 0.7982 \n",
      "Epoch: 20 Total_Time: 1.6580 Average_Time_per_batch: 0.0042 Train_Accuracy: 0.7187 Train_Loss: 0.7837 \n",
      "Test_Accuracy:  0.6968 Test_Loss:  0.8580706971883774\n",
      "Peak GPU memory: 2416.53 MB\n"
     ]
    }
   ],
   "source": [
    "train_metrics_3, val_metrics_3, test_metrics_3 = train(model, train_loader, None, test_loader, 20, optimizer, criterion, False)"
   ]
  },
  {
   "cell_type": "code",
   "execution_count": null,
   "id": "6ebd1699",
   "metadata": {},
   "outputs": [],
   "source": []
  }
 ],
 "metadata": {
  "kernelspec": {
   "display_name": "saroshgpu",
   "language": "python",
   "name": "python3"
  },
  "language_info": {
   "codemirror_mode": {
    "name": "ipython",
    "version": 3
   },
   "file_extension": ".py",
   "mimetype": "text/x-python",
   "name": "python",
   "nbconvert_exporter": "python",
   "pygments_lexer": "ipython3",
   "version": "3.9.21"
  }
 },
 "nbformat": 4,
 "nbformat_minor": 5
}
