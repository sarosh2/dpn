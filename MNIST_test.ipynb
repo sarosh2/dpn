{
 "cells": [
  {
   "cell_type": "code",
   "execution_count": 1,
   "id": "087a5bf3",
   "metadata": {},
   "outputs": [],
   "source": [
    "import torch\n",
    "import torch.nn as nn\n",
    "import torch.optim as optim\n",
    "from torchvision import datasets\n",
    "from torch.utils.data import DataLoader, TensorDataset\n",
    "import torch.nn.functional as F\n",
    "from spn_3.spn import SPN\n",
    "from utils import train"
   ]
  },
  {
   "cell_type": "code",
   "execution_count": 2,
   "id": "b913841b",
   "metadata": {},
   "outputs": [],
   "source": [
    "class MLP_MNIST(nn.Module):\n",
    "    def __init__(self):\n",
    "        super(MLP_MNIST, self).__init__()\n",
    "        self.model = nn.Sequential(\n",
    "            nn.Flatten(),\n",
    "            nn.Linear(784, 512),\n",
    "            nn.ReLU(),\n",
    "            nn.Linear(512, 256),\n",
    "            nn.ReLU(),\n",
    "            nn.Linear(256, 128),\n",
    "            nn.ReLU(),\n",
    "            nn.Linear(128, 10),\n",
    "        )\n",
    "\n",
    "    def forward(self, x):\n",
    "        return self.model(x)\n"
   ]
  },
  {
   "cell_type": "code",
   "execution_count": 3,
   "id": "dfe3c449",
   "metadata": {},
   "outputs": [],
   "source": [
    "#hyperparameters\n",
    "batch_size = 64\n",
    "learning_rate = 0.001\n",
    "epochs = 20\n",
    "device = torch.device(\"cuda\" if torch.cuda.is_available() else \"cpu\")"
   ]
  },
  {
   "cell_type": "code",
   "execution_count": 4,
   "id": "11082808",
   "metadata": {},
   "outputs": [],
   "source": [
    "# Load and preprocess the entire MNIST dataset once\n",
    "train_dataset = datasets.MNIST(root='./data', train=True, download=True)\n",
    "test_dataset = datasets.MNIST(root='./data', train=False, download=True)\n",
    "\n",
    "num_classes = 10\n",
    "\n",
    "# Normalize and flatten once\n",
    "train_data = train_dataset.data.float().div(255).view(-1, 784).to(device)\n",
    "train_labels = F.one_hot(train_dataset.targets.to(device), num_classes=num_classes).float()\n",
    "\n",
    "test_data = test_dataset.data.float().div(255).view(-1, 784).to(device)\n",
    "test_labels = F.one_hot(test_dataset.targets.to(device), num_classes=num_classes).float()\n",
    "\n",
    "# Create DataLoader from preloaded GPU tensors\n",
    "train_loader = DataLoader(TensorDataset(train_data, train_labels), batch_size=batch_size, shuffle=True)\n",
    "test_loader = DataLoader(TensorDataset(test_data, test_labels), batch_size=batch_size, shuffle=False)"
   ]
  },
  {
   "cell_type": "code",
   "execution_count": 5,
   "id": "8c9f39bd",
   "metadata": {},
   "outputs": [],
   "source": [
    "model_1 = MLP_MNIST().to(device)\n",
    "model_1 = torch.jit.script(model_1)\n",
    "criterion = nn.CrossEntropyLoss()\n",
    "optimizer = optim.Adam(model_1.parameters(), lr=learning_rate)"
   ]
  },
  {
   "cell_type": "code",
   "execution_count": 6,
   "id": "5e4f7b5e",
   "metadata": {},
   "outputs": [
    {
     "name": "stdout",
     "output_type": "stream",
     "text": [
      "Epoch: 1 Total_Time: 2.3711 Average_Time_per_batch: 0.0025 Train_Accuracy: 0.9204 Train_Loss: 0.2621 \n",
      "Epoch: 2 Total_Time: 1.9994 Average_Time_per_batch: 0.0021 Train_Accuracy: 0.9705 Train_Loss: 0.0965 \n",
      "Epoch: 3 Total_Time: 1.6010 Average_Time_per_batch: 0.0017 Train_Accuracy: 0.9795 Train_Loss: 0.0655 \n",
      "Epoch: 4 Total_Time: 1.6191 Average_Time_per_batch: 0.0017 Train_Accuracy: 0.9847 Train_Loss: 0.0481 \n",
      "Epoch: 5 Total_Time: 1.5913 Average_Time_per_batch: 0.0017 Train_Accuracy: 0.9873 Train_Loss: 0.0400 \n",
      "Epoch: 6 Total_Time: 1.6047 Average_Time_per_batch: 0.0017 Train_Accuracy: 0.9905 Train_Loss: 0.0310 \n",
      "Epoch: 7 Total_Time: 1.6079 Average_Time_per_batch: 0.0017 Train_Accuracy: 0.9912 Train_Loss: 0.0273 \n",
      "Epoch: 8 Total_Time: 1.6212 Average_Time_per_batch: 0.0017 Train_Accuracy: 0.9930 Train_Loss: 0.0218 \n",
      "Epoch: 9 Total_Time: 1.7408 Average_Time_per_batch: 0.0019 Train_Accuracy: 0.9926 Train_Loss: 0.0226 \n",
      "Epoch: 10 Total_Time: 1.6006 Average_Time_per_batch: 0.0017 Train_Accuracy: 0.9950 Train_Loss: 0.0161 \n",
      "Epoch: 11 Total_Time: 1.6233 Average_Time_per_batch: 0.0017 Train_Accuracy: 0.9938 Train_Loss: 0.0180 \n",
      "Epoch: 12 Total_Time: 1.5896 Average_Time_per_batch: 0.0017 Train_Accuracy: 0.9955 Train_Loss: 0.0143 \n",
      "Epoch: 13 Total_Time: 1.6065 Average_Time_per_batch: 0.0017 Train_Accuracy: 0.9953 Train_Loss: 0.0159 \n",
      "Epoch: 14 Total_Time: 1.5843 Average_Time_per_batch: 0.0017 Train_Accuracy: 0.9957 Train_Loss: 0.0135 \n",
      "Epoch: 15 Total_Time: 1.5925 Average_Time_per_batch: 0.0017 Train_Accuracy: 0.9960 Train_Loss: 0.0129 \n",
      "Epoch: 16 Total_Time: 1.6030 Average_Time_per_batch: 0.0017 Train_Accuracy: 0.9961 Train_Loss: 0.0117 \n",
      "Epoch: 17 Total_Time: 1.6042 Average_Time_per_batch: 0.0017 Train_Accuracy: 0.9969 Train_Loss: 0.0104 \n",
      "Epoch: 18 Total_Time: 1.6189 Average_Time_per_batch: 0.0017 Train_Accuracy: 0.9973 Train_Loss: 0.0092 \n",
      "Epoch: 19 Total_Time: 1.5889 Average_Time_per_batch: 0.0017 Train_Accuracy: 0.9970 Train_Loss: 0.0097 \n",
      "Epoch: 20 Total_Time: 1.6004 Average_Time_per_batch: 0.0017 Train_Accuracy: 0.9972 Train_Loss: 0.0085 \n",
      "Test_Accuracy:  0.9797 Test_Loss:  0.11993124464518601\n",
      "Peak GPU memory: 252.03 MB\n"
     ]
    }
   ],
   "source": [
    "train(model_1, train_loader, None, test_loader, epochs, optimizer, criterion)"
   ]
  },
  {
   "cell_type": "code",
   "execution_count": null,
   "id": "3297d657",
   "metadata": {},
   "outputs": [],
   "source": [
    "model_2 = SPN(784, 246, 10).cuda()\n",
    "model_2 = torch.jit.trace(model_2, torch.randn(batch_size, 784).cuda())\n",
    "optimizer = optim.Adam(model_2.parameters(), lr=learning_rate)"
   ]
  },
  {
   "cell_type": "code",
   "execution_count": 8,
   "id": "d542650e",
   "metadata": {},
   "outputs": [
    {
     "name": "stdout",
     "output_type": "stream",
     "text": [
      "Epoch: 1 Total_Time: 1.3331 Average_Time_per_batch: 0.0014 Train_Accuracy: 0.9109 Train_Loss: 0.3205 \n",
      "Epoch: 2 Total_Time: 1.1924 Average_Time_per_batch: 0.0013 Train_Accuracy: 0.9606 Train_Loss: 0.1363 \n",
      "Epoch: 3 Total_Time: 1.1987 Average_Time_per_batch: 0.0013 Train_Accuracy: 0.9731 Train_Loss: 0.0913 \n",
      "Epoch: 4 Total_Time: 1.1946 Average_Time_per_batch: 0.0013 Train_Accuracy: 0.9793 Train_Loss: 0.0680 \n",
      "Epoch: 5 Total_Time: 1.1941 Average_Time_per_batch: 0.0013 Train_Accuracy: 0.9845 Train_Loss: 0.0520 \n",
      "Epoch: 6 Total_Time: 1.2135 Average_Time_per_batch: 0.0013 Train_Accuracy: 0.9881 Train_Loss: 0.0402 \n",
      "Epoch: 7 Total_Time: 1.2073 Average_Time_per_batch: 0.0013 Train_Accuracy: 0.9908 Train_Loss: 0.0308 \n",
      "Epoch: 8 Total_Time: 1.1791 Average_Time_per_batch: 0.0013 Train_Accuracy: 0.9930 Train_Loss: 0.0251 \n",
      "Epoch: 9 Total_Time: 1.1625 Average_Time_per_batch: 0.0012 Train_Accuracy: 0.9939 Train_Loss: 0.0209 \n",
      "Epoch: 10 Total_Time: 1.1771 Average_Time_per_batch: 0.0013 Train_Accuracy: 0.9958 Train_Loss: 0.0158 \n",
      "Epoch: 11 Total_Time: 1.1999 Average_Time_per_batch: 0.0013 Train_Accuracy: 0.9968 Train_Loss: 0.0124 \n",
      "Epoch: 12 Total_Time: 1.1797 Average_Time_per_batch: 0.0013 Train_Accuracy: 0.9966 Train_Loss: 0.0121 \n",
      "Epoch: 13 Total_Time: 1.1950 Average_Time_per_batch: 0.0013 Train_Accuracy: 0.9980 Train_Loss: 0.0085 \n",
      "Epoch: 14 Total_Time: 1.1893 Average_Time_per_batch: 0.0013 Train_Accuracy: 0.9973 Train_Loss: 0.0092 \n",
      "Epoch: 15 Total_Time: 1.1996 Average_Time_per_batch: 0.0013 Train_Accuracy: 0.9985 Train_Loss: 0.0062 \n",
      "Epoch: 16 Total_Time: 1.1965 Average_Time_per_batch: 0.0013 Train_Accuracy: 0.9984 Train_Loss: 0.0058 \n",
      "Epoch: 17 Total_Time: 1.1739 Average_Time_per_batch: 0.0013 Train_Accuracy: 0.9986 Train_Loss: 0.0052 \n",
      "Epoch: 18 Total_Time: 1.1760 Average_Time_per_batch: 0.0013 Train_Accuracy: 0.9978 Train_Loss: 0.0063 \n",
      "Epoch: 19 Total_Time: 1.1867 Average_Time_per_batch: 0.0013 Train_Accuracy: 0.9989 Train_Loss: 0.0040 \n",
      "Epoch: 20 Total_Time: 1.1772 Average_Time_per_batch: 0.0013 Train_Accuracy: 0.9986 Train_Loss: 0.0045 \n",
      "Test_Accuracy:  0.9815 Test_Loss:  0.08724239514935543\n",
      "Peak GPU memory: 249.38 MB\n"
     ]
    }
   ],
   "source": [
    "train(model_2, train_loader, None, test_loader, epochs, optimizer, criterion)"
   ]
  }
 ],
 "metadata": {
  "kernelspec": {
   "display_name": "saroshgpu",
   "language": "python",
   "name": "python3"
  },
  "language_info": {
   "codemirror_mode": {
    "name": "ipython",
    "version": 3
   },
   "file_extension": ".py",
   "mimetype": "text/x-python",
   "name": "python",
   "nbconvert_exporter": "python",
   "pygments_lexer": "ipython3",
   "version": "3.9.21"
  }
 },
 "nbformat": 4,
 "nbformat_minor": 5
}
