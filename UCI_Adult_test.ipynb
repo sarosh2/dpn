{
 "cells": [
  {
   "cell_type": "code",
   "execution_count": 1,
   "id": "9b0dcd46",
   "metadata": {},
   "outputs": [],
   "source": [
    "import torch\n",
    "import torch.nn as nn\n",
    "import torch.optim as optim\n",
    "from torch.utils.data import Dataset, DataLoader\n",
    "import numpy as np\n",
    "from sklearn.preprocessing import StandardScaler, LabelEncoder, OneHotEncoder\n",
    "from sklearn.model_selection import train_test_split\n",
    "import pandas as pd"
   ]
  },
  {
   "cell_type": "code",
   "execution_count": 2,
   "id": "e5ba4acf",
   "metadata": {},
   "outputs": [],
   "source": [
    "# 1. Load the Adult dataset (OpenML, needs internet)\n",
    "from sklearn.datasets import fetch_openml\n",
    "adult = fetch_openml('adult', version=2, as_frame=True)\n",
    "X = adult.data\n",
    "y = adult.target"
   ]
  },
  {
   "cell_type": "code",
   "execution_count": 3,
   "id": "280b0208",
   "metadata": {},
   "outputs": [],
   "source": [
    "# 2. Preprocessing: Encode categorical features and target\n",
    "categorical_cols = X.select_dtypes(include='category').columns.tolist()\n",
    "numerical_cols = X.select_dtypes(include=['int', 'float']).columns.tolist()\n",
    "\n",
    "# One-hot encode categorical features\n",
    "X_cat = pd.get_dummies(X[categorical_cols], dummy_na=True)\n",
    "# Standardize numerical features\n",
    "scaler = StandardScaler()\n",
    "X_num = pd.DataFrame(scaler.fit_transform(X[numerical_cols]), columns=numerical_cols)\n",
    "\n",
    "X_prepared = pd.concat([X_num, X_cat], axis=1).values.astype(np.float32)\n",
    "\n",
    "# Encode target (binary: <=50K, >50K)\n",
    "le = LabelEncoder()\n",
    "y_prepared = le.fit_transform(y).astype(np.float32)\n"
   ]
  },
  {
   "cell_type": "code",
   "execution_count": 4,
   "id": "a18586bb",
   "metadata": {},
   "outputs": [],
   "source": [
    "# 3. Train/test split\n",
    "X_train, X_test, y_train, y_test = train_test_split(X_prepared, y_prepared, test_size=0.2, random_state=42)"
   ]
  },
  {
   "cell_type": "code",
   "execution_count": 5,
   "id": "62e45881",
   "metadata": {},
   "outputs": [],
   "source": [
    "# 4. PyTorch Dataset\n",
    "class AdultDataset(Dataset):\n",
    "    def __init__(self, X, y):\n",
    "        self.X = torch.from_numpy(X)\n",
    "        self.y = torch.from_numpy(y).unsqueeze(1)\n",
    "    def __len__(self):\n",
    "        return len(self.X)\n",
    "    def __getitem__(self, idx):\n",
    "        return self.X[idx], self.y[idx]"
   ]
  },
  {
   "cell_type": "code",
   "execution_count": 6,
   "id": "10a044d2",
   "metadata": {},
   "outputs": [],
   "source": [
    "train_ds = AdultDataset(X_train, y_train)\n",
    "test_ds = AdultDataset(X_test, y_test)"
   ]
  },
  {
   "cell_type": "code",
   "execution_count": 7,
   "id": "477aae9b",
   "metadata": {},
   "outputs": [],
   "source": [
    "train_loader = DataLoader(train_ds, batch_size=128, shuffle=True)\n",
    "test_loader = DataLoader(test_ds, batch_size=128)"
   ]
  },
  {
   "cell_type": "code",
   "execution_count": 8,
   "id": "1c683f68",
   "metadata": {},
   "outputs": [],
   "source": [
    "# 5. Standard MLP Model\n",
    "class MLP(nn.Module):\n",
    "    def __init__(self, input_dim):\n",
    "        super().__init__()\n",
    "        self.model = nn.Sequential(\n",
    "            nn.Linear(input_dim, 8),\n",
    "            nn.ReLU(),\n",
    "            nn.Linear(8, 4),\n",
    "            nn.ReLU(),\n",
    "            nn.Linear(4, 1),\n",
    "            nn.Sigmoid()  # For binary classification\n",
    "        )\n",
    "    def forward(self, x):\n",
    "        return self.model(x)\n"
   ]
  },
  {
   "cell_type": "code",
   "execution_count": 9,
   "id": "a41d683b",
   "metadata": {},
   "outputs": [],
   "source": [
    "from dpn_3.dpn import DPN\n",
    "class MLP_DPN(nn.Module):\n",
    "    def __init__(self, input_dim):\n",
    "        super().__init__()\n",
    "        self.model = nn.Sequential(\n",
    "            DPN(input_dim, 13, 1),\n",
    "            nn.Sigmoid()  # For binary classification\n",
    "        )\n",
    "    def forward(self, x):\n",
    "        return self.model(x)"
   ]
  },
  {
   "cell_type": "code",
   "execution_count": 10,
   "id": "5d210b86",
   "metadata": {},
   "outputs": [],
   "source": [
    "from dpn_3.dpn import DPN\n",
    "class MLP_DPN_MAX(nn.Module):\n",
    "    def __init__(self, input_dim):\n",
    "        super().__init__()\n",
    "        self.model = nn.Sequential(\n",
    "            DPN(input_dim, 13, 1, False),\n",
    "            nn.Sigmoid()  # For binary classification\n",
    "        )\n",
    "    def forward(self, x):\n",
    "        return self.model(x)"
   ]
  },
  {
   "cell_type": "code",
   "execution_count": 11,
   "id": "9e4e7cc1",
   "metadata": {},
   "outputs": [],
   "source": [
    "\n",
    "# Initialize model\n",
    "device = torch.device('cuda' if torch.cuda.is_available() else 'cpu')\n",
    "model = MLP(X_train.shape[1]).to(device)"
   ]
  },
  {
   "cell_type": "code",
   "execution_count": 12,
   "id": "380903ea",
   "metadata": {},
   "outputs": [],
   "source": [
    "# 6. Training setup\n",
    "criterion = nn.BCELoss()\n",
    "optimizer = optim.Adam(model.parameters(), lr=1e-3)"
   ]
  },
  {
   "cell_type": "code",
   "execution_count": 13,
   "id": "2be5fff5",
   "metadata": {},
   "outputs": [
    {
     "name": "stdout",
     "output_type": "stream",
     "text": [
      "\n",
      "Epoch: 1 Total_Time: 0.7061 Average_Time_per_batch: 0.0023 Train_Accuracy: 0.7973 Train_Loss: 0.4773 Validation_Accuracy: 0.8448 Validation_Loss: 0.3343\n",
      "Epoch: 2 Total_Time: 0.4566 Average_Time_per_batch: 0.0015 Train_Accuracy: 0.8477 Train_Loss: 0.3279 Validation_Accuracy: 0.8537 Validation_Loss: 0.3157\n",
      "Epoch: 3 Total_Time: 0.4797 Average_Time_per_batch: 0.0016 Train_Accuracy: 0.8516 Train_Loss: 0.3187 Validation_Accuracy: 0.8570 Validation_Loss: 0.3075\n",
      "Epoch: 4 Total_Time: 0.4671 Average_Time_per_batch: 0.0015 Train_Accuracy: 0.8535 Train_Loss: 0.3146 Validation_Accuracy: 0.8617 Validation_Loss: 0.3056\n",
      "Epoch: 5 Total_Time: 0.4588 Average_Time_per_batch: 0.0015 Train_Accuracy: 0.8551 Train_Loss: 0.3125 Validation_Accuracy: 0.8599 Validation_Loss: 0.3042\n",
      "Epoch: 6 Total_Time: 0.4573 Average_Time_per_batch: 0.0015 Train_Accuracy: 0.8548 Train_Loss: 0.3108 Validation_Accuracy: 0.8607 Validation_Loss: 0.3037\n",
      "Epoch: 7 Total_Time: 0.4706 Average_Time_per_batch: 0.0015 Train_Accuracy: 0.8554 Train_Loss: 0.3103 Validation_Accuracy: 0.8608 Validation_Loss: 0.3028\n",
      "Epoch: 8 Total_Time: 0.4614 Average_Time_per_batch: 0.0015 Train_Accuracy: 0.8550 Train_Loss: 0.3094 Validation_Accuracy: 0.8631 Validation_Loss: 0.3021\n",
      "Epoch: 9 Total_Time: 0.4605 Average_Time_per_batch: 0.0015 Train_Accuracy: 0.8547 Train_Loss: 0.3093 Validation_Accuracy: 0.8631 Validation_Loss: 0.3016\n",
      "Epoch: 10 Total_Time: 0.4590 Average_Time_per_batch: 0.0015 Train_Accuracy: 0.8556 Train_Loss: 0.3088 Validation_Accuracy: 0.8631 Validation_Loss: 0.3015\n",
      "Epoch: 11 Total_Time: 0.4549 Average_Time_per_batch: 0.0015 Train_Accuracy: 0.8565 Train_Loss: 0.3078 Validation_Accuracy: 0.8634 Validation_Loss: 0.3012\n",
      "Epoch: 12 Total_Time: 0.4556 Average_Time_per_batch: 0.0015 Train_Accuracy: 0.8568 Train_Loss: 0.3080 Validation_Accuracy: 0.8642 Validation_Loss: 0.3009\n",
      "Epoch: 13 Total_Time: 0.4559 Average_Time_per_batch: 0.0015 Train_Accuracy: 0.8556 Train_Loss: 0.3077 Validation_Accuracy: 0.8628 Validation_Loss: 0.3013\n",
      "Epoch: 14 Total_Time: 0.4662 Average_Time_per_batch: 0.0015 Train_Accuracy: 0.8562 Train_Loss: 0.3072 Validation_Accuracy: 0.8633 Validation_Loss: 0.3008\n",
      "Epoch: 15 Total_Time: 0.5014 Average_Time_per_batch: 0.0016 Train_Accuracy: 0.8569 Train_Loss: 0.3075 Validation_Accuracy: 0.8615 Validation_Loss: 0.3020\n",
      "Epoch: 16 Total_Time: 0.4669 Average_Time_per_batch: 0.0015 Train_Accuracy: 0.8562 Train_Loss: 0.3074 Validation_Accuracy: 0.8627 Validation_Loss: 0.3015\n",
      "Epoch: 17 Total_Time: 0.4728 Average_Time_per_batch: 0.0015 Train_Accuracy: 0.8570 Train_Loss: 0.3067 Validation_Accuracy: 0.8606 Validation_Loss: 0.3032\n",
      "Epoch: 18 Total_Time: 0.5424 Average_Time_per_batch: 0.0018 Train_Accuracy: 0.8567 Train_Loss: 0.3070 Validation_Accuracy: 0.8627 Validation_Loss: 0.3012\n",
      "Epoch: 19 Total_Time: 0.5150 Average_Time_per_batch: 0.0017 Train_Accuracy: 0.8574 Train_Loss: 0.3065 Validation_Accuracy: 0.8621 Validation_Loss: 0.3017\n",
      "Epoch: 20 Total_Time: 0.4605 Average_Time_per_batch: 0.0015 Train_Accuracy: 0.8567 Train_Loss: 0.3062 Validation_Accuracy: 0.8639 Validation_Loss: 0.3017\n",
      "Test_Accuracy:  0.8639 Test_Loss:  0.30169869740161354\n",
      "Peak GPU memory: 18.20 MB\n"
     ]
    }
   ],
   "source": [
    "from utils import train\n",
    "\n",
    "train_metrics, eval_metrics, test_metrics = train(model, train_loader, test_loader, test_loader, 20, optimizer, criterion, device=device)"
   ]
  },
  {
   "cell_type": "code",
   "execution_count": 14,
   "id": "ad5eab0c",
   "metadata": {},
   "outputs": [],
   "source": [
    "model = MLP_DPN(X_train.shape[1]).to(device)"
   ]
  },
  {
   "cell_type": "code",
   "execution_count": 15,
   "id": "ed3dbf38",
   "metadata": {},
   "outputs": [],
   "source": [
    "# 6. Training setup\n",
    "criterion = nn.BCELoss()\n",
    "optimizer = optim.Adam(model.parameters(), lr=1e-3)"
   ]
  },
  {
   "cell_type": "code",
   "execution_count": 16,
   "id": "54c6309e",
   "metadata": {},
   "outputs": [
    {
     "name": "stdout",
     "output_type": "stream",
     "text": [
      "\n",
      "Epoch: 1 Total_Time: 0.3831 Average_Time_per_batch: 0.0013 Train_Accuracy: 0.8145 Train_Loss: 0.4122 Validation_Accuracy: 0.8467 Validation_Loss: 0.3265\n",
      "Epoch: 2 Total_Time: 0.3739 Average_Time_per_batch: 0.0012 Train_Accuracy: 0.8477 Train_Loss: 0.3270 Validation_Accuracy: 0.8546 Validation_Loss: 0.3140\n",
      "Epoch: 3 Total_Time: 0.3709 Average_Time_per_batch: 0.0012 Train_Accuracy: 0.8512 Train_Loss: 0.3204 Validation_Accuracy: 0.8581 Validation_Loss: 0.3097\n",
      "Epoch: 4 Total_Time: 0.3699 Average_Time_per_batch: 0.0012 Train_Accuracy: 0.8518 Train_Loss: 0.3172 Validation_Accuracy: 0.8594 Validation_Loss: 0.3074\n",
      "Epoch: 5 Total_Time: 0.3795 Average_Time_per_batch: 0.0012 Train_Accuracy: 0.8529 Train_Loss: 0.3153 Validation_Accuracy: 0.8589 Validation_Loss: 0.3057\n",
      "Epoch: 6 Total_Time: 0.3660 Average_Time_per_batch: 0.0012 Train_Accuracy: 0.8535 Train_Loss: 0.3133 Validation_Accuracy: 0.8620 Validation_Loss: 0.3045\n",
      "Epoch: 7 Total_Time: 0.3704 Average_Time_per_batch: 0.0012 Train_Accuracy: 0.8544 Train_Loss: 0.3120 Validation_Accuracy: 0.8622 Validation_Loss: 0.3029\n",
      "Epoch: 8 Total_Time: 0.3655 Average_Time_per_batch: 0.0012 Train_Accuracy: 0.8549 Train_Loss: 0.3109 Validation_Accuracy: 0.8639 Validation_Loss: 0.3026\n",
      "Epoch: 9 Total_Time: 0.3650 Average_Time_per_batch: 0.0012 Train_Accuracy: 0.8554 Train_Loss: 0.3099 Validation_Accuracy: 0.8641 Validation_Loss: 0.3019\n",
      "Epoch: 10 Total_Time: 0.3717 Average_Time_per_batch: 0.0012 Train_Accuracy: 0.8565 Train_Loss: 0.3094 Validation_Accuracy: 0.8650 Validation_Loss: 0.3011\n",
      "Epoch: 11 Total_Time: 0.3670 Average_Time_per_batch: 0.0012 Train_Accuracy: 0.8565 Train_Loss: 0.3085 Validation_Accuracy: 0.8653 Validation_Loss: 0.3011\n",
      "Epoch: 12 Total_Time: 0.3682 Average_Time_per_batch: 0.0012 Train_Accuracy: 0.8564 Train_Loss: 0.3081 Validation_Accuracy: 0.8646 Validation_Loss: 0.3013\n",
      "Epoch: 13 Total_Time: 0.3708 Average_Time_per_batch: 0.0012 Train_Accuracy: 0.8563 Train_Loss: 0.3076 Validation_Accuracy: 0.8645 Validation_Loss: 0.3006\n",
      "Epoch: 14 Total_Time: 0.3773 Average_Time_per_batch: 0.0012 Train_Accuracy: 0.8559 Train_Loss: 0.3075 Validation_Accuracy: 0.8628 Validation_Loss: 0.3014\n",
      "Epoch: 15 Total_Time: 0.3632 Average_Time_per_batch: 0.0012 Train_Accuracy: 0.8571 Train_Loss: 0.3070 Validation_Accuracy: 0.8644 Validation_Loss: 0.3003\n",
      "Epoch: 16 Total_Time: 0.3662 Average_Time_per_batch: 0.0012 Train_Accuracy: 0.8574 Train_Loss: 0.3064 Validation_Accuracy: 0.8633 Validation_Loss: 0.3013\n",
      "Epoch: 17 Total_Time: 0.3734 Average_Time_per_batch: 0.0012 Train_Accuracy: 0.8565 Train_Loss: 0.3064 Validation_Accuracy: 0.8641 Validation_Loss: 0.3009\n",
      "Epoch: 18 Total_Time: 0.3775 Average_Time_per_batch: 0.0012 Train_Accuracy: 0.8568 Train_Loss: 0.3061 Validation_Accuracy: 0.8626 Validation_Loss: 0.3008\n",
      "Epoch: 19 Total_Time: 0.3686 Average_Time_per_batch: 0.0012 Train_Accuracy: 0.8571 Train_Loss: 0.3059 Validation_Accuracy: 0.8634 Validation_Loss: 0.3009\n",
      "Epoch: 20 Total_Time: 0.3664 Average_Time_per_batch: 0.0012 Train_Accuracy: 0.8570 Train_Loss: 0.3059 Validation_Accuracy: 0.8646 Validation_Loss: 0.3004\n",
      "Test_Accuracy:  0.8646 Test_Loss:  0.3003723238596641\n",
      "Peak GPU memory: 18.20 MB\n"
     ]
    }
   ],
   "source": [
    "train_metrics, eval_metrics, test_metrics = train(model, train_loader, test_loader, test_loader, 20, optimizer, criterion, device=device)"
   ]
  },
  {
   "cell_type": "code",
   "execution_count": 17,
   "id": "12978bf6",
   "metadata": {},
   "outputs": [],
   "source": [
    "model = MLP_DPN_MAX(X_train.shape[1]).to(device)"
   ]
  },
  {
   "cell_type": "code",
   "execution_count": 18,
   "id": "d2b4e94a",
   "metadata": {},
   "outputs": [],
   "source": [
    "# 6. Training setup\n",
    "criterion = nn.BCELoss()\n",
    "optimizer = optim.Adam(model.parameters(), lr=1e-3)"
   ]
  },
  {
   "cell_type": "code",
   "execution_count": 19,
   "id": "4addd991",
   "metadata": {},
   "outputs": [
    {
     "name": "stdout",
     "output_type": "stream",
     "text": [
      "\n",
      "Epoch: 1 Total_Time: 2.5601 Average_Time_per_batch: 0.0084 Train_Accuracy: 0.8199 Train_Loss: 0.3982 Validation_Accuracy: 0.8527 Validation_Loss: 0.3167\n",
      "Epoch: 2 Total_Time: 2.6895 Average_Time_per_batch: 0.0088 Train_Accuracy: 0.8507 Train_Loss: 0.3207 Validation_Accuracy: 0.8559 Validation_Loss: 0.3089\n",
      "Epoch: 3 Total_Time: 2.6126 Average_Time_per_batch: 0.0085 Train_Accuracy: 0.8512 Train_Loss: 0.3174 Validation_Accuracy: 0.8576 Validation_Loss: 0.3077\n",
      "Epoch: 4 Total_Time: 2.5481 Average_Time_per_batch: 0.0083 Train_Accuracy: 0.8526 Train_Loss: 0.3153 Validation_Accuracy: 0.8583 Validation_Loss: 0.3065\n",
      "Epoch: 5 Total_Time: 2.5494 Average_Time_per_batch: 0.0083 Train_Accuracy: 0.8522 Train_Loss: 0.3141 Validation_Accuracy: 0.8591 Validation_Loss: 0.3054\n",
      "Epoch: 6 Total_Time: 2.4231 Average_Time_per_batch: 0.0079 Train_Accuracy: 0.8535 Train_Loss: 0.3126 Validation_Accuracy: 0.8600 Validation_Loss: 0.3042\n",
      "Epoch: 7 Total_Time: 2.5989 Average_Time_per_batch: 0.0085 Train_Accuracy: 0.8541 Train_Loss: 0.3114 Validation_Accuracy: 0.8616 Validation_Loss: 0.3028\n",
      "Epoch: 8 Total_Time: 2.4904 Average_Time_per_batch: 0.0081 Train_Accuracy: 0.8552 Train_Loss: 0.3099 Validation_Accuracy: 0.8630 Validation_Loss: 0.3026\n",
      "Epoch: 9 Total_Time: 2.5280 Average_Time_per_batch: 0.0083 Train_Accuracy: 0.8556 Train_Loss: 0.3090 Validation_Accuracy: 0.8611 Validation_Loss: 0.3019\n",
      "Epoch: 10 Total_Time: 2.5600 Average_Time_per_batch: 0.0084 Train_Accuracy: 0.8555 Train_Loss: 0.3085 Validation_Accuracy: 0.8623 Validation_Loss: 0.3018\n",
      "Epoch: 11 Total_Time: 2.5713 Average_Time_per_batch: 0.0084 Train_Accuracy: 0.8563 Train_Loss: 0.3079 Validation_Accuracy: 0.8632 Validation_Loss: 0.3012\n",
      "Epoch: 12 Total_Time: 2.5111 Average_Time_per_batch: 0.0082 Train_Accuracy: 0.8558 Train_Loss: 0.3073 Validation_Accuracy: 0.8622 Validation_Loss: 0.3020\n",
      "Epoch: 13 Total_Time: 2.4649 Average_Time_per_batch: 0.0081 Train_Accuracy: 0.8567 Train_Loss: 0.3071 Validation_Accuracy: 0.8611 Validation_Loss: 0.3026\n",
      "Epoch: 14 Total_Time: 2.4937 Average_Time_per_batch: 0.0081 Train_Accuracy: 0.8559 Train_Loss: 0.3066 Validation_Accuracy: 0.8637 Validation_Loss: 0.3008\n",
      "Epoch: 15 Total_Time: 2.4807 Average_Time_per_batch: 0.0081 Train_Accuracy: 0.8566 Train_Loss: 0.3061 Validation_Accuracy: 0.8629 Validation_Loss: 0.3010\n",
      "Epoch: 16 Total_Time: 2.5101 Average_Time_per_batch: 0.0082 Train_Accuracy: 0.8570 Train_Loss: 0.3061 Validation_Accuracy: 0.8627 Validation_Loss: 0.3010\n",
      "Epoch: 17 Total_Time: 2.4896 Average_Time_per_batch: 0.0081 Train_Accuracy: 0.8567 Train_Loss: 0.3060 Validation_Accuracy: 0.8632 Validation_Loss: 0.3006\n",
      "Epoch: 18 Total_Time: 2.4716 Average_Time_per_batch: 0.0081 Train_Accuracy: 0.8575 Train_Loss: 0.3055 Validation_Accuracy: 0.8616 Validation_Loss: 0.3003\n",
      "Epoch: 19 Total_Time: 2.5231 Average_Time_per_batch: 0.0082 Train_Accuracy: 0.8570 Train_Loss: 0.3051 Validation_Accuracy: 0.8629 Validation_Loss: 0.3006\n",
      "Epoch: 20 Total_Time: 2.5114 Average_Time_per_batch: 0.0082 Train_Accuracy: 0.8577 Train_Loss: 0.3051 Validation_Accuracy: 0.8627 Validation_Loss: 0.3006\n",
      "Test_Accuracy:  0.8627 Test_Loss:  0.3005586968118428\n",
      "Peak GPU memory: 18.01 MB\n"
     ]
    }
   ],
   "source": [
    "train_metrics, eval_metrics, test_metrics = train(model, train_loader, test_loader, test_loader, 20, optimizer, criterion, device=device)"
   ]
  }
 ],
 "metadata": {
  "kernelspec": {
   "display_name": "saroshgpu",
   "language": "python",
   "name": "python3"
  },
  "language_info": {
   "codemirror_mode": {
    "name": "ipython",
    "version": 3
   },
   "file_extension": ".py",
   "mimetype": "text/x-python",
   "name": "python",
   "nbconvert_exporter": "python",
   "pygments_lexer": "ipython3",
   "version": "3.9.21"
  }
 },
 "nbformat": 4,
 "nbformat_minor": 5
}
