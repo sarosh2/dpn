{
 "cells": [
  {
   "cell_type": "code",
   "execution_count": 6,
   "id": "599b59e8",
   "metadata": {},
   "outputs": [],
   "source": [
    "import torch\n",
    "import torch.nn as nn\n",
    "import torch.optim as optim\n",
    "import torchvision\n",
    "import torchvision.transforms as transforms\n",
    "import torch.nn.functional as F"
   ]
  },
  {
   "cell_type": "code",
   "execution_count": 7,
   "id": "56feba47",
   "metadata": {},
   "outputs": [],
   "source": [
    "# Model definition\n",
    "class CIFAR10_MLP(nn.Module):\n",
    "    def __init__(self, input_dim=3*32*32, hidden_dims=[2048, 1024, 512, 256], num_classes=10, dropout=0.5):\n",
    "        super().__init__()\n",
    "        layers = []\n",
    "        prev_dim = input_dim\n",
    "        for hdim in hidden_dims:\n",
    "            layers.append(nn.Linear(prev_dim, hdim))\n",
    "            layers.append(nn.BatchNorm1d(hdim))\n",
    "            layers.append(nn.ReLU(inplace=True))\n",
    "            layers.append(nn.Dropout(dropout))\n",
    "            prev_dim = hdim\n",
    "        layers.append(nn.Linear(prev_dim, num_classes))\n",
    "        self.net = nn.Sequential(*layers)\n",
    "\n",
    "    def forward(self, x):\n",
    "        x = x.view(x.size(0), -1)  # flatten\n",
    "        return self.net(x)"
   ]
  },
  {
   "cell_type": "code",
   "execution_count": null,
   "id": "332493c6",
   "metadata": {},
   "outputs": [
    {
     "name": "stdout",
     "output_type": "stream",
     "text": [
      "Files already downloaded and verified\n",
      "Files already downloaded and verified\n"
     ]
    }
   ],
   "source": [
    "device = torch.device('cuda' if torch.cuda.is_available() else 'cpu')\n",
    "\n",
    "# Data transforms: normalize CIFAR-10 images\n",
    "train_transform = transforms.Compose([\n",
    "    transforms.ToTensor(),\n",
    "    transforms.Normalize((0.4914, 0.4822, 0.4465), \n",
    "                         (0.247, 0.243, 0.261))\n",
    "])\n",
    "\n",
    "test_transform = transforms.Compose([\n",
    "    transforms.ToTensor(),\n",
    "    transforms.Normalize((0.4914, 0.4822, 0.4465), \n",
    "                         (0.247, 0.243, 0.261))\n",
    "])\n",
    "\n",
    "train_dataset = torchvision.datasets.CIFAR10(root='./data', train=True, download=True, transform=train_transform)\n",
    "test_dataset = torchvision.datasets.CIFAR10(root='./data', train=False, download=True, transform=test_transform)\n",
    "\n",
    "train_loader = torch.utils.data.DataLoader(train_dataset, batch_size=128, shuffle=True, num_workers=4)\n",
    "test_loader = torch.utils.data.DataLoader(test_dataset, batch_size=100, shuffle=False, num_workers=4)\n"
   ]
  },
  {
   "cell_type": "code",
   "execution_count": 4,
   "id": "cc7845b9",
   "metadata": {},
   "outputs": [],
   "source": [
    "model = CIFAR10_MLP().to(device)\n",
    "model = torch.jit.script(model)\n",
    "criterion = nn.CrossEntropyLoss()\n",
    "optimizer = optim.Adam(model.parameters())"
   ]
  },
  {
   "cell_type": "code",
   "execution_count": 5,
   "id": "39e9e88a",
   "metadata": {},
   "outputs": [
    {
     "name": "stdout",
     "output_type": "stream",
     "text": [
      "Epoch: 1 Total_Time: 2.2621 Average_Time_per_batch: 0.0058 Train_Accuracy: 0.2778 Train_Loss: 1.9698 \n",
      "Epoch: 2 Total_Time: 1.7568 Average_Time_per_batch: 0.0045 Train_Accuracy: 0.3492 Train_Loss: 1.7906 \n",
      "Epoch: 3 Total_Time: 1.8371 Average_Time_per_batch: 0.0047 Train_Accuracy: 0.3748 Train_Loss: 1.7267 \n",
      "Epoch: 4 Total_Time: 1.7929 Average_Time_per_batch: 0.0046 Train_Accuracy: 0.3913 Train_Loss: 1.6829 \n",
      "Epoch: 5 Total_Time: 2.0411 Average_Time_per_batch: 0.0052 Train_Accuracy: 0.4054 Train_Loss: 1.6491 \n",
      "Epoch: 6 Total_Time: 1.9651 Average_Time_per_batch: 0.0050 Train_Accuracy: 0.4134 Train_Loss: 1.6267 \n",
      "Epoch: 7 Total_Time: 1.8747 Average_Time_per_batch: 0.0048 Train_Accuracy: 0.4218 Train_Loss: 1.6057 \n",
      "Epoch: 8 Total_Time: 1.9524 Average_Time_per_batch: 0.0050 Train_Accuracy: 0.4284 Train_Loss: 1.5874 \n",
      "Epoch: 9 Total_Time: 1.3347 Average_Time_per_batch: 0.0034 Train_Accuracy: 0.4348 Train_Loss: 1.5715 \n",
      "Epoch: 10 Total_Time: 1.7597 Average_Time_per_batch: 0.0045 Train_Accuracy: 0.4363 Train_Loss: 1.5621 \n",
      "Epoch: 11 Total_Time: 1.8520 Average_Time_per_batch: 0.0047 Train_Accuracy: 0.4466 Train_Loss: 1.5462 \n",
      "Epoch: 12 Total_Time: 1.9356 Average_Time_per_batch: 0.0050 Train_Accuracy: 0.4484 Train_Loss: 1.5380 \n",
      "Epoch: 13 Total_Time: 1.9867 Average_Time_per_batch: 0.0051 Train_Accuracy: 0.4516 Train_Loss: 1.5262 \n",
      "Epoch: 14 Total_Time: 1.8761 Average_Time_per_batch: 0.0048 Train_Accuracy: 0.4571 Train_Loss: 1.5161 \n",
      "Epoch: 15 Total_Time: 1.9613 Average_Time_per_batch: 0.0050 Train_Accuracy: 0.4596 Train_Loss: 1.5032 \n",
      "Epoch: 16 Total_Time: 1.9800 Average_Time_per_batch: 0.0051 Train_Accuracy: 0.4646 Train_Loss: 1.4957 \n",
      "Epoch: 17 Total_Time: 1.9751 Average_Time_per_batch: 0.0051 Train_Accuracy: 0.4647 Train_Loss: 1.4901 \n",
      "Epoch: 18 Total_Time: 1.9880 Average_Time_per_batch: 0.0051 Train_Accuracy: 0.4679 Train_Loss: 1.4839 \n",
      "Epoch: 19 Total_Time: 1.9913 Average_Time_per_batch: 0.0051 Train_Accuracy: 0.4716 Train_Loss: 1.4695 \n",
      "Epoch: 20 Total_Time: 1.5530 Average_Time_per_batch: 0.0040 Train_Accuracy: 0.4747 Train_Loss: 1.4659 \n",
      "Epoch: 21 Total_Time: 1.6578 Average_Time_per_batch: 0.0042 Train_Accuracy: 0.4787 Train_Loss: 1.4587 \n",
      "Epoch: 22 Total_Time: 1.9175 Average_Time_per_batch: 0.0049 Train_Accuracy: 0.4820 Train_Loss: 1.4474 \n",
      "Epoch: 23 Total_Time: 1.8730 Average_Time_per_batch: 0.0048 Train_Accuracy: 0.4811 Train_Loss: 1.4419 \n",
      "Epoch: 24 Total_Time: 1.9092 Average_Time_per_batch: 0.0049 Train_Accuracy: 0.4805 Train_Loss: 1.4442 \n",
      "Epoch: 25 Total_Time: 1.5589 Average_Time_per_batch: 0.0040 Train_Accuracy: 0.4843 Train_Loss: 1.4332 \n",
      "Epoch: 26 Total_Time: 1.6104 Average_Time_per_batch: 0.0041 Train_Accuracy: 0.4906 Train_Loss: 1.4277 \n",
      "Epoch: 27 Total_Time: 1.8728 Average_Time_per_batch: 0.0048 Train_Accuracy: 0.4920 Train_Loss: 1.4211 \n",
      "Epoch: 28 Total_Time: 1.9401 Average_Time_per_batch: 0.0050 Train_Accuracy: 0.4954 Train_Loss: 1.4174 \n",
      "Epoch: 29 Total_Time: 1.8073 Average_Time_per_batch: 0.0046 Train_Accuracy: 0.4978 Train_Loss: 1.4082 \n",
      "Epoch: 30 Total_Time: 1.9430 Average_Time_per_batch: 0.0050 Train_Accuracy: 0.4977 Train_Loss: 1.4060 \n",
      "Test_Accuracy:  0.5603 Test_Loss:  1.2258540678024292\n",
      "Peak GPU memory: 200.21 MB\n"
     ]
    }
   ],
   "source": [
    "from utils import train\n",
    "\n",
    "train_metrics, val_metrics, test_metrics = train(model, train_loader, None, test_loader, 30, optimizer, criterion)"
   ]
  },
  {
   "cell_type": "code",
   "execution_count": 6,
   "id": "a58ffcf5",
   "metadata": {},
   "outputs": [],
   "source": [
    "from spn_3.spn import SPN as SPN_3\n",
    "    \n",
    "model_3 = SPN_3(3*32*32, 500, 10, False).cuda()\n",
    "#model_3.compile()"
   ]
  },
  {
   "cell_type": "code",
   "execution_count": 7,
   "id": "15773d0a",
   "metadata": {},
   "outputs": [],
   "source": [
    "model_3 = torch.jit.trace(model_3, torch.randn(128, 3*32*32).cuda())\n",
    "optimizer = optim.Adam(model_3.parameters())\n",
    "criterion = nn.CrossEntropyLoss()"
   ]
  },
  {
   "cell_type": "code",
   "execution_count": 8,
   "id": "f391ad48",
   "metadata": {},
   "outputs": [
    {
     "name": "stdout",
     "output_type": "stream",
     "text": [
      "Epoch: 1 Total_Time: 112.6011 Average_Time_per_batch: 0.2880 Train_Accuracy: 0.3247 Train_Loss: 1.9529 \n",
      "Epoch: 2 Total_Time: 47.9317 Average_Time_per_batch: 0.1226 Train_Accuracy: 0.3782 Train_Loss: 1.7925 \n",
      "Epoch: 3 Total_Time: 47.2408 Average_Time_per_batch: 0.1208 Train_Accuracy: 0.3942 Train_Loss: 1.7465 \n",
      "Epoch: 4 Total_Time: 47.2769 Average_Time_per_batch: 0.1209 Train_Accuracy: 0.4075 Train_Loss: 1.7088 \n",
      "Epoch: 5 Total_Time: 47.5081 Average_Time_per_batch: 0.1215 Train_Accuracy: 0.4189 Train_Loss: 1.6820 \n",
      "Epoch: 6 Total_Time: 47.6612 Average_Time_per_batch: 0.1219 Train_Accuracy: 0.4234 Train_Loss: 1.6580 \n",
      "Epoch: 7 Total_Time: 47.9120 Average_Time_per_batch: 0.1225 Train_Accuracy: 0.4267 Train_Loss: 1.6431 \n",
      "Epoch: 8 Total_Time: 47.9463 Average_Time_per_batch: 0.1226 Train_Accuracy: 0.4302 Train_Loss: 1.6342 \n",
      "Epoch: 9 Total_Time: 47.3590 Average_Time_per_batch: 0.1211 Train_Accuracy: 0.4364 Train_Loss: 1.6162 \n",
      "Epoch: 10 Total_Time: 47.3619 Average_Time_per_batch: 0.1211 Train_Accuracy: 0.4449 Train_Loss: 1.6037 \n",
      "Epoch: 11 Total_Time: 47.5508 Average_Time_per_batch: 0.1216 Train_Accuracy: 0.4461 Train_Loss: 1.5956 \n",
      "Epoch: 12 Total_Time: 47.5499 Average_Time_per_batch: 0.1216 Train_Accuracy: 0.4491 Train_Loss: 1.5878 \n",
      "Epoch: 13 Total_Time: 44.5784 Average_Time_per_batch: 0.1140 Train_Accuracy: 0.4519 Train_Loss: 1.5757 \n",
      "Epoch: 14 Total_Time: 47.5629 Average_Time_per_batch: 0.1216 Train_Accuracy: 0.4546 Train_Loss: 1.5722 \n",
      "Epoch: 15 Total_Time: 47.4604 Average_Time_per_batch: 0.1214 Train_Accuracy: 0.4561 Train_Loss: 1.5661 \n",
      "Epoch: 16 Total_Time: 46.8139 Average_Time_per_batch: 0.1197 Train_Accuracy: 0.4604 Train_Loss: 1.5511 \n",
      "Epoch: 17 Total_Time: 47.7875 Average_Time_per_batch: 0.1222 Train_Accuracy: 0.4580 Train_Loss: 1.5707 \n",
      "Epoch: 18 Total_Time: 47.7546 Average_Time_per_batch: 0.1221 Train_Accuracy: 0.4656 Train_Loss: 1.5437 \n",
      "Epoch: 19 Total_Time: 47.1012 Average_Time_per_batch: 0.1205 Train_Accuracy: 0.4639 Train_Loss: 1.5559 \n",
      "Epoch: 20 Total_Time: 46.8117 Average_Time_per_batch: 0.1197 Train_Accuracy: 0.4669 Train_Loss: 1.5398 \n",
      "Epoch: 21 Total_Time: 47.4247 Average_Time_per_batch: 0.1213 Train_Accuracy: 0.4701 Train_Loss: 1.5317 \n",
      "Epoch: 22 Total_Time: 47.7327 Average_Time_per_batch: 0.1221 Train_Accuracy: 0.4703 Train_Loss: 1.5324 \n",
      "Epoch: 23 Total_Time: 47.7199 Average_Time_per_batch: 0.1220 Train_Accuracy: 0.4733 Train_Loss: 1.5279 \n",
      "Epoch: 24 Total_Time: 47.6641 Average_Time_per_batch: 0.1219 Train_Accuracy: 0.4703 Train_Loss: 1.5259 \n",
      "Epoch: 25 Total_Time: 47.8524 Average_Time_per_batch: 0.1224 Train_Accuracy: 0.4728 Train_Loss: 1.5206 \n",
      "Epoch: 26 Total_Time: 47.5052 Average_Time_per_batch: 0.1215 Train_Accuracy: 0.4765 Train_Loss: 1.5150 \n",
      "Epoch: 27 Total_Time: 47.2380 Average_Time_per_batch: 0.1208 Train_Accuracy: 0.4772 Train_Loss: 1.5077 \n",
      "Epoch: 28 Total_Time: 46.4529 Average_Time_per_batch: 0.1188 Train_Accuracy: 0.4785 Train_Loss: 1.5118 \n",
      "Epoch: 29 Total_Time: 46.5802 Average_Time_per_batch: 0.1191 Train_Accuracy: 0.4818 Train_Loss: 1.5031 \n",
      "Epoch: 30 Total_Time: 44.1030 Average_Time_per_batch: 0.1128 Train_Accuracy: 0.4802 Train_Loss: 1.5043 \n",
      "Test_Accuracy:  0.4751 Test_Loss:  1.5863057470321655\n",
      "Peak GPU memory: 982.24 MB\n"
     ]
    }
   ],
   "source": [
    "train_metrics_3, val_metrics_3, test_metrics_3 = train(model_3, train_loader, None, test_loader, 30, optimizer, criterion)"
   ]
  },
  {
   "cell_type": "code",
   "execution_count": 28,
   "id": "6ac95b47",
   "metadata": {},
   "outputs": [],
   "source": [
    "import torch\n",
    "from torch import nn\n",
    "\n",
    "hidden_dims = [2048, 1024, 512, 256]\n",
    "total = sum(hidden_dims)\n",
    "\n",
    "blocks = len(hidden_dims)\n",
    "features = 3 * 32 * 32\n",
    "neural_blocks = []\n",
    "for dim in hidden_dims:\n",
    "    std_dev = torch.sqrt(torch.tensor(1 / features)).to(device)\n",
    "    neural_blocks.append(torch.randn(dim, features).to(device) * std_dev)\n",
    "    features += dim\n",
    "\n",
    "feature_blocks = []\n",
    "features_start = 0\n",
    "for i in range(len(neural_blocks)):\n",
    "    features_end = neural_blocks[i].shape[1]\n",
    "    block = neural_blocks[i][:, features_start:]\n",
    "    for j in range(i + 1, len(neural_blocks)):\n",
    "        block = torch.cat((block, neural_blocks[j][:, features_start:features_end]), dim=0)\n",
    "    feature_blocks.append(nn.Parameter(block))\n",
    "    features_start = features_end\n",
    "\n",
    "biases = biases = nn.Parameter(torch.empty(total).uniform_(0.0, 1.0)).to(device)"
   ]
  },
  {
   "cell_type": "code",
   "execution_count": 29,
   "id": "905fa918",
   "metadata": {},
   "outputs": [],
   "source": [
    "from spn_2.spn import SPN as SPN_3\n",
    "    \n",
    "model_3 = SPN_3(3*32*32, 500, 10, False).cuda()\n",
    "model_3.weights.extend(feature_blocks)\n",
    "model_3.biases = biases"
   ]
  },
  {
   "cell_type": "code",
   "execution_count": 31,
   "id": "42af8220",
   "metadata": {},
   "outputs": [],
   "source": [
    "#model_3 = torch.jit.trace(model_3, torch.randn(128, 3*32*32).cuda())\n",
    "optimizer = optim.Adam(model_3.parameters())\n",
    "criterion = nn.CrossEntropyLoss()"
   ]
  },
  {
   "cell_type": "code",
   "execution_count": 33,
   "id": "d26fab50",
   "metadata": {},
   "outputs": [
    {
     "name": "stdout",
     "output_type": "stream",
     "text": [
      "Epoch: 1 Total_Time: 2.1577 Average_Time_per_batch: 0.0055 Train_Accuracy: 0.3155 Train_Loss: 2.2739 \n",
      "Epoch: 2 Total_Time: 1.7335 Average_Time_per_batch: 0.0044 Train_Accuracy: 0.3697 Train_Loss: 1.9101 \n",
      "Epoch: 3 Total_Time: 1.6517 Average_Time_per_batch: 0.0042 Train_Accuracy: 0.3816 Train_Loss: 1.9002 \n",
      "Epoch: 4 Total_Time: 1.7158 Average_Time_per_batch: 0.0044 Train_Accuracy: 0.3919 Train_Loss: 1.9126 \n",
      "Epoch: 5 Total_Time: 1.5809 Average_Time_per_batch: 0.0040 Train_Accuracy: 0.3999 Train_Loss: 1.8769 \n",
      "Epoch: 6 Total_Time: 1.6350 Average_Time_per_batch: 0.0042 Train_Accuracy: 0.4039 Train_Loss: 1.8624 \n",
      "Epoch: 7 Total_Time: 1.7054 Average_Time_per_batch: 0.0044 Train_Accuracy: 0.4159 Train_Loss: 1.8457 \n",
      "Epoch: 8 Total_Time: 1.6367 Average_Time_per_batch: 0.0042 Train_Accuracy: 0.4205 Train_Loss: 1.8634 \n",
      "Epoch: 9 Total_Time: 1.7133 Average_Time_per_batch: 0.0044 Train_Accuracy: 0.4207 Train_Loss: 1.8766 \n",
      "Epoch: 10 Total_Time: 1.7132 Average_Time_per_batch: 0.0044 Train_Accuracy: 0.4289 Train_Loss: 1.8539 \n",
      "Epoch: 11 Total_Time: 1.6877 Average_Time_per_batch: 0.0043 Train_Accuracy: 0.4273 Train_Loss: 1.8699 \n",
      "Epoch: 12 Total_Time: 1.3762 Average_Time_per_batch: 0.0035 Train_Accuracy: 0.4337 Train_Loss: 1.8380 \n",
      "Epoch: 13 Total_Time: 1.7075 Average_Time_per_batch: 0.0044 Train_Accuracy: 0.4380 Train_Loss: 1.8338 \n",
      "Epoch: 14 Total_Time: 1.6880 Average_Time_per_batch: 0.0043 Train_Accuracy: 0.4359 Train_Loss: 1.8396 \n",
      "Epoch: 15 Total_Time: 1.5122 Average_Time_per_batch: 0.0039 Train_Accuracy: 0.4393 Train_Loss: 1.8434 \n",
      "Epoch: 16 Total_Time: 1.7197 Average_Time_per_batch: 0.0044 Train_Accuracy: 0.4440 Train_Loss: 1.8168 \n",
      "Epoch: 17 Total_Time: 1.6408 Average_Time_per_batch: 0.0042 Train_Accuracy: 0.4411 Train_Loss: 1.8434 \n",
      "Epoch: 18 Total_Time: 1.4551 Average_Time_per_batch: 0.0037 Train_Accuracy: 0.4462 Train_Loss: 1.8561 \n",
      "Epoch: 19 Total_Time: 1.6205 Average_Time_per_batch: 0.0041 Train_Accuracy: 0.4512 Train_Loss: 1.7940 \n",
      "Epoch: 20 Total_Time: 1.7050 Average_Time_per_batch: 0.0044 Train_Accuracy: 0.4480 Train_Loss: 1.8268 \n",
      "Epoch: 21 Total_Time: 1.6751 Average_Time_per_batch: 0.0043 Train_Accuracy: 0.4510 Train_Loss: 1.7991 \n",
      "Epoch: 22 Total_Time: 1.7607 Average_Time_per_batch: 0.0045 Train_Accuracy: 0.4531 Train_Loss: 1.8149 \n",
      "Epoch: 23 Total_Time: 1.7230 Average_Time_per_batch: 0.0044 Train_Accuracy: 0.4534 Train_Loss: 1.8123 \n",
      "Epoch: 24 Total_Time: 1.5309 Average_Time_per_batch: 0.0039 Train_Accuracy: 0.4534 Train_Loss: 1.8582 \n",
      "Epoch: 25 Total_Time: 1.6599 Average_Time_per_batch: 0.0042 Train_Accuracy: 0.4558 Train_Loss: 1.8436 \n",
      "Epoch: 26 Total_Time: 1.5872 Average_Time_per_batch: 0.0041 Train_Accuracy: 0.4561 Train_Loss: 1.8087 \n",
      "Epoch: 27 Total_Time: 1.7622 Average_Time_per_batch: 0.0045 Train_Accuracy: 0.4606 Train_Loss: 1.8285 \n",
      "Epoch: 28 Total_Time: 1.6847 Average_Time_per_batch: 0.0043 Train_Accuracy: 0.4586 Train_Loss: 1.8115 \n",
      "Epoch: 29 Total_Time: 1.7689 Average_Time_per_batch: 0.0045 Train_Accuracy: 0.4638 Train_Loss: 1.8043 \n",
      "Epoch: 30 Total_Time: 1.5911 Average_Time_per_batch: 0.0041 Train_Accuracy: 0.4647 Train_Loss: 1.7957 \n",
      "Test_Accuracy:  0.3299 Test_Loss:  9.453372859954834\n",
      "Peak GPU memory: 422.68 MB\n"
     ]
    }
   ],
   "source": [
    "from utils import train\n",
    "train_metrics_3, val_metrics_3, test_metrics_3 = train(model_3, train_loader, None, test_loader, 50, optimizer, criterion)"
   ]
  },
  {
   "cell_type": "code",
   "execution_count": null,
   "id": "2b11d143",
   "metadata": {},
   "outputs": [],
   "source": []
  }
 ],
 "metadata": {
  "kernelspec": {
   "display_name": "saroshgpu",
   "language": "python",
   "name": "python3"
  },
  "language_info": {
   "codemirror_mode": {
    "name": "ipython",
    "version": 3
   },
   "file_extension": ".py",
   "mimetype": "text/x-python",
   "name": "python",
   "nbconvert_exporter": "python",
   "pygments_lexer": "ipython3",
   "version": "3.9.21"
  }
 },
 "nbformat": 4,
 "nbformat_minor": 5
}
