{
 "cells": [
  {
   "cell_type": "code",
   "execution_count": 1,
   "id": "087a5bf3",
   "metadata": {},
   "outputs": [],
   "source": [
    "import torch\n",
    "import torch.nn as nn\n",
    "import torch.optim as optim\n",
    "from torchvision import datasets\n",
    "from torch.utils.data import DataLoader, TensorDataset\n",
    "import torch.nn.functional as F\n",
    "from dpn_3.dpn import DPN\n",
    "from utils import train"
   ]
  },
  {
   "cell_type": "code",
   "execution_count": 2,
   "id": "b913841b",
   "metadata": {},
   "outputs": [],
   "source": [
    "class MLP_MNIST(nn.Module):\n",
    "    def __init__(self):\n",
    "        super(MLP_MNIST, self).__init__()\n",
    "        self.model = nn.Sequential(\n",
    "            nn.Linear(784, 12),\n",
    "            nn.ReLU(),\n",
    "            nn.Linear(12, 12),\n",
    "            nn.ReLU(),\n",
    "            nn.Linear(12, 10),\n",
    "        )\n",
    "\n",
    "    def forward(self, x):\n",
    "        return self.model(x)\n"
   ]
  },
  {
   "cell_type": "code",
   "execution_count": 3,
   "id": "dfe3c449",
   "metadata": {},
   "outputs": [],
   "source": [
    "#hyperparameters\n",
    "batch_size = 64\n",
    "learning_rate = 0.001\n",
    "epochs = 20\n",
    "device = torch.device(\"cuda\" if torch.cuda.is_available() else \"cpu\")"
   ]
  },
  {
   "cell_type": "code",
   "execution_count": 4,
   "id": "11082808",
   "metadata": {},
   "outputs": [],
   "source": [
    "# Load and preprocess the entire MNIST dataset once\n",
    "train_dataset = datasets.MNIST(root='./data', train=True, download=True)\n",
    "test_dataset = datasets.MNIST(root='./data', train=False, download=True)\n",
    "\n",
    "num_classes = 10\n",
    "\n",
    "# Normalize and flatten once\n",
    "train_data = train_dataset.data.float().div(255).view(-1, 784).to(device)\n",
    "train_labels = F.one_hot(train_dataset.targets.to(device), num_classes=num_classes).float()\n",
    "\n",
    "test_data = test_dataset.data.float().div(255).view(-1, 784).to(device)\n",
    "test_labels = F.one_hot(test_dataset.targets.to(device), num_classes=num_classes).float()\n",
    "\n",
    "# Create DataLoader from preloaded GPU tensors\n",
    "train_loader = DataLoader(TensorDataset(train_data, train_labels), batch_size=batch_size, shuffle=True)\n",
    "test_loader = DataLoader(TensorDataset(test_data, test_labels), batch_size=batch_size, shuffle=False)"
   ]
  },
  {
   "cell_type": "code",
   "execution_count": 5,
   "id": "8c9f39bd",
   "metadata": {},
   "outputs": [],
   "source": [
    "model_1 = MLP_MNIST().to(device)\n",
    "model_1 = torch.jit.script(model_1)\n",
    "criterion = nn.CrossEntropyLoss()\n",
    "optimizer = optim.Adam(model_1.parameters(), lr=learning_rate)"
   ]
  },
  {
   "cell_type": "code",
   "execution_count": 6,
   "id": "5e4f7b5e",
   "metadata": {},
   "outputs": [
    {
     "name": "stdout",
     "output_type": "stream",
     "text": [
      "\n",
      "Epoch: 1 Total_Time: 2.2055 Average_Time_per_batch: 0.0024 Train_Accuracy: 0.7984 Train_Loss: 0.6833 \n",
      "Epoch: 2 Total_Time: 1.8261 Average_Time_per_batch: 0.0019 Train_Accuracy: 0.9023 Train_Loss: 0.3387 \n",
      "Epoch: 3 Total_Time: 1.6340 Average_Time_per_batch: 0.0017 Train_Accuracy: 0.9193 Train_Loss: 0.2831 \n",
      "Epoch: 4 Total_Time: 1.5308 Average_Time_per_batch: 0.0016 Train_Accuracy: 0.9292 Train_Loss: 0.2480 \n",
      "Epoch: 5 Total_Time: 1.5278 Average_Time_per_batch: 0.0016 Train_Accuracy: 0.9366 Train_Loss: 0.2253 \n",
      "Epoch: 6 Total_Time: 1.5342 Average_Time_per_batch: 0.0016 Train_Accuracy: 0.9404 Train_Loss: 0.2109 \n",
      "Epoch: 7 Total_Time: 1.5039 Average_Time_per_batch: 0.0016 Train_Accuracy: 0.9440 Train_Loss: 0.1995 \n",
      "Epoch: 8 Total_Time: 1.5449 Average_Time_per_batch: 0.0016 Train_Accuracy: 0.9449 Train_Loss: 0.1929 \n",
      "Epoch: 9 Total_Time: 1.5161 Average_Time_per_batch: 0.0016 Train_Accuracy: 0.9465 Train_Loss: 0.1873 \n",
      "Epoch: 10 Total_Time: 1.4865 Average_Time_per_batch: 0.0016 Train_Accuracy: 0.9481 Train_Loss: 0.1823 \n",
      "Epoch: 11 Total_Time: 1.5159 Average_Time_per_batch: 0.0016 Train_Accuracy: 0.9497 Train_Loss: 0.1784 \n",
      "Epoch: 12 Total_Time: 1.5187 Average_Time_per_batch: 0.0016 Train_Accuracy: 0.9500 Train_Loss: 0.1749 \n",
      "Epoch: 13 Total_Time: 1.4393 Average_Time_per_batch: 0.0015 Train_Accuracy: 0.9501 Train_Loss: 0.1722 \n",
      "Epoch: 14 Total_Time: 1.5225 Average_Time_per_batch: 0.0016 Train_Accuracy: 0.9519 Train_Loss: 0.1687 \n",
      "Epoch: 15 Total_Time: 1.5287 Average_Time_per_batch: 0.0016 Train_Accuracy: 0.9526 Train_Loss: 0.1654 \n",
      "Epoch: 16 Total_Time: 1.5261 Average_Time_per_batch: 0.0016 Train_Accuracy: 0.9529 Train_Loss: 0.1618 \n",
      "Epoch: 17 Total_Time: 1.4987 Average_Time_per_batch: 0.0016 Train_Accuracy: 0.9545 Train_Loss: 0.1601 \n",
      "Epoch: 18 Total_Time: 1.4670 Average_Time_per_batch: 0.0016 Train_Accuracy: 0.9545 Train_Loss: 0.1574 \n",
      "Epoch: 19 Total_Time: 1.5567 Average_Time_per_batch: 0.0017 Train_Accuracy: 0.9549 Train_Loss: 0.1553 \n",
      "Epoch: 20 Total_Time: 1.4927 Average_Time_per_batch: 0.0016 Train_Accuracy: 0.9556 Train_Loss: 0.1533 \n",
      "Test_Accuracy:  0.9459 Test_Loss:  0.1884265015862882\n",
      "Peak GPU memory: 241.78 MB\n"
     ]
    }
   ],
   "source": [
    "train_metrics_1, val_metrics_1, test_metrics_1 = train(model_1, train_loader, None, test_loader, epochs, optimizer, criterion)"
   ]
  },
  {
   "cell_type": "code",
   "execution_count": 7,
   "id": "3297d657",
   "metadata": {},
   "outputs": [],
   "source": [
    "model_2 = DPN(784, 34, 10).cuda()\n",
    "model_2 = torch.jit.trace(model_2, torch.randn(batch_size, 784).cuda())\n",
    "optimizer = optim.Adam(model_2.parameters(), lr=learning_rate)"
   ]
  },
  {
   "cell_type": "code",
   "execution_count": 8,
   "id": "d542650e",
   "metadata": {},
   "outputs": [
    {
     "name": "stdout",
     "output_type": "stream",
     "text": [
      "\n",
      "Epoch: 1 Total_Time: 1.4606 Average_Time_per_batch: 0.0016 Train_Accuracy: 0.8852 Train_Loss: 0.4422 \n",
      "Epoch: 2 Total_Time: 1.2975 Average_Time_per_batch: 0.0014 Train_Accuracy: 0.9274 Train_Loss: 0.2569 \n",
      "Epoch: 3 Total_Time: 1.3095 Average_Time_per_batch: 0.0014 Train_Accuracy: 0.9414 Train_Loss: 0.2070 \n",
      "Epoch: 4 Total_Time: 1.3153 Average_Time_per_batch: 0.0014 Train_Accuracy: 0.9514 Train_Loss: 0.1721 \n",
      "Epoch: 5 Total_Time: 1.3121 Average_Time_per_batch: 0.0014 Train_Accuracy: 0.9570 Train_Loss: 0.1473 \n",
      "Epoch: 6 Total_Time: 1.3061 Average_Time_per_batch: 0.0014 Train_Accuracy: 0.9619 Train_Loss: 0.1302 \n",
      "Epoch: 7 Total_Time: 1.3058 Average_Time_per_batch: 0.0014 Train_Accuracy: 0.9656 Train_Loss: 0.1168 \n",
      "Epoch: 8 Total_Time: 1.2883 Average_Time_per_batch: 0.0014 Train_Accuracy: 0.9681 Train_Loss: 0.1066 \n",
      "Epoch: 9 Total_Time: 1.2843 Average_Time_per_batch: 0.0014 Train_Accuracy: 0.9705 Train_Loss: 0.0989 \n",
      "Epoch: 10 Total_Time: 1.3085 Average_Time_per_batch: 0.0014 Train_Accuracy: 0.9725 Train_Loss: 0.0923 \n",
      "Epoch: 11 Total_Time: 1.2982 Average_Time_per_batch: 0.0014 Train_Accuracy: 0.9741 Train_Loss: 0.0863 \n",
      "Epoch: 12 Total_Time: 1.3090 Average_Time_per_batch: 0.0014 Train_Accuracy: 0.9753 Train_Loss: 0.0812 \n",
      "Epoch: 13 Total_Time: 1.3085 Average_Time_per_batch: 0.0014 Train_Accuracy: 0.9768 Train_Loss: 0.0775 \n",
      "Epoch: 14 Total_Time: 1.2699 Average_Time_per_batch: 0.0014 Train_Accuracy: 0.9781 Train_Loss: 0.0733 \n",
      "Epoch: 15 Total_Time: 1.2376 Average_Time_per_batch: 0.0013 Train_Accuracy: 0.9788 Train_Loss: 0.0694 \n",
      "Epoch: 16 Total_Time: 1.2351 Average_Time_per_batch: 0.0013 Train_Accuracy: 0.9801 Train_Loss: 0.0668 \n",
      "Epoch: 17 Total_Time: 1.2684 Average_Time_per_batch: 0.0014 Train_Accuracy: 0.9807 Train_Loss: 0.0638 \n",
      "Epoch: 18 Total_Time: 1.2813 Average_Time_per_batch: 0.0014 Train_Accuracy: 0.9818 Train_Loss: 0.0607 \n",
      "Epoch: 19 Total_Time: 1.2861 Average_Time_per_batch: 0.0014 Train_Accuracy: 0.9823 Train_Loss: 0.0581 \n",
      "Epoch: 20 Total_Time: 1.2479 Average_Time_per_batch: 0.0013 Train_Accuracy: 0.9834 Train_Loss: 0.0557 \n",
      "Test_Accuracy:  0.9635 Test_Loss:  0.12345375636685639\n",
      "Peak GPU memory: 242.33 MB\n"
     ]
    }
   ],
   "source": [
    "train_metrics_2, val_metrics_2, test_metrics_2 = train(model_2, train_loader, None, test_loader, epochs, optimizer, criterion)"
   ]
  }
 ],
 "metadata": {
  "kernelspec": {
   "display_name": "saroshgpu",
   "language": "python",
   "name": "python3"
  },
  "language_info": {
   "codemirror_mode": {
    "name": "ipython",
    "version": 3
   },
   "file_extension": ".py",
   "mimetype": "text/x-python",
   "name": "python",
   "nbconvert_exporter": "python",
   "pygments_lexer": "ipython3",
   "version": "3.9.21"
  }
 },
 "nbformat": 4,
 "nbformat_minor": 5
}
