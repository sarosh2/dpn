{
 "cells": [
  {
   "cell_type": "code",
   "execution_count": 1,
   "id": "ed86c3c6",
   "metadata": {},
   "outputs": [
    {
     "name": "stderr",
     "output_type": "stream",
     "text": [
      "2025-05-29 15:20:43.850884: I tensorflow/core/platform/cpu_feature_guard.cc:193] This TensorFlow binary is optimized with oneAPI Deep Neural Network Library (oneDNN) to use the following CPU instructions in performance-critical operations:  AVX2 AVX512F FMA\n",
      "To enable them in other operations, rebuild TensorFlow with the appropriate compiler flags.\n",
      "2025-05-29 15:20:44.032737: E tensorflow/stream_executor/cuda/cuda_blas.cc:2981] Unable to register cuBLAS factory: Attempting to register factory for plugin cuBLAS when one has already been registered\n",
      "2025-05-29 15:20:45.529395: W tensorflow/stream_executor/platform/default/dso_loader.cc:64] Could not load dynamic library 'libnvinfer.so.7'; dlerror: libnvinfer.so.7: cannot open shared object file: No such file or directory\n",
      "2025-05-29 15:20:45.529510: W tensorflow/stream_executor/platform/default/dso_loader.cc:64] Could not load dynamic library 'libnvinfer_plugin.so.7'; dlerror: libnvinfer_plugin.so.7: cannot open shared object file: No such file or directory\n",
      "2025-05-29 15:20:45.529523: W tensorflow/compiler/tf2tensorrt/utils/py_utils.cc:38] TF-TRT Warning: Cannot dlopen some TensorRT libraries. If you would like to use Nvidia GPU with TensorRT, please make sure the missing libraries mentioned above are installed properly.\n"
     ]
    },
    {
     "name": "stdout",
     "output_type": "stream",
     "text": [
      "X_train Shape:  (784, 48000)\n",
      "X_Val Shape:  (784, 12000)\n",
      "X_test Shape:  (784, 10000)\n",
      "Y_Train Shape:  (10, 48000)\n",
      "Y_Val Shape:  (10, 12000)\n",
      "Y_Test Shape:  (10, 10000)\n"
     ]
    }
   ],
   "source": [
    "import tensorflow as tf\n",
    "import cupy as cp\n",
    "# Load the MNIST dataset\n",
    "(x_train, y_train), (x_test, y_test) = tf.keras.datasets.mnist.load_data()\n",
    "\n",
    "# Preprocess the data\n",
    "x_train = x_train / 255.0\n",
    "x_test = x_test / 255.0\n",
    "\n",
    "#flatten the dataset\n",
    "x_train_flat = x_train.reshape(x_train.shape[0], 28 * 28).T\n",
    "x_test_flat = x_test.reshape(x_test.shape[0], 28 * 28).T\n",
    "\n",
    "train_size = int(0.8 * x_train_flat.shape[1])  # 48000\n",
    "\n",
    "x_val = x_train_flat[:, train_size:]     # Last 12000 columns for validation\n",
    "x_train_flat = x_train_flat[:, :train_size]   # First 48000 columns for training\n",
    "\n",
    "print(\"X_train Shape: \", x_train_flat.shape)\n",
    "print(\"X_Val Shape: \", x_val.shape)\n",
    "print(\"X_test Shape: \", x_test_flat.shape)\n",
    "\n",
    "y_train = cp.eye(10)[y_train].T #convert to one hot encoded vectors\n",
    "\n",
    "y_val = y_train[:, train_size:]\n",
    "y_train = y_train[:, :train_size]\n",
    "\n",
    "print(\"Y_Train Shape: \", y_train.shape)\n",
    "print(\"Y_Val Shape: \", y_val.shape)\n",
    "\n",
    "y_test = cp.eye(10)[y_test].T #convert to one hot encoded vectors\n",
    "\n",
    "print(\"Y_Test Shape: \", y_test.shape)\n",
    "\n",
    "epochs = 10\n",
    "batch_size = 64"
   ]
  },
  {
   "cell_type": "code",
   "execution_count": 2,
   "id": "2e2fcc00",
   "metadata": {},
   "outputs": [
    {
     "name": "stdout",
     "output_type": "stream",
     "text": [
      "Parameters: 813533\n"
     ]
    }
   ],
   "source": [
    "from spn import SPN\n",
    "\n",
    "model_1 = SPN(784, 713, 10)\n",
    "model_1.compile()"
   ]
  },
  {
   "cell_type": "code",
   "execution_count": null,
   "id": "ebf9a1a7",
   "metadata": {},
   "outputs": [],
   "source": []
  }
 ],
 "metadata": {
  "kernelspec": {
   "display_name": "saroshgpu",
   "language": "python",
   "name": "python3"
  },
  "language_info": {
   "codemirror_mode": {
    "name": "ipython",
    "version": 3
   },
   "file_extension": ".py",
   "mimetype": "text/x-python",
   "name": "python",
   "nbconvert_exporter": "python",
   "pygments_lexer": "ipython3",
   "version": "3.9.21"
  }
 },
 "nbformat": 4,
 "nbformat_minor": 5
}
