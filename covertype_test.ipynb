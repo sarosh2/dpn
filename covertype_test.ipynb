{
 "cells": [
  {
   "cell_type": "code",
   "execution_count": 1,
   "id": "d78cb701",
   "metadata": {},
   "outputs": [],
   "source": [
    "import torch\n",
    "import torch.nn as nn\n",
    "import torch.optim as optim\n",
    "from torch.utils.data import Dataset, DataLoader\n",
    "import numpy as np\n",
    "import openml\n",
    "from sklearn.model_selection import train_test_split\n",
    "from sklearn.preprocessing import StandardScaler, LabelEncoder\n"
   ]
  },
  {
   "cell_type": "code",
   "execution_count": 2,
   "id": "1d1ee492",
   "metadata": {},
   "outputs": [],
   "source": [
    "# 1. Download the dataset (OpenML: id 180)\n",
    "dataset = openml.datasets.get_dataset(180)\n",
    "X, y, _, _ = dataset.get_data(target=dataset.default_target_attribute, dataset_format='dataframe')"
   ]
  },
  {
   "cell_type": "code",
   "execution_count": 3,
   "id": "6c0a2a0d",
   "metadata": {},
   "outputs": [],
   "source": [
    "# 2. Preprocessing: Numeric features only, standardize, encode labels (classes are 1-7)\n",
    "X_numeric = X.select_dtypes(include=[np.number])\n",
    "\n",
    "scaler = StandardScaler()\n",
    "X_scaled = scaler.fit_transform(X_numeric.values.astype(np.float32))\n",
    "\n",
    "le = LabelEncoder()\n",
    "y_encoded = le.fit_transform(y)  # Converts to 0...6\n",
    "y_encoded = y_encoded.astype(np.int64)\n"
   ]
  },
  {
   "cell_type": "code",
   "execution_count": 4,
   "id": "e6c19603",
   "metadata": {},
   "outputs": [],
   "source": [
    "# 3. Train/test split\n",
    "X_train, X_test, y_train, y_test = train_test_split(X_scaled, y_encoded, test_size=0.2, random_state=42)"
   ]
  },
  {
   "cell_type": "code",
   "execution_count": 5,
   "id": "f1d36570",
   "metadata": {},
   "outputs": [],
   "source": [
    "# 4. PyTorch Dataset\n",
    "class CovertypeDataset(Dataset):\n",
    "    def __init__(self, X, y):\n",
    "        self.X = torch.from_numpy(X)\n",
    "        self.y = torch.from_numpy(y)\n",
    "    def __len__(self):\n",
    "        return len(self.X)\n",
    "    def __getitem__(self, idx):\n",
    "        return self.X[idx], self.y[idx]\n",
    "\n",
    "train_ds = CovertypeDataset(X_train, y_train)\n",
    "test_ds = CovertypeDataset(X_test, y_test)\n",
    "\n",
    "train_loader = DataLoader(train_ds, batch_size=256, shuffle=True)\n",
    "test_loader = DataLoader(test_ds, batch_size=256)"
   ]
  },
  {
   "cell_type": "code",
   "execution_count": 6,
   "id": "676c092d",
   "metadata": {},
   "outputs": [],
   "source": [
    "# 5. MLP Model (swap for your technique if you want)\n",
    "class MLP(nn.Module):\n",
    "    def __init__(self, input_dim, num_classes):\n",
    "        super().__init__()\n",
    "        self.model = nn.Sequential(\n",
    "            nn.Linear(input_dim, 128),\n",
    "            nn.ReLU(),\n",
    "            nn.Linear(128, 64),\n",
    "            nn.ReLU(),\n",
    "            nn.Linear(64, num_classes)\n",
    "        )\n",
    "    def forward(self, x):\n",
    "        return self.model(x)"
   ]
  },
  {
   "cell_type": "code",
   "execution_count": 7,
   "id": "bd144c17",
   "metadata": {},
   "outputs": [],
   "source": [
    "device = torch.device('cuda' if torch.cuda.is_available() else 'cpu')\n",
    "model = MLP(X_train.shape[1], len(le.classes_)).to(device)\n"
   ]
  },
  {
   "cell_type": "code",
   "execution_count": 8,
   "id": "10f3c806",
   "metadata": {},
   "outputs": [],
   "source": [
    "# 6. Training setup\n",
    "criterion = nn.CrossEntropyLoss()\n",
    "optimizer = optim.Adam(model.parameters(), lr=1e-3)"
   ]
  },
  {
   "cell_type": "code",
   "execution_count": 9,
   "id": "447be1b2",
   "metadata": {},
   "outputs": [
    {
     "name": "stdout",
     "output_type": "stream",
     "text": [
      "\n",
      "Epoch: 1 Total_Time: 0.6929 Average_Time_per_batch: 0.0020 Train_Accuracy: 0.6437 Train_Loss: 0.9923 Validation_Accuracy: 0.6820 Validation_Loss: 0.8522\n",
      "Epoch: 2 Total_Time: 0.4816 Average_Time_per_batch: 0.0014 Train_Accuracy: 0.6878 Train_Loss: 0.8462 Validation_Accuracy: 0.6950 Validation_Loss: 0.8186\n",
      "Epoch: 3 Total_Time: 0.4664 Average_Time_per_batch: 0.0014 Train_Accuracy: 0.6990 Train_Loss: 0.8232 Validation_Accuracy: 0.7061 Validation_Loss: 0.7995\n",
      "Epoch: 4 Total_Time: 0.4823 Average_Time_per_batch: 0.0014 Train_Accuracy: 0.7049 Train_Loss: 0.8090 Validation_Accuracy: 0.7109 Validation_Loss: 0.7886\n",
      "Epoch: 5 Total_Time: 0.4865 Average_Time_per_batch: 0.0014 Train_Accuracy: 0.7105 Train_Loss: 0.7960 Validation_Accuracy: 0.7126 Validation_Loss: 0.7758\n",
      "Epoch: 6 Total_Time: 0.4818 Average_Time_per_batch: 0.0014 Train_Accuracy: 0.7168 Train_Loss: 0.7846 Validation_Accuracy: 0.7195 Validation_Loss: 0.7652\n",
      "Epoch: 7 Total_Time: 0.5246 Average_Time_per_batch: 0.0015 Train_Accuracy: 0.7214 Train_Loss: 0.7738 Validation_Accuracy: 0.7286 Validation_Loss: 0.7523\n",
      "Epoch: 8 Total_Time: 0.6153 Average_Time_per_batch: 0.0018 Train_Accuracy: 0.7266 Train_Loss: 0.7635 Validation_Accuracy: 0.7288 Validation_Loss: 0.7437\n",
      "Epoch: 9 Total_Time: 0.4785 Average_Time_per_batch: 0.0014 Train_Accuracy: 0.7319 Train_Loss: 0.7547 Validation_Accuracy: 0.7321 Validation_Loss: 0.7414\n",
      "Epoch: 10 Total_Time: 0.4764 Average_Time_per_batch: 0.0014 Train_Accuracy: 0.7353 Train_Loss: 0.7477 Validation_Accuracy: 0.7384 Validation_Loss: 0.7377\n",
      "Epoch: 11 Total_Time: 0.4781 Average_Time_per_batch: 0.0014 Train_Accuracy: 0.7393 Train_Loss: 0.7411 Validation_Accuracy: 0.7430 Validation_Loss: 0.7249\n",
      "Epoch: 12 Total_Time: 0.4646 Average_Time_per_batch: 0.0013 Train_Accuracy: 0.7419 Train_Loss: 0.7360 Validation_Accuracy: 0.7444 Validation_Loss: 0.7209\n",
      "Epoch: 13 Total_Time: 0.4816 Average_Time_per_batch: 0.0014 Train_Accuracy: 0.7441 Train_Loss: 0.7302 Validation_Accuracy: 0.7435 Validation_Loss: 0.7197\n",
      "Epoch: 14 Total_Time: 0.6156 Average_Time_per_batch: 0.0018 Train_Accuracy: 0.7472 Train_Loss: 0.7246 Validation_Accuracy: 0.7505 Validation_Loss: 0.7134\n",
      "Epoch: 15 Total_Time: 0.6130 Average_Time_per_batch: 0.0018 Train_Accuracy: 0.7501 Train_Loss: 0.7193 Validation_Accuracy: 0.7486 Validation_Loss: 0.7176\n",
      "Epoch: 16 Total_Time: 0.4686 Average_Time_per_batch: 0.0014 Train_Accuracy: 0.7519 Train_Loss: 0.7157 Validation_Accuracy: 0.7543 Validation_Loss: 0.7058\n",
      "Epoch: 17 Total_Time: 0.6178 Average_Time_per_batch: 0.0018 Train_Accuracy: 0.7545 Train_Loss: 0.7103 Validation_Accuracy: 0.7513 Validation_Loss: 0.7078\n",
      "Epoch: 18 Total_Time: 0.4716 Average_Time_per_batch: 0.0014 Train_Accuracy: 0.7553 Train_Loss: 0.7083 Validation_Accuracy: 0.7576 Validation_Loss: 0.7023\n",
      "Epoch: 19 Total_Time: 0.4656 Average_Time_per_batch: 0.0013 Train_Accuracy: 0.7581 Train_Loss: 0.7040 Validation_Accuracy: 0.7570 Validation_Loss: 0.7042\n",
      "Epoch: 20 Total_Time: 0.4737 Average_Time_per_batch: 0.0014 Train_Accuracy: 0.7592 Train_Loss: 0.7018 Validation_Accuracy: 0.7544 Validation_Loss: 0.7015\n",
      "Epoch: 21 Total_Time: 0.4826 Average_Time_per_batch: 0.0014 Train_Accuracy: 0.7605 Train_Loss: 0.6970 Validation_Accuracy: 0.7603 Validation_Loss: 0.6947\n",
      "Epoch: 22 Total_Time: 0.4762 Average_Time_per_batch: 0.0014 Train_Accuracy: 0.7623 Train_Loss: 0.6960 Validation_Accuracy: 0.7608 Validation_Loss: 0.6950\n",
      "Epoch: 23 Total_Time: 0.4742 Average_Time_per_batch: 0.0014 Train_Accuracy: 0.7632 Train_Loss: 0.6923 Validation_Accuracy: 0.7625 Validation_Loss: 0.6899\n",
      "Epoch: 24 Total_Time: 0.4700 Average_Time_per_batch: 0.0014 Train_Accuracy: 0.7650 Train_Loss: 0.6900 Validation_Accuracy: 0.7623 Validation_Loss: 0.6917\n",
      "Epoch: 25 Total_Time: 0.4730 Average_Time_per_batch: 0.0014 Train_Accuracy: 0.7662 Train_Loss: 0.6872 Validation_Accuracy: 0.7648 Validation_Loss: 0.6851\n",
      "Epoch: 26 Total_Time: 0.4777 Average_Time_per_batch: 0.0014 Train_Accuracy: 0.7679 Train_Loss: 0.6836 Validation_Accuracy: 0.7687 Validation_Loss: 0.6828\n",
      "Epoch: 27 Total_Time: 0.4735 Average_Time_per_batch: 0.0014 Train_Accuracy: 0.7681 Train_Loss: 0.6822 Validation_Accuracy: 0.7699 Validation_Loss: 0.6788\n",
      "Epoch: 28 Total_Time: 0.4703 Average_Time_per_batch: 0.0014 Train_Accuracy: 0.7691 Train_Loss: 0.6788 Validation_Accuracy: 0.7679 Validation_Loss: 0.6800\n",
      "Epoch: 29 Total_Time: 0.4817 Average_Time_per_batch: 0.0014 Train_Accuracy: 0.7704 Train_Loss: 0.6782 Validation_Accuracy: 0.7656 Validation_Loss: 0.6847\n",
      "Epoch: 30 Total_Time: 0.4767 Average_Time_per_batch: 0.0014 Train_Accuracy: 0.7713 Train_Loss: 0.6749 Validation_Accuracy: 0.7681 Validation_Loss: 0.6858\n",
      "Epoch: 31 Total_Time: 0.4734 Average_Time_per_batch: 0.0014 Train_Accuracy: 0.7730 Train_Loss: 0.6737 Validation_Accuracy: 0.7711 Validation_Loss: 0.6771\n",
      "Epoch: 32 Total_Time: 0.4843 Average_Time_per_batch: 0.0014 Train_Accuracy: 0.7735 Train_Loss: 0.6713 Validation_Accuracy: 0.7719 Validation_Loss: 0.6757\n",
      "Epoch: 33 Total_Time: 0.4760 Average_Time_per_batch: 0.0014 Train_Accuracy: 0.7744 Train_Loss: 0.6703 Validation_Accuracy: 0.7755 Validation_Loss: 0.6690\n",
      "Epoch: 34 Total_Time: 0.4807 Average_Time_per_batch: 0.0014 Train_Accuracy: 0.7746 Train_Loss: 0.6679 Validation_Accuracy: 0.7713 Validation_Loss: 0.6727\n",
      "Epoch: 35 Total_Time: 0.4783 Average_Time_per_batch: 0.0014 Train_Accuracy: 0.7769 Train_Loss: 0.6659 Validation_Accuracy: 0.7761 Validation_Loss: 0.6673\n",
      "Epoch: 36 Total_Time: 0.4754 Average_Time_per_batch: 0.0014 Train_Accuracy: 0.7774 Train_Loss: 0.6635 Validation_Accuracy: 0.7696 Validation_Loss: 0.6765\n",
      "Epoch: 37 Total_Time: 0.4798 Average_Time_per_batch: 0.0014 Train_Accuracy: 0.7773 Train_Loss: 0.6638 Validation_Accuracy: 0.7768 Validation_Loss: 0.6683\n",
      "Epoch: 38 Total_Time: 0.4797 Average_Time_per_batch: 0.0014 Train_Accuracy: 0.7786 Train_Loss: 0.6618 Validation_Accuracy: 0.7777 Validation_Loss: 0.6643\n",
      "Epoch: 39 Total_Time: 0.4791 Average_Time_per_batch: 0.0014 Train_Accuracy: 0.7784 Train_Loss: 0.6605 Validation_Accuracy: 0.7757 Validation_Loss: 0.6681\n",
      "Epoch: 40 Total_Time: 0.4804 Average_Time_per_batch: 0.0014 Train_Accuracy: 0.7803 Train_Loss: 0.6579 Validation_Accuracy: 0.7751 Validation_Loss: 0.6690\n",
      "Epoch: 41 Total_Time: 0.4785 Average_Time_per_batch: 0.0014 Train_Accuracy: 0.7804 Train_Loss: 0.6570 Validation_Accuracy: 0.7761 Validation_Loss: 0.6633\n",
      "Epoch: 42 Total_Time: 0.4798 Average_Time_per_batch: 0.0014 Train_Accuracy: 0.7819 Train_Loss: 0.6541 Validation_Accuracy: 0.7798 Validation_Loss: 0.6590\n",
      "Epoch: 43 Total_Time: 0.4789 Average_Time_per_batch: 0.0014 Train_Accuracy: 0.7817 Train_Loss: 0.6532 Validation_Accuracy: 0.7787 Validation_Loss: 0.6638\n",
      "Epoch: 44 Total_Time: 0.4829 Average_Time_per_batch: 0.0014 Train_Accuracy: 0.7829 Train_Loss: 0.6518 Validation_Accuracy: 0.7777 Validation_Loss: 0.6659\n",
      "Epoch: 45 Total_Time: 0.4799 Average_Time_per_batch: 0.0014 Train_Accuracy: 0.7826 Train_Loss: 0.6516 Validation_Accuracy: 0.7765 Validation_Loss: 0.6631\n",
      "Epoch: 46 Total_Time: 0.4788 Average_Time_per_batch: 0.0014 Train_Accuracy: 0.7843 Train_Loss: 0.6497 Validation_Accuracy: 0.7839 Validation_Loss: 0.6564\n",
      "Epoch: 47 Total_Time: 0.4793 Average_Time_per_batch: 0.0014 Train_Accuracy: 0.7838 Train_Loss: 0.6482 Validation_Accuracy: 0.7812 Validation_Loss: 0.6591\n",
      "Epoch: 48 Total_Time: 0.4802 Average_Time_per_batch: 0.0014 Train_Accuracy: 0.7851 Train_Loss: 0.6470 Validation_Accuracy: 0.7829 Validation_Loss: 0.6555\n",
      "Epoch: 49 Total_Time: 0.5353 Average_Time_per_batch: 0.0016 Train_Accuracy: 0.7866 Train_Loss: 0.6450 Validation_Accuracy: 0.7846 Validation_Loss: 0.6545\n",
      "Epoch: 50 Total_Time: 0.4811 Average_Time_per_batch: 0.0014 Train_Accuracy: 0.7870 Train_Loss: 0.6444 Validation_Accuracy: 0.7797 Validation_Loss: 0.6605Peak GPU memory: 18.51 MB\n"
     ]
    }
   ],
   "source": [
    "from utils import train\n",
    "\n",
    "train_metrics, eval_metrics = train(model, train_loader, test_loader, 50, optimizer, criterion, device=device)"
   ]
  },
  {
   "cell_type": "code",
   "execution_count": 10,
   "id": "1fbba87d",
   "metadata": {},
   "outputs": [],
   "source": [
    "from dpn_3.dpn import DPN\n",
    "model = DPN(X_train.shape[1], 192 + len(le.classes_), len(le.classes_)).to(device)\n",
    "#model.compile()"
   ]
  },
  {
   "cell_type": "code",
   "execution_count": 11,
   "id": "34b5cb88",
   "metadata": {},
   "outputs": [],
   "source": [
    "# 6. Training setup\n",
    "criterion = nn.CrossEntropyLoss()\n",
    "optimizer = optim.Adam(model.parameters(), lr=1e-3)"
   ]
  },
  {
   "cell_type": "code",
   "execution_count": 12,
   "id": "940d6e1a",
   "metadata": {},
   "outputs": [
    {
     "name": "stdout",
     "output_type": "stream",
     "text": [
      "\n",
      "Epoch: 1 Total_Time: 0.4025 Average_Time_per_batch: 0.0012 Train_Accuracy: 0.6372 Train_Loss: 0.9994 Validation_Accuracy: 0.6747 Validation_Loss: 0.8749\n",
      "Epoch: 2 Total_Time: 0.3963 Average_Time_per_batch: 0.0011 Train_Accuracy: 0.6807 Train_Loss: 0.8697 Validation_Accuracy: 0.6879 Validation_Loss: 0.8394\n",
      "Epoch: 3 Total_Time: 0.3977 Average_Time_per_batch: 0.0012 Train_Accuracy: 0.6900 Train_Loss: 0.8480 Validation_Accuracy: 0.6945 Validation_Loss: 0.8253\n",
      "Epoch: 4 Total_Time: 0.3986 Average_Time_per_batch: 0.0012 Train_Accuracy: 0.6943 Train_Loss: 0.8343 Validation_Accuracy: 0.7028 Validation_Loss: 0.8120\n",
      "Epoch: 5 Total_Time: 0.3958 Average_Time_per_batch: 0.0011 Train_Accuracy: 0.6997 Train_Loss: 0.8232 Validation_Accuracy: 0.7044 Validation_Loss: 0.8040\n",
      "Epoch: 6 Total_Time: 0.3970 Average_Time_per_batch: 0.0012 Train_Accuracy: 0.7035 Train_Loss: 0.8145 Validation_Accuracy: 0.7106 Validation_Loss: 0.7942\n",
      "Epoch: 7 Total_Time: 0.3970 Average_Time_per_batch: 0.0012 Train_Accuracy: 0.7075 Train_Loss: 0.8072 Validation_Accuracy: 0.7121 Validation_Loss: 0.7889\n",
      "Epoch: 8 Total_Time: 0.3964 Average_Time_per_batch: 0.0011 Train_Accuracy: 0.7112 Train_Loss: 0.8003 Validation_Accuracy: 0.7128 Validation_Loss: 0.7840\n",
      "Epoch: 9 Total_Time: 0.3976 Average_Time_per_batch: 0.0012 Train_Accuracy: 0.7131 Train_Loss: 0.7952 Validation_Accuracy: 0.7180 Validation_Loss: 0.7799\n",
      "Epoch: 10 Total_Time: 0.3957 Average_Time_per_batch: 0.0011 Train_Accuracy: 0.7156 Train_Loss: 0.7903 Validation_Accuracy: 0.7193 Validation_Loss: 0.7718\n",
      "Epoch: 11 Total_Time: 0.3986 Average_Time_per_batch: 0.0012 Train_Accuracy: 0.7174 Train_Loss: 0.7854 Validation_Accuracy: 0.7208 Validation_Loss: 0.7702\n",
      "Epoch: 12 Total_Time: 0.3951 Average_Time_per_batch: 0.0011 Train_Accuracy: 0.7209 Train_Loss: 0.7801 Validation_Accuracy: 0.7219 Validation_Loss: 0.7657\n",
      "Epoch: 13 Total_Time: 0.3976 Average_Time_per_batch: 0.0012 Train_Accuracy: 0.7240 Train_Loss: 0.7762 Validation_Accuracy: 0.7235 Validation_Loss: 0.7664\n",
      "Epoch: 14 Total_Time: 0.3966 Average_Time_per_batch: 0.0011 Train_Accuracy: 0.7249 Train_Loss: 0.7724 Validation_Accuracy: 0.7269 Validation_Loss: 0.7597\n",
      "Epoch: 15 Total_Time: 0.3963 Average_Time_per_batch: 0.0011 Train_Accuracy: 0.7270 Train_Loss: 0.7689 Validation_Accuracy: 0.7264 Validation_Loss: 0.7554\n",
      "Epoch: 16 Total_Time: 0.3968 Average_Time_per_batch: 0.0012 Train_Accuracy: 0.7281 Train_Loss: 0.7652 Validation_Accuracy: 0.7323 Validation_Loss: 0.7525\n",
      "Epoch: 17 Total_Time: 0.3977 Average_Time_per_batch: 0.0012 Train_Accuracy: 0.7293 Train_Loss: 0.7626 Validation_Accuracy: 0.7306 Validation_Loss: 0.7487\n",
      "Epoch: 18 Total_Time: 0.3996 Average_Time_per_batch: 0.0012 Train_Accuracy: 0.7309 Train_Loss: 0.7606 Validation_Accuracy: 0.7353 Validation_Loss: 0.7480\n",
      "Epoch: 19 Total_Time: 0.4784 Average_Time_per_batch: 0.0014 Train_Accuracy: 0.7335 Train_Loss: 0.7563 Validation_Accuracy: 0.7342 Validation_Loss: 0.7445\n",
      "Epoch: 20 Total_Time: 0.3917 Average_Time_per_batch: 0.0011 Train_Accuracy: 0.7349 Train_Loss: 0.7534 Validation_Accuracy: 0.7379 Validation_Loss: 0.7421\n",
      "Epoch: 21 Total_Time: 0.3956 Average_Time_per_batch: 0.0011 Train_Accuracy: 0.7355 Train_Loss: 0.7515 Validation_Accuracy: 0.7409 Validation_Loss: 0.7388\n",
      "Epoch: 22 Total_Time: 0.3942 Average_Time_per_batch: 0.0011 Train_Accuracy: 0.7371 Train_Loss: 0.7488 Validation_Accuracy: 0.7395 Validation_Loss: 0.7396\n",
      "Epoch: 23 Total_Time: 0.3937 Average_Time_per_batch: 0.0011 Train_Accuracy: 0.7381 Train_Loss: 0.7464 Validation_Accuracy: 0.7398 Validation_Loss: 0.7383\n",
      "Epoch: 24 Total_Time: 0.4008 Average_Time_per_batch: 0.0012 Train_Accuracy: 0.7400 Train_Loss: 0.7437 Validation_Accuracy: 0.7413 Validation_Loss: 0.7345\n",
      "Epoch: 25 Total_Time: 0.3986 Average_Time_per_batch: 0.0012 Train_Accuracy: 0.7412 Train_Loss: 0.7419 Validation_Accuracy: 0.7432 Validation_Loss: 0.7308\n",
      "Epoch: 26 Total_Time: 0.3938 Average_Time_per_batch: 0.0011 Train_Accuracy: 0.7422 Train_Loss: 0.7398 Validation_Accuracy: 0.7418 Validation_Loss: 0.7304\n",
      "Epoch: 27 Total_Time: 0.3896 Average_Time_per_batch: 0.0011 Train_Accuracy: 0.7424 Train_Loss: 0.7379 Validation_Accuracy: 0.7404 Validation_Loss: 0.7324\n",
      "Epoch: 28 Total_Time: 0.3928 Average_Time_per_batch: 0.0011 Train_Accuracy: 0.7433 Train_Loss: 0.7359 Validation_Accuracy: 0.7433 Validation_Loss: 0.7291\n",
      "Epoch: 29 Total_Time: 0.3925 Average_Time_per_batch: 0.0011 Train_Accuracy: 0.7452 Train_Loss: 0.7330 Validation_Accuracy: 0.7467 Validation_Loss: 0.7250\n",
      "Epoch: 30 Total_Time: 0.3919 Average_Time_per_batch: 0.0011 Train_Accuracy: 0.7457 Train_Loss: 0.7320 Validation_Accuracy: 0.7442 Validation_Loss: 0.7267\n",
      "Epoch: 31 Total_Time: 0.3941 Average_Time_per_batch: 0.0011 Train_Accuracy: 0.7469 Train_Loss: 0.7298 Validation_Accuracy: 0.7435 Validation_Loss: 0.7260\n",
      "Epoch: 32 Total_Time: 0.3915 Average_Time_per_batch: 0.0011 Train_Accuracy: 0.7469 Train_Loss: 0.7284 Validation_Accuracy: 0.7479 Validation_Loss: 0.7222\n",
      "Epoch: 33 Total_Time: 0.3926 Average_Time_per_batch: 0.0011 Train_Accuracy: 0.7497 Train_Loss: 0.7257 Validation_Accuracy: 0.7513 Validation_Loss: 0.7181\n",
      "Epoch: 34 Total_Time: 0.3904 Average_Time_per_batch: 0.0011 Train_Accuracy: 0.7510 Train_Loss: 0.7241 Validation_Accuracy: 0.7494 Validation_Loss: 0.7190\n",
      "Epoch: 35 Total_Time: 0.3952 Average_Time_per_batch: 0.0011 Train_Accuracy: 0.7507 Train_Loss: 0.7223 Validation_Accuracy: 0.7490 Validation_Loss: 0.7174\n",
      "Epoch: 36 Total_Time: 0.3936 Average_Time_per_batch: 0.0011 Train_Accuracy: 0.7513 Train_Loss: 0.7211 Validation_Accuracy: 0.7486 Validation_Loss: 0.7177\n",
      "Epoch: 37 Total_Time: 0.3906 Average_Time_per_batch: 0.0011 Train_Accuracy: 0.7522 Train_Loss: 0.7198 Validation_Accuracy: 0.7483 Validation_Loss: 0.7228\n",
      "Epoch: 38 Total_Time: 0.3913 Average_Time_per_batch: 0.0011 Train_Accuracy: 0.7535 Train_Loss: 0.7175 Validation_Accuracy: 0.7517 Validation_Loss: 0.7146\n",
      "Epoch: 39 Total_Time: 0.3913 Average_Time_per_batch: 0.0011 Train_Accuracy: 0.7531 Train_Loss: 0.7163 Validation_Accuracy: 0.7514 Validation_Loss: 0.7128\n",
      "Epoch: 40 Total_Time: 0.3937 Average_Time_per_batch: 0.0011 Train_Accuracy: 0.7545 Train_Loss: 0.7141 Validation_Accuracy: 0.7542 Validation_Loss: 0.7121\n",
      "Epoch: 41 Total_Time: 0.3878 Average_Time_per_batch: 0.0011 Train_Accuracy: 0.7550 Train_Loss: 0.7142 Validation_Accuracy: 0.7535 Validation_Loss: 0.7104\n",
      "Epoch: 42 Total_Time: 0.3920 Average_Time_per_batch: 0.0011 Train_Accuracy: 0.7558 Train_Loss: 0.7116 Validation_Accuracy: 0.7535 Validation_Loss: 0.7159\n",
      "Epoch: 43 Total_Time: 0.3934 Average_Time_per_batch: 0.0011 Train_Accuracy: 0.7569 Train_Loss: 0.7105 Validation_Accuracy: 0.7537 Validation_Loss: 0.7075\n",
      "Epoch: 44 Total_Time: 0.3899 Average_Time_per_batch: 0.0011 Train_Accuracy: 0.7570 Train_Loss: 0.7095 Validation_Accuracy: 0.7541 Validation_Loss: 0.7097\n",
      "Epoch: 45 Total_Time: 0.3868 Average_Time_per_batch: 0.0011 Train_Accuracy: 0.7574 Train_Loss: 0.7084 Validation_Accuracy: 0.7556 Validation_Loss: 0.7077\n",
      "Epoch: 46 Total_Time: 0.3959 Average_Time_per_batch: 0.0011 Train_Accuracy: 0.7571 Train_Loss: 0.7071 Validation_Accuracy: 0.7577 Validation_Loss: 0.7021\n",
      "Epoch: 47 Total_Time: 0.3990 Average_Time_per_batch: 0.0012 Train_Accuracy: 0.7580 Train_Loss: 0.7062 Validation_Accuracy: 0.7561 Validation_Loss: 0.7044\n",
      "Epoch: 48 Total_Time: 0.3982 Average_Time_per_batch: 0.0012 Train_Accuracy: 0.7593 Train_Loss: 0.7044 Validation_Accuracy: 0.7585 Validation_Loss: 0.7044\n",
      "Epoch: 49 Total_Time: 0.3971 Average_Time_per_batch: 0.0012 Train_Accuracy: 0.7591 Train_Loss: 0.7044 Validation_Accuracy: 0.7578 Validation_Loss: 0.7027\n",
      "Epoch: 50 Total_Time: 0.4016 Average_Time_per_batch: 0.0012 Train_Accuracy: 0.7590 Train_Loss: 0.7028 Validation_Accuracy: 0.7590 Validation_Loss: 0.7013Peak GPU memory: 18.63 MB\n"
     ]
    }
   ],
   "source": [
    "train_metrics, eval_metrics = train(model, train_loader, test_loader, 50, optimizer, criterion, device=device)"
   ]
  },
  {
   "cell_type": "code",
   "execution_count": 13,
   "id": "cccaafe2",
   "metadata": {},
   "outputs": [],
   "source": [
    "from dpn_2.dpn import DPN as DPN_4\n",
    "model = DPN_4(X_train.shape[1], 192 + len(le.classes_), len(le.classes_), False).to(device)\n",
    "model.compile()"
   ]
  },
  {
   "cell_type": "code",
   "execution_count": 14,
   "id": "e7d1a882",
   "metadata": {},
   "outputs": [],
   "source": [
    "# 6. Training setup\n",
    "criterion = nn.CrossEntropyLoss()\n",
    "optimizer = optim.Adam(model.parameters(), lr=1e-3)"
   ]
  },
  {
   "cell_type": "code",
   "execution_count": 15,
   "id": "cc0a8690",
   "metadata": {},
   "outputs": [
    {
     "name": "stdout",
     "output_type": "stream",
     "text": [
      "\n",
      "Epoch: 1 Total_Time: 16.7784 Average_Time_per_batch: 0.0486 Train_Accuracy: 0.6642 Train_Loss: 0.9298 Validation_Accuracy: 0.6987 Validation_Loss: 0.8175\n",
      "Epoch: 2 Total_Time: 16.7006 Average_Time_per_batch: 0.0484 Train_Accuracy: 0.6994 Train_Loss: 0.8209 Validation_Accuracy: 0.7127 Validation_Loss: 0.7857\n",
      "Epoch: 3 Total_Time: 17.7637 Average_Time_per_batch: 0.0515 Train_Accuracy: 0.7113 Train_Loss: 0.7929 Validation_Accuracy: 0.7147 Validation_Loss: 0.7789\n",
      "Epoch: 4 Total_Time: 20.0138 Average_Time_per_batch: 0.0580 Train_Accuracy: 0.7200 Train_Loss: 0.7728 Validation_Accuracy: 0.7271 Validation_Loss: 0.7567\n",
      "Epoch: 5 Total_Time: 18.6036 Average_Time_per_batch: 0.0539 Train_Accuracy: 0.7286 Train_Loss: 0.7550 Validation_Accuracy: 0.7354 Validation_Loss: 0.7433\n",
      "Epoch: 6 Total_Time: 18.1225 Average_Time_per_batch: 0.0525 Train_Accuracy: 0.7355 Train_Loss: 0.7412 Validation_Accuracy: 0.7391 Validation_Loss: 0.7253\n",
      "Epoch: 7 Total_Time: 19.4615 Average_Time_per_batch: 0.0564 Train_Accuracy: 0.7458 Train_Loss: 0.7253 Validation_Accuracy: 0.7422 Validation_Loss: 0.7244\n",
      "Epoch: 8 Total_Time: 19.8708 Average_Time_per_batch: 0.0576 Train_Accuracy: 0.7521 Train_Loss: 0.7118 Validation_Accuracy: 0.7578 Validation_Loss: 0.7018\n",
      "Epoch: 9 Total_Time: 19.7612 Average_Time_per_batch: 0.0573 Train_Accuracy: 0.7572 Train_Loss: 0.7012 Validation_Accuracy: 0.7605 Validation_Loss: 0.7006\n",
      "Epoch: 10 Total_Time: 19.7455 Average_Time_per_batch: 0.0572 Train_Accuracy: 0.7626 Train_Loss: 0.6911 Validation_Accuracy: 0.7672 Validation_Loss: 0.6812\n",
      "Epoch: 11 Total_Time: 19.2301 Average_Time_per_batch: 0.0557 Train_Accuracy: 0.7670 Train_Loss: 0.6831 Validation_Accuracy: 0.7693 Validation_Loss: 0.6779\n",
      "Epoch: 12 Total_Time: 18.8862 Average_Time_per_batch: 0.0547 Train_Accuracy: 0.7712 Train_Loss: 0.6737 Validation_Accuracy: 0.7681 Validation_Loss: 0.6803\n",
      "Epoch: 13 Total_Time: 18.5238 Average_Time_per_batch: 0.0537 Train_Accuracy: 0.7738 Train_Loss: 0.6669 Validation_Accuracy: 0.7756 Validation_Loss: 0.6627\n",
      "Epoch: 14 Total_Time: 18.3654 Average_Time_per_batch: 0.0532 Train_Accuracy: 0.7783 Train_Loss: 0.6570 Validation_Accuracy: 0.7783 Validation_Loss: 0.6605\n",
      "Epoch: 15 Total_Time: 19.9326 Average_Time_per_batch: 0.0578 Train_Accuracy: 0.7800 Train_Loss: 0.6516 Validation_Accuracy: 0.7787 Validation_Loss: 0.6559\n",
      "Epoch: 16 Total_Time: 19.9070 Average_Time_per_batch: 0.0577 Train_Accuracy: 0.7848 Train_Loss: 0.6431 Validation_Accuracy: 0.7840 Validation_Loss: 0.6494\n",
      "Epoch: 17 Total_Time: 19.7178 Average_Time_per_batch: 0.0572 Train_Accuracy: 0.7873 Train_Loss: 0.6385 Validation_Accuracy: 0.7849 Validation_Loss: 0.6524\n",
      "Epoch: 18 Total_Time: 19.9720 Average_Time_per_batch: 0.0579 Train_Accuracy: 0.7903 Train_Loss: 0.6326 Validation_Accuracy: 0.7876 Validation_Loss: 0.6435\n",
      "Epoch: 19 Total_Time: 19.8742 Average_Time_per_batch: 0.0576 Train_Accuracy: 0.7922 Train_Loss: 0.6269 Validation_Accuracy: 0.7916 Validation_Loss: 0.6371\n",
      "Epoch: 20 Total_Time: 19.8514 Average_Time_per_batch: 0.0575 Train_Accuracy: 0.7960 Train_Loss: 0.6220 Validation_Accuracy: 0.7869 Validation_Loss: 0.6375\n",
      "Epoch: 21 Total_Time: 19.8907 Average_Time_per_batch: 0.0577 Train_Accuracy: 0.7977 Train_Loss: 0.6164 Validation_Accuracy: 0.7909 Validation_Loss: 0.6407\n",
      "Epoch: 22 Total_Time: 19.6920 Average_Time_per_batch: 0.0571 Train_Accuracy: 0.7997 Train_Loss: 0.6113 Validation_Accuracy: 0.7932 Validation_Loss: 0.6322\n",
      "Epoch: 23 Total_Time: 19.4983 Average_Time_per_batch: 0.0565 Train_Accuracy: 0.8012 Train_Loss: 0.6104 Validation_Accuracy: 0.7986 Validation_Loss: 0.6229\n",
      "Epoch: 24 Total_Time: 19.8928 Average_Time_per_batch: 0.0577 Train_Accuracy: 0.8026 Train_Loss: 0.6054 Validation_Accuracy: 0.7954 Validation_Loss: 0.6269\n",
      "Epoch: 25 Total_Time: 19.5946 Average_Time_per_batch: 0.0568 Train_Accuracy: 0.8053 Train_Loss: 0.6008 Validation_Accuracy: 0.7988 Validation_Loss: 0.6239\n",
      "Epoch: 26 Total_Time: 19.9551 Average_Time_per_batch: 0.0578 Train_Accuracy: 0.8065 Train_Loss: 0.5987 Validation_Accuracy: 0.8042 Validation_Loss: 0.6129\n",
      "Epoch: 27 Total_Time: 19.9726 Average_Time_per_batch: 0.0579 Train_Accuracy: 0.8084 Train_Loss: 0.5925 Validation_Accuracy: 0.7976 Validation_Loss: 0.6252\n",
      "Epoch: 28 Total_Time: 19.7923 Average_Time_per_batch: 0.0574 Train_Accuracy: 0.8093 Train_Loss: 0.5929 Validation_Accuracy: 0.8017 Validation_Loss: 0.6165\n",
      "Epoch: 29 Total_Time: 19.9149 Average_Time_per_batch: 0.0577 Train_Accuracy: 0.8115 Train_Loss: 0.5865 Validation_Accuracy: 0.8034 Validation_Loss: 0.6131\n",
      "Epoch: 30 Total_Time: 19.7127 Average_Time_per_batch: 0.0571 Train_Accuracy: 0.8143 Train_Loss: 0.5826 Validation_Accuracy: 0.8043 Validation_Loss: 0.6133\n",
      "Epoch: 31 Total_Time: 19.8627 Average_Time_per_batch: 0.0576 Train_Accuracy: 0.8142 Train_Loss: 0.5817 Validation_Accuracy: 0.8061 Validation_Loss: 0.6086\n",
      "Epoch: 32 Total_Time: 18.9491 Average_Time_per_batch: 0.0549 Train_Accuracy: 0.8168 Train_Loss: 0.5767 Validation_Accuracy: 0.8075 Validation_Loss: 0.6114\n",
      "Epoch: 33 Total_Time: 19.6541 Average_Time_per_batch: 0.0570 Train_Accuracy: 0.8176 Train_Loss: 0.5741 Validation_Accuracy: 0.8079 Validation_Loss: 0.6097\n",
      "Epoch: 34 Total_Time: 19.9883 Average_Time_per_batch: 0.0579 Train_Accuracy: 0.8184 Train_Loss: 0.5720 Validation_Accuracy: 0.8073 Validation_Loss: 0.6050\n",
      "Epoch: 35 Total_Time: 20.0003 Average_Time_per_batch: 0.0580 Train_Accuracy: 0.8196 Train_Loss: 0.5692 Validation_Accuracy: 0.8067 Validation_Loss: 0.6110\n",
      "Epoch: 36 Total_Time: 19.8238 Average_Time_per_batch: 0.0575 Train_Accuracy: 0.8208 Train_Loss: 0.5664 Validation_Accuracy: 0.8098 Validation_Loss: 0.6052\n",
      "Epoch: 37 Total_Time: 19.9685 Average_Time_per_batch: 0.0579 Train_Accuracy: 0.8222 Train_Loss: 0.5642 Validation_Accuracy: 0.8152 Validation_Loss: 0.5975\n",
      "Epoch: 38 Total_Time: 19.7199 Average_Time_per_batch: 0.0572 Train_Accuracy: 0.8229 Train_Loss: 0.5602 Validation_Accuracy: 0.8122 Validation_Loss: 0.6055\n",
      "Epoch: 39 Total_Time: 19.9326 Average_Time_per_batch: 0.0578 Train_Accuracy: 0.8249 Train_Loss: 0.5574 Validation_Accuracy: 0.8150 Validation_Loss: 0.5955\n",
      "Epoch: 40 Total_Time: 19.9236 Average_Time_per_batch: 0.0577 Train_Accuracy: 0.8241 Train_Loss: 0.5590 Validation_Accuracy: 0.8133 Validation_Loss: 0.6001\n",
      "Epoch: 41 Total_Time: 18.6299 Average_Time_per_batch: 0.0540 Train_Accuracy: 0.8268 Train_Loss: 0.5529 Validation_Accuracy: 0.8171 Validation_Loss: 0.5938\n",
      "Epoch: 42 Total_Time: 19.8013 Average_Time_per_batch: 0.0574 Train_Accuracy: 0.8274 Train_Loss: 0.5513 Validation_Accuracy: 0.8141 Validation_Loss: 0.5996\n",
      "Epoch: 43 Total_Time: 18.9641 Average_Time_per_batch: 0.0550 Train_Accuracy: 0.8282 Train_Loss: 0.5499 Validation_Accuracy: 0.8163 Validation_Loss: 0.5987\n",
      "Epoch: 44 Total_Time: 18.9323 Average_Time_per_batch: 0.0549 Train_Accuracy: 0.8298 Train_Loss: 0.5467 Validation_Accuracy: 0.8156 Validation_Loss: 0.5939\n",
      "Epoch: 45 Total_Time: 18.4550 Average_Time_per_batch: 0.0535 Train_Accuracy: 0.8310 Train_Loss: 0.5441 Validation_Accuracy: 0.8138 Validation_Loss: 0.5978\n",
      "Epoch: 46 Total_Time: 19.0709 Average_Time_per_batch: 0.0553 Train_Accuracy: 0.8324 Train_Loss: 0.5429 Validation_Accuracy: 0.8145 Validation_Loss: 0.5989\n",
      "Epoch: 47 Total_Time: 19.9072 Average_Time_per_batch: 0.0577 Train_Accuracy: 0.8311 Train_Loss: 0.5415 Validation_Accuracy: 0.8173 Validation_Loss: 0.5903\n",
      "Epoch: 48 Total_Time: 19.8438 Average_Time_per_batch: 0.0575 Train_Accuracy: 0.8334 Train_Loss: 0.5400 Validation_Accuracy: 0.8187 Validation_Loss: 0.5910\n",
      "Epoch: 49 Total_Time: 19.6549 Average_Time_per_batch: 0.0570 Train_Accuracy: 0.8340 Train_Loss: 0.5376 Validation_Accuracy: 0.8226 Validation_Loss: 0.5891\n",
      "Epoch: 50 Total_Time: 19.8781 Average_Time_per_batch: 0.0576 Train_Accuracy: 0.8353 Train_Loss: 0.5351 Validation_Accuracy: 0.8194 Validation_Loss: 0.5925Peak GPU memory: 18.48 MB\n"
     ]
    }
   ],
   "source": [
    "train_metrics, eval_metrics = train(model, train_loader, test_loader, 50, optimizer, criterion, device=device)"
   ]
  },
  {
   "cell_type": "code",
   "execution_count": 16,
   "id": "90a651e4",
   "metadata": {},
   "outputs": [],
   "source": [
    "from dpn_2.dpn import DPN as DPN2\n",
    "\n",
    "hidden_dims = [128, 64, len(le.classes_)]\n",
    "total = sum(hidden_dims)\n",
    "\n",
    "blocks = len(hidden_dims)\n",
    "features = X_train.shape[1]\n",
    "neural_blocks = []\n",
    "for dim in hidden_dims:\n",
    "    std_dev = torch.sqrt(torch.tensor(1 / features)).to(device)\n",
    "    neural_blocks.append(torch.randn(dim, features).to(device) * std_dev)\n",
    "    features += dim\n",
    "\n",
    "feature_blocks = []\n",
    "features_start = 0\n",
    "for i in range(len(neural_blocks)):\n",
    "    features_end = neural_blocks[i].shape[1]\n",
    "    block = neural_blocks[i][:, features_start:]\n",
    "    for j in range(i + 1, len(neural_blocks)):\n",
    "        block = torch.cat((block, neural_blocks[j][:, features_start:features_end]), dim=0)\n",
    "    feature_blocks.append(nn.Parameter(block))\n",
    "    features_start = features_end\n",
    "\n",
    "biases = biases = nn.Parameter(torch.empty(total).uniform_(0.0, 1.0)).to(device)"
   ]
  },
  {
   "cell_type": "code",
   "execution_count": 17,
   "id": "2dccab49",
   "metadata": {},
   "outputs": [
    {
     "name": "stdout",
     "output_type": "stream",
     "text": [
      "torch.Size([199, 14])\n",
      "torch.Size([71, 128])\n",
      "torch.Size([7, 64])\n",
      "torch.Size([199])\n"
     ]
    }
   ],
   "source": [
    "for block in feature_blocks:\n",
    "    print(block.shape)\n",
    "print(biases.shape)"
   ]
  },
  {
   "cell_type": "code",
   "execution_count": 18,
   "id": "ff3dc04e",
   "metadata": {},
   "outputs": [],
   "source": [
    "model = DPN2(X_train.shape[1], total, len(le.classes_), True).cuda()\n",
    "model.weights.extend(feature_blocks)\n",
    "model.biases = biases"
   ]
  },
  {
   "cell_type": "code",
   "execution_count": 19,
   "id": "ddf4f740",
   "metadata": {},
   "outputs": [],
   "source": [
    "criterion = nn.CrossEntropyLoss()\n",
    "optimizer = optim.Adam(model.parameters(), lr=1e-3)"
   ]
  },
  {
   "cell_type": "code",
   "execution_count": 20,
   "id": "7203fe42",
   "metadata": {},
   "outputs": [
    {
     "name": "stdout",
     "output_type": "stream",
     "text": [
      "\n",
      "Epoch: 1 Total_Time: 0.8724 Average_Time_per_batch: 0.0025 Train_Accuracy: 0.6516 Train_Loss: 0.9403 Validation_Accuracy: 0.6819 Validation_Loss: 0.8508\n",
      "Epoch: 2 Total_Time: 0.7747 Average_Time_per_batch: 0.0022 Train_Accuracy: 0.6888 Train_Loss: 0.8481 Validation_Accuracy: 0.6987 Validation_Loss: 0.8153\n",
      "Epoch: 3 Total_Time: 0.8477 Average_Time_per_batch: 0.0025 Train_Accuracy: 0.6984 Train_Loss: 0.8241 Validation_Accuracy: 0.7062 Validation_Loss: 0.8014\n",
      "Epoch: 4 Total_Time: 0.8469 Average_Time_per_batch: 0.0025 Train_Accuracy: 0.7056 Train_Loss: 0.8098 Validation_Accuracy: 0.7123 Validation_Loss: 0.7864\n",
      "Epoch: 5 Total_Time: 0.8623 Average_Time_per_batch: 0.0025 Train_Accuracy: 0.7116 Train_Loss: 0.7976 Validation_Accuracy: 0.7185 Validation_Loss: 0.7745\n",
      "Epoch: 6 Total_Time: 0.8296 Average_Time_per_batch: 0.0024 Train_Accuracy: 0.7168 Train_Loss: 0.7849 Validation_Accuracy: 0.7214 Validation_Loss: 0.7671\n",
      "Epoch: 7 Total_Time: 1.0916 Average_Time_per_batch: 0.0032 Train_Accuracy: 0.7220 Train_Loss: 0.7765 Validation_Accuracy: 0.7268 Validation_Loss: 0.7570\n",
      "Epoch: 8 Total_Time: 0.8603 Average_Time_per_batch: 0.0025 Train_Accuracy: 0.7261 Train_Loss: 0.7675 Validation_Accuracy: 0.7336 Validation_Loss: 0.7466\n",
      "Epoch: 9 Total_Time: 0.8548 Average_Time_per_batch: 0.0025 Train_Accuracy: 0.7296 Train_Loss: 0.7602 Validation_Accuracy: 0.7360 Validation_Loss: 0.7423\n",
      "Epoch: 10 Total_Time: 0.8500 Average_Time_per_batch: 0.0025 Train_Accuracy: 0.7343 Train_Loss: 0.7517 Validation_Accuracy: 0.7411 Validation_Loss: 0.7361\n",
      "Epoch: 11 Total_Time: 0.8443 Average_Time_per_batch: 0.0024 Train_Accuracy: 0.7369 Train_Loss: 0.7478 Validation_Accuracy: 0.7374 Validation_Loss: 0.7347\n",
      "Epoch: 12 Total_Time: 0.8354 Average_Time_per_batch: 0.0024 Train_Accuracy: 0.7388 Train_Loss: 0.7414 Validation_Accuracy: 0.7424 Validation_Loss: 0.7293\n",
      "Epoch: 13 Total_Time: 0.8486 Average_Time_per_batch: 0.0025 Train_Accuracy: 0.7421 Train_Loss: 0.7348 Validation_Accuracy: 0.7391 Validation_Loss: 0.7284\n",
      "Epoch: 14 Total_Time: 0.8449 Average_Time_per_batch: 0.0024 Train_Accuracy: 0.7438 Train_Loss: 0.7309 Validation_Accuracy: 0.7451 Validation_Loss: 0.7249\n",
      "Epoch: 15 Total_Time: 0.7964 Average_Time_per_batch: 0.0023 Train_Accuracy: 0.7459 Train_Loss: 0.7264 Validation_Accuracy: 0.7490 Validation_Loss: 0.7164\n",
      "Epoch: 16 Total_Time: 0.8314 Average_Time_per_batch: 0.0024 Train_Accuracy: 0.7496 Train_Loss: 0.7213 Validation_Accuracy: 0.7525 Validation_Loss: 0.7144\n",
      "Epoch: 17 Total_Time: 0.8233 Average_Time_per_batch: 0.0024 Train_Accuracy: 0.7497 Train_Loss: 0.7174 Validation_Accuracy: 0.7515 Validation_Loss: 0.7091\n",
      "Epoch: 18 Total_Time: 0.8170 Average_Time_per_batch: 0.0024 Train_Accuracy: 0.7532 Train_Loss: 0.7137 Validation_Accuracy: 0.7526 Validation_Loss: 0.7127\n",
      "Epoch: 19 Total_Time: 0.8535 Average_Time_per_batch: 0.0025 Train_Accuracy: 0.7538 Train_Loss: 0.7100 Validation_Accuracy: 0.7554 Validation_Loss: 0.7071\n",
      "Epoch: 20 Total_Time: 0.8104 Average_Time_per_batch: 0.0023 Train_Accuracy: 0.7573 Train_Loss: 0.7056 Validation_Accuracy: 0.7512 Validation_Loss: 0.7092\n",
      "Epoch: 21 Total_Time: 0.8326 Average_Time_per_batch: 0.0024 Train_Accuracy: 0.7578 Train_Loss: 0.7029 Validation_Accuracy: 0.7595 Validation_Loss: 0.6964\n",
      "Epoch: 22 Total_Time: 0.8216 Average_Time_per_batch: 0.0024 Train_Accuracy: 0.7599 Train_Loss: 0.6995 Validation_Accuracy: 0.7610 Validation_Loss: 0.6954\n",
      "Epoch: 23 Total_Time: 0.8156 Average_Time_per_batch: 0.0024 Train_Accuracy: 0.7609 Train_Loss: 0.6974 Validation_Accuracy: 0.7635 Validation_Loss: 0.6912\n",
      "Epoch: 24 Total_Time: 0.8399 Average_Time_per_batch: 0.0024 Train_Accuracy: 0.7618 Train_Loss: 0.6953 Validation_Accuracy: 0.7653 Validation_Loss: 0.6896\n",
      "Epoch: 25 Total_Time: 0.8108 Average_Time_per_batch: 0.0024 Train_Accuracy: 0.7646 Train_Loss: 0.6913 Validation_Accuracy: 0.7671 Validation_Loss: 0.6863\n",
      "Epoch: 26 Total_Time: 0.8334 Average_Time_per_batch: 0.0024 Train_Accuracy: 0.7650 Train_Loss: 0.6903 Validation_Accuracy: 0.7667 Validation_Loss: 0.6902\n",
      "Epoch: 27 Total_Time: 0.8321 Average_Time_per_batch: 0.0024 Train_Accuracy: 0.7656 Train_Loss: 0.6871 Validation_Accuracy: 0.7659 Validation_Loss: 0.6872\n",
      "Epoch: 28 Total_Time: 0.8572 Average_Time_per_batch: 0.0025 Train_Accuracy: 0.7679 Train_Loss: 0.6850 Validation_Accuracy: 0.7682 Validation_Loss: 0.6869\n",
      "Epoch: 29 Total_Time: 0.8588 Average_Time_per_batch: 0.0025 Train_Accuracy: 0.7689 Train_Loss: 0.6819 Validation_Accuracy: 0.7726 Validation_Loss: 0.6775\n",
      "Epoch: 30 Total_Time: 0.8164 Average_Time_per_batch: 0.0024 Train_Accuracy: 0.7693 Train_Loss: 0.6804 Validation_Accuracy: 0.7642 Validation_Loss: 0.6883\n",
      "Epoch: 31 Total_Time: 0.8507 Average_Time_per_batch: 0.0025 Train_Accuracy: 0.7693 Train_Loss: 0.6807 Validation_Accuracy: 0.7706 Validation_Loss: 0.6824\n",
      "Epoch: 32 Total_Time: 0.8530 Average_Time_per_batch: 0.0025 Train_Accuracy: 0.7718 Train_Loss: 0.6766 Validation_Accuracy: 0.7674 Validation_Loss: 0.6859\n",
      "Epoch: 33 Total_Time: 0.8462 Average_Time_per_batch: 0.0025 Train_Accuracy: 0.7716 Train_Loss: 0.6742 Validation_Accuracy: 0.7724 Validation_Loss: 0.6741\n",
      "Epoch: 34 Total_Time: 0.7980 Average_Time_per_batch: 0.0023 Train_Accuracy: 0.7731 Train_Loss: 0.6716 Validation_Accuracy: 0.7757 Validation_Loss: 0.6702\n",
      "Epoch: 35 Total_Time: 0.8470 Average_Time_per_batch: 0.0025 Train_Accuracy: 0.7723 Train_Loss: 0.6743 Validation_Accuracy: 0.7732 Validation_Loss: 0.6733\n",
      "Epoch: 36 Total_Time: 0.8481 Average_Time_per_batch: 0.0025 Train_Accuracy: 0.7739 Train_Loss: 0.6714 Validation_Accuracy: 0.7774 Validation_Loss: 0.6707\n",
      "Epoch: 37 Total_Time: 0.8394 Average_Time_per_batch: 0.0024 Train_Accuracy: 0.7749 Train_Loss: 0.6689 Validation_Accuracy: 0.7680 Validation_Loss: 0.6855\n",
      "Epoch: 38 Total_Time: 0.8256 Average_Time_per_batch: 0.0024 Train_Accuracy: 0.7765 Train_Loss: 0.6670 Validation_Accuracy: 0.7732 Validation_Loss: 0.6762\n",
      "Epoch: 39 Total_Time: 0.7785 Average_Time_per_batch: 0.0023 Train_Accuracy: 0.7774 Train_Loss: 0.6642 Validation_Accuracy: 0.7722 Validation_Loss: 0.6795\n",
      "Epoch: 40 Total_Time: 0.8513 Average_Time_per_batch: 0.0025 Train_Accuracy: 0.7760 Train_Loss: 0.6664 Validation_Accuracy: 0.7755 Validation_Loss: 0.6719\n",
      "Epoch: 41 Total_Time: 0.8251 Average_Time_per_batch: 0.0024 Train_Accuracy: 0.7787 Train_Loss: 0.6613 Validation_Accuracy: 0.7751 Validation_Loss: 0.6732\n",
      "Epoch: 42 Total_Time: 0.7967 Average_Time_per_batch: 0.0023 Train_Accuracy: 0.7778 Train_Loss: 0.6613 Validation_Accuracy: 0.7751 Validation_Loss: 0.6677\n",
      "Epoch: 43 Total_Time: 0.8349 Average_Time_per_batch: 0.0024 Train_Accuracy: 0.7803 Train_Loss: 0.6575 Validation_Accuracy: 0.7765 Validation_Loss: 0.6721\n",
      "Epoch: 44 Total_Time: 0.8374 Average_Time_per_batch: 0.0024 Train_Accuracy: 0.7794 Train_Loss: 0.6587 Validation_Accuracy: 0.7818 Validation_Loss: 0.6606\n",
      "Epoch: 45 Total_Time: 0.7947 Average_Time_per_batch: 0.0023 Train_Accuracy: 0.7797 Train_Loss: 0.6580 Validation_Accuracy: 0.7803 Validation_Loss: 0.6659\n",
      "Epoch: 46 Total_Time: 0.8523 Average_Time_per_batch: 0.0025 Train_Accuracy: 0.7824 Train_Loss: 0.6539 Validation_Accuracy: 0.7783 Validation_Loss: 0.6686\n",
      "Epoch: 47 Total_Time: 1.1339 Average_Time_per_batch: 0.0033 Train_Accuracy: 0.7812 Train_Loss: 0.6550 Validation_Accuracy: 0.7833 Validation_Loss: 0.6687\n",
      "Epoch: 48 Total_Time: 0.8602 Average_Time_per_batch: 0.0025 Train_Accuracy: 0.7834 Train_Loss: 0.6523 Validation_Accuracy: 0.7807 Validation_Loss: 0.6601\n",
      "Epoch: 49 Total_Time: 0.8389 Average_Time_per_batch: 0.0024 Train_Accuracy: 0.7838 Train_Loss: 0.6515 Validation_Accuracy: 0.7826 Validation_Loss: 0.6572\n",
      "Epoch: 50 Total_Time: 0.7778 Average_Time_per_batch: 0.0023 Train_Accuracy: 0.7838 Train_Loss: 0.6503 Validation_Accuracy: 0.7838 Validation_Loss: 0.6572Peak GPU memory: 18.14 MB\n"
     ]
    }
   ],
   "source": [
    "train_metrics, eval_metrics = train(model, train_loader, test_loader, 50, optimizer, criterion, device=device)"
   ]
  },
  {
   "cell_type": "code",
   "execution_count": null,
   "id": "73362c69",
   "metadata": {},
   "outputs": [],
   "source": []
  }
 ],
 "metadata": {
  "kernelspec": {
   "display_name": "saroshgpu",
   "language": "python",
   "name": "python3"
  },
  "language_info": {
   "codemirror_mode": {
    "name": "ipython",
    "version": 3
   },
   "file_extension": ".py",
   "mimetype": "text/x-python",
   "name": "python",
   "nbconvert_exporter": "python",
   "pygments_lexer": "ipython3",
   "version": "3.9.21"
  }
 },
 "nbformat": 4,
 "nbformat_minor": 5
}
