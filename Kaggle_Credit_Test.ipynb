{
 "cells": [
  {
   "cell_type": "code",
   "execution_count": 1,
   "id": "d282cdb1",
   "metadata": {},
   "outputs": [],
   "source": [
    "import torch\n",
    "import torch.nn as nn\n",
    "import torch.optim as optim\n",
    "from torch.utils.data import Dataset, DataLoader\n",
    "import numpy as np\n",
    "import pandas as pd\n",
    "from sklearn.model_selection import train_test_split\n",
    "from sklearn.preprocessing import StandardScaler\n"
   ]
  },
  {
   "cell_type": "code",
   "execution_count": 2,
   "id": "a6e5afe9",
   "metadata": {},
   "outputs": [],
   "source": [
    "\n",
    "# 1. Load the CSV\n",
    "df = pd.read_csv('data/GiveMeSomeCredit/cs-training.csv', index_col=0)  # The first column is an ID"
   ]
  },
  {
   "cell_type": "code",
   "execution_count": 3,
   "id": "73cdf3ca",
   "metadata": {},
   "outputs": [],
   "source": [
    "# 2. Preprocessing: fill missing values, standardize\n",
    "target = 'SeriousDlqin2yrs'\n",
    "X = df.drop(columns=[target])\n",
    "y = df[target].values.astype(np.float32).reshape(-1, 1)\n",
    "\n",
    "# Fill NaNs with column mean (simple imputation)\n",
    "X = X.fillna(X.mean())\n",
    "\n",
    "# Use only numeric features (should be all, but for safety)\n",
    "X_numeric = X.select_dtypes(include=[np.number])\n",
    "\n",
    "scaler = StandardScaler()\n",
    "X_scaled = scaler.fit_transform(X_numeric.values.astype(np.float32))"
   ]
  },
  {
   "cell_type": "code",
   "execution_count": 4,
   "id": "face30c6",
   "metadata": {},
   "outputs": [],
   "source": [
    "# 3. Train/test split\n",
    "X_train, X_test, y_train, y_test = train_test_split(X_scaled, y, test_size=0.2, random_state=42)"
   ]
  },
  {
   "cell_type": "code",
   "execution_count": 5,
   "id": "d42267fe",
   "metadata": {},
   "outputs": [],
   "source": [
    "# 4. PyTorch Dataset\n",
    "class CreditDataset(Dataset):\n",
    "    def __init__(self, X, y):\n",
    "        self.X = torch.from_numpy(X)\n",
    "        self.y = torch.from_numpy(y)\n",
    "    def __len__(self):\n",
    "        return len(self.X)\n",
    "    def __getitem__(self, idx):\n",
    "        return self.X[idx], self.y[idx]\n",
    "\n",
    "train_ds = CreditDataset(X_train, y_train)\n",
    "test_ds = CreditDataset(X_test, y_test)\n",
    "\n",
    "train_loader = DataLoader(train_ds, batch_size=128, shuffle=True)\n",
    "test_loader = DataLoader(test_ds, batch_size=128)"
   ]
  },
  {
   "cell_type": "code",
   "execution_count": 6,
   "id": "871a3369",
   "metadata": {},
   "outputs": [],
   "source": [
    "# 5. MLP Model (replace with your technique)\n",
    "class MLP(nn.Module):\n",
    "    def __init__(self, input_dim):\n",
    "        super().__init__()\n",
    "        self.model = nn.Sequential(\n",
    "            nn.Linear(input_dim, 16),\n",
    "            nn.ReLU(),\n",
    "            nn.Linear(16, 8),\n",
    "            nn.ReLU(),\n",
    "            nn.Linear(8, 1),\n",
    "            nn.Sigmoid()\n",
    "        )\n",
    "    def forward(self, x):\n",
    "        return self.model(x)"
   ]
  },
  {
   "cell_type": "code",
   "execution_count": 7,
   "id": "3777f36e",
   "metadata": {},
   "outputs": [],
   "source": [
    "from dpn_3.dpn import DPN\n",
    "class MLP_DPN(nn.Module):\n",
    "    def __init__(self, input_dim):\n",
    "        super().__init__()\n",
    "        self.model = nn.Sequential(\n",
    "            DPN(input_dim, 25, 1),\n",
    "            nn.Sigmoid()  # For binary classification\n",
    "        )\n",
    "    def forward(self, x):\n",
    "        return self.model(x)"
   ]
  },
  {
   "cell_type": "code",
   "execution_count": 8,
   "id": "f6fceaa1",
   "metadata": {},
   "outputs": [],
   "source": [
    "device = torch.device('cuda' if torch.cuda.is_available() else 'cpu')\n",
    "model = MLP(X_train.shape[1]).to(device)"
   ]
  },
  {
   "cell_type": "code",
   "execution_count": 9,
   "id": "57e0bf30",
   "metadata": {},
   "outputs": [],
   "source": [
    "# 6. Training setup\n",
    "criterion = nn.BCELoss()\n",
    "optimizer = optim.Adam(model.parameters(), lr=1e-3)"
   ]
  },
  {
   "cell_type": "code",
   "execution_count": 10,
   "id": "e164c0fc",
   "metadata": {},
   "outputs": [
    {
     "name": "stdout",
     "output_type": "stream",
     "text": [
      "\n",
      "Epoch: 1 Total_Time: 1.6504 Average_Time_per_batch: 0.0018 Train_Accuracy: 0.9187 Train_Loss: 0.2695 Validation_Accuracy: 0.9349 Validation_Loss: 0.1945\n",
      "Epoch: 2 Total_Time: 1.3594 Average_Time_per_batch: 0.0014 Train_Accuracy: 0.9345 Train_Loss: 0.1936 Validation_Accuracy: 0.9362 Validation_Loss: 0.1876\n",
      "Epoch: 3 Total_Time: 1.5755 Average_Time_per_batch: 0.0017 Train_Accuracy: 0.9353 Train_Loss: 0.1911 Validation_Accuracy: 0.9370 Validation_Loss: 0.1872\n",
      "Epoch: 4 Total_Time: 1.5405 Average_Time_per_batch: 0.0016 Train_Accuracy: 0.9356 Train_Loss: 0.1903 Validation_Accuracy: 0.9373 Validation_Loss: 0.1868\n",
      "Epoch: 5 Total_Time: 1.3645 Average_Time_per_batch: 0.0015 Train_Accuracy: 0.9353 Train_Loss: 0.1898 Validation_Accuracy: 0.9372 Validation_Loss: 0.1868\n",
      "Epoch: 6 Total_Time: 1.4728 Average_Time_per_batch: 0.0016 Train_Accuracy: 0.9358 Train_Loss: 0.1895 Validation_Accuracy: 0.9375 Validation_Loss: 0.1865\n",
      "Epoch: 7 Total_Time: 1.4903 Average_Time_per_batch: 0.0016 Train_Accuracy: 0.9359 Train_Loss: 0.1892 Validation_Accuracy: 0.9369 Validation_Loss: 0.1860\n",
      "Epoch: 8 Total_Time: 1.4991 Average_Time_per_batch: 0.0016 Train_Accuracy: 0.9360 Train_Loss: 0.1889 Validation_Accuracy: 0.9372 Validation_Loss: 0.1861\n",
      "Epoch: 9 Total_Time: 1.4916 Average_Time_per_batch: 0.0016 Train_Accuracy: 0.9360 Train_Loss: 0.1887 Validation_Accuracy: 0.9371 Validation_Loss: 0.1860\n",
      "Epoch: 10 Total_Time: 1.4808 Average_Time_per_batch: 0.0016 Train_Accuracy: 0.9361 Train_Loss: 0.1885 Validation_Accuracy: 0.9369 Validation_Loss: 0.1859\n",
      "Epoch: 11 Total_Time: 1.4900 Average_Time_per_batch: 0.0016 Train_Accuracy: 0.9362 Train_Loss: 0.1885 Validation_Accuracy: 0.9374 Validation_Loss: 0.1862\n",
      "Epoch: 12 Total_Time: 1.4826 Average_Time_per_batch: 0.0016 Train_Accuracy: 0.9362 Train_Loss: 0.1881 Validation_Accuracy: 0.9374 Validation_Loss: 0.1856\n",
      "Epoch: 13 Total_Time: 1.5037 Average_Time_per_batch: 0.0016 Train_Accuracy: 0.9362 Train_Loss: 0.1881 Validation_Accuracy: 0.9372 Validation_Loss: 0.1853\n",
      "Epoch: 14 Total_Time: 1.4932 Average_Time_per_batch: 0.0016 Train_Accuracy: 0.9361 Train_Loss: 0.1880 Validation_Accuracy: 0.9370 Validation_Loss: 0.1855\n",
      "Epoch: 15 Total_Time: 1.5050 Average_Time_per_batch: 0.0016 Train_Accuracy: 0.9363 Train_Loss: 0.1878 Validation_Accuracy: 0.9370 Validation_Loss: 0.1851\n",
      "Epoch: 16 Total_Time: 1.4783 Average_Time_per_batch: 0.0016 Train_Accuracy: 0.9363 Train_Loss: 0.1877 Validation_Accuracy: 0.9370 Validation_Loss: 0.1852\n",
      "Epoch: 17 Total_Time: 1.4933 Average_Time_per_batch: 0.0016 Train_Accuracy: 0.9365 Train_Loss: 0.1877 Validation_Accuracy: 0.9367 Validation_Loss: 0.1850\n",
      "Epoch: 18 Total_Time: 1.4948 Average_Time_per_batch: 0.0016 Train_Accuracy: 0.9362 Train_Loss: 0.1876 Validation_Accuracy: 0.9370 Validation_Loss: 0.1852\n",
      "Epoch: 19 Total_Time: 1.4816 Average_Time_per_batch: 0.0016 Train_Accuracy: 0.9365 Train_Loss: 0.1874 Validation_Accuracy: 0.9373 Validation_Loss: 0.1851\n",
      "Epoch: 20 Total_Time: 1.4821 Average_Time_per_batch: 0.0016 Train_Accuracy: 0.9365 Train_Loss: 0.1874 Validation_Accuracy: 0.9371 Validation_Loss: 0.1850\n",
      "Test_Accuracy:  0.9371 Test_Loss:  0.1849683609644572\n",
      "Peak GPU memory: 18.13 MB\n"
     ]
    }
   ],
   "source": [
    "from utils import train\n",
    "\n",
    "train_metrics, eval_metrics, test_metrics = train(model, train_loader, test_loader, test_loader, 20, optimizer, criterion, device=device)"
   ]
  },
  {
   "cell_type": "code",
   "execution_count": 11,
   "id": "f5b080ae",
   "metadata": {},
   "outputs": [],
   "source": [
    "model = MLP_DPN(X_train.shape[1]).to(device)"
   ]
  },
  {
   "cell_type": "code",
   "execution_count": 12,
   "id": "61b61f7f",
   "metadata": {},
   "outputs": [],
   "source": [
    "# 6. Training setup\n",
    "criterion = nn.BCELoss()\n",
    "optimizer = optim.Adam(model.parameters(), lr=1e-3)"
   ]
  },
  {
   "cell_type": "code",
   "execution_count": 13,
   "id": "e346f83c",
   "metadata": {},
   "outputs": [
    {
     "name": "stdout",
     "output_type": "stream",
     "text": [
      "\n",
      "Epoch: 1 Total_Time: 1.1531 Average_Time_per_batch: 0.0012 Train_Accuracy: 0.9177 Train_Loss: 0.2862 Validation_Accuracy: 0.9348 Validation_Loss: 0.2090\n",
      "Epoch: 2 Total_Time: 1.1482 Average_Time_per_batch: 0.0012 Train_Accuracy: 0.9337 Train_Loss: 0.2005 Validation_Accuracy: 0.9352 Validation_Loss: 0.1906\n",
      "Epoch: 3 Total_Time: 1.1577 Average_Time_per_batch: 0.0012 Train_Accuracy: 0.9345 Train_Loss: 0.1929 Validation_Accuracy: 0.9357 Validation_Loss: 0.1885\n",
      "Epoch: 4 Total_Time: 1.1571 Average_Time_per_batch: 0.0012 Train_Accuracy: 0.9347 Train_Loss: 0.1913 Validation_Accuracy: 0.9358 Validation_Loss: 0.1875\n",
      "Epoch: 5 Total_Time: 1.1422 Average_Time_per_batch: 0.0012 Train_Accuracy: 0.9353 Train_Loss: 0.1905 Validation_Accuracy: 0.9358 Validation_Loss: 0.1872\n",
      "Epoch: 6 Total_Time: 1.1541 Average_Time_per_batch: 0.0012 Train_Accuracy: 0.9350 Train_Loss: 0.1901 Validation_Accuracy: 0.9364 Validation_Loss: 0.1871\n",
      "Epoch: 7 Total_Time: 1.1516 Average_Time_per_batch: 0.0012 Train_Accuracy: 0.9352 Train_Loss: 0.1897 Validation_Accuracy: 0.9363 Validation_Loss: 0.1866\n",
      "Epoch: 8 Total_Time: 1.1417 Average_Time_per_batch: 0.0012 Train_Accuracy: 0.9355 Train_Loss: 0.1894 Validation_Accuracy: 0.9369 Validation_Loss: 0.1867\n",
      "Epoch: 9 Total_Time: 1.1449 Average_Time_per_batch: 0.0012 Train_Accuracy: 0.9359 Train_Loss: 0.1891 Validation_Accuracy: 0.9367 Validation_Loss: 0.1868\n",
      "Epoch: 10 Total_Time: 1.1487 Average_Time_per_batch: 0.0012 Train_Accuracy: 0.9356 Train_Loss: 0.1890 Validation_Accuracy: 0.9371 Validation_Loss: 0.1863\n",
      "Epoch: 11 Total_Time: 1.1433 Average_Time_per_batch: 0.0012 Train_Accuracy: 0.9358 Train_Loss: 0.1887 Validation_Accuracy: 0.9371 Validation_Loss: 0.1861\n",
      "Epoch: 12 Total_Time: 1.1534 Average_Time_per_batch: 0.0012 Train_Accuracy: 0.9358 Train_Loss: 0.1886 Validation_Accuracy: 0.9373 Validation_Loss: 0.1860\n",
      "Epoch: 13 Total_Time: 1.1367 Average_Time_per_batch: 0.0012 Train_Accuracy: 0.9362 Train_Loss: 0.1884 Validation_Accuracy: 0.9373 Validation_Loss: 0.1857\n",
      "Epoch: 14 Total_Time: 1.1585 Average_Time_per_batch: 0.0012 Train_Accuracy: 0.9363 Train_Loss: 0.1883 Validation_Accuracy: 0.9370 Validation_Loss: 0.1861\n",
      "Epoch: 15 Total_Time: 1.1540 Average_Time_per_batch: 0.0012 Train_Accuracy: 0.9360 Train_Loss: 0.1882 Validation_Accuracy: 0.9375 Validation_Loss: 0.1857\n",
      "Epoch: 16 Total_Time: 1.1513 Average_Time_per_batch: 0.0012 Train_Accuracy: 0.9362 Train_Loss: 0.1881 Validation_Accuracy: 0.9373 Validation_Loss: 0.1858\n",
      "Epoch: 17 Total_Time: 1.1423 Average_Time_per_batch: 0.0012 Train_Accuracy: 0.9362 Train_Loss: 0.1879 Validation_Accuracy: 0.9375 Validation_Loss: 0.1858\n",
      "Epoch: 18 Total_Time: 1.1525 Average_Time_per_batch: 0.0012 Train_Accuracy: 0.9363 Train_Loss: 0.1879 Validation_Accuracy: 0.9375 Validation_Loss: 0.1860\n",
      "Epoch: 19 Total_Time: 1.1519 Average_Time_per_batch: 0.0012 Train_Accuracy: 0.9360 Train_Loss: 0.1879 Validation_Accuracy: 0.9377 Validation_Loss: 0.1855\n",
      "Epoch: 20 Total_Time: 1.1529 Average_Time_per_batch: 0.0012 Train_Accuracy: 0.9362 Train_Loss: 0.1877 Validation_Accuracy: 0.9377 Validation_Loss: 0.1861\n",
      "Test_Accuracy:  0.9377 Test_Loss:  0.1860684118747711\n",
      "Peak GPU memory: 18.12 MB\n"
     ]
    }
   ],
   "source": [
    "train_metrics, eval_metrics, test_metrics = train(model, train_loader, test_loader, test_loader, 20, optimizer, criterion, device=device)"
   ]
  }
 ],
 "metadata": {
  "kernelspec": {
   "display_name": "saroshgpu",
   "language": "python",
   "name": "python3"
  },
  "language_info": {
   "codemirror_mode": {
    "name": "ipython",
    "version": 3
   },
   "file_extension": ".py",
   "mimetype": "text/x-python",
   "name": "python",
   "nbconvert_exporter": "python",
   "pygments_lexer": "ipython3",
   "version": "3.9.21"
  }
 },
 "nbformat": 4,
 "nbformat_minor": 5
}
